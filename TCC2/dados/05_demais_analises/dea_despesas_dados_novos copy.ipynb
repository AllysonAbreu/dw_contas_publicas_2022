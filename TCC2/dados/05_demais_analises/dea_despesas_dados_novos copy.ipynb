{
  "cells": [
    {
      "attachments": {},
      "cell_type": "markdown",
      "metadata": {
        "id": "TeF516hXCOs5"
      },
      "source": [
        "# Imports e instalações"
      ]
    },
    {
      "cell_type": "code",
      "execution_count": null,
      "metadata": {
        "id": "LYbfuBAWCXQi"
      },
      "outputs": [
        {
          "ename": "",
          "evalue": "",
          "output_type": "error",
          "traceback": [
            "\u001b[1;31mThe kernel failed to start due to the missing module 'prompt_toolkit.formatted_text'. Consider installing this module.\n",
            "\u001b[1;31mClick <a href='https://aka.ms/kernelFailuresMissingModule'>here</a> for more info."
          ]
        }
      ],
      "source": [
        "import pandas as pd\n",
        "import matplotlib.pyplot as plt\n",
        "import matplotlib.dates as mdates\n",
        "import seaborn as sns\n",
        "import datetime as dt\n",
        "import basedosdados as bd\n",
        "from google.colab import auth\n",
        "from google.cloud import bigquery"
      ]
    },
    {
      "attachments": {},
      "cell_type": "markdown",
      "metadata": {
        "id": "li80fk5eCUtH"
      },
      "source": [
        "# Imports dos dados"
      ]
    },
    {
      "attachments": {},
      "cell_type": "markdown",
      "metadata": {
        "id": "r9SitjaiCa83"
      },
      "source": [
        "## Login no gcloud"
      ]
    },
    {
      "cell_type": "code",
      "execution_count": null,
      "metadata": {
        "id": "SzE3iM8HCZl0"
      },
      "outputs": [
        {
          "ename": "",
          "evalue": "",
          "output_type": "error",
          "traceback": [
            "\u001b[1;31mThe kernel failed to start due to the missing module 'prompt_toolkit.formatted_text'. Consider installing this module.\n",
            "\u001b[1;31mClick <a href='https://aka.ms/kernelFailuresMissingModule'>here</a> for more info."
          ]
        }
      ],
      "source": [
        "auth.authenticate_user()\n",
        "\n",
        "project = 'dados-ibge-384913'\n",
        "location = 'US'\n",
        "client = bigquery.Client(project=project, location=location)"
      ]
    },
    {
      "attachments": {},
      "cell_type": "markdown",
      "metadata": {
        "id": "XM89CO4uCgnj"
      },
      "source": [
        "## Querys para buscar no firebase"
      ]
    },
    {
      "attachments": {},
      "cell_type": "markdown",
      "metadata": {
        "id": "MfM3wbErhrT6"
      },
      "source": [
        "- Os dataframes com as tabelas utilizadas são de responsabilidade do projeto Base dos dados. Clique [aqui](https://basedosdados.org/) para conhecer mais."
      ]
    },
    {
      "cell_type": "code",
      "execution_count": null,
      "metadata": {
        "id": "6VR55s-XCjA3"
      },
      "outputs": [
        {
          "ename": "",
          "evalue": "",
          "output_type": "error",
          "traceback": [
            "\u001b[1;31mThe kernel failed to start due to the missing module 'prompt_toolkit.formatted_text'. Consider installing this module.\n",
            "\u001b[1;31mClick <a href='https://aka.ms/kernelFailuresMissingModule'>here</a> for more info."
          ]
        }
      ],
      "source": [
        "query_mortalidade_iesp = \"select db.ano,db.n_obitos,db.n_obitos_csap,db.n_obitos_evit,db.tx_mort,db.tx_mort_csap,db.tx_mort_evit,db.pct_mort_maldef from `basedosdados.br_ieps_saude.municipio` as db where db.id_municipio = '2503704'\""
      ]
    },
    {
      "attachments": {},
      "cell_type": "markdown",
      "metadata": {
        "id": "Zc74PzbkCoTZ"
      },
      "source": [
        "## Import dos dados\n"
      ]
    },
    {
      "attachments": {},
      "cell_type": "markdown",
      "metadata": {
        "id": "DOs-vlsYVsSB"
      },
      "source": [
        "### Indicadores saúde - [IESP](https://iepsdata.org.br/data-downloads)"
      ]
    },
    {
      "cell_type": "code",
      "execution_count": null,
      "metadata": {
        "colab": {
          "base_uri": "https://localhost:8080/",
          "height": 425
        },
        "id": "caHt-hqo3Lm3",
        "outputId": "24b40079-ec01-46bf-8601-fe7df552261a"
      },
      "outputs": [
        {
          "ename": "",
          "evalue": "",
          "output_type": "error",
          "traceback": [
            "\u001b[1;31mThe kernel failed to start due to the missing module 'prompt_toolkit.formatted_text'. Consider installing this module.\n",
            "\u001b[1;31mClick <a href='https://aka.ms/kernelFailuresMissingModule'>here</a> for more info."
          ]
        }
      ],
      "source": [
        "df_saude_iesp = pd.read_csv('dados_saude_iesp_cz.csv', sep=';')\n",
        "df_saude_iesp"
      ]
    },
    {
      "attachments": {},
      "cell_type": "markdown",
      "metadata": {
        "id": "YKrOmkG5yBSt"
      },
      "source": [
        "#### Mortalidade\n",
        "\n",
        "\n",
        "1. n_obitos - Número de Óbitos por Todas as Causas\n",
        "2. n_obitos_csap - Número de Óbitos por Condições Sensíveis a Atenção Primária\n",
        "3. n_obitos_evit - Número de Óbitos por Causas Evitáveis\t\n",
        "4. n_obitos_maldef - Número de Óbitos por Causas Mal Definidas\n",
        "5. tx_mort - Mortalidade Bruta (por 100.000 Hab.)\n",
        "6. tx_mort_csap - Mortalidade Bruta por Condições Sensíveis a Atenção Primária (por 100.000 Hab.)\n",
        "7. tx_mort_evit - Mortalidade Bruta por Causas Evitáveis (por 100.000 Hab.) \n",
        "8. pct_mort_maldef - Mortalidade Bruta por Causas Mal Definidas (%)\n",
        "\n"
      ]
    },
    {
      "cell_type": "code",
      "execution_count": null,
      "metadata": {
        "colab": {
          "base_uri": "https://localhost:8080/",
          "height": 331
        },
        "id": "FJQjvT-CCqi2",
        "outputId": "d283bbdf-f065-4ef7-8b96-cae87f1c815b"
      },
      "outputs": [
        {
          "ename": "",
          "evalue": "",
          "output_type": "error",
          "traceback": [
            "\u001b[1;31mThe kernel failed to start due to the missing module 'prompt_toolkit.formatted_text'. Consider installing this module.\n",
            "\u001b[1;31mClick <a href='https://aka.ms/kernelFailuresMissingModule'>here</a> for more info."
          ]
        }
      ],
      "source": [
        "# Lista de colunas desejadas\n",
        "colunas_desejadas = ['ano', 'n_obitos', 'n_obitos_csap', 'n_obitos_evit', 'tx_mort', 'tx_mort_csap', 'tx_mort_evit', 'pct_mort_maldef']\n",
        "\n",
        "# Seleção das colunas no DataFrame\n",
        "df_iesp_mortalidade = df_saude_iesp.loc[:, colunas_desejadas]\n",
        "\n",
        "df_iesp_mortalidade"
      ]
    },
    {
      "attachments": {},
      "cell_type": "markdown",
      "metadata": {
        "id": "PBb3AMxq5hbG"
      },
      "source": [
        "#### Pré-Natal\n",
        "\n",
        "1. pct_prenatal_adeq - Porcentagem de Nascidos Vivos com Pré-Natal Adequado\t\n",
        "2. pct_prenatal_zero - Porcentagem de Nascidos Vivos com Nenhuma Consulta Pré-Natal\n",
        "3. pct_prenatal_1a6\t- Porcentagem de Nascidos Vivos com 1 a 6 Consultas Pré-Natal\n",
        "4. pct_prenatal_7m - Porcentagem de Nascidos Vivos com 7 ou Mais Consultas Pré-Natal\n",
        "5. tx_mort_inf_ibge - Mortalidade Infantil (por 1.000 Nascidos Vivos, Média Trienal)"
      ]
    },
    {
      "cell_type": "code",
      "execution_count": null,
      "metadata": {
        "colab": {
          "base_uri": "https://localhost:8080/",
          "height": 331
        },
        "id": "qEMYMuW053D9",
        "outputId": "ab09e7e0-93d6-438c-8349-0061f05d3986"
      },
      "outputs": [
        {
          "ename": "",
          "evalue": "",
          "output_type": "error",
          "traceback": [
            "\u001b[1;31mThe kernel failed to start due to the missing module 'prompt_toolkit.formatted_text'. Consider installing this module.\n",
            "\u001b[1;31mClick <a href='https://aka.ms/kernelFailuresMissingModule'>here</a> for more info."
          ]
        }
      ],
      "source": [
        "# Lista de colunas desejadas\n",
        "colunas_desejadas = ['ano', 'pct_prenatal_adeq', 'pct_prenatal_zero', 'pct_prenatal_1a6', 'pct_prenatal_7m', 'tx_mort_inf_ibge']\n",
        "\n",
        "# Seleção das colunas no DataFrame\n",
        "df_iesp_pre_natal = df_saude_iesp.loc[:, colunas_desejadas]\n",
        "\n",
        "df_iesp_pre_natal"
      ]
    },
    {
      "attachments": {},
      "cell_type": "markdown",
      "metadata": {
        "id": "8tdbYI-68I70"
      },
      "source": [
        "#### Cobertura Vacinal\n",
        "\n",
        "1. cob_vac_bcg - Porcentagem da Cobertura Vacinal de BCG\t\n",
        "2. cob_vac_rota - Porcentagem da Cobertura Vacinal de Rotavírus Humano\t\n",
        "3. cob_vac_menin - Porcentagem da Cobertura Vacinal de Meningococo C\t\n",
        "4. cob_vac_pneumo - Porcentagem da Cobertura Vacinal de Pneumocócica\t\n",
        "5. cob_vac_polio - Porcentagem da Cobertura Vacinal de Poliomielite\t\n",
        "6. cob_vac_tvd1 - Porcentagem da Cobertura Vacinal de Tríplice Viral (1ª Dose)\t\n",
        "7. cob_vac_penta - Porcentagem da Cobertura Vacinal de Pentavalente\t\n",
        "8. cob_vac_hepb - Porcentagem da Cobertura Vacinal de Hepatite B em crianças até 30 dias\n",
        "9. cob_vac_hepa - Porcentagem da Cobertura Vacinal de Hepatite A"
      ]
    },
    {
      "cell_type": "code",
      "execution_count": null,
      "metadata": {
        "colab": {
          "base_uri": "https://localhost:8080/",
          "height": 331
        },
        "id": "06bdCBDD8u5g",
        "outputId": "6975486f-b6a8-4bee-d541-7ba259fe7a0c"
      },
      "outputs": [
        {
          "ename": "",
          "evalue": "",
          "output_type": "error",
          "traceback": [
            "\u001b[1;31mThe kernel failed to start due to the missing module 'prompt_toolkit.formatted_text'. Consider installing this module.\n",
            "\u001b[1;31mClick <a href='https://aka.ms/kernelFailuresMissingModule'>here</a> for more info."
          ]
        }
      ],
      "source": [
        "# Lista de colunas desejadas\n",
        "colunas_desejadas = ['ano', 'cob_vac_bcg', 'cob_vac_rota', 'cob_vac_menin', 'cob_vac_pneumo', 'cob_vac_polio', 'cob_vac_tvd1', 'cob_vac_penta', 'cob_vac_hepb', 'cob_vac_hepa']\n",
        "\n",
        "# Seleção das colunas no DataFrame\n",
        "df_iesp_cobertura_vacinal = df_saude_iesp.loc[:, colunas_desejadas]\n",
        "\n",
        "df_iesp_cobertura_vacinal"
      ]
    },
    {
      "attachments": {},
      "cell_type": "markdown",
      "metadata": {
        "id": "5FhHP-Ei_LNd"
      },
      "source": [
        "#### Hospitalizações e leitos\n",
        "\n",
        "1. n_hosp - Número de Hospitalizações Totais\t\n",
        "2. n_hosp_csap - Número de Hospitalizações por Condições Sensíveis à Atenção Primária\n",
        "3. tx_hosp - Hospitalizações (por 100.000 Hab.)\t\n",
        "4. tx_hosp_csap - Hospitalizações por Condições Sensíveis à Atenção Primária (por 100.000 Hab.)\n",
        "5. n_leitouti_sus - Número de Leitos de UTI SUS\t\n",
        "6. n_leito_sus - Número de Leitos SUS\t\n",
        "7. tx_leito_sus - Leitos SUS (por 100.000 Hab.)\t\n",
        "8. tx_leitouti_sus - Leitos de UTI SUS (por 100.000 Hab.)\n",
        "9. n_enf - Número de Enfermeiros\t\n",
        "10. n_med - Número de Médicos\t\n",
        "11. n_enf_ch - Número de Enfermeiros (Padronizados por Carga Horária)\t\n",
        "12. n_med_ch - Número de Médicos (Padronizados por Carga Horária)\t\n",
        "13. tx_med - Médicos (por 1.000 Hab.)\t\n",
        "14. tx_enf - Enfermeiros (por 1.000 Hab.)\t\n",
        "15. tx_med_ch - Médicos (Padronizados por Carga Horária, por 1.000 Hab.)\t\n",
        "16. tx_enf_ch - Enfermeiros (Padronizados por Carga Horária, por 1.000 Hab.)\n",
        "17. n_leito_nsus - Número de Leitos Não-SUS\t\n",
        "18. n_leitouti_nsus - Número de Leitos de UTI Não-SUS\t\n",
        "19. tx_leito_nsus\t- Leitos Não-SUS (por 100.000 Hab.)\t\n",
        "20. tx_leitouti_nsus - Leitos de UTI Não-SUS (por 100.000 Hab.)\t\n",
        "21. cob_priv - Porcentagem da Cobertura de Planos de Saúde"
      ]
    },
    {
      "cell_type": "code",
      "execution_count": null,
      "metadata": {
        "colab": {
          "base_uri": "https://localhost:8080/",
          "height": 425
        },
        "id": "dD2-v3h1_-Fd",
        "outputId": "000950e9-e90e-4437-f02c-6478686041f2"
      },
      "outputs": [
        {
          "ename": "",
          "evalue": "",
          "output_type": "error",
          "traceback": [
            "\u001b[1;31mThe kernel failed to start due to the missing module 'prompt_toolkit.formatted_text'. Consider installing this module.\n",
            "\u001b[1;31mClick <a href='https://aka.ms/kernelFailuresMissingModule'>here</a> for more info."
          ]
        }
      ],
      "source": [
        "# Lista de colunas desejadas\n",
        "colunas_desejadas = ['ano', 'n_hosp', 'n_hosp_csap', 'tx_hosp', 'tx_hosp_csap', 'n_leitouti_sus', 'n_leito_sus', 'tx_leito_sus', 'tx_leitouti_sus','n_enf','n_med','n_enf_ch','n_med_ch','tx_med','tx_enf','tx_med_ch','tx_enf_ch','n_leito_nsus', 'n_leitouti_nsus', 'tx_leito_nsus', 'tx_leitouti_nsus', 'cob_priv']\n",
        "\n",
        "# Seleção das colunas no DataFrame\n",
        "df_iesp_hospitalizacoes_leitos = df_saude_iesp.loc[:, colunas_desejadas]\n",
        "\n",
        "df_iesp_hospitalizacoes_leitos"
      ]
    },
    {
      "attachments": {},
      "cell_type": "markdown",
      "metadata": {
        "id": "U85xFp9tCliW"
      },
      "source": [
        "#### Valores próprios gastos com saúde\n",
        "\n",
        "1. pct_desp_recp_saude_mun - Porcentagem da Participação da Receita Própria Municipal Aplicada em Saúde - EC 29\t\n",
        "2. desp_tot_saude_pc_mun - Despesa Total com Saúde Sob Responsabilidade do Município (por Hab., Reais)\n",
        "3. desp_recp_saude_pc_mun - Despesa em Saúde Utilizando Recursos Próprios do Município (por Hab., Reais)\n",
        "4. desp_tot_saude_pc_mun_def - Despesa Total com Saúde Sob Responsabilidade do Município (por Hab., Valor de Referência 2019)\t\n",
        "5. desp_recp_saude_pc_mun_def - Despesa em Saúde Utilizando Recursos Próprios do Município (por Hab., Valor de Referência 2019)"
      ]
    },
    {
      "cell_type": "code",
      "execution_count": null,
      "metadata": {
        "colab": {
          "base_uri": "https://localhost:8080/",
          "height": 331
        },
        "id": "MORHU9RmDg6n",
        "outputId": "ffed9390-59e9-4797-c937-d5be65f3ca38"
      },
      "outputs": [
        {
          "ename": "",
          "evalue": "",
          "output_type": "error",
          "traceback": [
            "\u001b[1;31mThe kernel failed to start due to the missing module 'prompt_toolkit.formatted_text'. Consider installing this module.\n",
            "\u001b[1;31mClick <a href='https://aka.ms/kernelFailuresMissingModule'>here</a> for more info."
          ]
        }
      ],
      "source": [
        "# Lista de colunas desejadas\n",
        "colunas_desejadas = ['ano', 'pct_desp_recp_saude_mun', 'desp_tot_saude_pc_mun', 'desp_recp_saude_pc_mun', 'desp_tot_saude_pc_mun_def', 'desp_recp_saude_pc_mun_def']\n",
        "\n",
        "# Seleção das colunas no DataFrame\n",
        "df_iesp_despesas_saude = df_saude_iesp.loc[:, colunas_desejadas]\n",
        "\n",
        "df_iesp_despesas_saude"
      ]
    },
    {
      "attachments": {},
      "cell_type": "markdown",
      "metadata": {
        "id": "x-OI0k9rVwwO"
      },
      "source": [
        "### Indicadores educação básica"
      ]
    },
    {
      "attachments": {},
      "cell_type": "markdown",
      "metadata": {
        "id": "O4piaQExjcXN"
      },
      "source": [
        "#### Ideb\n",
        "- Os dados podem ser encontrados [aqui](https://www.gov.br/inep/pt-br/areas-de-atuacao/pesquisas-estatisticas-e-indicadores/ideb/resultados)."
      ]
    },
    {
      "cell_type": "code",
      "execution_count": null,
      "metadata": {
        "colab": {
          "base_uri": "https://localhost:8080/",
          "height": 206
        },
        "id": "48AGBYOZo2Ip",
        "outputId": "6f5fd97b-a74b-4e2c-b28e-902c6cedd772"
      },
      "outputs": [
        {
          "ename": "",
          "evalue": "",
          "output_type": "error",
          "traceback": [
            "\u001b[1;31mThe kernel failed to start due to the missing module 'prompt_toolkit.formatted_text'. Consider installing this module.\n",
            "\u001b[1;31mClick <a href='https://aka.ms/kernelFailuresMissingModule'>here</a> for more info."
          ]
        }
      ],
      "source": [
        "dic_dados_ideb_anos_iniciais = {2013:3.9,2015:4.0,2017:4.6,2019:5.3,2021:4.9} # 1 ao 5 ano\n",
        "dic_dados_ideb_anos_finais = {2013:3.8,2015:4.0,2017:4.3,2019:4.6,2021:4.9} # 6 ao 9 ano\n",
        "dic_dados_media_ideb = {2013:3.8,2015:4.0,2017:4.4,2019:4.9,2021:4.9} # média aritmética dos idebs\n",
        "\n",
        "# transformando o dicionário em um dataframe pandas\n",
        "df_dados_ideb = pd.DataFrame.from_dict(dic_dados_media_ideb, orient='index',columns=['media_ideb'])\n",
        "df_dados_ideb.index.name='ano'\n",
        "df_dados_ideb.reset_index(inplace=True)\n",
        "df_dados_ideb"
      ]
    },
    {
      "attachments": {},
      "cell_type": "markdown",
      "metadata": {
        "id": "q-KBc0Djf0fc"
      },
      "source": [
        "#### Média de Alunos por Turma\n",
        "- Os dados podem ser encontrados [aqui](https://www.gov.br/inep/pt-br/acesso-a-informacao/dados-abertos/indicadores-educacionais/media-de-alunos-por-turma)."
      ]
    },
    {
      "cell_type": "code",
      "execution_count": null,
      "metadata": {
        "colab": {
          "base_uri": "https://localhost:8080/",
          "height": 363
        },
        "id": "mmanSm4jgXll",
        "outputId": "e8c81db6-551f-418d-f06d-67039a31a7ec"
      },
      "outputs": [
        {
          "ename": "",
          "evalue": "",
          "output_type": "error",
          "traceback": [
            "\u001b[1;31mThe kernel failed to start due to the missing module 'prompt_toolkit.formatted_text'. Consider installing this module.\n",
            "\u001b[1;31mClick <a href='https://aka.ms/kernelFailuresMissingModule'>here</a> for more info."
          ]
        }
      ],
      "source": [
        "dic_alunos_por_turma = {2022:{'creche':23.1,'pre_escola':23.7,'ens_fund_anos_iniciais':23.5,'ens_fund_anos_finais':28.3,'ens_fund_total':25.5},\n",
        "                        2021:{'creche':20.6,'pre_escola':23.4,'ens_fund_anos_iniciais':24.8,'ens_fund_anos_finais':29.2,'ens_fund_total':26.5},\n",
        "                        2020:{'creche':20.1,'pre_escola':21.4,'ens_fund_anos_iniciais':23.9,'ens_fund_anos_finais':26.1,'ens_fund_total':24.6},\n",
        "                        2019:{'creche':20.5,'pre_escola':18.5,'ens_fund_anos_iniciais':23.1,'ens_fund_anos_finais':26.6,'ens_fund_total':24.2},\n",
        "                        2018:{'creche':17.6,'pre_escola':21.1,'ens_fund_anos_iniciais':22.7,'ens_fund_anos_finais':25.7,'ens_fund_total':23.7},\n",
        "                        2017:{'creche':15.7,'pre_escola':19.7,'ens_fund_anos_iniciais':22.8,'ens_fund_anos_finais':25.2,'ens_fund_total':23.5},\n",
        "                        2016:{'creche':16.1,'pre_escola':21.1,'ens_fund_anos_iniciais':22.2,'ens_fund_anos_finais':26.2,'ens_fund_total':23.6},\n",
        "                        2015:{'creche':15.6,'pre_escola':21.4,'ens_fund_anos_iniciais':22.7,'ens_fund_anos_finais':22.6,'ens_fund_total':22.5},\n",
        "                        2014:{'creche':19.9,'pre_escola':21.8,'ens_fund_anos_iniciais':22.7,'ens_fund_anos_finais':23.4,'ens_fund_total':22.6},\n",
        "                        2013:{'creche':18.3,'pre_escola':19.3,'ens_fund_anos_iniciais':22.5,'ens_fund_anos_finais':23.8,'ens_fund_total':22.1}}\n",
        "\n",
        "# criando dataframe\n",
        "df_media_alunos_turma = pd.DataFrame(dic_alunos_por_turma).transpose()\n",
        "df_media_alunos_turma.index.name='ano'\n",
        "df_media_alunos_turma.reset_index(inplace=True)\n",
        "df_media_alunos_turma = df_media_alunos_turma.reindex(index=df_media_alunos_turma.index[::-1])\n",
        "df_media_alunos_turma.reset_index(drop=True,inplace=True)\n",
        "df_media_alunos_turma"
      ]
    },
    {
      "attachments": {},
      "cell_type": "markdown",
      "metadata": {
        "id": "Udj8l-a_rbQi"
      },
      "source": [
        "#### Porcentagem de Docentes com Curso Superior\n",
        "- Os dados podem ser encontrados [aqui](https://www.gov.br/inep/pt-br/acesso-a-informacao/dados-abertos/indicadores-educacionais/percentual-de-docentes-com-curso-superior)."
      ]
    },
    {
      "cell_type": "code",
      "execution_count": null,
      "metadata": {
        "colab": {
          "base_uri": "https://localhost:8080/",
          "height": 331
        },
        "id": "OQvJS3ZdrjCL",
        "outputId": "9e6541d5-4d85-4b4b-f2e0-75c19ce01037"
      },
      "outputs": [
        {
          "ename": "",
          "evalue": "",
          "output_type": "error",
          "traceback": [
            "\u001b[1;31mThe kernel failed to start due to the missing module 'prompt_toolkit.formatted_text'. Consider installing this module.\n",
            "\u001b[1;31mClick <a href='https://aka.ms/kernelFailuresMissingModule'>here</a> for more info."
          ]
        }
      ],
      "source": [
        "dic_porc_docentes_curso_superior = {2022:{'creche_%':88.6,'pre_escola_%':78,'ens_fund_anos_iniciais_%':82.2,'ens_fund_anos_finais_%':98,'ens_fund_total_%':91.4},\n",
        "                                    2021:{'creche_%':97.1,'pre_escola_%':85.4,'ens_fund_anos_iniciais_%':88.5,'ens_fund_anos_finais_%':97.9,'ens_fund_total_%':94},\n",
        "                                    2020:{'creche_%':94.9,'pre_escola_%':94.3,'ens_fund_anos_iniciais_%':85,'ens_fund_anos_finais_%':98.6,'ens_fund_total_%':92.7},\n",
        "                                    2018:{'creche_%':100,'pre_escola_%':88.9,'ens_fund_anos_iniciais_%':90.2,'ens_fund_anos_finais_%':98.3,'ens_fund_total_%':94.5},\n",
        "                                    2017:{'creche_%':90.0,'pre_escola_%':91.1,'ens_fund_anos_iniciais_%':90.5,'ens_fund_anos_finais_%':98.5,'ens_fund_total_%':94.8},\n",
        "                                    2016:{'creche_%':82.6,'pre_escola_%':92.7,'ens_fund_anos_iniciais_%':95.8,'ens_fund_anos_finais_%':97.8,'ens_fund_total_%':95.8},\n",
        "                                    2015:{'creche_%':77.8,'pre_escola_%':85,'ens_fund_anos_iniciais_%':88.8,'ens_fund_anos_finais_%':96.5,'ens_fund_total_%':93.1},\n",
        "                                    2014:{'creche_%':78.6,'pre_escola_%':72.7,'ens_fund_anos_iniciais_%':83.8,'ens_fund_anos_finais_%':89.7,'ens_fund_total_%':87.1},\n",
        "                                    2013:{'creche_%':57.1,'pre_escola_%':69.6,'ens_fund_anos_iniciais_%':80.9,'ens_fund_anos_finais_%':87.4,'ens_fund_total_%':84.6}}\n",
        "\n",
        "# criando dataframe\n",
        "df_porc_docentes_curso_superior = pd.DataFrame(dic_porc_docentes_curso_superior).transpose()\n",
        "df_porc_docentes_curso_superior.index.name='ano'\n",
        "df_porc_docentes_curso_superior.reset_index(inplace=True)\n",
        "df_porc_docentes_curso_superior = df_porc_docentes_curso_superior.reindex(index=df_porc_docentes_curso_superior.index[::-1])\n",
        "df_porc_docentes_curso_superior.reset_index(drop=True,inplace=True)\n",
        "df_porc_docentes_curso_superior"
      ]
    },
    {
      "attachments": {},
      "cell_type": "markdown",
      "metadata": {
        "id": "Fx4B53m8zxQI"
      },
      "source": [
        "#### Taxa de Distorção Idade-Série\n",
        "- Os dados podem ser encontrados [aqui](https://www.gov.br/inep/pt-br/acesso-a-informacao/dados-abertos/indicadores-educacionais/taxas-de-distorcao-idade-serie)."
      ]
    },
    {
      "cell_type": "code",
      "execution_count": null,
      "metadata": {
        "colab": {
          "base_uri": "https://localhost:8080/",
          "height": 363
        },
        "id": "c72LEH4Bz4U_",
        "outputId": "75b29fb6-0b7d-466a-fe7f-fb0b0f12adb0"
      },
      "outputs": [
        {
          "ename": "",
          "evalue": "",
          "output_type": "error",
          "traceback": [
            "\u001b[1;31mThe kernel failed to start due to the missing module 'prompt_toolkit.formatted_text'. Consider installing this module.\n",
            "\u001b[1;31mClick <a href='https://aka.ms/kernelFailuresMissingModule'>here</a> for more info."
          ]
        }
      ],
      "source": [
        "dic_taxa_distocao_idade_serie = {2022:{'ens_fund_anos_iniciais_%':8.8,'ens_fund_anos_finais_%':33.9,'ens_fund_total_%':20.4},\n",
        "                                    2021:{'ens_fund_anos_iniciais_%':14.4,'ens_fund_anos_finais_%':37.9,'ens_fund_total_%':25.0},\n",
        "                                    2020:{'ens_fund_anos_iniciais_%':20.7,'ens_fund_anos_finais_%':40.9,'ens_fund_total_%':29.1},\n",
        "                                    2019:{'ens_fund_anos_iniciais_%':23.7,'ens_fund_anos_finais_%':42.2,'ens_fund_total_%':31.4},\n",
        "                                    2018:{'ens_fund_anos_iniciais_%':24.9,'ens_fund_anos_finais_%':44.0,'ens_fund_total_%':32.1},\n",
        "                                    2017:{'ens_fund_anos_iniciais_%':26.2,'ens_fund_anos_finais_%':46.8,'ens_fund_total_%':34.0},\n",
        "                                    2016:{'ens_fund_anos_iniciais_%':26.4,'ens_fund_anos_finais_%':45.7,'ens_fund_total_%':33.9},\n",
        "                                    2015:{'ens_fund_anos_iniciais_%':27.6,'ens_fund_anos_finais_%':49.8,'ens_fund_total_%':36.0},\n",
        "                                    2014:{'ens_fund_anos_iniciais_%':29.4,'ens_fund_anos_finais_%':51.5,'ens_fund_total_%':38.3},\n",
        "                                    2013:{'ens_fund_anos_iniciais_%':30.3,'ens_fund_anos_finais_%':51.5,'ens_fund_total_%':39.0}}\n",
        "\n",
        "# criando dataframe\n",
        "df_taxa_distocao_idade_serie = pd.DataFrame(dic_taxa_distocao_idade_serie).transpose()\n",
        "df_taxa_distocao_idade_serie.index.name='ano'\n",
        "df_taxa_distocao_idade_serie.reset_index(inplace=True)\n",
        "df_taxa_distocao_idade_serie = df_taxa_distocao_idade_serie.reindex(index=df_taxa_distocao_idade_serie.index[::-1])\n",
        "df_taxa_distocao_idade_serie.reset_index(drop=True,inplace=True)\n",
        "df_taxa_distocao_idade_serie"
      ]
    },
    {
      "attachments": {},
      "cell_type": "markdown",
      "metadata": {
        "id": "md79vS5XiBzS"
      },
      "source": [
        "#### Remuneração Média dos Docentes\n",
        "- Os dados podem ser encontrados [aqui](https://www.gov.br/inep/pt-br/acesso-a-informacao/dados-abertos/indicadores-educacionais/remuneracao-media-dos-docentes)."
      ]
    },
    {
      "cell_type": "code",
      "execution_count": null,
      "metadata": {
        "colab": {
          "base_uri": "https://localhost:8080/",
          "height": 206
        },
        "id": "QfQzMDxdiHMg",
        "outputId": "4141e998-b834-4138-f6ea-a42fe8d6b07b"
      },
      "outputs": [
        {
          "ename": "",
          "evalue": "",
          "output_type": "error",
          "traceback": [
            "\u001b[1;31mThe kernel failed to start due to the missing module 'prompt_toolkit.formatted_text'. Consider installing this module.\n",
            "\u001b[1;31mClick <a href='https://aka.ms/kernelFailuresMissingModule'>here</a> for more info."
          ]
        }
      ],
      "source": [
        "dic_remuneracao_media_docentes = {2018:{'ens_superior': 258, 'media_ens_superior_R$':4390.05, 'sem_ens_superior':15, 'media_sem_ens_superior_R$':3805.75,'total':273,'carga_horaria_semanal_H':40,'remuneracao_media_total_R$':4359.60},\n",
        "                                  2017:{'ens_superior': 258, 'media_ens_superior_R$':4321.36, 'sem_ens_superior':20, 'media_sem_ens_superior_R$':3456.23,'total':278,'carga_horaria_semanal_H':40,'remuneracao_media_total_R$':4273.53},\n",
        "                                  2016:{'ens_superior': 252, 'media_ens_superior_R$':3858.64, 'sem_ens_superior':17, 'media_sem_ens_superior_R$':3271.40,'total':269,'carga_horaria_semanal_H':40,'remuneracao_media_total_R$':3823.97},\n",
        "                                  2015:{'ens_superior': 255, 'media_ens_superior_R$':3382.48, 'sem_ens_superior':27, 'media_sem_ens_superior_R$':2171.45,'total':282,'carga_horaria_semanal_H':40,'remuneracao_media_total_R$':3287.65},\n",
        "                                  2014:{'ens_superior': 252, 'media_ens_superior_R$':2832.46, 'sem_ens_superior':49, 'media_sem_ens_superior_R$':1292.05,'total':301,'carga_horaria_semanal_H':40,'remuneracao_media_total_R$':2832.46}}\n",
        "\n",
        "# criando dataframe\n",
        "df_remuneracao_media_docentes = pd.DataFrame(dic_remuneracao_media_docentes).transpose()\n",
        "df_remuneracao_media_docentes.index.name='ano'\n",
        "df_remuneracao_media_docentes.reset_index(inplace=True)\n",
        "df_remuneracao_media_docentes = df_remuneracao_media_docentes.reindex(index=df_remuneracao_media_docentes.index[::-1])\n",
        "df_remuneracao_media_docentes.reset_index(drop=True,inplace=True)\n",
        "df_remuneracao_media_docentes"
      ]
    },
    {
      "attachments": {},
      "cell_type": "markdown",
      "metadata": {
        "id": "4SYyjJ5Jn-gt"
      },
      "source": [
        "#### Taxa de Rendimento\n",
        "- Os dados podem ser encontrados [aqui](https://www.gov.br/inep/pt-br/acesso-a-informacao/dados-abertos/indicadores-educacionais/taxas-de-rendimento)."
      ]
    },
    {
      "cell_type": "code",
      "execution_count": null,
      "metadata": {
        "colab": {
          "base_uri": "https://localhost:8080/",
          "height": 395
        },
        "id": "WMdFRerjoVyU",
        "outputId": "45408a04-a145-4a9d-87bb-f0cf7b4ec902"
      },
      "outputs": [
        {
          "ename": "",
          "evalue": "",
          "output_type": "error",
          "traceback": [
            "\u001b[1;31mThe kernel failed to start due to the missing module 'prompt_toolkit.formatted_text'. Consider installing this module.\n",
            "\u001b[1;31mClick <a href='https://aka.ms/kernelFailuresMissingModule'>here</a> for more info."
          ]
        }
      ],
      "source": [
        "dic_taxa_rendimento = {2021:{'aprovacao_anos_iniciais_ens_fundamental_%': 99.5,'aprovacao_anos_finais_ens_fundamental_%':97.9,'total_aprovacao_ens_fundamental_%':98.8,'reprovacao_anos_iniciais_ens_fundamental_%':0.0,'reprovacao_anos_finais_ens_fundamental_%':0.2,'total_reprovacao_ens_fundamental_%':0.1,'abandono_anos_iniciais_ens_fundamental_%':0.5,'abandono_anos_finais_ens_fundamental_%':1.9,'total_abando_ens_fundamental':1.1},\n",
        "                      2020:{'aprovacao_anos_iniciais_ens_fundamental_%': 99.0,'aprovacao_anos_finais_ens_fundamental_%':97.4,'total_aprovacao_ens_fundamental_%':98.4,'reprovacao_anos_iniciais_ens_fundamental_%':0.0,'reprovacao_anos_finais_ens_fundamental_%':0.2,'total_reprovacao_ens_fundamental_%':0.1,'abandono_anos_iniciais_ens_fundamental_%':1.0,'abandono_anos_finais_ens_fundamental_%':2.4,'total_abando_ens_fundamental':1.5},\n",
        "                      2019:{'aprovacao_anos_iniciais_ens_fundamental_%': 91.5,'aprovacao_anos_finais_ens_fundamental_%':80.2,'total_aprovacao_ens_fundamental_%':86.8,'reprovacao_anos_iniciais_ens_fundamental_%':6.3,'reprovacao_anos_finais_ens_fundamental_%':14.1,'total_reprovacao_ens_fundamental_%':9.5,'abandono_anos_iniciais_ens_fundamental_%':2.2,'abandono_anos_finais_ens_fundamental_%':5.7,'total_abando_ens_fundamental':3.7},\n",
        "                      2018:{'aprovacao_anos_iniciais_ens_fundamental_%': 82.7,'aprovacao_anos_finais_ens_fundamental_%':76.4,'total_aprovacao_ens_fundamental_%':80.3,'reprovacao_anos_iniciais_ens_fundamental_%':14.8,'reprovacao_anos_finais_ens_fundamental_%':16.6,'total_reprovacao_ens_fundamental_%':15.5,'abandono_anos_iniciais_ens_fundamental_%':2.5,'abandono_anos_finais_ens_fundamental_%':7.0,'total_abando_ens_fundamental':4.2},\n",
        "                      2017:{'aprovacao_anos_iniciais_ens_fundamental_%': 82.0,'aprovacao_anos_finais_ens_fundamental_%':72.7,'total_aprovacao_ens_fundamental_%':78.5,'reprovacao_anos_iniciais_ens_fundamental_%':14.3,'reprovacao_anos_finais_ens_fundamental_%':19.6,'total_reprovacao_ens_fundamental_%':16.3,'abandono_anos_iniciais_ens_fundamental_%':3.7,'abandono_anos_finais_ens_fundamental_%':7.7,'total_abando_ens_fundamental':5.2},\n",
        "                      2016:{'aprovacao_anos_iniciais_ens_fundamental_%': 81.6,'aprovacao_anos_finais_ens_fundamental_%':70.7,'total_aprovacao_ens_fundamental_%':77.4,'reprovacao_anos_iniciais_ens_fundamental_%':14.8,'reprovacao_anos_finais_ens_fundamental_%':18.9,'total_reprovacao_ens_fundamental_%':16.3,'abandono_anos_iniciais_ens_fundamental_%':3.6,'abandono_anos_finais_ens_fundamental_%':10.4,'total_abando_ens_fundamental':6.3},\n",
        "                      2015:{'aprovacao_anos_iniciais_ens_fundamental_%': 79.1,'aprovacao_anos_finais_ens_fundamental_%':69.7,'total_aprovacao_ens_fundamental_%':75.6,'reprovacao_anos_iniciais_ens_fundamental_%':14.8,'reprovacao_anos_finais_ens_fundamental_%':18.6,'total_reprovacao_ens_fundamental_%':16.2,'abandono_anos_iniciais_ens_fundamental_%':6.1,'abandono_anos_finais_ens_fundamental_%':11.7,'total_abando_ens_fundamental':8.2},\n",
        "                      2014:{'aprovacao_anos_iniciais_ens_fundamental_%': 81.1,'aprovacao_anos_finais_ens_fundamental_%':69.0,'total_aprovacao_ens_fundamental_%':76.2,'reprovacao_anos_iniciais_ens_fundamental_%':14.8,'reprovacao_anos_finais_ens_fundamental_%':16.8,'total_reprovacao_ens_fundamental_%':15.6,'abandono_anos_iniciais_ens_fundamental_%':4.1,'abandono_anos_finais_ens_fundamental_%':14.2,'total_abando_ens_fundamental':8.2},\n",
        "                      2013:{'aprovacao_anos_iniciais_ens_fundamental_%': 84.5,'aprovacao_anos_finais_ens_fundamental_%':67.2,'total_aprovacao_ens_fundamental_%':77.4,'reprovacao_anos_iniciais_ens_fundamental_%':12.2,'reprovacao_anos_finais_ens_fundamental_%':20.4,'total_reprovacao_ens_fundamental_%':15.6,'abandono_anos_iniciais_ens_fundamental_%':3.3,'abandono_anos_finais_ens_fundamental_%':12.4,'total_abando_ens_fundamental':7.0}}\n",
        "\n",
        "# criando dataframe\n",
        "df_taxa_rendimento = pd.DataFrame(dic_taxa_rendimento).transpose()\n",
        "df_taxa_rendimento.index.name='ano'\n",
        "df_taxa_rendimento.reset_index(inplace=True)\n",
        "df_taxa_rendimento = df_taxa_rendimento.reindex(index=df_taxa_rendimento.index[::-1])\n",
        "df_taxa_rendimento.reset_index(drop=True,inplace=True)\n",
        "df_taxa_rendimento"
      ]
    },
    {
      "attachments": {},
      "cell_type": "markdown",
      "metadata": {
        "id": "SjYOZQbk-QgD"
      },
      "source": [
        "#### Número de Matrículas por Ano\n",
        "- Os microdados dos censos realizados anualmente pelo INEP podem ser encontrados [aqui](https://www.gov.br/inep/pt-br/acesso-a-informacao/dados-abertos/microdados/censo-escolar)."
      ]
    },
    {
      "cell_type": "code",
      "execution_count": null,
      "metadata": {
        "colab": {
          "base_uri": "https://localhost:8080/"
        },
        "id": "UewNd4Vk-ZN8",
        "outputId": "256d4ee5-f3e7-4829-ad4f-039a6b284c9a"
      },
      "outputs": [
        {
          "ename": "",
          "evalue": "",
          "output_type": "error",
          "traceback": [
            "\u001b[1;31mThe kernel failed to start due to the missing module 'prompt_toolkit.formatted_text'. Consider installing this module.\n",
            "\u001b[1;31mClick <a href='https://aka.ms/kernelFailuresMissingModule'>here</a> for more info."
          ]
        }
      ],
      "source": [
        "# import do arquivo com os dados das matriculas por ano\n",
        "df_numero_matriculas_ano = pd.read_csv('dados_matriculas_escolas_cz.csv',sep=';',encoding='latin1')\n",
        "\n",
        "#verificando se há valores nulos\n",
        "print(f'Valores nulos:\\n{df_numero_matriculas_ano.isna().value_counts()}\\n')\n",
        "# substituindo valores nulos por zero\n",
        "df_numero_matriculas_ano.fillna(0, inplace=True)\n",
        "#verificando se ainda há valores nulos\n",
        "print(f'Valores nulos:\\n{df_numero_matriculas_ano.isna().value_counts()}\\n')\n",
        "\n",
        "# verificando os valores armazenados em cada coluna\n",
        "df_numero_matriculas_ano.dtypes"
      ]
    },
    {
      "cell_type": "code",
      "execution_count": null,
      "metadata": {
        "colab": {
          "base_uri": "https://localhost:8080/"
        },
        "id": "tv6x42KIgh3p",
        "outputId": "93b26e18-4a1a-4dd4-8a38-68892f2db5ac"
      },
      "outputs": [
        {
          "ename": "",
          "evalue": "",
          "output_type": "error",
          "traceback": [
            "\u001b[1;31mThe kernel failed to start due to the missing module 'prompt_toolkit.formatted_text'. Consider installing this module.\n",
            "\u001b[1;31mClick <a href='https://aka.ms/kernelFailuresMissingModule'>here</a> for more info."
          ]
        }
      ],
      "source": [
        "# conversão dos valores das colunas float64 para int64\n",
        "df_numero_matriculas_ano['QT_MAT_BAS'] = df_numero_matriculas_ano['QT_MAT_BAS'].astype('int64')\n",
        "df_numero_matriculas_ano['QT_MAT_INF'] = df_numero_matriculas_ano['QT_MAT_INF'].astype('int64')\n",
        "df_numero_matriculas_ano['QT_MAT_INF_CRE'] = df_numero_matriculas_ano['QT_MAT_INF_CRE'].astype('int64')\n",
        "df_numero_matriculas_ano['QT_MAT_INF_PRE'] = df_numero_matriculas_ano['QT_MAT_INF_PRE'].astype('int64')\n",
        "df_numero_matriculas_ano['QT_MAT_FUND'] = df_numero_matriculas_ano['QT_MAT_FUND'].astype('int64')\n",
        "df_numero_matriculas_ano['QT_MAT_FUND_AI'] = df_numero_matriculas_ano['QT_MAT_FUND_AI'].astype('int64')\n",
        "df_numero_matriculas_ano['QT_MAT_FUND_AF'] = df_numero_matriculas_ano['QT_MAT_FUND_AF'].astype('int64')\n",
        "\n",
        "# verificando os valores armazenados em cada coluna\n",
        "df_numero_matriculas_ano.dtypes"
      ]
    },
    {
      "cell_type": "code",
      "execution_count": null,
      "metadata": {
        "colab": {
          "base_uri": "https://localhost:8080/",
          "height": 869
        },
        "id": "NQRY2_noiZ0I",
        "outputId": "1a1d44be-84be-4a1a-92a5-715eefdb5161"
      },
      "outputs": [
        {
          "ename": "",
          "evalue": "",
          "output_type": "error",
          "traceback": [
            "\u001b[1;31mThe kernel failed to start due to the missing module 'prompt_toolkit.formatted_text'. Consider installing this module.\n",
            "\u001b[1;31mClick <a href='https://aka.ms/kernelFailuresMissingModule'>here</a> for more info."
          ]
        }
      ],
      "source": [
        "df_numero_matriculas_ano"
      ]
    },
    {
      "attachments": {},
      "cell_type": "markdown",
      "metadata": {
        "id": "jvkVUW4TIq0S"
      },
      "source": [
        "## Import dos dados das despesas"
      ]
    },
    {
      "cell_type": "code",
      "execution_count": null,
      "metadata": {
        "colab": {
          "base_uri": "https://localhost:8080/"
        },
        "id": "ECDaF0AsqPwm",
        "outputId": "65fdfa40-9ee4-4f99-87e7-848e2936036a"
      },
      "outputs": [
        {
          "ename": "",
          "evalue": "",
          "output_type": "error",
          "traceback": [
            "\u001b[1;31mThe kernel failed to start due to the missing module 'prompt_toolkit.formatted_text'. Consider installing this module.\n",
            "\u001b[1;31mClick <a href='https://aka.ms/kernelFailuresMissingModule'>here</a> for more info."
          ]
        }
      ],
      "source": [
        "2503704"
      ]
    },
    {
      "cell_type": "code",
      "execution_count": null,
      "metadata": {
        "colab": {
          "base_uri": "https://localhost:8080/",
          "height": 748
        },
        "id": "XDwQKdKAHAIz",
        "outputId": "76f8b19c-a07a-4275-8f24-2136752b9e99"
      },
      "outputs": [
        {
          "ename": "",
          "evalue": "",
          "output_type": "error",
          "traceback": [
            "\u001b[1;31mThe kernel failed to start due to the missing module 'prompt_toolkit.formatted_text'. Consider installing this module.\n",
            "\u001b[1;31mClick <a href='https://aka.ms/kernelFailuresMissingModule'>here</a> for more info."
          ]
        }
      ],
      "source": [
        "df_despesas = pd.read_csv('dados_despesas.csv', sep=';')\n",
        "df_despesas"
      ]
    },
    {
      "cell_type": "code",
      "execution_count": null,
      "metadata": {
        "colab": {
          "base_uri": "https://localhost:8080/"
        },
        "id": "AqS6Qu04gA5V",
        "outputId": "2818c4af-97df-4716-88c0-ef534f8b885e"
      },
      "outputs": [
        {
          "ename": "",
          "evalue": "",
          "output_type": "error",
          "traceback": [
            "\u001b[1;31mThe kernel failed to start due to the missing module 'prompt_toolkit.formatted_text'. Consider installing this module.\n",
            "\u001b[1;31mClick <a href='https://aka.ms/kernelFailuresMissingModule'>here</a> for more info."
          ]
        }
      ],
      "source": [
        "df_despesas.dtypes"
      ]
    },
    {
      "attachments": {},
      "cell_type": "markdown",
      "metadata": {
        "id": "nz8S4UJ9FnZ3"
      },
      "source": [
        "## Conversões nos dados"
      ]
    },
    {
      "attachments": {},
      "cell_type": "markdown",
      "metadata": {
        "id": "3kInZUOSZzag"
      },
      "source": [
        "### Conversão e tratamento dos dados nas colunas do DF df_ibge_saude"
      ]
    },
    {
      "cell_type": "code",
      "execution_count": null,
      "metadata": {
        "colab": {
          "base_uri": "https://localhost:8080/"
        },
        "id": "yc4yW6p3Zx8w",
        "outputId": "ce9961d5-aa14-46dc-f015-9a8553127852"
      },
      "outputs": [
        {
          "ename": "",
          "evalue": "",
          "output_type": "error",
          "traceback": [
            "\u001b[1;31mThe kernel failed to start due to the missing module 'prompt_toolkit.formatted_text'. Consider installing this module.\n",
            "\u001b[1;31mClick <a href='https://aka.ms/kernelFailuresMissingModule'>here</a> for more info."
          ]
        }
      ],
      "source": [
        "# dados antes da conversão\n",
        "df_ibge_saude.dtypes"
      ]
    },
    {
      "cell_type": "code",
      "execution_count": null,
      "metadata": {
        "colab": {
          "base_uri": "https://localhost:8080/"
        },
        "id": "m9gPP9r9aG5h",
        "outputId": "edc95e52-eed7-4752-c2f3-c736ca1ac9c2"
      },
      "outputs": [
        {
          "ename": "",
          "evalue": "",
          "output_type": "error",
          "traceback": [
            "\u001b[1;31mThe kernel failed to start due to the missing module 'prompt_toolkit.formatted_text'. Consider installing this module.\n",
            "\u001b[1;31mClick <a href='https://aka.ms/kernelFailuresMissingModule'>here</a> for more info."
          ]
        }
      ],
      "source": [
        "# dados da coluna ano após a conversão\n",
        "df_ibge_saude['ano'] = pd.to_datetime(df_ibge_saude['ano'], format='%Y')\n",
        "df_ibge_saude.dtypes"
      ]
    },
    {
      "attachments": {},
      "cell_type": "markdown",
      "metadata": {
        "id": "fLfZy69IHkz4"
      },
      "source": [
        "### Conversão e tratamento dos dados da coluna tempo do DF dados_despesas"
      ]
    },
    {
      "cell_type": "code",
      "execution_count": null,
      "metadata": {
        "colab": {
          "base_uri": "https://localhost:8080/"
        },
        "id": "ZZUm6a0eHscN",
        "outputId": "983fc7fd-3829-48dd-eb8d-583e0759c316"
      },
      "outputs": [
        {
          "ename": "",
          "evalue": "",
          "output_type": "error",
          "traceback": [
            "\u001b[1;31mThe kernel failed to start due to the missing module 'prompt_toolkit.formatted_text'. Consider installing this module.\n",
            "\u001b[1;31mClick <a href='https://aka.ms/kernelFailuresMissingModule'>here</a> for more info."
          ]
        }
      ],
      "source": [
        "# dados antes da conversão\n",
        "df_despesas.dtypes"
      ]
    },
    {
      "cell_type": "code",
      "execution_count": null,
      "metadata": {
        "colab": {
          "base_uri": "https://localhost:8080/"
        },
        "id": "ybSMgP4wHxP3",
        "outputId": "77df06d6-1193-4b15-d73a-4a82942c1842"
      },
      "outputs": [
        {
          "ename": "",
          "evalue": "",
          "output_type": "error",
          "traceback": [
            "\u001b[1;31mThe kernel failed to start due to the missing module 'prompt_toolkit.formatted_text'. Consider installing this module.\n",
            "\u001b[1;31mClick <a href='https://aka.ms/kernelFailuresMissingModule'>here</a> for more info."
          ]
        }
      ],
      "source": [
        "# dados após a conversão\n",
        "df_despesas['DATA_FATO'] = pd.to_datetime(df_despesas['DATA_FATO'])\n",
        "df_despesas.dtypes"
      ]
    },
    {
      "attachments": {},
      "cell_type": "markdown",
      "metadata": {
        "id": "eQteOy0aFrn3"
      },
      "source": [
        "### Conversão na coluna ano do DF df_ibge_educacao"
      ]
    },
    {
      "cell_type": "code",
      "execution_count": null,
      "metadata": {
        "colab": {
          "base_uri": "https://localhost:8080/"
        },
        "id": "SpDLe4M1FRzS",
        "outputId": "3bbd098d-851e-407d-fc2f-2a624674f48d"
      },
      "outputs": [
        {
          "ename": "",
          "evalue": "",
          "output_type": "error",
          "traceback": [
            "\u001b[1;31mThe kernel failed to start due to the missing module 'prompt_toolkit.formatted_text'. Consider installing this module.\n",
            "\u001b[1;31mClick <a href='https://aka.ms/kernelFailuresMissingModule'>here</a> for more info."
          ]
        }
      ],
      "source": [
        "# dados originais\n",
        "df_ibge_educacao.dtypes"
      ]
    },
    {
      "cell_type": "code",
      "execution_count": null,
      "metadata": {
        "colab": {
          "base_uri": "https://localhost:8080/",
          "height": 208
        },
        "id": "ruQmKFtCFUtH",
        "outputId": "314c2244-6a2d-472d-b624-e017cd6c4f1f"
      },
      "outputs": [
        {
          "ename": "",
          "evalue": "",
          "output_type": "error",
          "traceback": [
            "\u001b[1;31mThe kernel failed to start due to the missing module 'prompt_toolkit.formatted_text'. Consider installing this module.\n",
            "\u001b[1;31mClick <a href='https://aka.ms/kernelFailuresMissingModule'>here</a> for more info."
          ]
        }
      ],
      "source": [
        "# dados apos conversao para dt\n",
        "df_ibge_educacao['ano'] = pd.to_datetime(df_ibge_educacao['ano'], format='%Y')\n",
        "df_ibge_educacao.head(1)"
      ]
    },
    {
      "cell_type": "code",
      "execution_count": null,
      "metadata": {
        "id": "uzGBa4Ar17ti"
      },
      "outputs": [
        {
          "ename": "",
          "evalue": "",
          "output_type": "error",
          "traceback": [
            "\u001b[1;31mThe kernel failed to start due to the missing module 'prompt_toolkit.formatted_text'. Consider installing this module.\n",
            "\u001b[1;31mClick <a href='https://aka.ms/kernelFailuresMissingModule'>here</a> for more info."
          ]
        }
      ],
      "source": [
        "df_ibge_educacao.fillna(0.0,inplace=True)"
      ]
    },
    {
      "cell_type": "code",
      "execution_count": null,
      "metadata": {
        "colab": {
          "base_uri": "https://localhost:8080/"
        },
        "id": "SkngLEe7FUp6",
        "outputId": "186c75d3-8b6b-416c-dd1d-c9471bfa9005"
      },
      "outputs": [
        {
          "ename": "",
          "evalue": "",
          "output_type": "error",
          "traceback": [
            "\u001b[1;31mThe kernel failed to start due to the missing module 'prompt_toolkit.formatted_text'. Consider installing this module.\n",
            "\u001b[1;31mClick <a href='https://aka.ms/kernelFailuresMissingModule'>here</a> for more info."
          ]
        }
      ],
      "source": [
        "# dados apos a conversao\n",
        "df_ibge_educacao.dtypes"
      ]
    },
    {
      "attachments": {},
      "cell_type": "markdown",
      "metadata": {
        "id": "7xO_MJRiETt8"
      },
      "source": [
        "# Análises"
      ]
    },
    {
      "attachments": {},
      "cell_type": "markdown",
      "metadata": {
        "id": "NthP_TRzEYQm"
      },
      "source": [
        "## Séries históricas"
      ]
    },
    {
      "attachments": {},
      "cell_type": "markdown",
      "metadata": {
        "id": "6idchRs4GFxG"
      },
      "source": [
        "### Time series da população cajazeirense entre 1991 e 2021"
      ]
    },
    {
      "cell_type": "code",
      "execution_count": null,
      "metadata": {
        "colab": {
          "base_uri": "https://localhost:8080/",
          "height": 165
        },
        "id": "1b1W5--pG3z3",
        "outputId": "3c7eeb52-da7f-4e42-9ce5-0fcbb4ce4a32"
      },
      "outputs": [],
      "source": [
        "df_ibge_populacao_index_ano = df_ibge_populacao.set_index('ano')"
      ]
    },
    {
      "cell_type": "code",
      "execution_count": null,
      "metadata": {
        "id": "aoSKDi4tDKfu"
      },
      "outputs": [
        {
          "ename": "",
          "evalue": "",
          "output_type": "error",
          "traceback": [
            "\u001b[1;31mThe kernel failed to start due to the missing module 'prompt_toolkit.formatted_text'. Consider installing this module.\n",
            "\u001b[1;31mClick <a href='https://aka.ms/kernelFailuresMissingModule'>here</a> for more info."
          ]
        }
      ],
      "source": [
        "# Plota o gráfico de linha com as séries temporais\n",
        "fig, ax = plt.subplots(figsize=(10, 5))\n",
        "\n",
        "ax.plot(df_ibge_populacao_index_ano.index, df_ibge_populacao_index_ano['populacao'], label='Total Anual')\n",
        "\n",
        "# Adiciona legenda e título ao gráfico\n",
        "ax.legend()\n",
        "ax.set_title('População Cajazeirense entre 1991 e 2021 - IBGE')\n",
        "\n",
        "# Exibe o gráfico\n",
        "plt.show()"
      ]
    },
    {
      "cell_type": "code",
      "execution_count": null,
      "metadata": {
        "id": "r6SpEf5bGi3B"
      },
      "outputs": [
        {
          "ename": "",
          "evalue": "",
          "output_type": "error",
          "traceback": [
            "\u001b[1;31mThe kernel failed to start due to the missing module 'prompt_toolkit.formatted_text'. Consider installing this module.\n",
            "\u001b[1;31mClick <a href='https://aka.ms/kernelFailuresMissingModule'>here</a> for more info."
          ]
        }
      ],
      "source": [
        "df_ibge_populacao_index_ano['variacao_anual'] = df_ibge_populacao_index_ano['populacao'].diff()\n",
        "df_ibge_populacao_index_ano['porcentagem_variacao_anual_%'] = ((df_ibge_populacao_index_ano['variacao_anual'] / df_ibge_populacao_index_ano['populacao'].shift(1)) * 100).round(2)\n",
        "df_ibge_populacao_index_ano['aceleracao_variacao_anual'] = df_ibge_populacao_index_ano['variacao_anual'].diff()\n",
        "df_ibge_populacao_index_ano['porcentagem_aceleracao_variacao_anual_%'] = ((df_ibge_populacao_index_ano['aceleracao_variacao_anual'] / df_ibge_populacao_index_ano['variacao_anual'].shift(1)) * 100).round(2)\n",
        "df_ibge_populacao_index_ano"
      ]
    },
    {
      "cell_type": "code",
      "execution_count": null,
      "metadata": {
        "id": "xoUKPuisHles"
      },
      "outputs": [
        {
          "ename": "",
          "evalue": "",
          "output_type": "error",
          "traceback": [
            "\u001b[1;31mThe kernel failed to start due to the missing module 'prompt_toolkit.formatted_text'. Consider installing this module.\n",
            "\u001b[1;31mClick <a href='https://aka.ms/kernelFailuresMissingModule'>here</a> for more info."
          ]
        }
      ],
      "source": [
        "# Plota o gráfico de linha com as séries temporais\n",
        "fig, ax = plt.subplots(figsize=(10, 5))\n",
        "\n",
        "ax.plot(df_ibge_populacao_index_ano.index, df_ibge_populacao_index_ano['variacao_anual'], label='Variação')\n",
        "\n",
        "# Adiciona legenda e título ao gráfico\n",
        "ax.legend()\n",
        "ax.set_title('Variação Anual Populacional Cajazeirense entre 1991 e 2021 - IBGE')\n",
        "\n",
        "# Exibe o gráfico\n",
        "plt.show()"
      ]
    },
    {
      "cell_type": "code",
      "execution_count": null,
      "metadata": {
        "id": "a_0U0Ae7H8CX"
      },
      "outputs": [
        {
          "ename": "",
          "evalue": "",
          "output_type": "error",
          "traceback": [
            "\u001b[1;31mThe kernel failed to start due to the missing module 'prompt_toolkit.formatted_text'. Consider installing this module.\n",
            "\u001b[1;31mClick <a href='https://aka.ms/kernelFailuresMissingModule'>here</a> for more info."
          ]
        }
      ],
      "source": [
        "# Plota o gráfico de linha com as séries temporais\n",
        "fig, ax = plt.subplots(figsize=(10, 5))\n",
        "\n",
        "ax.plot(df_ibge_populacao_index_ano.index, df_ibge_populacao_index_ano['aceleracao_variacao_anual'], label='Aceleração')\n",
        "\n",
        "# Adiciona legenda e título ao gráfico\n",
        "ax.legend()\n",
        "ax.set_title('Aceleração Crescimento Anual Populacional Cajazeirense entre 1991 e 2021 - IBGE')\n",
        "\n",
        "# Exibe o gráfico\n",
        "plt.show()"
      ]
    },
    {
      "cell_type": "code",
      "execution_count": null,
      "metadata": {
        "id": "SXNc479PIdx9"
      },
      "outputs": [
        {
          "ename": "",
          "evalue": "",
          "output_type": "error",
          "traceback": [
            "\u001b[1;31mThe kernel failed to start due to the missing module 'prompt_toolkit.formatted_text'. Consider installing this module.\n",
            "\u001b[1;31mClick <a href='https://aka.ms/kernelFailuresMissingModule'>here</a> for more info."
          ]
        }
      ],
      "source": [
        "print(f\"Total da variação populacional entre 1991 e 2021: {df_ibge_populacao_index_ano['variacao_anual'].sum()}\")\n",
        "print(f\"Média móvel da variação anual: {(df_ibge_populacao_index_ano['variacao_anual'].sum()/df_ibge_populacao_index_ano.shape[0]).round(2)}\")"
      ]
    },
    {
      "cell_type": "code",
      "execution_count": null,
      "metadata": {
        "id": "yZM9Ghv8KLwL"
      },
      "outputs": [],
      "source": [
        "print(f\"Total da aceleração da variação populacional entre 1991 e 2021: {df_ibge_populacao_index_ano['aceleracao_variacao_anual'].sum()}\")\n",
        "print(f\"Média móvel anual da aceleração da variação populacional entre 1991 e 2021: {(df_ibge_populacao_index_ano['aceleracao_variacao_anual'].sum()/df_ibge_populacao_index_ano.shape[0]).round(2)}\")"
      ]
    },
    {
      "cell_type": "code",
      "execution_count": null,
      "metadata": {
        "id": "y8biiBQ5M2HO"
      },
      "outputs": [
        {
          "ename": "",
          "evalue": "",
          "output_type": "error",
          "traceback": [
            "\u001b[1;31mThe kernel failed to start due to the missing module 'prompt_toolkit.formatted_text'. Consider installing this module.\n",
            "\u001b[1;31mClick <a href='https://aka.ms/kernelFailuresMissingModule'>here</a> for more info."
          ]
        }
      ],
      "source": [
        "print(f\"Porcentagem da variação populacional entre 1991 e 2021: {df_ibge_populacao_index_ano['porcentagem_variacao_anual_%'].sum().round(2)}%\")\n",
        "print(f\"Média percentual móvel anual da variação populacional entre 1991 e 2021: {(df_ibge_populacao_index_ano['porcentagem_variacao_anual_%'].sum()/df_ibge_populacao_index_ano.shape[0]).round(2)}%\")"
      ]
    },
    {
      "cell_type": "code",
      "execution_count": null,
      "metadata": {
        "id": "JgnFTjr-M1-0"
      },
      "outputs": [
        {
          "ename": "",
          "evalue": "",
          "output_type": "error",
          "traceback": [
            "\u001b[1;31mThe kernel failed to start due to the missing module 'prompt_toolkit.formatted_text'. Consider installing this module.\n",
            "\u001b[1;31mClick <a href='https://aka.ms/kernelFailuresMissingModule'>here</a> for more info."
          ]
        }
      ],
      "source": [
        "print(f\"Porcentagem da aceleração da variação populacional entre 1991 e 2021: {df_ibge_populacao_index_ano['porcentagem_aceleracao_variacao_anual_%'].sum().round(2)}%\")\n",
        "print(f\"Média percentual móvel anual da aceleração da variação populacional entre 1991 e 2021: {(df_ibge_populacao_index_ano['porcentagem_aceleracao_variacao_anual_%'].sum()/df_ibge_populacao_index_ano.shape[0]).round(2)}%\")"
      ]
    },
    {
      "attachments": {},
      "cell_type": "markdown",
      "metadata": {
        "id": "n3HPjhMOc1qN"
      },
      "source": [
        "### Time series do pib entre 1999 e 2020"
      ]
    },
    {
      "cell_type": "code",
      "execution_count": null,
      "metadata": {
        "id": "_NcsC_c1c06g"
      },
      "outputs": [
        {
          "ename": "",
          "evalue": "",
          "output_type": "error",
          "traceback": [
            "\u001b[1;31mThe kernel failed to start due to the missing module 'prompt_toolkit.formatted_text'. Consider installing this module.\n",
            "\u001b[1;31mClick <a href='https://aka.ms/kernelFailuresMissingModule'>here</a> for more info."
          ]
        }
      ],
      "source": [
        "# verificando se há valores nulos\n",
        "df_ibge_pib.isna().value_counts()"
      ]
    },
    {
      "cell_type": "code",
      "execution_count": null,
      "metadata": {
        "id": "8C8BlV24dL_T"
      },
      "outputs": [
        {
          "ename": "",
          "evalue": "",
          "output_type": "error",
          "traceback": [
            "\u001b[1;31mThe kernel failed to start due to the missing module 'prompt_toolkit.formatted_text'. Consider installing this module.\n",
            "\u001b[1;31mClick <a href='https://aka.ms/kernelFailuresMissingModule'>here</a> for more info."
          ]
        }
      ],
      "source": [
        "# verificando o tipo das colunas\n",
        "df_ibge_pib.dtypes"
      ]
    },
    {
      "cell_type": "code",
      "execution_count": null,
      "metadata": {
        "id": "82oNh8pTdSoZ"
      },
      "outputs": [],
      "source": [
        "# criando df para analises dos dados\n",
        "df_valor_pib_analise = df_ibge_pib[['ano','pib', 'impostos_liquidos', 'va', 'va_agropecuaria', 'va_industria', 'va_servicos', 'va_adespss']]\n",
        "\n",
        "df_valor_pib_analise.set_index('ano', inplace=True)\n",
        "df_valor_pib_analise"
      ]
    },
    {
      "attachments": {},
      "cell_type": "markdown",
      "metadata": {
        "id": "C3NtWW70f5zZ"
      },
      "source": [
        "#### PIB"
      ]
    },
    {
      "cell_type": "code",
      "execution_count": null,
      "metadata": {
        "id": "KolYCUAvgdoI"
      },
      "outputs": [],
      "source": [
        "df_pib_analise = df_valor_pib_analise.copy()\n",
        "df_pib_analise.drop(columns=['impostos_liquidos','va','va_agropecuaria','va_industria','va_servicos','va_adespss'], inplace=True)\n",
        "\n",
        "pd.options.display.float_format = '{:.2f}'.format\n",
        "print(df_pib_analise)"
      ]
    },
    {
      "cell_type": "code",
      "execution_count": null,
      "metadata": {
        "id": "WHqYR4Y1dSl3"
      },
      "outputs": [
        {
          "ename": "",
          "evalue": "",
          "output_type": "error",
          "traceback": [
            "\u001b[1;31mThe kernel failed to start due to the missing module 'prompt_toolkit.formatted_text'. Consider installing this module.\n",
            "\u001b[1;31mClick <a href='https://aka.ms/kernelFailuresMissingModule'>here</a> for more info."
          ]
        }
      ],
      "source": [
        "# inferindo variação e acelaração anual do pib\n",
        "df_pib_analise['variacao_anual'] = df_pib_analise['pib'].diff()\n",
        "df_pib_analise['porcentagem_variacao_anual_%'] = ((df_pib_analise['variacao_anual'] / df_pib_analise['pib'].shift(1)) * 100).round(2)\n",
        "df_pib_analise['aceleracao_variacao_anual'] = df_pib_analise['variacao_anual'].diff()\n",
        "df_pib_analise['porcentagem_aceleracao_variacao_anual_%'] = ((df_pib_analise['aceleracao_variacao_anual'] / df_pib_analise['variacao_anual'].shift(1)) * 100).round(2)\n",
        "df_pib_analise"
      ]
    },
    {
      "cell_type": "code",
      "execution_count": null,
      "metadata": {
        "id": "NoRSULvRdSjT"
      },
      "outputs": [],
      "source": [
        "# Plota o gráfico de linha com as séries temporais\n",
        "fig, ax = plt.subplots(figsize=(10, 5))\n",
        "ax.plot(df_pib_analise.index, df_pib_analise['pib'], label='Valor Anual - R$')\n",
        "\n",
        "# Adiciona legenda e título ao gráfico\n",
        "ax.legend()\n",
        "ax.set_title('PIB municipal anual bruto entre os anos de 1999 a 2020')\n",
        "ax.xaxis.label.set_visible(False)  # esconde a legenda do eixo X\n",
        "\n",
        "# Configura o eixo x para não mostrar nenhum rótulo\n",
        "# plt.gca().set_xticklabels([])\n",
        "\n",
        "# Exibe o gráfico\n",
        "plt.show()"
      ]
    },
    {
      "cell_type": "code",
      "execution_count": null,
      "metadata": {
        "id": "OlGp23S6dSg-"
      },
      "outputs": [
        {
          "ename": "",
          "evalue": "",
          "output_type": "error",
          "traceback": [
            "\u001b[1;31mThe kernel failed to start due to the missing module 'prompt_toolkit.formatted_text'. Consider installing this module.\n",
            "\u001b[1;31mClick <a href='https://aka.ms/kernelFailuresMissingModule'>here</a> for more info."
          ]
        }
      ],
      "source": [
        "# Plota o gráfico de linha com as séries temporais\n",
        "fig, ax = plt.subplots(figsize=(10, 5))\n",
        "ax.plot(df_pib_analise.index, df_pib_analise['variacao_anual'], label='Valor Anual - R$')\n",
        "\n",
        "# Adiciona legenda e título ao gráfico\n",
        "ax.legend()\n",
        "ax.set_title('Variação do PIB municipal bruto entre os anos de 1999 a 2020')\n",
        "ax.xaxis.label.set_visible(False)  # esconde a legenda do eixo X\n",
        "\n",
        "# Configura o eixo x para não mostrar nenhum rótulo\n",
        "# plt.gca().set_xticklabels([])\n",
        "\n",
        "# Exibe o gráfico\n",
        "plt.show()"
      ]
    },
    {
      "cell_type": "code",
      "execution_count": null,
      "metadata": {
        "id": "wnjl-XHAdSeY"
      },
      "outputs": [],
      "source": [
        "# Plota o gráfico de linha com as séries temporais\n",
        "fig, ax = plt.subplots(figsize=(10, 5))\n",
        "ax.plot(df_pib_analise.index, df_pib_analise['aceleracao_variacao_anual'], label='Valor Anual - R$')\n",
        "\n",
        "# Adiciona legenda e título ao gráfico\n",
        "ax.legend()\n",
        "ax.set_title('Aceleração do PIB municipal anual bruto entre os anos de 1999 a 2020')\n",
        "ax.xaxis.label.set_visible(False)  # esconde a legenda do eixo X\n",
        "\n",
        "# Configura o eixo x para não mostrar nenhum rótulo\n",
        "# plt.gca().set_xticklabels([])\n",
        "\n",
        "# Exibe o gráfico\n",
        "plt.show()"
      ]
    },
    {
      "cell_type": "code",
      "execution_count": null,
      "metadata": {
        "id": "nke_w-NXdSZQ"
      },
      "outputs": [],
      "source": [
        "print(f\"Total da variação do PIB municipal: R$ {df_pib_analise['variacao_anual'].sum().round(2)}\")\n",
        "print(f\"Média móvel anual da variação do PIB municipal: R$ {(df_pib_analise['variacao_anual'].sum()/df_pib_analise.shape[0]).round(2)}\")"
      ]
    },
    {
      "cell_type": "code",
      "execution_count": null,
      "metadata": {
        "id": "osEnrUxph080"
      },
      "outputs": [],
      "source": [
        "print(f\"Total da aceleração da variação do PIB municipal: R$ {df_pib_analise['aceleracao_variacao_anual'].sum().round(2)}\")\n",
        "print(f\"Média móvel anual da aceleração da variação do PIB municipal: R$ {(df_pib_analise['aceleracao_variacao_anual'].sum()/df_pib_analise.shape[0]).round(2)}\")"
      ]
    },
    {
      "cell_type": "code",
      "execution_count": null,
      "metadata": {
        "id": "sb9R1rWXh010"
      },
      "outputs": [],
      "source": [
        "print(f\"Porcentagem da variação do PIB municipal: {df_pib_analise['porcentagem_variacao_anual_%'].sum().round(2)}%\")\n",
        "print(f\"Média móvel percentual anual da variação do PIB municipal: {(df_pib_analise['porcentagem_variacao_anual_%'].sum()/df_pib_analise.shape[0]).round(2)}%\")"
      ]
    },
    {
      "cell_type": "code",
      "execution_count": null,
      "metadata": {
        "id": "03Rh6iMRh0t3"
      },
      "outputs": [],
      "source": [
        "print(f\"Porcentagem da aceleração da variação do PIB municipal: {df_pib_analise['porcentagem_aceleracao_variacao_anual_%'].sum().round(2)}%\")\n",
        "print(f\"Média móvel percentual anual da acelereção variação do PIB municipal: {(df_pib_analise['porcentagem_aceleracao_variacao_anual_%'].sum()/df_pib_analise.shape[0]).round(2)}%\")"
      ]
    },
    {
      "attachments": {},
      "cell_type": "markdown",
      "metadata": {
        "id": "R2yOWQ9EOO2X"
      },
      "source": [
        "#### Valores brutos específicos"
      ]
    },
    {
      "cell_type": "code",
      "execution_count": null,
      "metadata": {
        "id": "H94Imy6oOOSK"
      },
      "outputs": [],
      "source": [
        "df_va_analise = df_valor_pib_analise.copy()\n",
        "df_va_analise.drop(columns=['pib', 'impostos_liquidos'], inplace=True)\n",
        "\n",
        "pd.options.display.float_format = '{:.2f}'.format\n",
        "print(df_va_analise)"
      ]
    },
    {
      "cell_type": "code",
      "execution_count": null,
      "metadata": {
        "id": "cWeGFhoEPokA"
      },
      "outputs": [],
      "source": [
        "# inferindo variação e acelaração anual dos valores brutos\n",
        "df_va_analise['variacao_anual_va'] = df_va_analise['va'].diff()\n",
        "df_va_analise['porcentagem_variacao_anual_va_%'] = ((df_va_analise['variacao_anual_va'] / df_va_analise['va'].shift(1)) * 100).round(2)\n",
        "df_va_analise['aceleracao_variacao_anual_va'] = df_va_analise['variacao_anual_va'].diff()\n",
        "df_va_analise['porcentagem_aceleracao_variacao_anual_va_%'] = ((df_va_analise['aceleracao_variacao_anual_va'] / df_va_analise['variacao_anual_va'].shift(1)) * 100).round(2)"
      ]
    },
    {
      "cell_type": "code",
      "execution_count": null,
      "metadata": {
        "id": "lcilOD-IPohF"
      },
      "outputs": [
        {
          "ename": "",
          "evalue": "",
          "output_type": "error",
          "traceback": [
            "\u001b[1;31mThe kernel failed to start due to the missing module 'prompt_toolkit.formatted_text'. Consider installing this module.\n",
            "\u001b[1;31mClick <a href='https://aka.ms/kernelFailuresMissingModule'>here</a> for more info."
          ]
        }
      ],
      "source": [
        "# inferindo variação e acelaração anual dos valores brutos\n",
        "df_va_analise['variacao_anual_va_agropecuaria'] = df_va_analise['va_agropecuaria'].diff()\n",
        "df_va_analise['porcentagem_variacao_anual_va_agropecuaria_%'] = ((df_va_analise['variacao_anual_va_agropecuaria'] / df_va_analise['va_agropecuaria'].shift(1)) * 100).round(2)\n",
        "df_va_analise['aceleracao_variacao_anual_va_agropecuaria'] = df_va_analise['variacao_anual_va_agropecuaria'].diff()\n",
        "df_va_analise['porcentagem_aceleracao_variacao_anual_va_agropecuaria_%'] = ((df_va_analise['aceleracao_variacao_anual_va_agropecuaria'] / df_va_analise['variacao_anual_va_agropecuaria'].shift(1)) * 100).round(2)"
      ]
    },
    {
      "cell_type": "code",
      "execution_count": null,
      "metadata": {
        "id": "aOuDLx2CPoeN"
      },
      "outputs": [],
      "source": [
        "# inferindo variação e acelaração anual dos valores brutos\n",
        "df_va_analise['variacao_anual_va_industria'] = df_va_analise['va_industria'].diff()\n",
        "df_va_analise['porcentagem_variacao_anual_va_industria_%'] = ((df_va_analise['variacao_anual_va_industria'] / df_va_analise['va_industria'].shift(1)) * 100).round(2)\n",
        "df_va_analise['aceleracao_variacao_anual_va_industria'] = df_va_analise['variacao_anual_va_industria'].diff()\n",
        "df_va_analise['porcentagem_aceleracao_variacao_anual_va_industria_%'] = ((df_va_analise['aceleracao_variacao_anual_va_industria'] / df_va_analise['variacao_anual_va_industria'].shift(1)) * 100).round(2)"
      ]
    },
    {
      "cell_type": "code",
      "execution_count": null,
      "metadata": {
        "id": "2W-XyRK2PoVB"
      },
      "outputs": [],
      "source": [
        "# inferindo variação e acelaração anual dos valores brutos\n",
        "df_va_analise['variacao_anual_va_servicos'] = df_va_analise['va_servicos'].diff()\n",
        "df_va_analise['porcentagem_variacao_anual_va_servicos_%'] = ((df_va_analise['variacao_anual_va_servicos'] / df_va_analise['va_servicos'].shift(1)) * 100).round(2)\n",
        "df_va_analise['aceleracao_variacao_anual_va_servicos'] = df_va_analise['variacao_anual_va_servicos'].diff()\n",
        "df_va_analise['porcentagem_aceleracao_variacao_anual_va_servicos_%'] = ((df_va_analise['aceleracao_variacao_anual_va_servicos'] / df_va_analise['variacao_anual_va_servicos'].shift(1)) * 100).round(2)"
      ]
    },
    {
      "cell_type": "code",
      "execution_count": null,
      "metadata": {
        "id": "5_UE5jMVQEai"
      },
      "outputs": [],
      "source": [
        "# inferindo variação e acelaração anual dos valores brutos\n",
        "df_va_analise['variacao_anual_va_adespss'] = df_va_analise['va_adespss'].diff()\n",
        "df_va_analise['porcentagem_variacao_anual_va_adespss_%'] = ((df_va_analise['variacao_anual_va_adespss'] / df_va_analise['va_adespss'].shift(1)) * 100).round(2)\n",
        "df_va_analise['aceleracao_variacao_anual_va_adespss'] = df_va_analise['variacao_anual_va_adespss'].diff()\n",
        "df_va_analise['porcentagem_aceleracao_variacao_anual_va_adespss_%'] = ((df_va_analise['aceleracao_variacao_anual_va_adespss'] / df_va_analise['variacao_anual_va_adespss'].shift(1)) * 100).round(2)\n",
        "df_va_analise"
      ]
    },
    {
      "cell_type": "code",
      "execution_count": null,
      "metadata": {
        "id": "r-pH2blRQlsj"
      },
      "outputs": [],
      "source": [
        "# Plota o gráfico de linha com as séries temporais\n",
        "fig, ax = plt.subplots(figsize=(10, 5))\n",
        "\n",
        "ax.plot(df_va_analise.index, df_va_analise['va'], label='Valor - R$')\n",
        "\n",
        "# Adiciona legenda e título ao gráfico\n",
        "ax.legend()\n",
        "ax.set_title('Valores adicionado bruto a preços correntes 1990 e 2020 - IBGE')\n",
        "\n",
        "# Exibe o gráfico\n",
        "plt.show()"
      ]
    },
    {
      "cell_type": "code",
      "execution_count": null,
      "metadata": {
        "id": "TMWyJAtqQlnF"
      },
      "outputs": [
        {
          "ename": "",
          "evalue": "",
          "output_type": "error",
          "traceback": [
            "\u001b[1;31mThe kernel failed to start due to the missing module 'prompt_toolkit.formatted_text'. Consider installing this module.\n",
            "\u001b[1;31mClick <a href='https://aka.ms/kernelFailuresMissingModule'>here</a> for more info."
          ]
        }
      ],
      "source": [
        "# Plota o gráfico de linha com as séries temporais\n",
        "fig, ax = plt.subplots(figsize=(10, 5))\n",
        "\n",
        "ax.plot(df_va_analise.index, df_va_analise['variacao_anual_va'], label='Valor - R$')\n",
        "\n",
        "# Adiciona legenda e título ao gráfico\n",
        "ax.legend()\n",
        "ax.set_title('Variação anual dos valores adicionado bruto a preços correntes 1990 e 2020 - IBGE')\n",
        "\n",
        "# Exibe o gráfico\n",
        "plt.show()"
      ]
    },
    {
      "cell_type": "code",
      "execution_count": null,
      "metadata": {
        "id": "iyYXcVabQlqB"
      },
      "outputs": [
        {
          "ename": "",
          "evalue": "",
          "output_type": "error",
          "traceback": [
            "\u001b[1;31mThe kernel failed to start due to the missing module 'prompt_toolkit.formatted_text'. Consider installing this module.\n",
            "\u001b[1;31mClick <a href='https://aka.ms/kernelFailuresMissingModule'>here</a> for more info."
          ]
        }
      ],
      "source": [
        "# Plota o gráfico de linha com as séries temporais\n",
        "fig, ax = plt.subplots(figsize=(10, 5))\n",
        "\n",
        "ax.plot(df_va_analise.index, df_va_analise['aceleracao_variacao_anual_va'], label='Valor - R$')\n",
        "\n",
        "# Adiciona legenda e título ao gráfico\n",
        "ax.legend()\n",
        "ax.set_title('Aceleração da variação anual dos valores adicionado bruto a preços correntes 1990 e 2020 - IBGE')\n",
        "\n",
        "# Exibe o gráfico\n",
        "plt.show()"
      ]
    },
    {
      "cell_type": "code",
      "execution_count": null,
      "metadata": {
        "id": "3XXaRCgIQli-"
      },
      "outputs": [
        {
          "ename": "",
          "evalue": "",
          "output_type": "error",
          "traceback": [
            "\u001b[1;31mThe kernel failed to start due to the missing module 'prompt_toolkit.formatted_text'. Consider installing this module.\n",
            "\u001b[1;31mClick <a href='https://aka.ms/kernelFailuresMissingModule'>here</a> for more info."
          ]
        }
      ],
      "source": [
        "# Plota o gráfico de linha com as séries temporais\n",
        "fig, ax = plt.subplots(figsize=(10, 5))\n",
        "\n",
        "ax.plot(df_va_analise.index, df_va_analise['va_agropecuaria'], label='Valor - R$')\n",
        "\n",
        "# Adiciona legenda e título ao gráfico\n",
        "ax.legend()\n",
        "ax.set_title('Valores adicionado bruto a preços correntes da agropecuária 1990 e 2020 - IBGE')\n",
        "\n",
        "# Exibe o gráfico\n",
        "plt.show()"
      ]
    },
    {
      "cell_type": "code",
      "execution_count": null,
      "metadata": {
        "id": "9z_y_t_vQlgH"
      },
      "outputs": [
        {
          "ename": "",
          "evalue": "",
          "output_type": "error",
          "traceback": [
            "\u001b[1;31mThe kernel failed to start due to the missing module 'prompt_toolkit.formatted_text'. Consider installing this module.\n",
            "\u001b[1;31mClick <a href='https://aka.ms/kernelFailuresMissingModule'>here</a> for more info."
          ]
        }
      ],
      "source": [
        "# Plota o gráfico de linha com as séries temporais\n",
        "fig, ax = plt.subplots(figsize=(10, 5))\n",
        "\n",
        "ax.plot(df_va_analise.index, df_va_analise['variacao_anual_va_agropecuaria'], label='Valor - R$')\n",
        "\n",
        "# Adiciona legenda e título ao gráfico\n",
        "ax.legend()\n",
        "ax.set_title('Variação anual dos valores adicionado bruto a preços correntes da agropecuária 1990 e 2020 - IBGE')\n",
        "\n",
        "# Exibe o gráfico\n",
        "plt.show()"
      ]
    },
    {
      "cell_type": "code",
      "execution_count": null,
      "metadata": {
        "id": "VNlQ1KZzQldf"
      },
      "outputs": [],
      "source": [
        "# Plota o gráfico de linha com as séries temporais\n",
        "fig, ax = plt.subplots(figsize=(10, 5))\n",
        "\n",
        "ax.plot(df_va_analise.index, df_va_analise['aceleracao_variacao_anual_va_agropecuaria'], label='Valor - R$')\n",
        "\n",
        "# Adiciona legenda e título ao gráfico\n",
        "ax.legend()\n",
        "ax.set_title('Aceleração da variação anual dos valores adicionado bruto a preços correntes da agropecuária 1990 e 2020 - IBGE')\n",
        "\n",
        "# Exibe o gráfico\n",
        "plt.show()"
      ]
    },
    {
      "cell_type": "code",
      "execution_count": null,
      "metadata": {
        "id": "RlJN3ujFQlay"
      },
      "outputs": [],
      "source": [
        "# Plota o gráfico de linha com as séries temporais\n",
        "fig, ax = plt.subplots(figsize=(10, 5))\n",
        "\n",
        "ax.plot(df_va_analise.index, df_va_analise['va_industria'], label='Valor - R$')\n",
        "\n",
        "# Adiciona legenda e título ao gráfico\n",
        "ax.legend()\n",
        "ax.set_title('Valores adicionado bruto a preços correntes da indústria 1990 e 2020 - IBGE')\n",
        "\n",
        "# Exibe o gráfico\n",
        "plt.show()"
      ]
    },
    {
      "cell_type": "code",
      "execution_count": null,
      "metadata": {
        "id": "CE-jYx8tQlYI"
      },
      "outputs": [],
      "source": [
        "# Plota o gráfico de linha com as séries temporais\n",
        "fig, ax = plt.subplots(figsize=(10, 5))\n",
        "\n",
        "ax.plot(df_va_analise.index, df_va_analise['variacao_anual_va_industria'], label='Valor - R$')\n",
        "\n",
        "# Adiciona legenda e título ao gráfico\n",
        "ax.legend()\n",
        "ax.set_title('Variação anual dos valores adicionado bruto a preços correntes da indústria 1990 e 2020 - IBGE')\n",
        "\n",
        "# Exibe o gráfico\n",
        "plt.show()"
      ]
    },
    {
      "cell_type": "code",
      "execution_count": null,
      "metadata": {
        "id": "kCCx6lYiQlVL"
      },
      "outputs": [],
      "source": [
        "# Plota o gráfico de linha com as séries temporais\n",
        "fig, ax = plt.subplots(figsize=(10, 5))\n",
        "\n",
        "ax.plot(df_va_analise.index, df_va_analise['aceleracao_variacao_anual_va_industria'], label='Valor - R$')\n",
        "\n",
        "# Adiciona legenda e título ao gráfico\n",
        "ax.legend()\n",
        "ax.set_title('Aceleração da variação anual dos valores adicionado bruto a preços correntes da indústria 1990 e 2020 - IBGE')\n",
        "\n",
        "# Exibe o gráfico\n",
        "plt.show()"
      ]
    },
    {
      "cell_type": "code",
      "execution_count": null,
      "metadata": {
        "id": "J_eG7YuLQlSq"
      },
      "outputs": [],
      "source": [
        "# Plota o gráfico de linha com as séries temporais\n",
        "fig, ax = plt.subplots(figsize=(10, 5))\n",
        "\n",
        "ax.plot(df_va_analise.index, df_va_analise['va_servicos'], label='Valor - R$')\n",
        "\n",
        "# Adiciona legenda e título ao gráfico\n",
        "ax.legend()\n",
        "ax.set_title('Valores adicionado bruto a preços correntes dos serviços 1990 e 2020 - IBGE')\n",
        "\n",
        "# Exibe o gráfico\n",
        "plt.show()"
      ]
    },
    {
      "cell_type": "code",
      "execution_count": null,
      "metadata": {
        "id": "Zzk2ea_4QlQL"
      },
      "outputs": [],
      "source": [
        "# Plota o gráfico de linha com as séries temporais\n",
        "fig, ax = plt.subplots(figsize=(10, 5))\n",
        "\n",
        "ax.plot(df_va_analise.index, df_va_analise['variacao_anual_va_servicos'], label='Valor - R$')\n",
        "\n",
        "# Adiciona legenda e título ao gráfico\n",
        "ax.legend()\n",
        "ax.set_title('Variação anual dos valores adicionado bruto a preços correntes dos serviços 1990 e 2020 - IBGE')\n",
        "\n",
        "# Exibe o gráfico\n",
        "plt.show()"
      ]
    },
    {
      "cell_type": "code",
      "execution_count": null,
      "metadata": {
        "id": "f9ACYF6tQlNa"
      },
      "outputs": [],
      "source": [
        "# Plota o gráfico de linha com as séries temporais\n",
        "fig, ax = plt.subplots(figsize=(10, 5))\n",
        "\n",
        "ax.plot(df_va_analise.index, df_va_analise['aceleracao_variacao_anual_va_servicos'], label='Valor - R$')\n",
        "\n",
        "# Adiciona legenda e título ao gráfico\n",
        "ax.legend()\n",
        "ax.set_title('Aceleração da variação anual dos valores adicionado bruto a preços correntes dos serviços 1990 e 2020 - IBGE')\n",
        "\n",
        "# Exibe o gráfico\n",
        "plt.show()"
      ]
    },
    {
      "cell_type": "code",
      "execution_count": null,
      "metadata": {
        "id": "8PUsEnmBQlKw"
      },
      "outputs": [],
      "source": [
        "# Plota o gráfico de linha com as séries temporais\n",
        "fig, ax = plt.subplots(figsize=(10, 5))\n",
        "\n",
        "ax.plot(df_va_analise.index, df_va_analise['va_adespss'], label='Valor - R$')\n",
        "\n",
        "# Adiciona legenda e título ao gráfico\n",
        "ax.legend()\n",
        "ax.set_title('Valores adicionado bruto a preços correntes dos serviços públicos 1990 e 2020 - IBGE')\n",
        "\n",
        "# Exibe o gráfico\n",
        "plt.show()"
      ]
    },
    {
      "cell_type": "code",
      "execution_count": null,
      "metadata": {
        "id": "wPTvLjjnQlH7"
      },
      "outputs": [],
      "source": [
        "# Plota o gráfico de linha com as séries temporais\n",
        "fig, ax = plt.subplots(figsize=(10, 5))\n",
        "\n",
        "ax.plot(df_va_analise.index, df_va_analise['variacao_anual_va_adespss'], label='Valor - R$')\n",
        "\n",
        "# Adiciona legenda e título ao gráfico\n",
        "ax.legend()\n",
        "ax.set_title('Variação anual dos valores adicionado bruto a preços correntes dos serviços públicos 1990 e 2020 - IBGE')\n",
        "\n",
        "# Exibe o gráfico\n",
        "plt.show()"
      ]
    },
    {
      "cell_type": "code",
      "execution_count": null,
      "metadata": {
        "id": "ZgkzwM8pQlFh"
      },
      "outputs": [],
      "source": [
        "# Plota o gráfico de linha com as séries temporais\n",
        "fig, ax = plt.subplots(figsize=(10, 5))\n",
        "\n",
        "ax.plot(df_va_analise.index, df_va_analise['aceleracao_variacao_anual_va_adespss'], label='Valor - R$')\n",
        "\n",
        "# Adiciona legenda e título ao gráfico\n",
        "ax.legend()\n",
        "ax.set_title('Aceleração da variação anual dos valores adicionado bruto a preços correntes dos serviços públicos 1990 e 2020 - IBGE')\n",
        "\n",
        "# Exibe o gráfico\n",
        "plt.show()"
      ]
    },
    {
      "cell_type": "code",
      "execution_count": null,
      "metadata": {
        "id": "eQnE6DQ-QlC7"
      },
      "outputs": [],
      "source": [
        "# Variação da receita bruta anual\n",
        "print(f\"Total da variação anual da receita bruta anual entre 1999 e 2020: R$ {df_va_analise['variacao_anual_va'].sum().round(2)}\")\n",
        "print(f\"Média móvel da variação anual: R$ {(df_va_analise['variacao_anual_va'].sum()/df_va_analise.shape[0]).round(2)}\")\n",
        "\n",
        "# Aceleração da variação da receita bruta anual\n",
        "print(f\"\\nTotal da aceleração da variação anual da receita bruta entre 1999 e 2020: R$ {df_va_analise['aceleracao_variacao_anual_va'].sum().round(2)}\")\n",
        "print(f\"Média móvel anual da aceleração da variação anual da receita bruta: R${(df_va_analise['aceleracao_variacao_anual_va'].sum()/df_va_analise.shape[0]).round(2)}\")\n",
        "\n",
        "# Porcentagem da variação da receita bruta anual\n",
        "print(f\"\\nPorcentagem da variação anual da receita bruta entre 1999 e 2020: {df_va_analise['porcentagem_variacao_anual_va_%'].sum().round(2)}%\")\n",
        "print(f\"Média percentual móvel anual da variação anual da receita bruta: {(df_va_analise['porcentagem_variacao_anual_va_%'].sum()/df_va_analise.shape[0]).round(2)}%\")\n",
        "\n",
        "# Porcentagem da aceleração da variação da receita bruta anual\n",
        "print(f\"\\nPorcentagem da aceleração da variação anual da receita bruta entre 1999 e 2020: {df_va_analise['porcentagem_aceleracao_variacao_anual_va_%'].sum().round(2)}%\")\n",
        "print(f\"Média percentual móvel anual da aceleração da variação anual da receita bruta: {(df_va_analise['porcentagem_aceleracao_variacao_anual_va_%'].sum()/df_va_analise.shape[0]).round(2)}%\")"
      ]
    },
    {
      "cell_type": "code",
      "execution_count": null,
      "metadata": {
        "id": "v2S4NhW3QlAz"
      },
      "outputs": [],
      "source": [
        "# Variação da receita bruta anual da agropecuária\n",
        "print(f\"Total da variação anual da receita bruta da agropecuária entre 1999 e 2020: R$ {df_va_analise['variacao_anual_va_agropecuaria'].sum().round(2)}\")\n",
        "print(f\"Média móvel da variação da agropecuária anual: R$ {(df_va_analise['variacao_anual_va_agropecuaria'].sum()/df_va_analise.shape[0]).round(2)}\")\n",
        "\n",
        "# Aceleração da variação da receita bruta anual da agropecuária \n",
        "print(f\"\\nTotal da aceleração da variação anual da receita bruta da agropecuária entre 1999 e 2020: R$ {df_va_analise['aceleracao_variacao_anual_va_agropecuaria'].sum().round(2)}\")\n",
        "print(f\"Média móvel anual da aceleração da variação anual da receita bruta da agropecuária: R${(df_va_analise['aceleracao_variacao_anual_va_agropecuaria'].sum()/df_va_analise.shape[0]).round(2)}\")\n",
        "\n",
        "# Porcentagem da variação da receita bruta anual da agropecuária \n",
        "print(f\"\\nPorcentagem da variação anual da receita bruta da agropecuária entre 1999 e 2020: {df_va_analise['porcentagem_variacao_anual_va_agropecuaria_%'].sum().round(2)}%\")\n",
        "print(f\"Média percentual móvel anual da variação anual da receita bruta da agropecuária: {(df_va_analise['porcentagem_variacao_anual_va_agropecuaria_%'].sum()/df_va_analise.shape[0]).round(2)}%\")\n",
        "\n",
        "# Porcentagem da aceleração da variação da receita bruta anual da agropecuária \n",
        "print(f\"\\nPorcentagem da aceleração da variação anual da receita bruta da agropecuária entre 1999 e 2020: {df_va_analise['porcentagem_aceleracao_variacao_anual_va_agropecuaria_%'].sum().round(2)}%\")\n",
        "print(f\"Média percentual móvel anual da aceleração da variação anual da receita bruta da agropecuária: {(df_va_analise['porcentagem_aceleracao_variacao_anual_va_agropecuaria_%'].sum()/df_va_analise.shape[0]).round(2)}%\")"
      ]
    },
    {
      "cell_type": "code",
      "execution_count": null,
      "metadata": {
        "id": "N9QyOT3NQk_F"
      },
      "outputs": [],
      "source": [
        "# Variação da receita bruta anual da indústria\n",
        "print(f\"Total da variação anual da receita bruta da indústria entre 1999 e 2020: R$ {df_va_analise['variacao_anual_va_industria'].sum().round(2)}\")\n",
        "print(f\"Média móvel da variação da indústria anual: R$ {(df_va_analise['variacao_anual_va_industria'].sum()/df_va_analise.shape[0]).round(2)}\")\n",
        "\n",
        "# Aceleração da variação da receita bruta anual da indústria \n",
        "print(f\"\\nTotal da aceleração da variação anual da receita bruta da indústria entre 1999 e 2020: R$ {df_va_analise['aceleracao_variacao_anual_va_industria'].sum().round(2)}\")\n",
        "print(f\"Média móvel anual da aceleração da variação anual da receita bruta da indústria: R${(df_va_analise['aceleracao_variacao_anual_va_industria'].sum()/df_va_analise.shape[0]).round(2)}\")\n",
        "\n",
        "# Porcentagem da variação da receita bruta anual da indústria \n",
        "print(f\"\\nPorcentagem da variação anual da receita bruta da indústria entre 1999 e 2020: {df_va_analise['porcentagem_variacao_anual_va_industria_%'].sum().round(2)}%\")\n",
        "print(f\"Média percentual móvel anual da variação anual da receita bruta da indústria: {(df_va_analise['porcentagem_variacao_anual_va_industria_%'].sum()/df_va_analise.shape[0]).round(2)}%\")\n",
        "\n",
        "# Porcentagem da aceleração da variação da receita bruta anual da indústria \n",
        "print(f\"\\nPorcentagem da aceleração da variação anual da receita bruta da indústria entre 1999 e 2020: {df_va_analise['porcentagem_aceleracao_variacao_anual_va_industria_%'].sum().round(2)}%\")\n",
        "print(f\"Média percentual móvel anual da aceleração da variação anual da receita bruta da indústria: {(df_va_analise['porcentagem_aceleracao_variacao_anual_va_industria_%'].sum()/df_va_analise.shape[0]).round(2)}%\")"
      ]
    },
    {
      "cell_type": "code",
      "execution_count": null,
      "metadata": {
        "id": "nAiyGUhxQk8B"
      },
      "outputs": [],
      "source": [
        "# Variação da receita bruta anual da serviços\n",
        "print(f\"Total da variação anual da receita bruta da serviços entre 1999 e 2020: R$ {df_va_analise['variacao_anual_va_adespss'].sum().round(2)}\")\n",
        "print(f\"Média móvel da variação da serviços anual: R$ {(df_va_analise['variacao_anual_va_adespss'].sum()/df_va_analise.shape[0]).round(2)}\")\n",
        "\n",
        "# Aceleração da variação da receita bruta anual da serviços \n",
        "print(f\"\\nTotal da aceleração da variação anual da receita bruta da serviços entre 1999 e 2020: R$ {df_va_analise['aceleracao_variacao_anual_va_adespss'].sum().round(2)}\")\n",
        "print(f\"Média móvel anual da aceleração da variação anual da receita bruta da serviços: R${(df_va_analise['aceleracao_variacao_anual_va_adespss'].sum()/df_va_analise.shape[0]).round(2)}\")\n",
        "\n",
        "# Porcentagem da variação da receita bruta anual da serviços \n",
        "print(f\"\\nPorcentagem da variação anual da receita bruta da serviços entre 1999 e 2020: {df_va_analise['porcentagem_variacao_anual_va_adespss_%'].sum().round(2)}%\")\n",
        "print(f\"Média percentual móvel anual da variação anual da receita bruta da serviços: {(df_va_analise['porcentagem_variacao_anual_va_adespss_%'].sum()/df_va_analise.shape[0]).round(2)}%\")\n",
        "\n",
        "# Porcentagem da aceleração da variação da receita bruta anual da serviços \n",
        "print(f\"\\nPorcentagem da aceleração da variação anual da receita bruta da serviços entre 1999 e 2020: {df_va_analise['porcentagem_aceleracao_variacao_anual_va_adespss_%'].sum().round(2)}%\")\n",
        "print(f\"Média percentual móvel anual da aceleração da variação anual da receita bruta da serviços: {(df_va_analise['porcentagem_aceleracao_variacao_anual_va_adespss_%'].sum()/df_va_analise.shape[0]).round(2)}%\")"
      ]
    },
    {
      "cell_type": "code",
      "execution_count": null,
      "metadata": {
        "id": "SrsI0SGLQk5g"
      },
      "outputs": [],
      "source": [
        "# Variação da receita bruta anual da serviços exclusivos da Adm. Pública\n",
        "print(f\"Total da variação anual da receita bruta da serviços exclusivos da Adm. Pública entre 1999 e 2020: R$ {df_va_analise['variacao_anual_va_servicos'].sum().round(2)}\")\n",
        "print(f\"Média móvel da variação da serviços anual: R$ {(df_va_analise['variacao_anual_va_servicos'].sum()/df_va_analise.shape[0]).round(2)}\")\n",
        "\n",
        "# Aceleração da variação da receita bruta anual da serviços \n",
        "print(f\"\\nTotal da aceleração da variação anual da receita bruta da serviços exclusivos da Adm. Pública entre 1999 e 2020: R$ {df_va_analise['aceleracao_variacao_anual_va_servicos'].sum().round(2)}\")\n",
        "print(f\"Média móvel anual da aceleração da variação anual da receita bruta da serviços: R${(df_va_analise['aceleracao_variacao_anual_va_servicos'].sum()/df_va_analise.shape[0]).round(2)}\")\n",
        "\n",
        "# Porcentagem da variação da receita bruta anual da serviços \n",
        "print(f\"\\nPorcentagem da variação anual da receita bruta da serviços exclusivos da Adm. Pública entre 1999 e 2020: {df_va_analise['porcentagem_variacao_anual_va_servicos_%'].sum().round(2)}%\")\n",
        "print(f\"Média percentual móvel anual da variação anual da receita bruta da serviços: {(df_va_analise['porcentagem_variacao_anual_va_servicos_%'].sum()/df_va_analise.shape[0]).round(2)}%\")\n",
        "\n",
        "# Porcentagem da aceleração da variação da receita bruta anual da serviços \n",
        "print(f\"\\nPorcentagem da aceleração da variação anual da receita bruta da serviços exclusivos da Adm. Pública entre 1999 e 2020: {df_va_analise['porcentagem_aceleracao_variacao_anual_va_servicos_%'].sum().round(2)}%\")\n",
        "print(f\"Média percentual móvel anual da aceleração da variação anual da receita bruta da serviços: {(df_va_analise['porcentagem_aceleracao_variacao_anual_va_servicos_%'].sum()/df_va_analise.shape[0]).round(2)}%\")"
      ]
    },
    {
      "attachments": {},
      "cell_type": "markdown",
      "metadata": {
        "id": "LnPppry-jezT"
      },
      "source": [
        "#### Impostos líquidos"
      ]
    },
    {
      "cell_type": "code",
      "execution_count": null,
      "metadata": {
        "id": "rFS8-LCVQk3h"
      },
      "outputs": [],
      "source": [
        "df_impostos_analise = df_valor_pib_analise.copy()\n",
        "df_impostos_analise.drop(columns=['pib','va', 'va_agropecuaria', 'va_industria', 'va_servicos', 'va_adespss'], inplace=True)\n",
        "\n",
        "pd.options.display.float_format = '{:.2f}'.format\n",
        "print(df_impostos_analise)"
      ]
    },
    {
      "cell_type": "code",
      "execution_count": null,
      "metadata": {
        "id": "6ODp1ibdQk1V"
      },
      "outputs": [],
      "source": [
        "# inferindo variação e acelaração anual dos impostos líquidos\n",
        "df_impostos_analise['variacao_anual'] = df_impostos_analise['impostos_liquidos'].diff()\n",
        "df_impostos_analise['porcentagem_variacao_anual_%'] = ((df_impostos_analise['variacao_anual'] / df_impostos_analise['impostos_liquidos'].shift(1)) * 100).round(2)\n",
        "df_impostos_analise['aceleracao_variacao_anual'] = df_impostos_analise['variacao_anual'].diff()\n",
        "df_impostos_analise['porcentagem_aceleracao_variacao_anual_%'] = ((df_impostos_analise['aceleracao_variacao_anual'] / df_impostos_analise['variacao_anual'].shift(1)) * 100).round(2)\n",
        "df_impostos_analise"
      ]
    },
    {
      "cell_type": "code",
      "execution_count": null,
      "metadata": {
        "id": "jRvP-YMnQkzB"
      },
      "outputs": [],
      "source": [
        "# Plota o gráfico de linha com as séries temporais\n",
        "fig, ax = plt.subplots(figsize=(10, 5))\n",
        "ax.plot(df_impostos_analise.index, df_impostos_analise['impostos_liquidos'], label='Valor Anual - R$')\n",
        "\n",
        "# Adiciona legenda e título ao gráfico\n",
        "ax.legend()\n",
        "ax.set_title('Impostos municipais anual líquido entre os anos de 1999 a 2020')\n",
        "ax.xaxis.label.set_visible(False)  # esconde a legenda do eixo X\n",
        "\n",
        "# Configura o eixo x para não mostrar nenhum rótulo\n",
        "# plt.gca().set_xticklabels([])\n",
        "\n",
        "# Exibe o gráfico\n",
        "plt.show()"
      ]
    },
    {
      "cell_type": "code",
      "execution_count": null,
      "metadata": {
        "id": "MNUJg9F5QkwP"
      },
      "outputs": [],
      "source": [
        "# Plota o gráfico de linha com as séries temporais\n",
        "fig, ax = plt.subplots(figsize=(10, 5))\n",
        "ax.plot(df_impostos_analise.index, df_impostos_analise['variacao_anual'], label='Valor Anual - R$')\n",
        "\n",
        "# Adiciona legenda e título ao gráfico\n",
        "ax.legend()\n",
        "ax.set_title('Variação dos impostos municipais líquidos entre os anos de 1999 a 2020')\n",
        "ax.xaxis.label.set_visible(False)  # esconde a legenda do eixo X\n",
        "\n",
        "# Configura o eixo x para não mostrar nenhum rótulo\n",
        "# plt.gca().set_xticklabels([])\n",
        "\n",
        "# Exibe o gráfico\n",
        "plt.show()"
      ]
    },
    {
      "cell_type": "code",
      "execution_count": null,
      "metadata": {
        "id": "I5mFNWxLQkt1"
      },
      "outputs": [],
      "source": [
        "# Plota o gráfico de linha com as séries temporais\n",
        "fig, ax = plt.subplots(figsize=(10, 5))\n",
        "ax.plot(df_impostos_analise.index, df_impostos_analise['aceleracao_variacao_anual'], label='Valor Anual - R$')\n",
        "\n",
        "# Adiciona legenda e título ao gráfico\n",
        "ax.legend()\n",
        "ax.set_title('Aceleração da variação dos impostos municipais anual líquido entre os anos de 1999 a 2020')\n",
        "ax.xaxis.label.set_visible(False)  # esconde a legenda do eixo X\n",
        "\n",
        "# Configura o eixo x para não mostrar nenhum rótulo\n",
        "# plt.gca().set_xticklabels([])\n",
        "\n",
        "# Exibe o gráfico\n",
        "plt.show()"
      ]
    },
    {
      "cell_type": "code",
      "execution_count": null,
      "metadata": {
        "id": "gR8axKNIQkrP"
      },
      "outputs": [],
      "source": [
        "# Total da variação dos impostos líquidos\n",
        "print(f\"Total da variação dos impostos líquidos municipais entre 1999 e 2020: R$ {df_impostos_analise['variacao_anual'].sum().round(2)}\")\n",
        "print(f\"Média móvel anual da variação dos impostos líquidos municipais: R$ {(df_impostos_analise['variacao_anual'].sum()/df_impostos_analise.shape[0]).round(2)}\")\n",
        "\n",
        "# Total da aceleração da variação dos impostos líquidos\n",
        "print(f\"\\nTotal da aceleração da variação dos impostos líquidos municipais entre 1999 e 2020: R$ {df_impostos_analise['aceleracao_variacao_anual'].sum().round(2)}\")\n",
        "print(f\"Média móvel anual da aceleração da variação dos impostos líquidos municipais: R$ {(df_impostos_analise['aceleracao_variacao_anual'].sum()/df_impostos_analise.shape[0]).round(2)}\")\n",
        "\n",
        "# Porcentagem da variação dos impostos líquidos\n",
        "print(f\"\\nPorcentagem da variação dos impostos líquidos municipais entre 1999 e 2020: {df_impostos_analise['porcentagem_variacao_anual_%'].sum().round(2)}%\")\n",
        "print(f\"Média móvel percentual anual da variação dos impostos líquidos municipais: {(df_impostos_analise['porcentagem_variacao_anual_%'].sum()/df_impostos_analise.shape[0]).round(2)}%\")\n",
        "\n",
        "# Porcentagem da aceleração da variação dos impostos líquidos\n",
        "print(f\"\\nPorcentagem da aceleração da variação dos impostos líquidos municipais entre 1999 e 2020: {df_impostos_analise['porcentagem_aceleracao_variacao_anual_%'].sum().round(2)}%\")\n",
        "print(f\"Média móvel percentual anual da acelereção variação dos impostos líquidos municipais: {(df_impostos_analise['porcentagem_aceleracao_variacao_anual_%'].sum()/df_impostos_analise.shape[0]).round(2)}%\")"
      ]
    },
    {
      "attachments": {},
      "cell_type": "markdown",
      "metadata": {
        "id": "WY25rWOjHUhw"
      },
      "source": [
        "### Time series das receitas"
      ]
    },
    {
      "attachments": {},
      "cell_type": "markdown",
      "metadata": {
        "id": "U50KsO6bEQdB"
      },
      "source": [
        "#### Por meses"
      ]
    },
    {
      "cell_type": "code",
      "execution_count": null,
      "metadata": {
        "id": "hxOD4jvqKRIG"
      },
      "outputs": [],
      "source": [
        "# verificando se há valores nulos\n",
        "df_receitas.isna().value_counts()"
      ]
    },
    {
      "cell_type": "code",
      "execution_count": null,
      "metadata": {
        "id": "wuE8j7hea8nm"
      },
      "outputs": [],
      "source": [
        "df_receitas.dtypes"
      ]
    },
    {
      "cell_type": "code",
      "execution_count": null,
      "metadata": {
        "id": "zAijiO-2M_Vp"
      },
      "outputs": [],
      "source": [
        "# criando df para analises dos dados\n",
        "df_receitas_analise = df_receitas[['DATA','VALOR_ARRECADADO']]\n",
        "\n",
        "# criando coluna mês-ano para agrupar os dados\n",
        "df_receitas_analise['mes_ano'] = pd.to_datetime(df_receitas_analise['DATA'].dt.strftime(\"%m-%Y\"))\n",
        "\n",
        "# agrupando os dados no df e deletando coluna das datas\n",
        "df_receitas_analise.drop(columns=('DATA'), inplace=True)\n",
        "df_receitas_analise = df_receitas_analise.groupby('mes_ano').sum()\n",
        "df_receitas_analise"
      ]
    },
    {
      "cell_type": "code",
      "execution_count": null,
      "metadata": {
        "id": "_vAbM3KbcdpO"
      },
      "outputs": [],
      "source": [
        "df_receitas_analise['variacao_mensal'] = df_receitas_analise['VALOR_ARRECADADO'].diff()\n",
        "df_receitas_analise['porcentagem_variacao_mensal_%'] = ((df_receitas_analise['variacao_mensal'] / df_receitas_analise['VALOR_ARRECADADO'].shift(1)) * 100).round(2)\n",
        "df_receitas_analise['aceleracao_variacao_mensal'] = df_receitas_analise['variacao_mensal'].diff()\n",
        "df_receitas_analise['porcentagem_aceleracao_variacao_mensal_%'] = ((df_receitas_analise['aceleracao_variacao_mensal'] / df_receitas_analise['variacao_mensal'].shift(1)) * 100).round(2)\n",
        "df_receitas_analise"
      ]
    },
    {
      "cell_type": "code",
      "execution_count": null,
      "metadata": {
        "id": "t65sBciDOaV2"
      },
      "outputs": [],
      "source": [
        "# Plota o gráfico de linha com as séries temporais\n",
        "fig, ax = plt.subplots(figsize=(10, 5))\n",
        "ax.plot(df_receitas_analise.index, df_receitas_analise['VALOR_ARRECADADO'], label='Valor Mensal - R$')\n",
        "\n",
        "# Adiciona legenda e título ao gráfico\n",
        "ax.legend()\n",
        "ax.set_title('Receitas orçamentária mensais brutas entre os anos de 2013 a 2022')\n",
        "ax.xaxis.label.set_visible(False)  # esconde a legenda do eixo X\n",
        "\n",
        "# Configura o eixo x para não mostrar nenhum rótulo\n",
        "# plt.gca().set_xticklabels([])\n",
        "\n",
        "# Exibe o gráfico\n",
        "plt.show()"
      ]
    },
    {
      "cell_type": "code",
      "execution_count": null,
      "metadata": {
        "id": "NyZt9Ux4V0Th"
      },
      "outputs": [],
      "source": [
        "# Plota o gráfico de linha com as séries temporais\n",
        "fig, ax = plt.subplots(figsize=(10, 5))\n",
        "ax.plot(df_receitas_analise.index, df_receitas_analise['variacao_mensal'], label='Valor Mensal - R$')\n",
        "\n",
        "# Adiciona legenda e título ao gráfico\n",
        "ax.legend()\n",
        "ax.set_title('Variação das receitas orçamentária mensais brutas entre os anos de 2013 a 2022')\n",
        "ax.xaxis.label.set_visible(False)  # esconde a legenda do eixo X\n",
        "\n",
        "# Configura o eixo x para não mostrar nenhum rótulo\n",
        "# plt.gca().set_xticklabels([])\n",
        "\n",
        "# Exibe o gráfico\n",
        "plt.show()"
      ]
    },
    {
      "cell_type": "code",
      "execution_count": null,
      "metadata": {
        "id": "BgNMpz8TdHa4"
      },
      "outputs": [],
      "source": [
        "# Plota o gráfico de linha com as séries temporais\n",
        "fig, ax = plt.subplots(figsize=(10, 5))\n",
        "ax.plot(df_receitas_analise.index, df_receitas_analise['aceleracao_variacao_mensal'], label='Valor Mensal - R$')\n",
        "\n",
        "# Adiciona legenda e título ao gráfico\n",
        "ax.legend()\n",
        "ax.set_title('Aceleração da variação das receitas orçamentária mensais brutas entre os anos de 2013 a 2022')\n",
        "ax.xaxis.label.set_visible(False)  # esconde a legenda do eixo X\n",
        "\n",
        "# Configura o eixo x para não mostrar nenhum rótulo\n",
        "# plt.gca().set_xticklabels([])\n",
        "\n",
        "# Exibe o gráfico\n",
        "plt.show()"
      ]
    },
    {
      "cell_type": "code",
      "execution_count": null,
      "metadata": {
        "id": "b1E7aKpadOaw"
      },
      "outputs": [],
      "source": [
        "print(f\"Total da variação das receitas mensais: R$ {df_receitas_analise['variacao_mensal'].sum().round(2)}\")\n",
        "print(f\"Média móvel mensal da variação das receitas: R$ {(df_receitas_analise['variacao_mensal'].sum()/df_receitas_analise.shape[0]).round(2)}\")"
      ]
    },
    {
      "cell_type": "code",
      "execution_count": null,
      "metadata": {
        "id": "JMd53ZOWi68J"
      },
      "outputs": [],
      "source": [
        "print(f\"Total da aceleração da variação das receitas mensais: R$ {df_receitas_analise['aceleracao_variacao_mensal'].sum().round(2)}\")\n",
        "print(f\"Média móvel mensal da aceleração da variação das receitas: R$ {(df_receitas_analise['aceleracao_variacao_mensal'].sum()/df_receitas_analise.shape[0]).round(2)}\")"
      ]
    },
    {
      "cell_type": "code",
      "execution_count": null,
      "metadata": {
        "id": "J3G6Yn74kUvs"
      },
      "outputs": [],
      "source": [
        "print(f\"Porcentagem da variação das receitas mensais: {df_receitas_analise['porcentagem_variacao_mensal_%'].sum().round(2)}%\")\n",
        "print(f\"Média movel percentual mensal da variação das receitas: {(df_receitas_analise['porcentagem_variacao_mensal_%'].sum()/df_receitas_analise.shape[0]).round(2)}%\")"
      ]
    },
    {
      "cell_type": "code",
      "execution_count": null,
      "metadata": {
        "id": "G7vYEGaSkq8j"
      },
      "outputs": [],
      "source": [
        "print(f\"Porcentagem da aceleração da variação das receitas mensais: {df_receitas_analise['porcentagem_aceleracao_variacao_mensal_%'].sum().round(2)}%\")\n",
        "print(f\"Média móvel percentual mensal da acelereção variação das receitas: {(df_receitas_analise['porcentagem_aceleracao_variacao_mensal_%'].sum()/df_receitas_analise.shape[0]).round(2)}%\")"
      ]
    },
    {
      "attachments": {},
      "cell_type": "markdown",
      "metadata": {
        "id": "nigLlkJ_EUaj"
      },
      "source": [
        "#### Por ano"
      ]
    },
    {
      "cell_type": "code",
      "execution_count": null,
      "metadata": {
        "id": "sE_CjeKxk-em"
      },
      "outputs": [],
      "source": [
        "# criando df para analises dos dados\n",
        "df_receitas_analise = df_receitas[['DATA','VALOR_ARRECADADO']]\n",
        "\n",
        "# criando coluna mês-ano para agrupar os dados\n",
        "df_receitas_analise['ano'] = pd.to_datetime(df_receitas_analise['DATA'].dt.strftime(\"%Y\"))\n",
        "\n",
        "# agrupando os dados no df e deletando coluna das datas\n",
        "df_receitas_analise.drop(columns=('DATA'), inplace=True)\n",
        "df_receitas_analise = df_receitas_analise.groupby('ano').sum().round(2)\n",
        "\n",
        "# Mostrar os valores com 2 casas decimais\n",
        "pd.options.display.float_format = '{:.2f}'.format\n",
        "print(df_receitas_analise)"
      ]
    },
    {
      "cell_type": "code",
      "execution_count": null,
      "metadata": {
        "id": "u4iKegO6E0-y"
      },
      "outputs": [],
      "source": [
        "df_receitas_analise['variacao_anual'] = df_receitas_analise['VALOR_ARRECADADO'].diff()\n",
        "df_receitas_analise['porcentagem_variacao_anual_%'] = ((df_receitas_analise['variacao_anual'] / df_receitas_analise['VALOR_ARRECADADO'].shift(1)) * 100).round(2)\n",
        "df_receitas_analise['aceleracao_variacao_anual'] = df_receitas_analise['variacao_anual'].diff()\n",
        "df_receitas_analise['porcentagem_aceleracao_variacao_anual_%'] = ((df_receitas_analise['aceleracao_variacao_anual'] / df_receitas_analise['variacao_anual'].shift(1)) * 100).round(2)\n",
        "df_receitas_analise"
      ]
    },
    {
      "cell_type": "code",
      "execution_count": null,
      "metadata": {
        "id": "nX_Ypxt7HUYQ"
      },
      "outputs": [],
      "source": [
        "# Plota o gráfico de linha com as séries temporais\n",
        "fig, ax = plt.subplots(figsize=(10, 5))\n",
        "ax.plot(df_receitas_analise.index, df_receitas_analise['VALOR_ARRECADADO'], label='Valor Anual - R$')\n",
        "\n",
        "# Adiciona legenda e título ao gráfico\n",
        "ax.legend()\n",
        "ax.set_title('Receitas orçamentária anuais brutas entre os anos de 2013 a 2022')\n",
        "ax.xaxis.label.set_visible(False)  # esconde a legenda do eixo X\n",
        "\n",
        "# Configura o eixo x para não mostrar nenhum rótulo\n",
        "# plt.gca().set_xticklabels([])\n",
        "\n",
        "# Exibe o gráfico\n",
        "plt.show()"
      ]
    },
    {
      "cell_type": "code",
      "execution_count": null,
      "metadata": {
        "id": "eW9eiuLyHe2l"
      },
      "outputs": [],
      "source": [
        "# Plota o gráfico de linha com as séries temporais\n",
        "fig, ax = plt.subplots(figsize=(10, 5))\n",
        "ax.plot(df_receitas_analise.index, df_receitas_analise['variacao_anual'], label='Valor Anual - R$')\n",
        "\n",
        "# Adiciona legenda e título ao gráfico\n",
        "ax.legend()\n",
        "ax.set_title('Variação das receitas orçamentária anuais brutas entre os anos de 2013 a 2022')\n",
        "ax.xaxis.label.set_visible(False)  # esconde a legenda do eixo X\n",
        "\n",
        "# Configura o eixo x para não mostrar nenhum rótulo\n",
        "# plt.gca().set_xticklabels([])\n",
        "\n",
        "# Exibe o gráfico\n",
        "plt.show()"
      ]
    },
    {
      "cell_type": "code",
      "execution_count": null,
      "metadata": {
        "id": "Hir_-BtvHe0Q"
      },
      "outputs": [],
      "source": [
        "# Plota o gráfico de linha com as séries temporais\n",
        "fig, ax = plt.subplots(figsize=(10, 5))\n",
        "ax.plot(df_receitas_analise.index, df_receitas_analise['aceleracao_variacao_anual'], label='Valor Anual - R$')\n",
        "\n",
        "# Adiciona legenda e título ao gráfico\n",
        "ax.legend()\n",
        "ax.set_title('Aceleração da variação das receitas orçamentária anuais brutas entre os anos de 2013 a 2022')\n",
        "ax.xaxis.label.set_visible(False)  # esconde a legenda do eixo X\n",
        "\n",
        "# Configura o eixo x para não mostrar nenhum rótulo\n",
        "# plt.gca().set_xticklabels([])\n",
        "\n",
        "# Exibe o gráfico\n",
        "plt.show()"
      ]
    },
    {
      "cell_type": "code",
      "execution_count": null,
      "metadata": {
        "id": "iE235bQcHexv"
      },
      "outputs": [],
      "source": [
        "print(f\"Total da variação das receitas anuais: R$ {df_receitas_analise['variacao_anual'].sum().round(2)}\")\n",
        "print(f\"Média móvel anual da variação das receitas: R$ {(df_receitas_analise['variacao_anual'].sum()/df_receitas_analise.shape[0]).round(2)}\")"
      ]
    },
    {
      "cell_type": "code",
      "execution_count": null,
      "metadata": {
        "id": "DF9T7aClHeu-"
      },
      "outputs": [],
      "source": [
        "print(f\"Total da aceleração da variação das receitas anuais: R$ {df_receitas_analise['aceleracao_variacao_anual'].sum().round(2)}\")\n",
        "print(f\"Média móvel anual da aceleração da variação das receitas: R$ {(df_receitas_analise['aceleracao_variacao_anual'].sum()/df_receitas_analise.shape[0]).round(2)}\")"
      ]
    },
    {
      "cell_type": "code",
      "execution_count": null,
      "metadata": {
        "id": "t-ijDJnNHesZ"
      },
      "outputs": [],
      "source": [
        "print(f\"Porcentagem da variação das receitas anuais: {df_receitas_analise['porcentagem_variacao_anual_%'].sum().round(2)}%\")\n",
        "print(f\"Média movel percentual anual da variação das receitas: {(df_receitas_analise['porcentagem_variacao_anual_%'].sum()/df_receitas_analise.shape[0]).round(2)}%\")"
      ]
    },
    {
      "cell_type": "code",
      "execution_count": null,
      "metadata": {
        "id": "ukmyuKXKHq12"
      },
      "outputs": [],
      "source": [
        "print(f\"Porcentagem da aceleração da variação das receitas anuais: {df_receitas_analise['porcentagem_aceleracao_variacao_anual_%'].sum().round(2)}%\")\n",
        "print(f\"Média móvel percentual anual da acelereção variação das receitas: {(df_receitas_analise['porcentagem_aceleracao_variacao_anual_%'].sum()/df_receitas_analise.shape[0]).round(2)}%\")"
      ]
    },
    {
      "attachments": {},
      "cell_type": "markdown",
      "metadata": {
        "id": "fYHnPkVVmy29"
      },
      "source": [
        "## Análise regressiva linear"
      ]
    },
    {
      "attachments": {},
      "cell_type": "markdown",
      "metadata": {
        "id": "ShLirTvdn8T8"
      },
      "source": [
        "### Gerando dados para o PIB e População para os anos de 2021 e 2022"
      ]
    },
    {
      "cell_type": "code",
      "execution_count": null,
      "metadata": {
        "id": "83SHo0jfHqx4"
      },
      "outputs": [],
      "source": [
        "df_dados_analise_linear_receitas = df_receitas_analise.drop(columns=['variacao_anual','porcentagem_variacao_anual_%','aceleracao_variacao_anual','porcentagem_aceleracao_variacao_anual_%'])\n",
        "\n",
        "df_dados_analise_linear_receitas = pd.merge(df_dados_analise_linear_receitas,\n",
        "                                           df_ibge_populacao_index_ano.drop(columns=['variacao_anual','porcentagem_variacao_anual_%','aceleracao_variacao_anual','porcentagem_aceleracao_variacao_anual_%']),\n",
        "                                           left_index=True, right_index=True, how='inner')\n",
        "\n",
        "df_dados_analise_linear_receitas = pd.merge(df_dados_analise_linear_receitas,\n",
        "                                           df_valor_pib_analise,\n",
        "                                           left_index=True, right_index=True, how='inner')\n",
        "\n",
        "\n",
        "df_dados_analise_linear_receitas['pib_percapita'] = ((df_dados_analise_linear_receitas['pib']/df_dados_analise_linear_receitas['populacao'])*100).round(2)\n",
        "\n",
        "anos = pd.date_range(start='2013-01-01', end='2020-01-01', freq='AS')\n",
        "df_dados_analise_linear_receitas['anos'] = anos.year\n",
        "\n",
        "df_dados_analise_linear_receitas"
      ]
    },
    {
      "cell_type": "code",
      "execution_count": null,
      "metadata": {
        "id": "fxGa0L4SMF0W"
      },
      "outputs": [],
      "source": [
        "df_dados_analise_linear_receitas.dtypes"
      ]
    },
    {
      "cell_type": "code",
      "execution_count": null,
      "metadata": {
        "id": "tf4OuIEGHqoX"
      },
      "outputs": [],
      "source": [
        "print('Matriz de correlação entre as variáveis:')\n",
        "df_dados_analise_linear_receitas.corr()"
      ]
    },
    {
      "cell_type": "code",
      "execution_count": null,
      "metadata": {
        "id": "Qv3QIJhgHenI"
      },
      "outputs": [],
      "source": [
        "# plotando heatmap\n",
        "sns.heatmap(df_dados_analise_linear_receitas.corr(), annot=True)"
      ]
    },
    {
      "attachments": {},
      "cell_type": "markdown",
      "metadata": {
        "id": "3NUaJsYh2_qm"
      },
      "source": [
        "#### Análise regressiva linear"
      ]
    },
    {
      "cell_type": "code",
      "execution_count": null,
      "metadata": {
        "id": "OxNW4LKTtV1N"
      },
      "outputs": [],
      "source": [
        "from sklearn.linear_model import LinearRegression\n",
        "from sklearn.model_selection import train_test_split\n",
        "import numpy as np"
      ]
    },
    {
      "attachments": {},
      "cell_type": "markdown",
      "metadata": {
        "id": "XChiSQQKS4HX"
      },
      "source": [
        "##### Modelo para análise regressiva linear com o ANO como variável dependente"
      ]
    },
    {
      "cell_type": "code",
      "execution_count": null,
      "metadata": {
        "id": "tjzGDuX3SiLJ"
      },
      "outputs": [],
      "source": [
        "df_receitas_analise"
      ]
    },
    {
      "cell_type": "code",
      "execution_count": null,
      "metadata": {
        "id": "XshOo7Ph3Emq"
      },
      "outputs": [],
      "source": [
        "# dados\n",
        "X = df_dados_analise_linear_receitas[['anos']]\n",
        "y = np.array(df_dados_analise_linear_receitas['VALOR_ARRECADADO']).reshape((-1,1))\n",
        "\n",
        "# Divide o conjunto de dados em treino e teste\n",
        "X_train, X_test, y_train, y_test = train_test_split(X, y, test_size=0.3, random_state=42)\n",
        "\n",
        "# cria o modelo de regressão linear e ajusta os dados\n",
        "model = LinearRegression().fit(X_train,y_train)\n",
        "\n",
        "# utilizando o modelo para previsões nos dados de teste\n",
        "y_pred = model.predict(X_test)\n",
        "\n",
        "# calcula a previsão para um novo dado\n",
        "ano = 2022\n",
        "y_pred = model.predict([[ano]])\n",
        "\n",
        "# Imprime os coeficientes da regressão\n",
        "print(f'Coeficiente de interceptação: {model.intercept_[0]:.2f}')\n",
        "\n",
        "# Avaliar o modelo usando os dados de teste\n",
        "score = model.score(X_test, y_test)\n",
        "print(f\"A acurácia do modelo é {score:.2f}\")\n",
        "\n",
        "# Imprime a previsão para o novo dado\n",
        "print(f'Previsão para o ano de {ano}: R$ {float(y_pred[0]):.2f}')"
      ]
    },
    {
      "cell_type": "code",
      "execution_count": null,
      "metadata": {
        "id": "SFZdsXAX5A63"
      },
      "outputs": [],
      "source": [
        "valor_arrecadado = 201644040.94\n",
        "diferenca = valor_arrecadado - y_pred[0][0]\n",
        "porcentagem = (diferenca/valor_arrecadado).round(2)\n",
        "print(f'O modelo possui um desvio da realidade de aproximadamente: {porcentagem}%.')"
      ]
    },
    {
      "attachments": {},
      "cell_type": "markdown",
      "metadata": {
        "id": "351_qe3eTCuM"
      },
      "source": [
        "##### Modelo para análise regressiva linear com a POPULACAO como variável dependente"
      ]
    },
    {
      "cell_type": "code",
      "execution_count": null,
      "metadata": {
        "id": "Qea-jxxeTSbi"
      },
      "outputs": [],
      "source": [
        "df_ibge_populacao"
      ]
    },
    {
      "cell_type": "code",
      "execution_count": null,
      "metadata": {
        "id": "rONiFG-fRo7K"
      },
      "outputs": [],
      "source": [
        "# dados\n",
        "X = df_dados_analise_linear_receitas[['populacao']]\n",
        "y = np.array(df_dados_analise_linear_receitas['VALOR_ARRECADADO']).reshape((-1,1))\n",
        "\n",
        "# Divide o conjunto de dados em treino e teste\n",
        "X_train, X_test, y_train, y_test = train_test_split(X, y, test_size=0.3, random_state=42)\n",
        "\n",
        "# cria o modelo de regressão linear e ajusta os dados\n",
        "model = LinearRegression().fit(X_train,y_train)\n",
        "\n",
        "# utilizando o modelo para previsões nos dados de teste\n",
        "y_pred = model.predict(X_test)\n",
        "\n",
        "# calcula a previsão para um novo dado\n",
        "populacao = 62576\n",
        "y_pred = model.predict([[populacao]])\n",
        "\n",
        "# Imprime os coeficientes da regressão\n",
        "print(f'Coeficiente de interceptação: {model.intercept_[0]:.2f}')\n",
        "\n",
        "# Avaliar o modelo usando os dados de teste\n",
        "score = model.score(X_test, y_test)\n",
        "print(f\"A acurácia do modelo é {score:.2f}\")\n",
        "\n",
        "# Imprime a previsão para o novo dado\n",
        "print(f'Previsão para a população de {populacao}: R$ {float(y_pred[0]):.2f}')"
      ]
    },
    {
      "cell_type": "code",
      "execution_count": null,
      "metadata": {
        "id": "YVRhjczdTbpv"
      },
      "outputs": [],
      "source": [
        "valor_arrecadado = 179003057.61\n",
        "diferenca = valor_arrecadado - y_pred[0][0]\n",
        "porcentagem = (diferenca/valor_arrecadado).round(2)\n",
        "print(f'O modelo possui um desvio da realidade de aproximadamente: {porcentagem}%.')"
      ]
    },
    {
      "attachments": {},
      "cell_type": "markdown",
      "metadata": {
        "id": "9dHBpJP-To4S"
      },
      "source": [
        "##### Modelo para análise regressiva linear com a POPULACAO e ANO como variáveis dependentes"
      ]
    },
    {
      "cell_type": "code",
      "execution_count": null,
      "metadata": {
        "id": "MWyYDabVTmCM"
      },
      "outputs": [],
      "source": [
        "# dados\n",
        "X = df_dados_analise_linear_receitas[['populacao','anos']]\n",
        "y = np.array(df_dados_analise_linear_receitas['VALOR_ARRECADADO']).reshape((-1,1))\n",
        "\n",
        "# Divide o conjunto de dados em treino e teste\n",
        "X_train, X_test, y_train, y_test = train_test_split(X, y, test_size=0.3, random_state=42)\n",
        "\n",
        "# cria o modelo de regressão linear e ajusta os dados\n",
        "model = LinearRegression().fit(X_train,y_train)\n",
        "\n",
        "# utilizando o modelo para previsões nos dados de teste\n",
        "y_pred = model.predict(X_test)\n",
        "\n",
        "# calcula a previsão para um novo dado\n",
        "populacao = 62576\n",
        "ano = 2021\n",
        "y_pred = model.predict([[populacao,ano]])\n",
        "\n",
        "# Imprime os coeficientes da regressão\n",
        "print(f'Coeficiente de interceptação: {model.intercept_[0]:.2f}')\n",
        "\n",
        "# Avaliar o modelo usando os dados de teste\n",
        "score = model.score(X_test, y_test)\n",
        "print(f\"A acurácia do modelo é {score:.2f}\")\n",
        "\n",
        "# Imprime a previsão para o novo dado\n",
        "print(f'Previsão para a população de {populacao} no ano de {ano}: R$ {float(y_pred[0]):.2f}')"
      ]
    },
    {
      "cell_type": "code",
      "execution_count": null,
      "metadata": {
        "id": "bFx__4LZT3tb"
      },
      "outputs": [],
      "source": [
        "valor_arrecadado = 179003057.61\n",
        "diferenca = valor_arrecadado - y_pred[0][0]\n",
        "porcentagem = (diferenca/valor_arrecadado).round(2)\n",
        "print(f'O modelo possui um desvio da realidade de aproximadamente: {porcentagem}%.')"
      ]
    },
    {
      "attachments": {},
      "cell_type": "markdown",
      "metadata": {
        "id": "dbRPUzgadvAL"
      },
      "source": [
        "#### Modelo para análise regressiva linear com o PIB, IMPOSTOS E VALORES BRUTOS como variáveis dependentes"
      ]
    },
    {
      "cell_type": "code",
      "execution_count": null,
      "metadata": {
        "id": "5UNxBf_ierLx"
      },
      "outputs": [],
      "source": [
        "df_dados_analise_linear_receitas"
      ]
    },
    {
      "cell_type": "code",
      "execution_count": null,
      "metadata": {
        "id": "Gs5rg_siUBXX"
      },
      "outputs": [],
      "source": [
        "# dados\n",
        "X = df_dados_analise_linear_receitas[['pib','pib_percapita','impostos_liquidos','va','va_agropecuaria','va_industria','va_servicos','va_adespss']]\n",
        "y = np.array(df_dados_analise_linear_receitas['VALOR_ARRECADADO']).reshape((-1,1))\n",
        "\n",
        "# Divide o conjunto de dados em treino e teste\n",
        "X_train, X_test, y_train, y_test = train_test_split(X, y, test_size=0.3, random_state=42)\n",
        "\n",
        "# cria o modelo de regressão linear e ajusta os dados\n",
        "model = LinearRegression().fit(X_train,y_train)\n",
        "\n",
        "# utilizando o modelo para previsões nos dados de teste\n",
        "y_pred = model.predict(X_test)\n",
        "\n",
        "# calcula a previsão para um novo dado\n",
        "pib = 1234470600.00\n",
        "pib_percapita = 1821301.67\n",
        "imposts_liquidos = 149580220.00\n",
        "va = 984890380.00\n",
        "va_agropecuaria = 16844650.00\n",
        "va_industria = 98240130.00\n",
        "va_servicos = 567634700.00\n",
        "va_adespss = 302170900.00\n",
        "\n",
        "y_pred = model.predict([[pib,pib_percapita,imposts_liquidos,va,va_agropecuaria,va_industria,va_servicos,va_adespss]])\n",
        "\n",
        "# Imprime os coeficientes da regressão\n",
        "print(f'Coeficiente de interceptação: {model.intercept_[0]:.2f}')\n",
        "\n",
        "# Avaliar o modelo usando os dados de teste\n",
        "score = model.score(X_test, y_test)\n",
        "print(f\"A acurácia do modelo é {score:.2f}\")\n",
        "\n",
        "# Imprime a previsão para o novo dado\n",
        "print(f'Previsão: R$ {float(y_pred[0]):.2f}')"
      ]
    },
    {
      "attachments": {},
      "cell_type": "markdown",
      "metadata": {
        "id": "SUMbmDbxOCNg"
      },
      "source": [
        "##### Modelo para análise regressiva linear com o PIB, POPULACAO E ANOS como variáveis dependentes"
      ]
    },
    {
      "cell_type": "code",
      "execution_count": null,
      "metadata": {
        "id": "IusePkUofMnk"
      },
      "outputs": [],
      "source": [
        "# dados\n",
        "X = df_dados_analise_linear_receitas[['pib','populacao','anos']]\n",
        "y = np.array(df_dados_analise_linear_receitas['VALOR_ARRECADADO']).reshape((-1,1))\n",
        "\n",
        "# Divide o conjunto de dados em treino e teste\n",
        "X_train, X_test, y_train, y_test = train_test_split(X, y, test_size=0.3, random_state=42)\n",
        "\n",
        "# cria o modelo de regressão linear e ajusta os dados\n",
        "model = LinearRegression().fit(X_train,y_train)\n",
        "\n",
        "# utilizando o modelo para previsões nos dados de teste\n",
        "y_pred = model.predict(X_test)\n",
        "\n",
        "# calcula a previsão para um novo dado\n",
        "pib = 1234470600.00\n",
        "populacao = 62556\n",
        "ano = 2023\n",
        "\n",
        "y_pred = model.predict([[pib,populacao,ano]])\n",
        "\n",
        "# Imprime os coeficientes da regressão\n",
        "print(f'Coeficiente de interceptação: {model.intercept_[0]:.2f}')\n",
        "\n",
        "# Avaliar o modelo usando os dados de teste\n",
        "score = model.score(X_test, y_test)\n",
        "print(f\"A acurácia do modelo é {score:.2f}\")\n",
        "\n",
        "# Imprime a previsão para o novo dado\n",
        "print(f'Previsão: R$ {float(y_pred[0]):.2f}')"
      ]
    },
    {
      "cell_type": "code",
      "execution_count": null,
      "metadata": {
        "id": "xbhxkj6WOXgC"
      },
      "outputs": [],
      "source": []
    }
  ],
  "metadata": {
    "colab": {
      "include_colab_link": true,
      "provenance": []
    },
    "kernelspec": {
      "display_name": "Python 3",
      "name": "python3"
    },
    "language_info": {
      "codemirror_mode": {
        "name": "ipython",
        "version": 3
      },
      "file_extension": ".py",
      "mimetype": "text/x-python",
      "name": "python",
      "nbconvert_exporter": "python",
      "pygments_lexer": "ipython3",
      "version": "3.9.16"
    }
  },
  "nbformat": 4,
  "nbformat_minor": 0
}
