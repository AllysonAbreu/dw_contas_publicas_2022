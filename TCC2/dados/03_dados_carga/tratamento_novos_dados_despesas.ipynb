{
 "cells": [
  {
   "attachments": {},
   "cell_type": "markdown",
   "metadata": {},
   "source": [
    "# Imports necessários"
   ]
  },
  {
   "cell_type": "code",
   "execution_count": 1,
   "metadata": {},
   "outputs": [],
   "source": [
    "import pandas as pd"
   ]
  },
  {
   "attachments": {},
   "cell_type": "markdown",
   "metadata": {},
   "source": [
    "# Import dos dados"
   ]
  },
  {
   "attachments": {},
   "cell_type": "markdown",
   "metadata": {},
   "source": [
    "## Dados das classes das despesas"
   ]
  },
  {
   "cell_type": "code",
   "execution_count": 7,
   "metadata": {},
   "outputs": [
    {
     "data": {
      "text/html": [
       "<div>\n",
       "<style scoped>\n",
       "    .dataframe tbody tr th:only-of-type {\n",
       "        vertical-align: middle;\n",
       "    }\n",
       "\n",
       "    .dataframe tbody tr th {\n",
       "        vertical-align: top;\n",
       "    }\n",
       "\n",
       "    .dataframe thead th {\n",
       "        text-align: right;\n",
       "    }\n",
       "</style>\n",
       "<table border=\"1\" class=\"dataframe\">\n",
       "  <thead>\n",
       "    <tr style=\"text-align: right;\">\n",
       "      <th></th>\n",
       "      <th>ORGAO_INTERNO</th>\n",
       "      <th>ORGAO_VINCULADO</th>\n",
       "      <th>FUNCAO</th>\n",
       "      <th>SUBFUNCAO</th>\n",
       "      <th>PROGRAMA_GOVERNO</th>\n",
       "      <th>ACAO_GOVERNO</th>\n",
       "      <th>CAT_ECONOMICA</th>\n",
       "      <th>NATUREZA</th>\n",
       "      <th>APLICACAO</th>\n",
       "      <th>ELEMENTO</th>\n",
       "      <th>COD_FUNCAO</th>\n",
       "      <th>COD_SUBFUNCAO</th>\n",
       "      <th>COD_PROGRAMA_GOVERNO</th>\n",
       "      <th>COD_ACAO_GOVERNO</th>\n",
       "      <th>COD_CAT_ECONOMICA</th>\n",
       "      <th>COD_NATUREZA</th>\n",
       "      <th>COD_APLICACAO</th>\n",
       "      <th>COD_ELEMENTO</th>\n",
       "    </tr>\n",
       "  </thead>\n",
       "  <tbody>\n",
       "    <tr>\n",
       "      <th>0</th>\n",
       "      <td>secretaria municipal de infra estrutura</td>\n",
       "      <td>prefeitura municipal</td>\n",
       "      <td>educacao</td>\n",
       "      <td>ensino fundamental</td>\n",
       "      <td>educa mais e do jeito certo</td>\n",
       "      <td>manutencao das atividades do ensino fundamenta...</td>\n",
       "      <td>despesas correntes</td>\n",
       "      <td>pessoal e encargos sociais</td>\n",
       "      <td>aplicacoes diretas</td>\n",
       "      <td>contratacao por tempo determinado</td>\n",
       "      <td>12.0</td>\n",
       "      <td>361.0</td>\n",
       "      <td>1003.0</td>\n",
       "      <td>2021.0</td>\n",
       "      <td>3.0</td>\n",
       "      <td>1.0</td>\n",
       "      <td>90.0</td>\n",
       "      <td>4.0</td>\n",
       "    </tr>\n",
       "    <tr>\n",
       "      <th>1</th>\n",
       "      <td>secretaria municipal de educacao</td>\n",
       "      <td>prefeitura municipal</td>\n",
       "      <td>educacao</td>\n",
       "      <td>ensino fundamental</td>\n",
       "      <td>educa mais e do jeito certo</td>\n",
       "      <td>manutencao das atividades do ensino fundamenta...</td>\n",
       "      <td>despesas correntes</td>\n",
       "      <td>pessoal e encargos sociais</td>\n",
       "      <td>aplicacoes diretas</td>\n",
       "      <td>contratacao por tempo determinado</td>\n",
       "      <td>12.0</td>\n",
       "      <td>361.0</td>\n",
       "      <td>1003.0</td>\n",
       "      <td>2021.0</td>\n",
       "      <td>3.0</td>\n",
       "      <td>1.0</td>\n",
       "      <td>90.0</td>\n",
       "      <td>4.0</td>\n",
       "    </tr>\n",
       "    <tr>\n",
       "      <th>2</th>\n",
       "      <td>secretaria municipal de educacao</td>\n",
       "      <td>prefeitura municipal</td>\n",
       "      <td>educacao</td>\n",
       "      <td>ensino fundamental</td>\n",
       "      <td>educa mais e do jeito certo</td>\n",
       "      <td>manutencao das atividades do ensino fundamenta...</td>\n",
       "      <td>despesas correntes</td>\n",
       "      <td>pessoal e encargos sociais</td>\n",
       "      <td>aplicacoes diretas</td>\n",
       "      <td>contratacao por tempo determinado</td>\n",
       "      <td>12.0</td>\n",
       "      <td>361.0</td>\n",
       "      <td>1003.0</td>\n",
       "      <td>2021.0</td>\n",
       "      <td>3.0</td>\n",
       "      <td>1.0</td>\n",
       "      <td>90.0</td>\n",
       "      <td>4.0</td>\n",
       "    </tr>\n",
       "    <tr>\n",
       "      <th>3</th>\n",
       "      <td>secretaria municipal de educacao</td>\n",
       "      <td>prefeitura municipal</td>\n",
       "      <td>saude</td>\n",
       "      <td>assistencia hospitalar e ambulatorial</td>\n",
       "      <td>saude mais, e do jeito certo</td>\n",
       "      <td>custeio das acoes e servicos publicos de saude...</td>\n",
       "      <td>despesas correntes</td>\n",
       "      <td>pessoal e encargos sociais</td>\n",
       "      <td>aplicacoes diretas</td>\n",
       "      <td>contratacao por tempo determinado</td>\n",
       "      <td>10.0</td>\n",
       "      <td>302.0</td>\n",
       "      <td>1004.0</td>\n",
       "      <td>2064.0</td>\n",
       "      <td>3.0</td>\n",
       "      <td>1.0</td>\n",
       "      <td>90.0</td>\n",
       "      <td>4.0</td>\n",
       "    </tr>\n",
       "    <tr>\n",
       "      <th>4</th>\n",
       "      <td>secretaria municipal de educacao</td>\n",
       "      <td>prefeitura municipal</td>\n",
       "      <td>saude</td>\n",
       "      <td>assistencia hospitalar e ambulatorial</td>\n",
       "      <td>saude mais, e do jeito certo</td>\n",
       "      <td>custeio das acoes e servicos publicos de saude...</td>\n",
       "      <td>despesas correntes</td>\n",
       "      <td>pessoal e encargos sociais</td>\n",
       "      <td>aplicacoes diretas</td>\n",
       "      <td>contratacao por tempo determinado</td>\n",
       "      <td>10.0</td>\n",
       "      <td>302.0</td>\n",
       "      <td>1004.0</td>\n",
       "      <td>2064.0</td>\n",
       "      <td>3.0</td>\n",
       "      <td>1.0</td>\n",
       "      <td>90.0</td>\n",
       "      <td>4.0</td>\n",
       "    </tr>\n",
       "  </tbody>\n",
       "</table>\n",
       "</div>"
      ],
      "text/plain": [
       "                             ORGAO_INTERNO       ORGAO_VINCULADO    FUNCAO  \\\n",
       "0  secretaria municipal de infra estrutura  prefeitura municipal  educacao   \n",
       "1         secretaria municipal de educacao  prefeitura municipal  educacao   \n",
       "2         secretaria municipal de educacao  prefeitura municipal  educacao   \n",
       "3         secretaria municipal de educacao  prefeitura municipal     saude   \n",
       "4         secretaria municipal de educacao  prefeitura municipal     saude   \n",
       "\n",
       "                               SUBFUNCAO              PROGRAMA_GOVERNO  \\\n",
       "0                     ensino fundamental   educa mais e do jeito certo   \n",
       "1                     ensino fundamental   educa mais e do jeito certo   \n",
       "2                     ensino fundamental   educa mais e do jeito certo   \n",
       "3  assistencia hospitalar e ambulatorial  saude mais, e do jeito certo   \n",
       "4  assistencia hospitalar e ambulatorial  saude mais, e do jeito certo   \n",
       "\n",
       "                                        ACAO_GOVERNO       CAT_ECONOMICA  \\\n",
       "0  manutencao das atividades do ensino fundamenta...  despesas correntes   \n",
       "1  manutencao das atividades do ensino fundamenta...  despesas correntes   \n",
       "2  manutencao das atividades do ensino fundamenta...  despesas correntes   \n",
       "3  custeio das acoes e servicos publicos de saude...  despesas correntes   \n",
       "4  custeio das acoes e servicos publicos de saude...  despesas correntes   \n",
       "\n",
       "                     NATUREZA           APLICACAO  \\\n",
       "0  pessoal e encargos sociais  aplicacoes diretas   \n",
       "1  pessoal e encargos sociais  aplicacoes diretas   \n",
       "2  pessoal e encargos sociais  aplicacoes diretas   \n",
       "3  pessoal e encargos sociais  aplicacoes diretas   \n",
       "4  pessoal e encargos sociais  aplicacoes diretas   \n",
       "\n",
       "                            ELEMENTO  COD_FUNCAO  COD_SUBFUNCAO  \\\n",
       "0  contratacao por tempo determinado        12.0          361.0   \n",
       "1  contratacao por tempo determinado        12.0          361.0   \n",
       "2  contratacao por tempo determinado        12.0          361.0   \n",
       "3  contratacao por tempo determinado        10.0          302.0   \n",
       "4  contratacao por tempo determinado        10.0          302.0   \n",
       "\n",
       "   COD_PROGRAMA_GOVERNO  COD_ACAO_GOVERNO  COD_CAT_ECONOMICA  COD_NATUREZA  \\\n",
       "0                1003.0            2021.0                3.0           1.0   \n",
       "1                1003.0            2021.0                3.0           1.0   \n",
       "2                1003.0            2021.0                3.0           1.0   \n",
       "3                1004.0            2064.0                3.0           1.0   \n",
       "4                1004.0            2064.0                3.0           1.0   \n",
       "\n",
       "   COD_APLICACAO  COD_ELEMENTO  \n",
       "0           90.0           4.0  \n",
       "1           90.0           4.0  \n",
       "2           90.0           4.0  \n",
       "3           90.0           4.0  \n",
       "4           90.0           4.0  "
      ]
     },
     "execution_count": 7,
     "metadata": {},
     "output_type": "execute_result"
    }
   ],
   "source": [
    "df_classes_2013_2020 = pd.read_csv('../02_despesas/dados_para_carga/dados_despesas_tratados_2013_2020.csv', sep=';')\n",
    "df_classes_2013_2020.head(1)"
   ]
  },
  {
   "cell_type": "code",
   "execution_count": 4,
   "metadata": {},
   "outputs": [
    {
     "data": {
      "text/html": [
       "<div>\n",
       "<style scoped>\n",
       "    .dataframe tbody tr th:only-of-type {\n",
       "        vertical-align: middle;\n",
       "    }\n",
       "\n",
       "    .dataframe tbody tr th {\n",
       "        vertical-align: top;\n",
       "    }\n",
       "\n",
       "    .dataframe thead th {\n",
       "        text-align: right;\n",
       "    }\n",
       "</style>\n",
       "<table border=\"1\" class=\"dataframe\">\n",
       "  <thead>\n",
       "    <tr style=\"text-align: right;\">\n",
       "      <th></th>\n",
       "      <th>ORGAO_INTERNO</th>\n",
       "      <th>TIPO</th>\n",
       "      <th>SUBELEMENTO</th>\n",
       "      <th>COD_TIPO</th>\n",
       "      <th>COD_SUBELEMENTO</th>\n",
       "    </tr>\n",
       "  </thead>\n",
       "  <tbody>\n",
       "    <tr>\n",
       "      <th>0</th>\n",
       "      <td>camara municipal</td>\n",
       "      <td>vencimentos e vantagens fixas - pessoal civil</td>\n",
       "      <td>subsidios - agentes politicos - vinculado ao inss</td>\n",
       "      <td>319011.0</td>\n",
       "      <td>9775.0</td>\n",
       "    </tr>\n",
       "  </tbody>\n",
       "</table>\n",
       "</div>"
      ],
      "text/plain": [
       "      ORGAO_INTERNO                                           TIPO  \\\n",
       "0  camara municipal  vencimentos e vantagens fixas - pessoal civil   \n",
       "\n",
       "                                         SUBELEMENTO  COD_TIPO  \\\n",
       "0  subsidios - agentes politicos - vinculado ao inss  319011.0   \n",
       "\n",
       "   COD_SUBELEMENTO  \n",
       "0           9775.0  "
      ]
     },
     "execution_count": 4,
     "metadata": {},
     "output_type": "execute_result"
    }
   ],
   "source": [
    "df_classes_2021_2022 = pd.read_csv('../02_despesas/dados_para_carga/dados_despesas_tratados_2021_2022.csv', sep=';')\n",
    "df_classes_2021_2022.head(1)"
   ]
  },
  {
   "attachments": {},
   "cell_type": "markdown",
   "metadata": {},
   "source": [
    "## Análise exploratória dos dados"
   ]
  },
  {
   "cell_type": "code",
   "execution_count": 5,
   "metadata": {},
   "outputs": [
    {
     "data": {
      "text/plain": [
       "ORGAO_INTERNO            object\n",
       "ORGAO_VINCULADO          object\n",
       "FUNCAO                   object\n",
       "SUBFUNCAO                object\n",
       "PROGRAMA_GOVERNO         object\n",
       "ACAO_GOVERNO             object\n",
       "CAT_ECONOMICA            object\n",
       "NATUREZA                 object\n",
       "APLICACAO                object\n",
       "ELEMENTO                 object\n",
       "COD_FUNCAO              float64\n",
       "COD_SUBFUNCAO           float64\n",
       "COD_PROGRAMA_GOVERNO    float64\n",
       "COD_ACAO_GOVERNO        float64\n",
       "COD_CAT_ECONOMICA       float64\n",
       "COD_NATUREZA            float64\n",
       "COD_APLICACAO           float64\n",
       "COD_ELEMENTO            float64\n",
       "dtype: object"
      ]
     },
     "execution_count": 5,
     "metadata": {},
     "output_type": "execute_result"
    }
   ],
   "source": [
    "df_classes_2013_2020.dtypes"
   ]
  },
  {
   "cell_type": "code",
   "execution_count": 6,
   "metadata": {},
   "outputs": [
    {
     "data": {
      "text/plain": [
       "ORGAO_INTERNO       object\n",
       "TIPO                object\n",
       "SUBELEMENTO         object\n",
       "COD_TIPO           float64\n",
       "COD_SUBELEMENTO    float64\n",
       "dtype: object"
      ]
     },
     "execution_count": 6,
     "metadata": {},
     "output_type": "execute_result"
    }
   ],
   "source": [
    "df_classes_2021_2022.dtypes"
   ]
  },
  {
   "cell_type": "code",
   "execution_count": 13,
   "metadata": {},
   "outputs": [
    {
     "data": {
      "text/html": [
       "<div>\n",
       "<style scoped>\n",
       "    .dataframe tbody tr th:only-of-type {\n",
       "        vertical-align: middle;\n",
       "    }\n",
       "\n",
       "    .dataframe tbody tr th {\n",
       "        vertical-align: top;\n",
       "    }\n",
       "\n",
       "    .dataframe thead th {\n",
       "        text-align: right;\n",
       "    }\n",
       "</style>\n",
       "<table border=\"1\" class=\"dataframe\">\n",
       "  <thead>\n",
       "    <tr style=\"text-align: right;\">\n",
       "      <th></th>\n",
       "      <th>ORGAO_INTERNO</th>\n",
       "      <th>ORGAO_VINCULADO</th>\n",
       "      <th>COD_FUNCAO</th>\n",
       "      <th>FUNCAO</th>\n",
       "      <th>COD_SUBFUNCAO</th>\n",
       "      <th>SUBFUNCAO</th>\n",
       "      <th>COD_PROGRAMA_GOVERNO</th>\n",
       "      <th>PROGRAMA_GOVERNO</th>\n",
       "      <th>COD_ACAO_GOVERNO</th>\n",
       "      <th>ACAO_GOVERNO</th>\n",
       "      <th>COD_CAT_ECONOMICA</th>\n",
       "      <th>CAT_ECONOMICA</th>\n",
       "      <th>COD_NATUREZA</th>\n",
       "      <th>NATUREZA</th>\n",
       "      <th>COD_APLICACAO</th>\n",
       "      <th>APLICACAO</th>\n",
       "      <th>COD_ELEMENTO</th>\n",
       "      <th>ELEMENTO</th>\n",
       "    </tr>\n",
       "  </thead>\n",
       "  <tbody>\n",
       "    <tr>\n",
       "      <th>0</th>\n",
       "      <td>secretaria municipal de infra estrutura</td>\n",
       "      <td>prefeitura municipal</td>\n",
       "      <td>12</td>\n",
       "      <td>educacao</td>\n",
       "      <td>361</td>\n",
       "      <td>ensino fundamental</td>\n",
       "      <td>1003</td>\n",
       "      <td>educa mais e do jeito certo</td>\n",
       "      <td>2021</td>\n",
       "      <td>manutencao das atividades do ensino fundamenta...</td>\n",
       "      <td>3</td>\n",
       "      <td>despesas correntes</td>\n",
       "      <td>1</td>\n",
       "      <td>pessoal e encargos sociais</td>\n",
       "      <td>90</td>\n",
       "      <td>aplicacoes diretas</td>\n",
       "      <td>4</td>\n",
       "      <td>contratacao por tempo determinado</td>\n",
       "    </tr>\n",
       "  </tbody>\n",
       "</table>\n",
       "</div>"
      ],
      "text/plain": [
       "                             ORGAO_INTERNO       ORGAO_VINCULADO  COD_FUNCAO  \\\n",
       "0  secretaria municipal de infra estrutura  prefeitura municipal          12   \n",
       "\n",
       "     FUNCAO  COD_SUBFUNCAO           SUBFUNCAO  COD_PROGRAMA_GOVERNO  \\\n",
       "0  educacao            361  ensino fundamental                  1003   \n",
       "\n",
       "              PROGRAMA_GOVERNO  COD_ACAO_GOVERNO  \\\n",
       "0  educa mais e do jeito certo              2021   \n",
       "\n",
       "                                        ACAO_GOVERNO  COD_CAT_ECONOMICA  \\\n",
       "0  manutencao das atividades do ensino fundamenta...                  3   \n",
       "\n",
       "        CAT_ECONOMICA  COD_NATUREZA                    NATUREZA  \\\n",
       "0  despesas correntes             1  pessoal e encargos sociais   \n",
       "\n",
       "   COD_APLICACAO           APLICACAO  COD_ELEMENTO  \\\n",
       "0             90  aplicacoes diretas             4   \n",
       "\n",
       "                            ELEMENTO  \n",
       "0  contratacao por tempo determinado  "
      ]
     },
     "execution_count": 13,
     "metadata": {},
     "output_type": "execute_result"
    }
   ],
   "source": [
    "df_classes_2013_2020 = df_classes_2013_2020[['ORGAO_INTERNO','ORGAO_VINCULADO','COD_FUNCAO','FUNCAO','COD_SUBFUNCAO','SUBFUNCAO','COD_PROGRAMA_GOVERNO','PROGRAMA_GOVERNO','COD_ACAO_GOVERNO','ACAO_GOVERNO','COD_CAT_ECONOMICA','CAT_ECONOMICA','COD_NATUREZA','NATUREZA','COD_APLICACAO','APLICACAO','COD_ELEMENTO','ELEMENTO']]\n",
    "colunas_float = df_classes_2013_2020.select_dtypes(include=['float64']).columns\n",
    "df_classes_2013_2020[colunas_float] = df_classes_2013_2020[colunas_float].astype(int)\n",
    "df_classes_2013_2020.head(1)"
   ]
  },
  {
   "cell_type": "code",
   "execution_count": 18,
   "metadata": {},
   "outputs": [
    {
     "data": {
      "text/plain": [
       "ORGAO_INTERNO  COD_TIPO  TIPO   COD_SUBELEMENTO  SUBELEMENTO\n",
       "False          False     False  False            False          19582\n",
       "               True      True   True             True              15\n",
       "dtype: int64"
      ]
     },
     "execution_count": 18,
     "metadata": {},
     "output_type": "execute_result"
    }
   ],
   "source": [
    "df_classes_2021_2022.isna().value_counts()"
   ]
  },
  {
   "cell_type": "code",
   "execution_count": 19,
   "metadata": {},
   "outputs": [
    {
     "data": {
      "text/html": [
       "<div>\n",
       "<style scoped>\n",
       "    .dataframe tbody tr th:only-of-type {\n",
       "        vertical-align: middle;\n",
       "    }\n",
       "\n",
       "    .dataframe tbody tr th {\n",
       "        vertical-align: top;\n",
       "    }\n",
       "\n",
       "    .dataframe thead th {\n",
       "        text-align: right;\n",
       "    }\n",
       "</style>\n",
       "<table border=\"1\" class=\"dataframe\">\n",
       "  <thead>\n",
       "    <tr style=\"text-align: right;\">\n",
       "      <th></th>\n",
       "      <th>ORGAO_INTERNO</th>\n",
       "      <th>COD_TIPO</th>\n",
       "      <th>TIPO</th>\n",
       "      <th>COD_SUBELEMENTO</th>\n",
       "      <th>SUBELEMENTO</th>\n",
       "    </tr>\n",
       "  </thead>\n",
       "  <tbody>\n",
       "    <tr>\n",
       "      <th>0</th>\n",
       "      <td>camara municipal</td>\n",
       "      <td>319011</td>\n",
       "      <td>vencimentos e vantagens fixas - pessoal civil</td>\n",
       "      <td>9775</td>\n",
       "      <td>subsidios - agentes politicos - vinculado ao inss</td>\n",
       "    </tr>\n",
       "  </tbody>\n",
       "</table>\n",
       "</div>"
      ],
      "text/plain": [
       "      ORGAO_INTERNO  COD_TIPO                                           TIPO  \\\n",
       "0  camara municipal    319011  vencimentos e vantagens fixas - pessoal civil   \n",
       "\n",
       "   COD_SUBELEMENTO                                        SUBELEMENTO  \n",
       "0             9775  subsidios - agentes politicos - vinculado ao inss  "
      ]
     },
     "execution_count": 19,
     "metadata": {},
     "output_type": "execute_result"
    }
   ],
   "source": [
    "df_classes_2021_2022 = df_classes_2021_2022[['ORGAO_INTERNO','COD_TIPO','TIPO','COD_SUBELEMENTO','SUBELEMENTO']]\n",
    "df_classes_2021_2022 = df_classes_2021_2022.dropna()\n",
    "colunas_float = df_classes_2021_2022.select_dtypes(include=['float64']).columns\n",
    "df_classes_2021_2022[colunas_float] = df_classes_2021_2022[colunas_float].astype(int)\n",
    "df_classes_2021_2022.head(1)"
   ]
  },
  {
   "attachments": {},
   "cell_type": "markdown",
   "metadata": {},
   "source": [
    "## Tentativa de usar ML para adequar o segundo df ao primeiro"
   ]
  },
  {
   "cell_type": "code",
   "execution_count": 24,
   "metadata": {},
   "outputs": [
    {
     "data": {
      "text/html": [
       "<div>\n",
       "<style scoped>\n",
       "    .dataframe tbody tr th:only-of-type {\n",
       "        vertical-align: middle;\n",
       "    }\n",
       "\n",
       "    .dataframe tbody tr th {\n",
       "        vertical-align: top;\n",
       "    }\n",
       "\n",
       "    .dataframe thead th {\n",
       "        text-align: right;\n",
       "    }\n",
       "</style>\n",
       "<table border=\"1\" class=\"dataframe\">\n",
       "  <thead>\n",
       "    <tr style=\"text-align: right;\">\n",
       "      <th></th>\n",
       "      <th>ORGAO_INTERNO</th>\n",
       "      <th>ORGAO_VINCULADO</th>\n",
       "      <th>COD_FUNCAO</th>\n",
       "      <th>FUNCAO</th>\n",
       "      <th>COD_SUBFUNCAO</th>\n",
       "      <th>SUBFUNCAO</th>\n",
       "      <th>COD_PROGRAMA_GOVERNO</th>\n",
       "      <th>PROGRAMA_GOVERNO</th>\n",
       "      <th>COD_ACAO_GOVERNO</th>\n",
       "      <th>ACAO_GOVERNO</th>\n",
       "      <th>COD_CAT_ECONOMICA</th>\n",
       "      <th>CAT_ECONOMICA</th>\n",
       "      <th>COD_NATUREZA</th>\n",
       "      <th>NATUREZA</th>\n",
       "      <th>COD_APLICACAO</th>\n",
       "      <th>APLICACAO</th>\n",
       "      <th>COD_ELEMENTO</th>\n",
       "      <th>ELEMENTO</th>\n",
       "    </tr>\n",
       "  </thead>\n",
       "  <tbody>\n",
       "    <tr>\n",
       "      <th>0</th>\n",
       "      <td>secretaria municipal de infra estrutura</td>\n",
       "      <td>prefeitura municipal</td>\n",
       "      <td>12</td>\n",
       "      <td>educacao</td>\n",
       "      <td>361</td>\n",
       "      <td>ensino fundamental</td>\n",
       "      <td>1003</td>\n",
       "      <td>educa mais e do jeito certo</td>\n",
       "      <td>2021</td>\n",
       "      <td>manutencao das atividades do ensino fundamenta...</td>\n",
       "      <td>3</td>\n",
       "      <td>despesas correntes</td>\n",
       "      <td>1</td>\n",
       "      <td>pessoal e encargos sociais</td>\n",
       "      <td>90</td>\n",
       "      <td>aplicacoes diretas</td>\n",
       "      <td>4</td>\n",
       "      <td>contratacao por tempo determinado</td>\n",
       "    </tr>\n",
       "  </tbody>\n",
       "</table>\n",
       "</div>"
      ],
      "text/plain": [
       "                             ORGAO_INTERNO       ORGAO_VINCULADO  COD_FUNCAO  \\\n",
       "0  secretaria municipal de infra estrutura  prefeitura municipal          12   \n",
       "\n",
       "     FUNCAO  COD_SUBFUNCAO           SUBFUNCAO  COD_PROGRAMA_GOVERNO  \\\n",
       "0  educacao            361  ensino fundamental                  1003   \n",
       "\n",
       "              PROGRAMA_GOVERNO  COD_ACAO_GOVERNO  \\\n",
       "0  educa mais e do jeito certo              2021   \n",
       "\n",
       "                                        ACAO_GOVERNO  COD_CAT_ECONOMICA  \\\n",
       "0  manutencao das atividades do ensino fundamenta...                  3   \n",
       "\n",
       "        CAT_ECONOMICA  COD_NATUREZA                    NATUREZA  \\\n",
       "0  despesas correntes             1  pessoal e encargos sociais   \n",
       "\n",
       "   COD_APLICACAO           APLICACAO  COD_ELEMENTO  \\\n",
       "0             90  aplicacoes diretas             4   \n",
       "\n",
       "                            ELEMENTO  \n",
       "0  contratacao por tempo determinado  "
      ]
     },
     "execution_count": 24,
     "metadata": {},
     "output_type": "execute_result"
    }
   ],
   "source": [
    "df_classes_2013_2020.head(1)"
   ]
  },
  {
   "cell_type": "code",
   "execution_count": 25,
   "metadata": {},
   "outputs": [
    {
     "data": {
      "text/html": [
       "<div>\n",
       "<style scoped>\n",
       "    .dataframe tbody tr th:only-of-type {\n",
       "        vertical-align: middle;\n",
       "    }\n",
       "\n",
       "    .dataframe tbody tr th {\n",
       "        vertical-align: top;\n",
       "    }\n",
       "\n",
       "    .dataframe thead th {\n",
       "        text-align: right;\n",
       "    }\n",
       "</style>\n",
       "<table border=\"1\" class=\"dataframe\">\n",
       "  <thead>\n",
       "    <tr style=\"text-align: right;\">\n",
       "      <th></th>\n",
       "      <th>ORGAO_INTERNO</th>\n",
       "      <th>COD_TIPO</th>\n",
       "      <th>TIPO</th>\n",
       "      <th>COD_SUBELEMENTO</th>\n",
       "      <th>SUBELEMENTO</th>\n",
       "    </tr>\n",
       "  </thead>\n",
       "  <tbody>\n",
       "    <tr>\n",
       "      <th>0</th>\n",
       "      <td>camara municipal</td>\n",
       "      <td>319011</td>\n",
       "      <td>vencimentos e vantagens fixas - pessoal civil</td>\n",
       "      <td>9775</td>\n",
       "      <td>subsidios - agentes politicos - vinculado ao inss</td>\n",
       "    </tr>\n",
       "  </tbody>\n",
       "</table>\n",
       "</div>"
      ],
      "text/plain": [
       "      ORGAO_INTERNO  COD_TIPO                                           TIPO  \\\n",
       "0  camara municipal    319011  vencimentos e vantagens fixas - pessoal civil   \n",
       "\n",
       "   COD_SUBELEMENTO                                        SUBELEMENTO  \n",
       "0             9775  subsidios - agentes politicos - vinculado ao inss  "
      ]
     },
     "execution_count": 25,
     "metadata": {},
     "output_type": "execute_result"
    }
   ],
   "source": [
    "df_classes_2021_2022.head(1)"
   ]
  },
  {
   "cell_type": "code",
   "execution_count": 30,
   "metadata": {},
   "outputs": [
    {
     "data": {
      "text/plain": [
       "saude                    20023\n",
       "assistencia social       16338\n",
       "educacao                  6772\n",
       "transporte                6152\n",
       "administracao             5864\n",
       "cultura                   4465\n",
       "encargos especiais        3661\n",
       "agricultura               1464\n",
       "urbanismo                 1236\n",
       "direitos da cidadania      733\n",
       "desporto e lazer           395\n",
       "comercio e servicos        156\n",
       "Name: FUNCAO, dtype: int64"
      ]
     },
     "execution_count": 30,
     "metadata": {},
     "output_type": "execute_result"
    }
   ],
   "source": [
    "df_classes_2013_2020['FUNCAO'].value_counts()"
   ]
  },
  {
   "attachments": {},
   "cell_type": "markdown",
   "metadata": {},
   "source": [
    "## Salvando df"
   ]
  },
  {
   "cell_type": "code",
   "execution_count": 23,
   "metadata": {},
   "outputs": [],
   "source": [
    "df_classes_2013_2020.to_csv('../02_despesas/dados_para_carga/dados_despesas_tratados_2013_2020.csv', index=False, sep=';')\n",
    "df_classes_2021_2022.to_csv('../02_despesas/dados_para_carga/dados_despesas_tratados_2021_2022.csv', index=False, sep=';')"
   ]
  },
  {
   "cell_type": "code",
   "execution_count": null,
   "metadata": {},
   "outputs": [],
   "source": []
  }
 ],
 "metadata": {
  "kernelspec": {
   "display_name": "base",
   "language": "python",
   "name": "python3"
  },
  "language_info": {
   "codemirror_mode": {
    "name": "ipython",
    "version": 3
   },
   "file_extension": ".py",
   "mimetype": "text/x-python",
   "name": "python",
   "nbconvert_exporter": "python",
   "pygments_lexer": "ipython3",
   "version": "3.9.13"
  },
  "orig_nbformat": 4
 },
 "nbformat": 4,
 "nbformat_minor": 2
}
