{
 "cells": [
  {
   "attachments": {},
   "cell_type": "markdown",
   "metadata": {},
   "source": [
    "# Imports necessários"
   ]
  },
  {
   "cell_type": "code",
   "execution_count": 1,
   "metadata": {},
   "outputs": [],
   "source": [
    "import pandas as pd"
   ]
  },
  {
   "attachments": {},
   "cell_type": "markdown",
   "metadata": {},
   "source": [
    "# Import dos dados"
   ]
  },
  {
   "attachments": {},
   "cell_type": "markdown",
   "metadata": {},
   "source": [
    "## Dados das classes das despesas"
   ]
  },
  {
   "cell_type": "code",
   "execution_count": 2,
   "metadata": {},
   "outputs": [
    {
     "data": {
      "text/html": [
       "<div>\n",
       "<style scoped>\n",
       "    .dataframe tbody tr th:only-of-type {\n",
       "        vertical-align: middle;\n",
       "    }\n",
       "\n",
       "    .dataframe tbody tr th {\n",
       "        vertical-align: top;\n",
       "    }\n",
       "\n",
       "    .dataframe thead th {\n",
       "        text-align: right;\n",
       "    }\n",
       "</style>\n",
       "<table border=\"1\" class=\"dataframe\">\n",
       "  <thead>\n",
       "    <tr style=\"text-align: right;\">\n",
       "      <th></th>\n",
       "      <th>ORGAO_INTERNO</th>\n",
       "      <th>ORGAO_VINCULADO</th>\n",
       "      <th>COD_FUNCAO</th>\n",
       "      <th>FUNCAO</th>\n",
       "      <th>COD_SUBFUNCAO</th>\n",
       "      <th>SUBFUNCAO</th>\n",
       "      <th>COD_PROGRAMA_GOVERNO</th>\n",
       "      <th>PROGRAMA_GOVERNO</th>\n",
       "      <th>COD_ACAO_GOVERNO</th>\n",
       "      <th>ACAO_GOVERNO</th>\n",
       "      <th>COD_CAT_ECONOMICA</th>\n",
       "      <th>CAT_ECONOMICA</th>\n",
       "      <th>COD_NATUREZA</th>\n",
       "      <th>NATUREZA</th>\n",
       "      <th>COD_APLICACAO</th>\n",
       "      <th>APLICACAO</th>\n",
       "      <th>COD_ELEMENTO</th>\n",
       "      <th>ELEMENTO</th>\n",
       "    </tr>\n",
       "  </thead>\n",
       "  <tbody>\n",
       "    <tr>\n",
       "      <th>0</th>\n",
       "      <td>secretaria municipal de infra estrutura</td>\n",
       "      <td>prefeitura municipal</td>\n",
       "      <td>12</td>\n",
       "      <td>educacao</td>\n",
       "      <td>361</td>\n",
       "      <td>ensino fundamental</td>\n",
       "      <td>1003</td>\n",
       "      <td>educa mais e do jeito certo</td>\n",
       "      <td>2021</td>\n",
       "      <td>manutencao das atividades do ensino fundamenta...</td>\n",
       "      <td>3</td>\n",
       "      <td>despesas correntes</td>\n",
       "      <td>1</td>\n",
       "      <td>pessoal e encargos sociais</td>\n",
       "      <td>90</td>\n",
       "      <td>aplicacoes diretas</td>\n",
       "      <td>4</td>\n",
       "      <td>contratacao por tempo determinado</td>\n",
       "    </tr>\n",
       "  </tbody>\n",
       "</table>\n",
       "</div>"
      ],
      "text/plain": [
       "                             ORGAO_INTERNO       ORGAO_VINCULADO  COD_FUNCAO  \\\n",
       "0  secretaria municipal de infra estrutura  prefeitura municipal          12   \n",
       "\n",
       "     FUNCAO  COD_SUBFUNCAO           SUBFUNCAO  COD_PROGRAMA_GOVERNO  \\\n",
       "0  educacao            361  ensino fundamental                  1003   \n",
       "\n",
       "              PROGRAMA_GOVERNO  COD_ACAO_GOVERNO  \\\n",
       "0  educa mais e do jeito certo              2021   \n",
       "\n",
       "                                        ACAO_GOVERNO  COD_CAT_ECONOMICA  \\\n",
       "0  manutencao das atividades do ensino fundamenta...                  3   \n",
       "\n",
       "        CAT_ECONOMICA  COD_NATUREZA                    NATUREZA  \\\n",
       "0  despesas correntes             1  pessoal e encargos sociais   \n",
       "\n",
       "   COD_APLICACAO           APLICACAO  COD_ELEMENTO  \\\n",
       "0             90  aplicacoes diretas             4   \n",
       "\n",
       "                            ELEMENTO  \n",
       "0  contratacao por tempo determinado  "
      ]
     },
     "execution_count": 2,
     "metadata": {},
     "output_type": "execute_result"
    }
   ],
   "source": [
    "df_classes_2013_2020 = pd.read_csv('../02_despesas/dados_para_carga/dados_despesas_tratados_2013_2020.csv', sep=';')\n",
    "df_classes_2013_2020.head(1)"
   ]
  },
  {
   "cell_type": "code",
   "execution_count": 3,
   "metadata": {},
   "outputs": [
    {
     "data": {
      "text/html": [
       "<div>\n",
       "<style scoped>\n",
       "    .dataframe tbody tr th:only-of-type {\n",
       "        vertical-align: middle;\n",
       "    }\n",
       "\n",
       "    .dataframe tbody tr th {\n",
       "        vertical-align: top;\n",
       "    }\n",
       "\n",
       "    .dataframe thead th {\n",
       "        text-align: right;\n",
       "    }\n",
       "</style>\n",
       "<table border=\"1\" class=\"dataframe\">\n",
       "  <thead>\n",
       "    <tr style=\"text-align: right;\">\n",
       "      <th></th>\n",
       "      <th>ORGAO_INTERNO</th>\n",
       "      <th>ORGAO_VINCULADO</th>\n",
       "      <th>COD_TIPO</th>\n",
       "      <th>TIPO</th>\n",
       "      <th>COD_SUBELEMENTO</th>\n",
       "      <th>SUBELEMENTO</th>\n",
       "    </tr>\n",
       "  </thead>\n",
       "  <tbody>\n",
       "    <tr>\n",
       "      <th>0</th>\n",
       "      <td>camara municipal</td>\n",
       "      <td>camara municipal</td>\n",
       "      <td>319011</td>\n",
       "      <td>vencimentos e vantagens fixas - pessoal civil</td>\n",
       "      <td>9775</td>\n",
       "      <td>subsidios - agentes politicos - vinculado ao inss</td>\n",
       "    </tr>\n",
       "  </tbody>\n",
       "</table>\n",
       "</div>"
      ],
      "text/plain": [
       "      ORGAO_INTERNO   ORGAO_VINCULADO  COD_TIPO  \\\n",
       "0  camara municipal  camara municipal    319011   \n",
       "\n",
       "                                            TIPO  COD_SUBELEMENTO  \\\n",
       "0  vencimentos e vantagens fixas - pessoal civil             9775   \n",
       "\n",
       "                                         SUBELEMENTO  \n",
       "0  subsidios - agentes politicos - vinculado ao inss  "
      ]
     },
     "execution_count": 3,
     "metadata": {},
     "output_type": "execute_result"
    }
   ],
   "source": [
    "df_classes_2021_2022 = pd.read_csv('../02_despesas/dados_para_carga/dados_despesas_tratados_2021_2022.csv', sep=';')\n",
    "df_classes_2021_2022.head(1)"
   ]
  },
  {
   "attachments": {},
   "cell_type": "markdown",
   "metadata": {},
   "source": [
    "## Análise exploratória dos dados"
   ]
  },
  {
   "cell_type": "code",
   "execution_count": 4,
   "metadata": {},
   "outputs": [
    {
     "data": {
      "text/plain": [
       "ORGAO_INTERNO           object\n",
       "ORGAO_VINCULADO         object\n",
       "COD_FUNCAO               int64\n",
       "FUNCAO                  object\n",
       "COD_SUBFUNCAO            int64\n",
       "SUBFUNCAO               object\n",
       "COD_PROGRAMA_GOVERNO     int64\n",
       "PROGRAMA_GOVERNO        object\n",
       "COD_ACAO_GOVERNO         int64\n",
       "ACAO_GOVERNO            object\n",
       "COD_CAT_ECONOMICA        int64\n",
       "CAT_ECONOMICA           object\n",
       "COD_NATUREZA             int64\n",
       "NATUREZA                object\n",
       "COD_APLICACAO            int64\n",
       "APLICACAO               object\n",
       "COD_ELEMENTO             int64\n",
       "ELEMENTO                object\n",
       "dtype: object"
      ]
     },
     "execution_count": 4,
     "metadata": {},
     "output_type": "execute_result"
    }
   ],
   "source": [
    "df_classes_2013_2020.dtypes"
   ]
  },
  {
   "cell_type": "code",
   "execution_count": 5,
   "metadata": {},
   "outputs": [
    {
     "data": {
      "text/plain": [
       "ORGAO_INTERNO      object\n",
       "ORGAO_VINCULADO    object\n",
       "COD_TIPO            int64\n",
       "TIPO               object\n",
       "COD_SUBELEMENTO     int64\n",
       "SUBELEMENTO        object\n",
       "dtype: object"
      ]
     },
     "execution_count": 5,
     "metadata": {},
     "output_type": "execute_result"
    }
   ],
   "source": [
    "df_classes_2021_2022.dtypes"
   ]
  },
  {
   "cell_type": "code",
   "execution_count": 6,
   "metadata": {},
   "outputs": [
    {
     "data": {
      "text/html": [
       "<div>\n",
       "<style scoped>\n",
       "    .dataframe tbody tr th:only-of-type {\n",
       "        vertical-align: middle;\n",
       "    }\n",
       "\n",
       "    .dataframe tbody tr th {\n",
       "        vertical-align: top;\n",
       "    }\n",
       "\n",
       "    .dataframe thead th {\n",
       "        text-align: right;\n",
       "    }\n",
       "</style>\n",
       "<table border=\"1\" class=\"dataframe\">\n",
       "  <thead>\n",
       "    <tr style=\"text-align: right;\">\n",
       "      <th></th>\n",
       "      <th>ORGAO_INTERNO</th>\n",
       "      <th>ORGAO_VINCULADO</th>\n",
       "      <th>COD_FUNCAO</th>\n",
       "      <th>FUNCAO</th>\n",
       "      <th>COD_SUBFUNCAO</th>\n",
       "      <th>SUBFUNCAO</th>\n",
       "      <th>COD_PROGRAMA_GOVERNO</th>\n",
       "      <th>PROGRAMA_GOVERNO</th>\n",
       "      <th>COD_ACAO_GOVERNO</th>\n",
       "      <th>ACAO_GOVERNO</th>\n",
       "      <th>COD_CAT_ECONOMICA</th>\n",
       "      <th>CAT_ECONOMICA</th>\n",
       "      <th>COD_NATUREZA</th>\n",
       "      <th>NATUREZA</th>\n",
       "      <th>COD_APLICACAO</th>\n",
       "      <th>APLICACAO</th>\n",
       "      <th>COD_ELEMENTO</th>\n",
       "      <th>ELEMENTO</th>\n",
       "    </tr>\n",
       "  </thead>\n",
       "  <tbody>\n",
       "    <tr>\n",
       "      <th>0</th>\n",
       "      <td>secretaria municipal de infra estrutura</td>\n",
       "      <td>prefeitura municipal</td>\n",
       "      <td>12</td>\n",
       "      <td>educacao</td>\n",
       "      <td>361</td>\n",
       "      <td>ensino fundamental</td>\n",
       "      <td>1003</td>\n",
       "      <td>educa mais e do jeito certo</td>\n",
       "      <td>2021</td>\n",
       "      <td>manutencao das atividades do ensino fundamenta...</td>\n",
       "      <td>3</td>\n",
       "      <td>despesas correntes</td>\n",
       "      <td>1</td>\n",
       "      <td>pessoal e encargos sociais</td>\n",
       "      <td>90</td>\n",
       "      <td>aplicacoes diretas</td>\n",
       "      <td>4</td>\n",
       "      <td>contratacao por tempo determinado</td>\n",
       "    </tr>\n",
       "  </tbody>\n",
       "</table>\n",
       "</div>"
      ],
      "text/plain": [
       "                             ORGAO_INTERNO       ORGAO_VINCULADO  COD_FUNCAO  \\\n",
       "0  secretaria municipal de infra estrutura  prefeitura municipal          12   \n",
       "\n",
       "     FUNCAO  COD_SUBFUNCAO           SUBFUNCAO  COD_PROGRAMA_GOVERNO  \\\n",
       "0  educacao            361  ensino fundamental                  1003   \n",
       "\n",
       "              PROGRAMA_GOVERNO  COD_ACAO_GOVERNO  \\\n",
       "0  educa mais e do jeito certo              2021   \n",
       "\n",
       "                                        ACAO_GOVERNO  COD_CAT_ECONOMICA  \\\n",
       "0  manutencao das atividades do ensino fundamenta...                  3   \n",
       "\n",
       "        CAT_ECONOMICA  COD_NATUREZA                    NATUREZA  \\\n",
       "0  despesas correntes             1  pessoal e encargos sociais   \n",
       "\n",
       "   COD_APLICACAO           APLICACAO  COD_ELEMENTO  \\\n",
       "0             90  aplicacoes diretas             4   \n",
       "\n",
       "                            ELEMENTO  \n",
       "0  contratacao por tempo determinado  "
      ]
     },
     "execution_count": 6,
     "metadata": {},
     "output_type": "execute_result"
    }
   ],
   "source": [
    "df_classes_2013_2020 = df_classes_2013_2020[['ORGAO_INTERNO','ORGAO_VINCULADO','COD_FUNCAO','FUNCAO','COD_SUBFUNCAO','SUBFUNCAO','COD_PROGRAMA_GOVERNO','PROGRAMA_GOVERNO','COD_ACAO_GOVERNO','ACAO_GOVERNO','COD_CAT_ECONOMICA','CAT_ECONOMICA','COD_NATUREZA','NATUREZA','COD_APLICACAO','APLICACAO','COD_ELEMENTO','ELEMENTO']]\n",
    "colunas_float = df_classes_2013_2020.select_dtypes(include=['float64']).columns\n",
    "df_classes_2013_2020[colunas_float] = df_classes_2013_2020[colunas_float].astype(int)\n",
    "df_classes_2013_2020.head(1)"
   ]
  },
  {
   "cell_type": "code",
   "execution_count": 7,
   "metadata": {},
   "outputs": [
    {
     "data": {
      "text/plain": [
       "ORGAO_INTERNO  ORGAO_VINCULADO  COD_TIPO  TIPO   COD_SUBELEMENTO  SUBELEMENTO\n",
       "False          False            False     False  False            False          19582\n",
       "dtype: int64"
      ]
     },
     "execution_count": 7,
     "metadata": {},
     "output_type": "execute_result"
    }
   ],
   "source": [
    "df_classes_2021_2022.isna().value_counts()"
   ]
  },
  {
   "cell_type": "code",
   "execution_count": 8,
   "metadata": {},
   "outputs": [
    {
     "data": {
      "text/html": [
       "<div>\n",
       "<style scoped>\n",
       "    .dataframe tbody tr th:only-of-type {\n",
       "        vertical-align: middle;\n",
       "    }\n",
       "\n",
       "    .dataframe tbody tr th {\n",
       "        vertical-align: top;\n",
       "    }\n",
       "\n",
       "    .dataframe thead th {\n",
       "        text-align: right;\n",
       "    }\n",
       "</style>\n",
       "<table border=\"1\" class=\"dataframe\">\n",
       "  <thead>\n",
       "    <tr style=\"text-align: right;\">\n",
       "      <th></th>\n",
       "      <th>ORGAO_INTERNO</th>\n",
       "      <th>ORGAO_VINCULADO</th>\n",
       "      <th>COD_TIPO</th>\n",
       "      <th>TIPO</th>\n",
       "      <th>COD_SUBELEMENTO</th>\n",
       "      <th>SUBELEMENTO</th>\n",
       "    </tr>\n",
       "  </thead>\n",
       "  <tbody>\n",
       "    <tr>\n",
       "      <th>0</th>\n",
       "      <td>camara municipal</td>\n",
       "      <td>camara municipal</td>\n",
       "      <td>319011</td>\n",
       "      <td>vencimentos e vantagens fixas - pessoal civil</td>\n",
       "      <td>9775</td>\n",
       "      <td>subsidios - agentes politicos - vinculado ao inss</td>\n",
       "    </tr>\n",
       "  </tbody>\n",
       "</table>\n",
       "</div>"
      ],
      "text/plain": [
       "      ORGAO_INTERNO   ORGAO_VINCULADO  COD_TIPO  \\\n",
       "0  camara municipal  camara municipal    319011   \n",
       "\n",
       "                                            TIPO  COD_SUBELEMENTO  \\\n",
       "0  vencimentos e vantagens fixas - pessoal civil             9775   \n",
       "\n",
       "                                         SUBELEMENTO  \n",
       "0  subsidios - agentes politicos - vinculado ao inss  "
      ]
     },
     "execution_count": 8,
     "metadata": {},
     "output_type": "execute_result"
    }
   ],
   "source": [
    "df_classes_2021_2022 = df_classes_2021_2022[['ORGAO_INTERNO','ORGAO_VINCULADO','COD_TIPO','TIPO','COD_SUBELEMENTO','SUBELEMENTO']]\n",
    "df_classes_2021_2022 = df_classes_2021_2022.dropna()\n",
    "colunas_float = df_classes_2021_2022.select_dtypes(include=['float64']).columns\n",
    "df_classes_2021_2022[colunas_float] = df_classes_2021_2022[colunas_float].astype(int)\n",
    "df_classes_2021_2022.head(1)"
   ]
  },
  {
   "attachments": {},
   "cell_type": "markdown",
   "metadata": {},
   "source": [
    "# Salvando df"
   ]
  },
  {
   "cell_type": "code",
   "execution_count": 9,
   "metadata": {},
   "outputs": [],
   "source": [
    "df_classes_2013_2020.to_csv('../02_despesas/dados_para_carga/dados_despesas_tratados_2013_2020.csv', index=False, sep=';')\n",
    "df_classes_2021_2022.to_csv('../02_despesas/dados_para_carga/dados_despesas_tratados_2021_2022.csv', index=False, sep=';')"
   ]
  },
  {
   "attachments": {},
   "cell_type": "markdown",
   "metadata": {},
   "source": [
    "# Separando por funções e criando os objetos para carga"
   ]
  },
  {
   "attachments": {},
   "cell_type": "markdown",
   "metadata": {},
   "source": [
    "## Separando os orgãos"
   ]
  },
  {
   "cell_type": "code",
   "execution_count": 10,
   "metadata": {},
   "outputs": [
    {
     "data": {
      "text/plain": [
       "0                  secretaria municipal de infra estrutura\n",
       "1                         secretaria municipal de educacao\n",
       "8                    secretaria municipal de administracao\n",
       "11       secretaria municipal de desenvolvimento rural ...\n",
       "13            secretaria de governo e articulacao politica\n",
       "15                 secretaria municipal da fazenda publica\n",
       "23                    secretaria municipal de planejamento\n",
       "37              secretaria municipal de politicas publicas\n",
       "96       secretaria municipal de juventude esporte turi...\n",
       "99                         procuradoria geral do municipio\n",
       "303      secretaria municipal do orcamento controle int...\n",
       "635                               fundo municipal de saude\n",
       "3660                 fundo municipal de assistencia social\n",
       "6091             superintendencia cajazeirense de transito\n",
       "6164     instituto de previdencia e assistencia municip...\n",
       "7990                         secretaria municipal de saude\n",
       "8058     secretaria municipal de cidadania e promocao s...\n",
       "25315       secretaria municipal de desenvolvimento humano\n",
       "25334              Secretaria Municipal de Controle Social\n",
       "41800            secretaria municipal de cultura e turismo\n",
       "41957    secretaria municipal de politicas publicas par...\n",
       "50768    secretaria muncipal de juventude esporte turis...\n",
       "0                                         camara municipal\n",
       "10129                  secretaria municipal de comunicacao\n",
       "Name: ORGAO_INTERNO, dtype: object"
      ]
     },
     "execution_count": 10,
     "metadata": {},
     "output_type": "execute_result"
    }
   ],
   "source": [
    "df_orgao_interno = pd.concat([df_classes_2013_2020['ORGAO_INTERNO'],df_classes_2021_2022['ORGAO_INTERNO']])\n",
    "df_orgao_interno.drop_duplicates(inplace=True)\n",
    "df_orgao_interno"
   ]
  },
  {
   "cell_type": "code",
   "execution_count": 11,
   "metadata": {},
   "outputs": [],
   "source": [
    "df_orgao_interno.to_csv('arquivos_para_carga/dados_orgao_interno.csv', sep=';',index=False)"
   ]
  },
  {
   "cell_type": "code",
   "execution_count": 12,
   "metadata": {},
   "outputs": [
    {
     "data": {
      "text/plain": [
       "0                                    prefeitura municipal\n",
       "635                              fundo municipal de saude\n",
       "3660                fundo municipal de assistencia social\n",
       "6091            superintendencia cajazeirense de transito\n",
       "6164    instituto de previdencia e assistencia municip...\n",
       "0                                        camara municipal\n",
       "Name: ORGAO_VINCULADO, dtype: object"
      ]
     },
     "execution_count": 12,
     "metadata": {},
     "output_type": "execute_result"
    }
   ],
   "source": [
    "df_orgao_vinculado = pd.concat([df_classes_2013_2020['ORGAO_VINCULADO'],df_classes_2021_2022['ORGAO_VINCULADO']])\n",
    "df_orgao_vinculado.drop_duplicates(inplace=True)\n",
    "df_orgao_vinculado"
   ]
  },
  {
   "cell_type": "code",
   "execution_count": 13,
   "metadata": {},
   "outputs": [],
   "source": [
    "df_orgao_vinculado.to_csv('arquivos_para_carga/dados_orgao_vinculado.csv', sep=';',index=False)"
   ]
  },
  {
   "attachments": {},
   "cell_type": "markdown",
   "metadata": {},
   "source": [
    "## Seprando por funções e subfunções"
   ]
  },
  {
   "cell_type": "code",
   "execution_count": 14,
   "metadata": {},
   "outputs": [
    {
     "data": {
      "text/html": [
       "<div>\n",
       "<style scoped>\n",
       "    .dataframe tbody tr th:only-of-type {\n",
       "        vertical-align: middle;\n",
       "    }\n",
       "\n",
       "    .dataframe tbody tr th {\n",
       "        vertical-align: top;\n",
       "    }\n",
       "\n",
       "    .dataframe thead th {\n",
       "        text-align: right;\n",
       "    }\n",
       "</style>\n",
       "<table border=\"1\" class=\"dataframe\">\n",
       "  <thead>\n",
       "    <tr style=\"text-align: right;\">\n",
       "      <th></th>\n",
       "      <th>COD_FUNCAO</th>\n",
       "      <th>FUNCAO</th>\n",
       "    </tr>\n",
       "  </thead>\n",
       "  <tbody>\n",
       "    <tr>\n",
       "      <th>0</th>\n",
       "      <td>12</td>\n",
       "      <td>educacao</td>\n",
       "    </tr>\n",
       "    <tr>\n",
       "      <th>3</th>\n",
       "      <td>10</td>\n",
       "      <td>saude</td>\n",
       "    </tr>\n",
       "    <tr>\n",
       "      <th>13</th>\n",
       "      <td>4</td>\n",
       "      <td>administracao</td>\n",
       "    </tr>\n",
       "    <tr>\n",
       "      <th>24</th>\n",
       "      <td>15</td>\n",
       "      <td>urbanismo</td>\n",
       "    </tr>\n",
       "    <tr>\n",
       "      <th>33</th>\n",
       "      <td>20</td>\n",
       "      <td>agricultura</td>\n",
       "    </tr>\n",
       "    <tr>\n",
       "      <th>42</th>\n",
       "      <td>8</td>\n",
       "      <td>assistencia social</td>\n",
       "    </tr>\n",
       "    <tr>\n",
       "      <th>44</th>\n",
       "      <td>26</td>\n",
       "      <td>transporte</td>\n",
       "    </tr>\n",
       "    <tr>\n",
       "      <th>45</th>\n",
       "      <td>13</td>\n",
       "      <td>cultura</td>\n",
       "    </tr>\n",
       "    <tr>\n",
       "      <th>46</th>\n",
       "      <td>14</td>\n",
       "      <td>direitos da cidadania</td>\n",
       "    </tr>\n",
       "    <tr>\n",
       "      <th>49</th>\n",
       "      <td>27</td>\n",
       "      <td>desporto e lazer</td>\n",
       "    </tr>\n",
       "    <tr>\n",
       "      <th>101</th>\n",
       "      <td>28</td>\n",
       "      <td>encargos especiais</td>\n",
       "    </tr>\n",
       "    <tr>\n",
       "      <th>430</th>\n",
       "      <td>23</td>\n",
       "      <td>comercio e servicos</td>\n",
       "    </tr>\n",
       "  </tbody>\n",
       "</table>\n",
       "</div>"
      ],
      "text/plain": [
       "     COD_FUNCAO                 FUNCAO\n",
       "0            12               educacao\n",
       "3            10                  saude\n",
       "13            4          administracao\n",
       "24           15              urbanismo\n",
       "33           20            agricultura\n",
       "42            8     assistencia social\n",
       "44           26             transporte\n",
       "45           13                cultura\n",
       "46           14  direitos da cidadania\n",
       "49           27       desporto e lazer\n",
       "101          28     encargos especiais\n",
       "430          23    comercio e servicos"
      ]
     },
     "execution_count": 14,
     "metadata": {},
     "output_type": "execute_result"
    }
   ],
   "source": [
    "df_funcao = df_classes_2013_2020[['COD_FUNCAO','FUNCAO']].copy()\n",
    "df_funcao.drop_duplicates(inplace=True)\n",
    "df_funcao"
   ]
  },
  {
   "cell_type": "code",
   "execution_count": 15,
   "metadata": {},
   "outputs": [],
   "source": [
    "df_funcao.to_csv('arquivos_para_carga/dados_funcao.csv', sep=';',index=False)"
   ]
  },
  {
   "cell_type": "code",
   "execution_count": 16,
   "metadata": {},
   "outputs": [
    {
     "data": {
      "text/html": [
       "<div>\n",
       "<style scoped>\n",
       "    .dataframe tbody tr th:only-of-type {\n",
       "        vertical-align: middle;\n",
       "    }\n",
       "\n",
       "    .dataframe tbody tr th {\n",
       "        vertical-align: top;\n",
       "    }\n",
       "\n",
       "    .dataframe thead th {\n",
       "        text-align: right;\n",
       "    }\n",
       "</style>\n",
       "<table border=\"1\" class=\"dataframe\">\n",
       "  <thead>\n",
       "    <tr style=\"text-align: right;\">\n",
       "      <th></th>\n",
       "      <th>COD_SUBFUNCAO</th>\n",
       "      <th>SUBFUNCAO</th>\n",
       "    </tr>\n",
       "  </thead>\n",
       "  <tbody>\n",
       "    <tr>\n",
       "      <th>0</th>\n",
       "      <td>361</td>\n",
       "      <td>ensino fundamental</td>\n",
       "    </tr>\n",
       "    <tr>\n",
       "      <th>3</th>\n",
       "      <td>302</td>\n",
       "      <td>assistencia hospitalar e ambulatorial</td>\n",
       "    </tr>\n",
       "    <tr>\n",
       "      <th>5</th>\n",
       "      <td>301</td>\n",
       "      <td>atencao basica</td>\n",
       "    </tr>\n",
       "    <tr>\n",
       "      <th>8</th>\n",
       "      <td>305</td>\n",
       "      <td>vigilancia epidemiologica</td>\n",
       "    </tr>\n",
       "    <tr>\n",
       "      <th>13</th>\n",
       "      <td>122</td>\n",
       "      <td>administracao geral</td>\n",
       "    </tr>\n",
       "    <tr>\n",
       "      <th>16</th>\n",
       "      <td>123</td>\n",
       "      <td>administracao financeira</td>\n",
       "    </tr>\n",
       "    <tr>\n",
       "      <th>18</th>\n",
       "      <td>124</td>\n",
       "      <td>controle interno</td>\n",
       "    </tr>\n",
       "    <tr>\n",
       "      <th>20</th>\n",
       "      <td>368</td>\n",
       "      <td>educacao basica</td>\n",
       "    </tr>\n",
       "    <tr>\n",
       "      <th>23</th>\n",
       "      <td>365</td>\n",
       "      <td>educacao infantil</td>\n",
       "    </tr>\n",
       "    <tr>\n",
       "      <th>33</th>\n",
       "      <td>608</td>\n",
       "      <td>promocao da producao agropecuaria</td>\n",
       "    </tr>\n",
       "    <tr>\n",
       "      <th>42</th>\n",
       "      <td>244</td>\n",
       "      <td>assistencia comunitaria</td>\n",
       "    </tr>\n",
       "    <tr>\n",
       "      <th>45</th>\n",
       "      <td>392</td>\n",
       "      <td>difusao cultural</td>\n",
       "    </tr>\n",
       "    <tr>\n",
       "      <th>46</th>\n",
       "      <td>422</td>\n",
       "      <td>direitos individuais, colet. e difusos</td>\n",
       "    </tr>\n",
       "    <tr>\n",
       "      <th>49</th>\n",
       "      <td>812</td>\n",
       "      <td>desporto comunitario</td>\n",
       "    </tr>\n",
       "    <tr>\n",
       "      <th>63</th>\n",
       "      <td>243</td>\n",
       "      <td>assistencia a crianca a ao adolescente</td>\n",
       "    </tr>\n",
       "    <tr>\n",
       "      <th>86</th>\n",
       "      <td>782</td>\n",
       "      <td>transporte rodoviario</td>\n",
       "    </tr>\n",
       "    <tr>\n",
       "      <th>101</th>\n",
       "      <td>272</td>\n",
       "      <td>previdencia do regime estatutario</td>\n",
       "    </tr>\n",
       "    <tr>\n",
       "      <th>157</th>\n",
       "      <td>62</td>\n",
       "      <td>def. interesse publ. no proc. judiciario</td>\n",
       "    </tr>\n",
       "    <tr>\n",
       "      <th>213</th>\n",
       "      <td>843</td>\n",
       "      <td>servico da divida interna</td>\n",
       "    </tr>\n",
       "    <tr>\n",
       "      <th>214</th>\n",
       "      <td>452</td>\n",
       "      <td>servicos urbanos</td>\n",
       "    </tr>\n",
       "    <tr>\n",
       "      <th>356</th>\n",
       "      <td>367</td>\n",
       "      <td>educacao especial</td>\n",
       "    </tr>\n",
       "    <tr>\n",
       "      <th>430</th>\n",
       "      <td>695</td>\n",
       "      <td>turismo</td>\n",
       "    </tr>\n",
       "    <tr>\n",
       "      <th>976</th>\n",
       "      <td>845</td>\n",
       "      <td>transferencias</td>\n",
       "    </tr>\n",
       "    <tr>\n",
       "      <th>2375</th>\n",
       "      <td>451</td>\n",
       "      <td>infra-estrutura urbana</td>\n",
       "    </tr>\n",
       "    <tr>\n",
       "      <th>6674</th>\n",
       "      <td>362</td>\n",
       "      <td>ensino medio</td>\n",
       "    </tr>\n",
       "  </tbody>\n",
       "</table>\n",
       "</div>"
      ],
      "text/plain": [
       "      COD_SUBFUNCAO                                 SUBFUNCAO\n",
       "0               361                        ensino fundamental\n",
       "3               302     assistencia hospitalar e ambulatorial\n",
       "5               301                            atencao basica\n",
       "8               305                 vigilancia epidemiologica\n",
       "13              122                       administracao geral\n",
       "16              123                  administracao financeira\n",
       "18              124                          controle interno\n",
       "20              368                           educacao basica\n",
       "23              365                         educacao infantil\n",
       "33              608         promocao da producao agropecuaria\n",
       "42              244                   assistencia comunitaria\n",
       "45              392                          difusao cultural\n",
       "46              422    direitos individuais, colet. e difusos\n",
       "49              812                      desporto comunitario\n",
       "63              243    assistencia a crianca a ao adolescente\n",
       "86              782                     transporte rodoviario\n",
       "101             272         previdencia do regime estatutario\n",
       "157              62  def. interesse publ. no proc. judiciario\n",
       "213             843                 servico da divida interna\n",
       "214             452                          servicos urbanos\n",
       "356             367                         educacao especial\n",
       "430             695                                   turismo\n",
       "976             845                            transferencias\n",
       "2375            451                    infra-estrutura urbana\n",
       "6674            362                              ensino medio"
      ]
     },
     "execution_count": 16,
     "metadata": {},
     "output_type": "execute_result"
    }
   ],
   "source": [
    "df_subfuncao = df_classes_2013_2020[['COD_SUBFUNCAO','SUBFUNCAO']].copy()\n",
    "df_subfuncao.drop_duplicates(inplace=True)\n",
    "df_subfuncao"
   ]
  },
  {
   "cell_type": "code",
   "execution_count": 17,
   "metadata": {},
   "outputs": [],
   "source": [
    "df_subfuncao.to_csv('arquivos_para_carga/dados_subfuncao.csv', sep=';',index=False)"
   ]
  },
  {
   "attachments": {},
   "cell_type": "markdown",
   "metadata": {},
   "source": [
    "## Separando por Ação do Governo ou Subelemento"
   ]
  },
  {
   "cell_type": "code",
   "execution_count": 18,
   "metadata": {},
   "outputs": [],
   "source": [
    "df_temp = df_classes_2013_2020[['COD_ACAO_GOVERNO','ACAO_GOVERNO']].copy()\n",
    "df_temp.rename(columns={'COD_ACAO_GOVERNO':'COD_SUBELEMENTO','ACAO_GOVERNO':'SUBELEMENTO'}, inplace=True)"
   ]
  },
  {
   "cell_type": "code",
   "execution_count": 19,
   "metadata": {},
   "outputs": [
    {
     "data": {
      "text/html": [
       "<div>\n",
       "<style scoped>\n",
       "    .dataframe tbody tr th:only-of-type {\n",
       "        vertical-align: middle;\n",
       "    }\n",
       "\n",
       "    .dataframe tbody tr th {\n",
       "        vertical-align: top;\n",
       "    }\n",
       "\n",
       "    .dataframe thead th {\n",
       "        text-align: right;\n",
       "    }\n",
       "</style>\n",
       "<table border=\"1\" class=\"dataframe\">\n",
       "  <thead>\n",
       "    <tr style=\"text-align: right;\">\n",
       "      <th></th>\n",
       "      <th>COD_SUBELEMENTO</th>\n",
       "      <th>SUBELEMENTO</th>\n",
       "    </tr>\n",
       "  </thead>\n",
       "  <tbody>\n",
       "    <tr>\n",
       "      <th>0</th>\n",
       "      <td>2021</td>\n",
       "      <td>manutencao das atividades do ensino fundamenta...</td>\n",
       "    </tr>\n",
       "    <tr>\n",
       "      <th>3</th>\n",
       "      <td>2064</td>\n",
       "      <td>custeio das acoes e servicos publicos de saude...</td>\n",
       "    </tr>\n",
       "    <tr>\n",
       "      <th>5</th>\n",
       "      <td>2059</td>\n",
       "      <td>custeio das acoes e servicos publicos de saude...</td>\n",
       "    </tr>\n",
       "    <tr>\n",
       "      <th>7</th>\n",
       "      <td>2047</td>\n",
       "      <td>manutencao da secretaria municipal de saude</td>\n",
       "    </tr>\n",
       "    <tr>\n",
       "      <th>8</th>\n",
       "      <td>2062</td>\n",
       "      <td>custeio das acoes e servicos publicos de saude...</td>\n",
       "    </tr>\n",
       "    <tr>\n",
       "      <th>...</th>\n",
       "      <td>...</td>\n",
       "      <td>...</td>\n",
       "    </tr>\n",
       "    <tr>\n",
       "      <th>13929</th>\n",
       "      <td>9921</td>\n",
       "      <td>aliquota suplementar de contribuicao previdenc...</td>\n",
       "    </tr>\n",
       "    <tr>\n",
       "      <th>15069</th>\n",
       "      <td>9900</td>\n",
       "      <td>premiacoes culturais, artisticas, cientificas,...</td>\n",
       "    </tr>\n",
       "    <tr>\n",
       "      <th>18022</th>\n",
       "      <td>9930</td>\n",
       "      <td>material de consumo</td>\n",
       "    </tr>\n",
       "    <tr>\n",
       "      <th>18096</th>\n",
       "      <td>8536</td>\n",
       "      <td>outros servicos de terceiros - pessoa fisica</td>\n",
       "    </tr>\n",
       "    <tr>\n",
       "      <th>18835</th>\n",
       "      <td>3199</td>\n",
       "      <td>fornecimento de alimentacao</td>\n",
       "    </tr>\n",
       "  </tbody>\n",
       "</table>\n",
       "<p>259 rows × 2 columns</p>\n",
       "</div>"
      ],
      "text/plain": [
       "       COD_SUBELEMENTO                                        SUBELEMENTO\n",
       "0                 2021  manutencao das atividades do ensino fundamenta...\n",
       "3                 2064  custeio das acoes e servicos publicos de saude...\n",
       "5                 2059  custeio das acoes e servicos publicos de saude...\n",
       "7                 2047        manutencao da secretaria municipal de saude\n",
       "8                 2062  custeio das acoes e servicos publicos de saude...\n",
       "...                ...                                                ...\n",
       "13929             9921  aliquota suplementar de contribuicao previdenc...\n",
       "15069             9900  premiacoes culturais, artisticas, cientificas,...\n",
       "18022             9930                                material de consumo\n",
       "18096             8536       outros servicos de terceiros - pessoa fisica\n",
       "18835             3199                        fornecimento de alimentacao\n",
       "\n",
       "[259 rows x 2 columns]"
      ]
     },
     "execution_count": 19,
     "metadata": {},
     "output_type": "execute_result"
    }
   ],
   "source": [
    "df_subelemento = pd.concat([df_temp,df_classes_2021_2022[['COD_SUBELEMENTO','SUBELEMENTO']]])\n",
    "df_subelemento.drop_duplicates(inplace=True)\n",
    "df_subelemento"
   ]
  },
  {
   "cell_type": "code",
   "execution_count": 20,
   "metadata": {},
   "outputs": [],
   "source": [
    "df_subelemento.to_csv('arquivos_para_carga/dados_subelemento.csv', sep=';',index=False)"
   ]
  },
  {
   "attachments": {},
   "cell_type": "markdown",
   "metadata": {},
   "source": [
    "## Separando por Categoria Economica"
   ]
  },
  {
   "cell_type": "code",
   "execution_count": 21,
   "metadata": {},
   "outputs": [
    {
     "data": {
      "text/html": [
       "<div>\n",
       "<style scoped>\n",
       "    .dataframe tbody tr th:only-of-type {\n",
       "        vertical-align: middle;\n",
       "    }\n",
       "\n",
       "    .dataframe tbody tr th {\n",
       "        vertical-align: top;\n",
       "    }\n",
       "\n",
       "    .dataframe thead th {\n",
       "        text-align: right;\n",
       "    }\n",
       "</style>\n",
       "<table border=\"1\" class=\"dataframe\">\n",
       "  <thead>\n",
       "    <tr style=\"text-align: right;\">\n",
       "      <th></th>\n",
       "      <th>COD_CAT_ECONOMICA</th>\n",
       "      <th>CAT_ECONOMICA</th>\n",
       "    </tr>\n",
       "  </thead>\n",
       "  <tbody>\n",
       "    <tr>\n",
       "      <th>0</th>\n",
       "      <td>3</td>\n",
       "      <td>despesas correntes</td>\n",
       "    </tr>\n",
       "    <tr>\n",
       "      <th>156</th>\n",
       "      <td>4</td>\n",
       "      <td>despesas de capital</td>\n",
       "    </tr>\n",
       "  </tbody>\n",
       "</table>\n",
       "</div>"
      ],
      "text/plain": [
       "     COD_CAT_ECONOMICA        CAT_ECONOMICA\n",
       "0                    3   despesas correntes\n",
       "156                  4  despesas de capital"
      ]
     },
     "execution_count": 21,
     "metadata": {},
     "output_type": "execute_result"
    }
   ],
   "source": [
    "df_cat_economica = df_classes_2013_2020[['COD_CAT_ECONOMICA','CAT_ECONOMICA']].copy()\n",
    "df_cat_economica.drop_duplicates(inplace=True)\n",
    "df_cat_economica"
   ]
  },
  {
   "cell_type": "code",
   "execution_count": 22,
   "metadata": {},
   "outputs": [],
   "source": [
    "df_cat_economica.to_csv('arquivos_para_carga/dados_cat_economica.csv', sep=';',index=False)"
   ]
  },
  {
   "attachments": {},
   "cell_type": "markdown",
   "metadata": {},
   "source": [
    "## Separando por Natureza"
   ]
  },
  {
   "cell_type": "code",
   "execution_count": 23,
   "metadata": {},
   "outputs": [
    {
     "data": {
      "text/html": [
       "<div>\n",
       "<style scoped>\n",
       "    .dataframe tbody tr th:only-of-type {\n",
       "        vertical-align: middle;\n",
       "    }\n",
       "\n",
       "    .dataframe tbody tr th {\n",
       "        vertical-align: top;\n",
       "    }\n",
       "\n",
       "    .dataframe thead th {\n",
       "        text-align: right;\n",
       "    }\n",
       "</style>\n",
       "<table border=\"1\" class=\"dataframe\">\n",
       "  <thead>\n",
       "    <tr style=\"text-align: right;\">\n",
       "      <th></th>\n",
       "      <th>COD_NATUREZA</th>\n",
       "      <th>NATUREZA</th>\n",
       "    </tr>\n",
       "  </thead>\n",
       "  <tbody>\n",
       "    <tr>\n",
       "      <th>0</th>\n",
       "      <td>1</td>\n",
       "      <td>pessoal e encargos sociais</td>\n",
       "    </tr>\n",
       "    <tr>\n",
       "      <th>70</th>\n",
       "      <td>3</td>\n",
       "      <td>outras despesas correntes</td>\n",
       "    </tr>\n",
       "    <tr>\n",
       "      <th>156</th>\n",
       "      <td>4</td>\n",
       "      <td>investimentos</td>\n",
       "    </tr>\n",
       "    <tr>\n",
       "      <th>157</th>\n",
       "      <td>6</td>\n",
       "      <td>amortizacao da divida</td>\n",
       "    </tr>\n",
       "  </tbody>\n",
       "</table>\n",
       "</div>"
      ],
      "text/plain": [
       "     COD_NATUREZA                    NATUREZA\n",
       "0               1  pessoal e encargos sociais\n",
       "70              3   outras despesas correntes\n",
       "156             4               investimentos\n",
       "157             6       amortizacao da divida"
      ]
     },
     "execution_count": 23,
     "metadata": {},
     "output_type": "execute_result"
    }
   ],
   "source": [
    "df_natureza = df_classes_2013_2020[['COD_NATUREZA','NATUREZA']].copy()\n",
    "df_natureza.drop_duplicates(inplace=True)\n",
    "df_natureza"
   ]
  },
  {
   "cell_type": "code",
   "execution_count": 24,
   "metadata": {},
   "outputs": [],
   "source": [
    "df_natureza.to_csv('arquivos_para_carga/dados_natureza.csv', sep=';',index=False)"
   ]
  },
  {
   "attachments": {},
   "cell_type": "markdown",
   "metadata": {},
   "source": [
    "## Separando por Aplicação"
   ]
  },
  {
   "cell_type": "code",
   "execution_count": 25,
   "metadata": {},
   "outputs": [
    {
     "data": {
      "text/html": [
       "<div>\n",
       "<style scoped>\n",
       "    .dataframe tbody tr th:only-of-type {\n",
       "        vertical-align: middle;\n",
       "    }\n",
       "\n",
       "    .dataframe tbody tr th {\n",
       "        vertical-align: top;\n",
       "    }\n",
       "\n",
       "    .dataframe thead th {\n",
       "        text-align: right;\n",
       "    }\n",
       "</style>\n",
       "<table border=\"1\" class=\"dataframe\">\n",
       "  <thead>\n",
       "    <tr style=\"text-align: right;\">\n",
       "      <th></th>\n",
       "      <th>COD_APLICACAO</th>\n",
       "      <th>APLICACAO</th>\n",
       "    </tr>\n",
       "  </thead>\n",
       "  <tbody>\n",
       "    <tr>\n",
       "      <th>0</th>\n",
       "      <td>90</td>\n",
       "      <td>aplicacoes diretas</td>\n",
       "    </tr>\n",
       "    <tr>\n",
       "      <th>67</th>\n",
       "      <td>91</td>\n",
       "      <td>aplicacao direta decorrente de operacao entre ...</td>\n",
       "    </tr>\n",
       "    <tr>\n",
       "      <th>174</th>\n",
       "      <td>50</td>\n",
       "      <td>transferencias a instituicoes privadas sem fin...</td>\n",
       "    </tr>\n",
       "    <tr>\n",
       "      <th>698</th>\n",
       "      <td>71</td>\n",
       "      <td>transferencias a consorcios publicos</td>\n",
       "    </tr>\n",
       "    <tr>\n",
       "      <th>862</th>\n",
       "      <td>91</td>\n",
       "      <td>aplicacoes diretas</td>\n",
       "    </tr>\n",
       "  </tbody>\n",
       "</table>\n",
       "</div>"
      ],
      "text/plain": [
       "     COD_APLICACAO                                          APLICACAO\n",
       "0               90                                 aplicacoes diretas\n",
       "67              91  aplicacao direta decorrente de operacao entre ...\n",
       "174             50  transferencias a instituicoes privadas sem fin...\n",
       "698             71               transferencias a consorcios publicos\n",
       "862             91                                 aplicacoes diretas"
      ]
     },
     "execution_count": 25,
     "metadata": {},
     "output_type": "execute_result"
    }
   ],
   "source": [
    "df_aplicacao = df_classes_2013_2020[['COD_APLICACAO','APLICACAO']].copy()\n",
    "df_aplicacao.drop_duplicates(inplace=True)\n",
    "df_aplicacao"
   ]
  },
  {
   "cell_type": "code",
   "execution_count": 26,
   "metadata": {},
   "outputs": [],
   "source": [
    "df_aplicacao.to_csv('arquivos_para_carga/dados_aplicacao.csv', sep=';',index=False)"
   ]
  },
  {
   "attachments": {},
   "cell_type": "markdown",
   "metadata": {},
   "source": [
    "## Separando por Tipo ou Elemento"
   ]
  },
  {
   "cell_type": "code",
   "execution_count": 27,
   "metadata": {},
   "outputs": [],
   "source": [
    "df_temp = df_classes_2021_2022[['COD_TIPO','TIPO']].copy()\n",
    "df_temp.rename(columns={'COD_TIPO':'COD_ELEMENTO','TIPO':'ELEMENTO'}, inplace=True)"
   ]
  },
  {
   "cell_type": "code",
   "execution_count": 28,
   "metadata": {},
   "outputs": [
    {
     "data": {
      "text/html": [
       "<div>\n",
       "<style scoped>\n",
       "    .dataframe tbody tr th:only-of-type {\n",
       "        vertical-align: middle;\n",
       "    }\n",
       "\n",
       "    .dataframe tbody tr th {\n",
       "        vertical-align: top;\n",
       "    }\n",
       "\n",
       "    .dataframe thead th {\n",
       "        text-align: right;\n",
       "    }\n",
       "</style>\n",
       "<table border=\"1\" class=\"dataframe\">\n",
       "  <thead>\n",
       "    <tr style=\"text-align: right;\">\n",
       "      <th></th>\n",
       "      <th>COD_ELEMENTO</th>\n",
       "      <th>ELEMENTO</th>\n",
       "    </tr>\n",
       "  </thead>\n",
       "  <tbody>\n",
       "    <tr>\n",
       "      <th>0</th>\n",
       "      <td>319011</td>\n",
       "      <td>vencimentos e vantagens fixas - pessoal civil</td>\n",
       "    </tr>\n",
       "    <tr>\n",
       "      <th>5</th>\n",
       "      <td>339039</td>\n",
       "      <td>outros servicos de terceiros - pessoa juridica</td>\n",
       "    </tr>\n",
       "    <tr>\n",
       "      <th>6</th>\n",
       "      <td>449052</td>\n",
       "      <td>equipamentos e material permanente</td>\n",
       "    </tr>\n",
       "    <tr>\n",
       "      <th>9</th>\n",
       "      <td>339040</td>\n",
       "      <td>servicos de tecnologia da informacao e comunic...</td>\n",
       "    </tr>\n",
       "    <tr>\n",
       "      <th>10</th>\n",
       "      <td>339030</td>\n",
       "      <td>material de consumo</td>\n",
       "    </tr>\n",
       "    <tr>\n",
       "      <th>...</th>\n",
       "      <td>...</td>\n",
       "      <td>...</td>\n",
       "    </tr>\n",
       "    <tr>\n",
       "      <th>1364</th>\n",
       "      <td>92</td>\n",
       "      <td>despesas de exercicios anteriores</td>\n",
       "    </tr>\n",
       "    <tr>\n",
       "      <th>4125</th>\n",
       "      <td>43</td>\n",
       "      <td>subvencoes sociais</td>\n",
       "    </tr>\n",
       "    <tr>\n",
       "      <th>15945</th>\n",
       "      <td>5</td>\n",
       "      <td>outros beneficios previdenciarios</td>\n",
       "    </tr>\n",
       "    <tr>\n",
       "      <th>16117</th>\n",
       "      <td>61</td>\n",
       "      <td>aquisicao de imoveis</td>\n",
       "    </tr>\n",
       "    <tr>\n",
       "      <th>16169</th>\n",
       "      <td>33</td>\n",
       "      <td>passagens e despesas com locomocao</td>\n",
       "    </tr>\n",
       "  </tbody>\n",
       "</table>\n",
       "<p>65 rows × 2 columns</p>\n",
       "</div>"
      ],
      "text/plain": [
       "       COD_ELEMENTO                                           ELEMENTO\n",
       "0            319011      vencimentos e vantagens fixas - pessoal civil\n",
       "5            339039     outros servicos de terceiros - pessoa juridica\n",
       "6            449052                 equipamentos e material permanente\n",
       "9            339040  servicos de tecnologia da informacao e comunic...\n",
       "10           339030                                material de consumo\n",
       "...             ...                                                ...\n",
       "1364             92                  despesas de exercicios anteriores\n",
       "4125             43                                 subvencoes sociais\n",
       "15945             5                  outros beneficios previdenciarios\n",
       "16117            61                               aquisicao de imoveis\n",
       "16169            33                 passagens e despesas com locomocao\n",
       "\n",
       "[65 rows x 2 columns]"
      ]
     },
     "execution_count": 28,
     "metadata": {},
     "output_type": "execute_result"
    }
   ],
   "source": [
    "df_elemento = pd.concat([df_temp,df_classes_2013_2020[['COD_ELEMENTO','ELEMENTO']]])\n",
    "df_elemento.drop_duplicates(inplace=True)\n",
    "df_elemento"
   ]
  },
  {
   "cell_type": "code",
   "execution_count": 29,
   "metadata": {},
   "outputs": [],
   "source": [
    "df_elemento.to_csv('arquivos_para_carga/dados_elemento.csv', sep=';',index=False)"
   ]
  },
  {
   "attachments": {},
   "cell_type": "markdown",
   "metadata": {},
   "source": [
    "# Proximo"
   ]
  },
  {
   "cell_type": "code",
   "execution_count": null,
   "metadata": {},
   "outputs": [],
   "source": []
  }
 ],
 "metadata": {
  "kernelspec": {
   "display_name": "base",
   "language": "python",
   "name": "python3"
  },
  "language_info": {
   "codemirror_mode": {
    "name": "ipython",
    "version": 3
   },
   "file_extension": ".py",
   "mimetype": "text/x-python",
   "name": "python",
   "nbconvert_exporter": "python",
   "pygments_lexer": "ipython3",
   "version": "3.9.13"
  },
  "orig_nbformat": 4
 },
 "nbformat": 4,
 "nbformat_minor": 2
}
