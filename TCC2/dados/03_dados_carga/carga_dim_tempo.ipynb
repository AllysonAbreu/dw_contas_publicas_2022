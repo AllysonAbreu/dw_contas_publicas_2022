{
 "cells": [
  {
   "attachments": {},
   "cell_type": "markdown",
   "metadata": {},
   "source": [
    "# Imports necessários"
   ]
  },
  {
   "cell_type": "code",
   "execution_count": 3,
   "metadata": {},
   "outputs": [],
   "source": [
    "import pandas as pd\n",
    "import os"
   ]
  },
  {
   "cell_type": "code",
   "execution_count": 19,
   "metadata": {},
   "outputs": [
    {
     "name": "stdout",
     "output_type": "stream",
     "text": [
      "C:/Repos/estudos/TCC2/dados/02_despesas/dados_para_carga/dados_tempo.csv\n"
     ]
    }
   ],
   "source": [
    "# Definir uma variável global para armazenar as informações lidas do arquivo\n",
    "linhas = []\n",
    "\n",
    "# Definir uma variável de ambiente para armazenar a localização do arquivo\n",
    "os.environ['PATHS'] = '.env'\n",
    "\n",
    "# Função para ler as informações do arquivo e adicioná-las à variável global\n",
    "def ler_arquivo():\n",
    "    global linhas\n",
    "    with open(os.environ.get('PATHS'), 'r') as f:\n",
    "        linhas = [linha.strip().split(',') for linha in f.readlines()]\n",
    "\n",
    "# Chamar a função para ler o arquivo e atualizar a variável global\n",
    "ler_arquivo()\n",
    "\n",
    "# Imprimir a variável global\n",
    "print(linhas[1][0])"
   ]
  },
  {
   "cell_type": "code",
   "execution_count": 24,
   "metadata": {},
   "outputs": [],
   "source": [
    "df_tempo_2013_2020 = pd.read_csv(linhas[0][0], sep=';')\n",
    "df_tempo_2021_2022 = pd.read_csv(linhas[1][0], sep=';')"
   ]
  },
  {
   "cell_type": "code",
   "execution_count": 50,
   "metadata": {},
   "outputs": [
    {
     "data": {
      "text/html": [
       "<div>\n",
       "<style scoped>\n",
       "    .dataframe tbody tr th:only-of-type {\n",
       "        vertical-align: middle;\n",
       "    }\n",
       "\n",
       "    .dataframe tbody tr th {\n",
       "        vertical-align: top;\n",
       "    }\n",
       "\n",
       "    .dataframe thead th {\n",
       "        text-align: right;\n",
       "    }\n",
       "</style>\n",
       "<table border=\"1\" class=\"dataframe\">\n",
       "  <thead>\n",
       "    <tr style=\"text-align: right;\">\n",
       "      <th></th>\n",
       "      <th>MES</th>\n",
       "    </tr>\n",
       "  </thead>\n",
       "  <tbody>\n",
       "    <tr>\n",
       "      <th>0</th>\n",
       "      <td>janeiro</td>\n",
       "    </tr>\n",
       "    <tr>\n",
       "      <th>1</th>\n",
       "      <td>fevereiro</td>\n",
       "    </tr>\n",
       "    <tr>\n",
       "      <th>2</th>\n",
       "      <td>março</td>\n",
       "    </tr>\n",
       "    <tr>\n",
       "      <th>3</th>\n",
       "      <td>abril</td>\n",
       "    </tr>\n",
       "    <tr>\n",
       "      <th>4</th>\n",
       "      <td>maio</td>\n",
       "    </tr>\n",
       "    <tr>\n",
       "      <th>5</th>\n",
       "      <td>junho</td>\n",
       "    </tr>\n",
       "    <tr>\n",
       "      <th>6</th>\n",
       "      <td>julho</td>\n",
       "    </tr>\n",
       "    <tr>\n",
       "      <th>7</th>\n",
       "      <td>agosto</td>\n",
       "    </tr>\n",
       "    <tr>\n",
       "      <th>8</th>\n",
       "      <td>setembro</td>\n",
       "    </tr>\n",
       "    <tr>\n",
       "      <th>9</th>\n",
       "      <td>outubro</td>\n",
       "    </tr>\n",
       "    <tr>\n",
       "      <th>10</th>\n",
       "      <td>novembro</td>\n",
       "    </tr>\n",
       "    <tr>\n",
       "      <th>11</th>\n",
       "      <td>dezembro</td>\n",
       "    </tr>\n",
       "  </tbody>\n",
       "</table>\n",
       "</div>"
      ],
      "text/plain": [
       "          MES\n",
       "0     janeiro\n",
       "1   fevereiro\n",
       "2       março\n",
       "3       abril\n",
       "4        maio\n",
       "5       junho\n",
       "6       julho\n",
       "7      agosto\n",
       "8    setembro\n",
       "9     outubro\n",
       "10   novembro\n",
       "11   dezembro"
      ]
     },
     "execution_count": 50,
     "metadata": {},
     "output_type": "execute_result"
    }
   ],
   "source": [
    "series_meses_ano = df_tempo_2013_2020['MES'].drop_duplicates().reset_index(drop=True)\n",
    "df_meses_ano = series_meses_ano.to_frame()\n",
    "df_meses_ano"
   ]
  },
  {
   "cell_type": "code",
   "execution_count": 51,
   "metadata": {},
   "outputs": [
    {
     "data": {
      "text/html": [
       "<div>\n",
       "<style scoped>\n",
       "    .dataframe tbody tr th:only-of-type {\n",
       "        vertical-align: middle;\n",
       "    }\n",
       "\n",
       "    .dataframe tbody tr th {\n",
       "        vertical-align: top;\n",
       "    }\n",
       "\n",
       "    .dataframe thead th {\n",
       "        text-align: right;\n",
       "    }\n",
       "</style>\n",
       "<table border=\"1\" class=\"dataframe\">\n",
       "  <thead>\n",
       "    <tr style=\"text-align: right;\">\n",
       "      <th></th>\n",
       "      <th>TRIMESTRE</th>\n",
       "    </tr>\n",
       "  </thead>\n",
       "  <tbody>\n",
       "    <tr>\n",
       "      <th>0</th>\n",
       "      <td>primeiro trimestre</td>\n",
       "    </tr>\n",
       "    <tr>\n",
       "      <th>1</th>\n",
       "      <td>segundo trimestre</td>\n",
       "    </tr>\n",
       "    <tr>\n",
       "      <th>2</th>\n",
       "      <td>terceiro trimestre</td>\n",
       "    </tr>\n",
       "    <tr>\n",
       "      <th>3</th>\n",
       "      <td>quarto trimestre</td>\n",
       "    </tr>\n",
       "  </tbody>\n",
       "</table>\n",
       "</div>"
      ],
      "text/plain": [
       "            TRIMESTRE\n",
       "0  primeiro trimestre\n",
       "1   segundo trimestre\n",
       "2  terceiro trimestre\n",
       "3    quarto trimestre"
      ]
     },
     "execution_count": 51,
     "metadata": {},
     "output_type": "execute_result"
    }
   ],
   "source": [
    "series_trimestre_ano = df_tempo_2013_2020['TRIMESTRE'].drop_duplicates().reset_index(drop=True)\n",
    "df_trimestre_ano = series_trimestre_ano.to_frame()\n",
    "df_trimestre_ano"
   ]
  },
  {
   "cell_type": "code",
   "execution_count": 52,
   "metadata": {},
   "outputs": [
    {
     "data": {
      "text/html": [
       "<div>\n",
       "<style scoped>\n",
       "    .dataframe tbody tr th:only-of-type {\n",
       "        vertical-align: middle;\n",
       "    }\n",
       "\n",
       "    .dataframe tbody tr th {\n",
       "        vertical-align: top;\n",
       "    }\n",
       "\n",
       "    .dataframe thead th {\n",
       "        text-align: right;\n",
       "    }\n",
       "</style>\n",
       "<table border=\"1\" class=\"dataframe\">\n",
       "  <thead>\n",
       "    <tr style=\"text-align: right;\">\n",
       "      <th></th>\n",
       "      <th>SEMESTRE</th>\n",
       "    </tr>\n",
       "  </thead>\n",
       "  <tbody>\n",
       "    <tr>\n",
       "      <th>0</th>\n",
       "      <td>primeiro semestre</td>\n",
       "    </tr>\n",
       "    <tr>\n",
       "      <th>1</th>\n",
       "      <td>segundo semestre</td>\n",
       "    </tr>\n",
       "  </tbody>\n",
       "</table>\n",
       "</div>"
      ],
      "text/plain": [
       "            SEMESTRE\n",
       "0  primeiro semestre\n",
       "1   segundo semestre"
      ]
     },
     "execution_count": 52,
     "metadata": {},
     "output_type": "execute_result"
    }
   ],
   "source": [
    "series_semestre_ano = df_tempo_2013_2020['SEMESTRE'].drop_duplicates().reset_index(drop=True)\n",
    "df_semestre_ano = series_semestre_ano.to_frame()\n",
    "df_semestre_ano"
   ]
  },
  {
   "cell_type": "code",
   "execution_count": 28,
   "metadata": {},
   "outputs": [],
   "source": [
    "def merge_dataframes(df1, df2, data_column, list_columns):\n",
    "    # Concatenação dos dataframes\n",
    "    merged_df = pd.concat([df1, df2])\n",
    "\n",
    "    # Escolhendo as colunas que irão permanecer no df\n",
    "    merged_df = merged_df[list_columns]\n",
    "        \n",
    "    # Remover duplicatas na coluna \"DATA\"\n",
    "    merged_df.drop_duplicates(subset=data_column, inplace=True)\n",
    "    \n",
    "    return merged_df"
   ]
  },
  {
   "cell_type": "code",
   "execution_count": 39,
   "metadata": {},
   "outputs": [
    {
     "data": {
      "text/html": [
       "<div>\n",
       "<style scoped>\n",
       "    .dataframe tbody tr th:only-of-type {\n",
       "        vertical-align: middle;\n",
       "    }\n",
       "\n",
       "    .dataframe tbody tr th {\n",
       "        vertical-align: top;\n",
       "    }\n",
       "\n",
       "    .dataframe thead th {\n",
       "        text-align: right;\n",
       "    }\n",
       "</style>\n",
       "<table border=\"1\" class=\"dataframe\">\n",
       "  <thead>\n",
       "    <tr style=\"text-align: right;\">\n",
       "      <th></th>\n",
       "      <th>DATA</th>\n",
       "      <th>ANO</th>\n",
       "      <th>MES</th>\n",
       "      <th>DIA</th>\n",
       "      <th>COD_TRIMESTRE</th>\n",
       "      <th>COD_SEMESTRE</th>\n",
       "    </tr>\n",
       "  </thead>\n",
       "  <tbody>\n",
       "    <tr>\n",
       "      <th>0</th>\n",
       "      <td>2013-01-03</td>\n",
       "      <td>2013</td>\n",
       "      <td>janeiro</td>\n",
       "      <td>3</td>\n",
       "      <td>1</td>\n",
       "      <td>1</td>\n",
       "    </tr>\n",
       "    <tr>\n",
       "      <th>1</th>\n",
       "      <td>2013-01-04</td>\n",
       "      <td>2013</td>\n",
       "      <td>janeiro</td>\n",
       "      <td>4</td>\n",
       "      <td>1</td>\n",
       "      <td>1</td>\n",
       "    </tr>\n",
       "    <tr>\n",
       "      <th>2</th>\n",
       "      <td>2013-01-07</td>\n",
       "      <td>2013</td>\n",
       "      <td>janeiro</td>\n",
       "      <td>7</td>\n",
       "      <td>1</td>\n",
       "      <td>1</td>\n",
       "    </tr>\n",
       "    <tr>\n",
       "      <th>3</th>\n",
       "      <td>2013-01-08</td>\n",
       "      <td>2013</td>\n",
       "      <td>janeiro</td>\n",
       "      <td>8</td>\n",
       "      <td>1</td>\n",
       "      <td>1</td>\n",
       "    </tr>\n",
       "    <tr>\n",
       "      <th>4</th>\n",
       "      <td>2013-01-15</td>\n",
       "      <td>2013</td>\n",
       "      <td>janeiro</td>\n",
       "      <td>15</td>\n",
       "      <td>1</td>\n",
       "      <td>1</td>\n",
       "    </tr>\n",
       "    <tr>\n",
       "      <th>...</th>\n",
       "      <td>...</td>\n",
       "      <td>...</td>\n",
       "      <td>...</td>\n",
       "      <td>...</td>\n",
       "      <td>...</td>\n",
       "      <td>...</td>\n",
       "    </tr>\n",
       "    <tr>\n",
       "      <th>2197</th>\n",
       "      <td>2021-06-03</td>\n",
       "      <td>2021</td>\n",
       "      <td>junho</td>\n",
       "      <td>3</td>\n",
       "      <td>2</td>\n",
       "      <td>1</td>\n",
       "    </tr>\n",
       "    <tr>\n",
       "      <th>2228</th>\n",
       "      <td>2021-04-21</td>\n",
       "      <td>2021</td>\n",
       "      <td>abril</td>\n",
       "      <td>21</td>\n",
       "      <td>2</td>\n",
       "      <td>1</td>\n",
       "    </tr>\n",
       "    <tr>\n",
       "      <th>2272</th>\n",
       "      <td>2021-02-16</td>\n",
       "      <td>2021</td>\n",
       "      <td>fevereiro</td>\n",
       "      <td>16</td>\n",
       "      <td>1</td>\n",
       "      <td>1</td>\n",
       "    </tr>\n",
       "    <tr>\n",
       "      <th>2347</th>\n",
       "      <td>2022-10-15</td>\n",
       "      <td>2022</td>\n",
       "      <td>outubro</td>\n",
       "      <td>15</td>\n",
       "      <td>4</td>\n",
       "      <td>2</td>\n",
       "    </tr>\n",
       "    <tr>\n",
       "      <th>2545</th>\n",
       "      <td>2022-01-22</td>\n",
       "      <td>2022</td>\n",
       "      <td>janeiro</td>\n",
       "      <td>22</td>\n",
       "      <td>1</td>\n",
       "      <td>1</td>\n",
       "    </tr>\n",
       "  </tbody>\n",
       "</table>\n",
       "<p>2659 rows × 6 columns</p>\n",
       "</div>"
      ],
      "text/plain": [
       "            DATA   ANO        MES  DIA  COD_TRIMESTRE  COD_SEMESTRE\n",
       "0     2013-01-03  2013    janeiro    3              1             1\n",
       "1     2013-01-04  2013    janeiro    4              1             1\n",
       "2     2013-01-07  2013    janeiro    7              1             1\n",
       "3     2013-01-08  2013    janeiro    8              1             1\n",
       "4     2013-01-15  2013    janeiro   15              1             1\n",
       "...          ...   ...        ...  ...            ...           ...\n",
       "2197  2021-06-03  2021      junho    3              2             1\n",
       "2228  2021-04-21  2021      abril   21              2             1\n",
       "2272  2021-02-16  2021  fevereiro   16              1             1\n",
       "2347  2022-10-15  2022    outubro   15              4             2\n",
       "2545  2022-01-22  2022    janeiro   22              1             1\n",
       "\n",
       "[2659 rows x 6 columns]"
      ]
     },
     "execution_count": 39,
     "metadata": {},
     "output_type": "execute_result"
    }
   ],
   "source": [
    "colunas = ['DATA','ANO','MES','DIA','COD_TRIMESTRE','COD_SEMESTRE']\n",
    "df_tempo_meger = merge_dataframes(df_tempo_2013_2020, df_tempo_2021_2022, 'DATA', colunas)\n",
    "df_tempo_meger"
   ]
  },
  {
   "cell_type": "code",
   "execution_count": 40,
   "metadata": {},
   "outputs": [],
   "source": [
    "meses_do_ano = {'janeiro': 1,\n",
    "               'fevereiro':  2,\n",
    "               'marco':  3,\n",
    "               'abril':  4,\n",
    "               'maio':  5,\n",
    "               'junho':  6,\n",
    "               'julho':  7,\n",
    "               'agosto':  8,\n",
    "               'setembro':  9,\n",
    "                'outubro': 10,\n",
    "                'novembro': 11,\n",
    "                'dezembro': 12}"
   ]
  },
  {
   "cell_type": "code",
   "execution_count": 44,
   "metadata": {},
   "outputs": [],
   "source": [
    "df_tempo_meger['MES'].replace(meses_do_ano, inplace=True)"
   ]
  },
  {
   "cell_type": "code",
   "execution_count": 45,
   "metadata": {},
   "outputs": [],
   "source": [
    "def save_dataframe(df, filename):\n",
    "    # Verifica se o diretório existe e cria caso não exista\n",
    "    diretorio = './arquivos_para_carga'\n",
    "    if not os.path.exists(diretorio):\n",
    "        os.makedirs(diretorio)\n",
    "    \n",
    "    # Salva o dataframe em um arquivo csv no diretório criado\n",
    "    filepath = f'./{diretorio}/{filename}.csv'\n",
    "    df.to_csv(filepath, index=False, sep=';')"
   ]
  },
  {
   "cell_type": "code",
   "execution_count": 53,
   "metadata": {},
   "outputs": [],
   "source": [
    "save_dataframe(df_tempo_meger,'dados_tempo_tratados')\n",
    "save_dataframe(df_meses_ano,'dados_tab_aux_meses')\n",
    "save_dataframe(df_trimestre_ano,'dados_tab_aux_trimestre')\n",
    "save_dataframe(df_semestre_ano,'dados_tab_aux_semestre')"
   ]
  },
  {
   "cell_type": "code",
   "execution_count": 55,
   "metadata": {},
   "outputs": [],
   "source": [
    "list_dados = ['prefeitura municipal', 'instituto de previdencia e assitencia social', 'sctrans', 'camara municipal']\n",
    "df_fonte_dados = pd.DataFrame(list_dados, columns=['FONTE_DADOS'])\n",
    "save_dataframe(df_fonte_dados,'dados_tab_aux_fonte_dados')"
   ]
  },
  {
   "cell_type": "code",
   "execution_count": null,
   "metadata": {},
   "outputs": [],
   "source": []
  }
 ],
 "metadata": {
  "kernelspec": {
   "display_name": "base",
   "language": "python",
   "name": "python3"
  },
  "language_info": {
   "codemirror_mode": {
    "name": "ipython",
    "version": 3
   },
   "file_extension": ".py",
   "mimetype": "text/x-python",
   "name": "python",
   "nbconvert_exporter": "python",
   "pygments_lexer": "ipython3",
   "version": "3.9.13"
  },
  "orig_nbformat": 4
 },
 "nbformat": 4,
 "nbformat_minor": 2
}
