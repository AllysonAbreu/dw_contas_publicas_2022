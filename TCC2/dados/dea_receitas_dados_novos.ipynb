{
  "cells": [
    {
      "attachments": {},
      "cell_type": "markdown",
      "metadata": {
        "id": "TeF516hXCOs5"
      },
      "source": [
        "# Imports e instalações"
      ]
    },
    {
      "cell_type": "code",
      "execution_count": 7,
      "metadata": {
        "id": "LYbfuBAWCXQi"
      },
      "outputs": [
        {
          "ename": "ImportError",
          "evalue": "cannot import name 'auth' from 'google.auth' (c:\\ProgramData\\Anaconda3\\lib\\site-packages\\google\\auth\\__init__.py)",
          "output_type": "error",
          "traceback": [
            "\u001b[1;31m---------------------------------------------------------------------------\u001b[0m",
            "\u001b[1;31mImportError\u001b[0m                               Traceback (most recent call last)",
            "Cell \u001b[1;32mIn[7], line 4\u001b[0m\n\u001b[0;32m      2\u001b[0m \u001b[39mimport\u001b[39;00m \u001b[39mmatplotlib\u001b[39;00m\u001b[39m.\u001b[39;00m\u001b[39mpyplot\u001b[39;00m \u001b[39mas\u001b[39;00m \u001b[39mplt\u001b[39;00m\n\u001b[0;32m      3\u001b[0m \u001b[39mimport\u001b[39;00m \u001b[39mbasedosdados\u001b[39;00m \u001b[39mas\u001b[39;00m \u001b[39mbd\u001b[39;00m\n\u001b[1;32m----> 4\u001b[0m \u001b[39mfrom\u001b[39;00m \u001b[39mgoogle\u001b[39;00m\u001b[39m.\u001b[39;00m\u001b[39mauth\u001b[39;00m \u001b[39mimport\u001b[39;00m auth\n\u001b[0;32m      5\u001b[0m \u001b[39mfrom\u001b[39;00m \u001b[39mgoogle\u001b[39;00m\u001b[39m.\u001b[39;00m\u001b[39mcloud\u001b[39;00m \u001b[39mimport\u001b[39;00m bigquery\n",
            "\u001b[1;31mImportError\u001b[0m: cannot import name 'auth' from 'google.auth' (c:\\ProgramData\\Anaconda3\\lib\\site-packages\\google\\auth\\__init__.py)"
          ]
        }
      ],
      "source": [
        "import pandas as pd\n",
        "import matplotlib.pyplot as plt\n",
        "import basedosdados as bd\n",
        "from google.auth import auth\n",
        "from google.cloud import bigquery"
      ]
    },
    {
      "attachments": {},
      "cell_type": "markdown",
      "metadata": {
        "id": "li80fk5eCUtH"
      },
      "source": [
        "# Imports dos dados"
      ]
    },
    {
      "attachments": {},
      "cell_type": "markdown",
      "metadata": {
        "id": "r9SitjaiCa83"
      },
      "source": [
        "## Login no gcloud"
      ]
    },
    {
      "cell_type": "code",
      "execution_count": 5,
      "metadata": {
        "id": "SzE3iM8HCZl0"
      },
      "outputs": [
        {
          "name": "stdout",
          "output_type": "stream",
          "text": [
            "Unexpected exception formatting exception. Falling back to standard exception\n"
          ]
        },
        {
          "name": "stderr",
          "output_type": "stream",
          "text": [
            "Traceback (most recent call last):\n",
            "  File \"c:\\ProgramData\\Anaconda3\\lib\\site-packages\\IPython\\core\\interactiveshell.py\", line 3505, in run_code\n",
            "    exec(code_obj, self.user_global_ns, self.user_ns)\n",
            "  File \"C:\\Users\\allys\\AppData\\Local\\Temp\\ipykernel_91304\\4013440980.py\", line 3, in <module>\n",
            "    client = bigquery.Client(project=project, location=location)\n",
            "  File \"c:\\ProgramData\\Anaconda3\\lib\\site-packages\\google\\cloud\\bigquery\\client.py\", line 209, in __init__\n",
            "    super(Client, self).__init__(\n",
            "  File \"c:\\ProgramData\\Anaconda3\\lib\\site-packages\\google\\cloud\\client\\__init__.py\", line 321, in __init__\n",
            "    Client.__init__(\n",
            "  File \"c:\\ProgramData\\Anaconda3\\lib\\site-packages\\google\\cloud\\client\\__init__.py\", line 178, in __init__\n",
            "    credentials, _ = google.auth.default(scopes=scopes)\n",
            "  File \"c:\\ProgramData\\Anaconda3\\lib\\site-packages\\google\\auth\\_default.py\", line 648, in default\n",
            "google.auth.exceptions.DefaultCredentialsError: Your default credentials were not found. To set up Application Default Credentials, see https://cloud.google.com/docs/authentication/external/set-up-adc for more information.\n",
            "\n",
            "During handling of the above exception, another exception occurred:\n",
            "\n",
            "Traceback (most recent call last):\n",
            "  File \"c:\\ProgramData\\Anaconda3\\lib\\site-packages\\IPython\\core\\interactiveshell.py\", line 2102, in showtraceback\n",
            "    stb = self.InteractiveTB.structured_traceback(\n",
            "  File \"c:\\ProgramData\\Anaconda3\\lib\\site-packages\\IPython\\core\\ultratb.py\", line 1310, in structured_traceback\n",
            "    return FormattedTB.structured_traceback(\n",
            "  File \"c:\\ProgramData\\Anaconda3\\lib\\site-packages\\IPython\\core\\ultratb.py\", line 1199, in structured_traceback\n",
            "    return VerboseTB.structured_traceback(\n",
            "  File \"c:\\ProgramData\\Anaconda3\\lib\\site-packages\\IPython\\core\\ultratb.py\", line 1052, in structured_traceback\n",
            "    formatted_exception = self.format_exception_as_a_whole(etype, evalue, etb, number_of_lines_of_context,\n",
            "  File \"c:\\ProgramData\\Anaconda3\\lib\\site-packages\\IPython\\core\\ultratb.py\", line 978, in format_exception_as_a_whole\n",
            "    frames.append(self.format_record(record))\n",
            "  File \"c:\\ProgramData\\Anaconda3\\lib\\site-packages\\IPython\\core\\ultratb.py\", line 878, in format_record\n",
            "    frame_info.lines, Colors, self.has_colors, lvals\n",
            "  File \"c:\\ProgramData\\Anaconda3\\lib\\site-packages\\IPython\\core\\ultratb.py\", line 712, in lines\n",
            "    return self._sd.lines\n",
            "  File \"c:\\ProgramData\\Anaconda3\\lib\\site-packages\\stack_data\\utils.py\", line 145, in cached_property_wrapper\n",
            "    value = obj.__dict__[self.func.__name__] = self.func(obj)\n",
            "  File \"c:\\ProgramData\\Anaconda3\\lib\\site-packages\\stack_data\\core.py\", line 698, in lines\n",
            "    pieces = self.included_pieces\n",
            "  File \"c:\\ProgramData\\Anaconda3\\lib\\site-packages\\stack_data\\utils.py\", line 145, in cached_property_wrapper\n",
            "    value = obj.__dict__[self.func.__name__] = self.func(obj)\n",
            "  File \"c:\\ProgramData\\Anaconda3\\lib\\site-packages\\stack_data\\core.py\", line 649, in included_pieces\n",
            "    pos = scope_pieces.index(self.executing_piece)\n",
            "  File \"c:\\ProgramData\\Anaconda3\\lib\\site-packages\\stack_data\\utils.py\", line 145, in cached_property_wrapper\n",
            "    value = obj.__dict__[self.func.__name__] = self.func(obj)\n",
            "  File \"c:\\ProgramData\\Anaconda3\\lib\\site-packages\\stack_data\\core.py\", line 628, in executing_piece\n",
            "    return only(\n",
            "  File \"c:\\ProgramData\\Anaconda3\\lib\\site-packages\\executing\\executing.py\", line 164, in only\n",
            "    raise NotOneValueFound('Expected one value, found 0')\n",
            "executing.executing.NotOneValueFound: Expected one value, found 0\n"
          ]
        }
      ],
      "source": [
        "project = 'dados-ibge-384913'\n",
        "location = 'US'\n",
        "client = bigquery.Client(project=project, location=location)"
      ]
    },
    {
      "attachments": {},
      "cell_type": "markdown",
      "metadata": {
        "id": "XM89CO4uCgnj"
      },
      "source": [
        "## Querys para buscar no firebase"
      ]
    },
    {
      "cell_type": "code",
      "execution_count": null,
      "metadata": {
        "id": "6VR55s-XCjA3"
      },
      "outputs": [],
      "source": [
        "query_populacao = \"SELECT db.ano, db.populacao FROM `basedosdados.br_ibge_populacao.municipio` as db WHERE db.id_municipio = '2503704'\""
      ]
    },
    {
      "attachments": {},
      "cell_type": "markdown",
      "metadata": {
        "id": "Zc74PzbkCoTZ"
      },
      "source": [
        "## Import dos dados do IBGE"
      ]
    },
    {
      "cell_type": "code",
      "execution_count": null,
      "metadata": {
        "id": "FJQjvT-CCqi2"
      },
      "outputs": [],
      "source": [
        "# Para carregar o dado direto no pandas\n",
        "df_ibge_populacao = client.query(query_populacao).to_dataframe()"
      ]
    },
    {
      "attachments": {},
      "cell_type": "markdown",
      "metadata": {
        "id": "nz8S4UJ9FnZ3"
      },
      "source": [
        "## Conversões nos dados"
      ]
    },
    {
      "attachments": {},
      "cell_type": "markdown",
      "metadata": {
        "id": "eQteOy0aFrn3"
      },
      "source": [
        "### Conversão na coluna ano do DF df_ibge_populacao"
      ]
    },
    {
      "cell_type": "code",
      "execution_count": null,
      "metadata": {
        "colab": {
          "base_uri": "https://localhost:8080/"
        },
        "id": "SpDLe4M1FRzS",
        "outputId": "7c8b823c-85ce-45dc-c5e5-22a59d0212a7"
      },
      "outputs": [
        {
          "data": {
            "text/plain": [
              "ano          int64\n",
              "populacao    int64\n",
              "dtype: object"
            ]
          },
          "execution_count": 23,
          "metadata": {},
          "output_type": "execute_result"
        }
      ],
      "source": [
        "# dados originais\n",
        "df_ibge_populacao.dtypes"
      ]
    },
    {
      "cell_type": "code",
      "execution_count": null,
      "metadata": {
        "colab": {
          "base_uri": "https://localhost:8080/",
          "height": 1000
        },
        "id": "ruQmKFtCFUtH",
        "outputId": "a0b0d75c-9033-42a6-9196-80fab5e78034"
      },
      "outputs": [
        {
          "data": {
            "text/html": [
              "\n",
              "  <div id=\"df-69c149da-58bb-4da7-b088-391b64ac2595\">\n",
              "    <div class=\"colab-df-container\">\n",
              "      <div>\n",
              "<style scoped>\n",
              "    .dataframe tbody tr th:only-of-type {\n",
              "        vertical-align: middle;\n",
              "    }\n",
              "\n",
              "    .dataframe tbody tr th {\n",
              "        vertical-align: top;\n",
              "    }\n",
              "\n",
              "    .dataframe thead th {\n",
              "        text-align: right;\n",
              "    }\n",
              "</style>\n",
              "<table border=\"1\" class=\"dataframe\">\n",
              "  <thead>\n",
              "    <tr style=\"text-align: right;\">\n",
              "      <th></th>\n",
              "      <th>ano</th>\n",
              "      <th>populacao</th>\n",
              "    </tr>\n",
              "  </thead>\n",
              "  <tbody>\n",
              "    <tr>\n",
              "      <th>0</th>\n",
              "      <td>1991-01-01</td>\n",
              "      <td>51273</td>\n",
              "    </tr>\n",
              "    <tr>\n",
              "      <th>1</th>\n",
              "      <td>1992-01-01</td>\n",
              "      <td>51530</td>\n",
              "    </tr>\n",
              "    <tr>\n",
              "      <th>2</th>\n",
              "      <td>1993-01-01</td>\n",
              "      <td>51965</td>\n",
              "    </tr>\n",
              "    <tr>\n",
              "      <th>3</th>\n",
              "      <td>1994-01-01</td>\n",
              "      <td>52279</td>\n",
              "    </tr>\n",
              "    <tr>\n",
              "      <th>4</th>\n",
              "      <td>1995-01-01</td>\n",
              "      <td>52586</td>\n",
              "    </tr>\n",
              "    <tr>\n",
              "      <th>5</th>\n",
              "      <td>1996-01-01</td>\n",
              "      <td>51396</td>\n",
              "    </tr>\n",
              "    <tr>\n",
              "      <th>6</th>\n",
              "      <td>1997-01-01</td>\n",
              "      <td>51575</td>\n",
              "    </tr>\n",
              "    <tr>\n",
              "      <th>7</th>\n",
              "      <td>1998-01-01</td>\n",
              "      <td>51726</td>\n",
              "    </tr>\n",
              "    <tr>\n",
              "      <th>8</th>\n",
              "      <td>1999-01-01</td>\n",
              "      <td>51878</td>\n",
              "    </tr>\n",
              "    <tr>\n",
              "      <th>9</th>\n",
              "      <td>2000-01-01</td>\n",
              "      <td>54715</td>\n",
              "    </tr>\n",
              "    <tr>\n",
              "      <th>10</th>\n",
              "      <td>2001-01-01</td>\n",
              "      <td>55132</td>\n",
              "    </tr>\n",
              "    <tr>\n",
              "      <th>11</th>\n",
              "      <td>2002-01-01</td>\n",
              "      <td>55439</td>\n",
              "    </tr>\n",
              "    <tr>\n",
              "      <th>12</th>\n",
              "      <td>2003-01-01</td>\n",
              "      <td>55775</td>\n",
              "    </tr>\n",
              "    <tr>\n",
              "      <th>13</th>\n",
              "      <td>2004-01-01</td>\n",
              "      <td>56481</td>\n",
              "    </tr>\n",
              "    <tr>\n",
              "      <th>14</th>\n",
              "      <td>2005-01-01</td>\n",
              "      <td>56871</td>\n",
              "    </tr>\n",
              "    <tr>\n",
              "      <th>15</th>\n",
              "      <td>2006-01-01</td>\n",
              "      <td>57259</td>\n",
              "    </tr>\n",
              "    <tr>\n",
              "      <th>16</th>\n",
              "      <td>2007-01-01</td>\n",
              "      <td>56051</td>\n",
              "    </tr>\n",
              "    <tr>\n",
              "      <th>17</th>\n",
              "      <td>2008-01-01</td>\n",
              "      <td>57627</td>\n",
              "    </tr>\n",
              "    <tr>\n",
              "      <th>18</th>\n",
              "      <td>2009-01-01</td>\n",
              "      <td>57875</td>\n",
              "    </tr>\n",
              "    <tr>\n",
              "      <th>19</th>\n",
              "      <td>2010-01-01</td>\n",
              "      <td>58446</td>\n",
              "    </tr>\n",
              "    <tr>\n",
              "      <th>20</th>\n",
              "      <td>2011-01-01</td>\n",
              "      <td>58794</td>\n",
              "    </tr>\n",
              "    <tr>\n",
              "      <th>21</th>\n",
              "      <td>2012-01-01</td>\n",
              "      <td>59130</td>\n",
              "    </tr>\n",
              "    <tr>\n",
              "      <th>22</th>\n",
              "      <td>2013-01-01</td>\n",
              "      <td>60612</td>\n",
              "    </tr>\n",
              "    <tr>\n",
              "      <th>23</th>\n",
              "      <td>2014-01-01</td>\n",
              "      <td>61030</td>\n",
              "    </tr>\n",
              "    <tr>\n",
              "      <th>24</th>\n",
              "      <td>2015-01-01</td>\n",
              "      <td>61431</td>\n",
              "    </tr>\n",
              "    <tr>\n",
              "      <th>25</th>\n",
              "      <td>2016-01-01</td>\n",
              "      <td>61816</td>\n",
              "    </tr>\n",
              "    <tr>\n",
              "      <th>26</th>\n",
              "      <td>2017-01-01</td>\n",
              "      <td>62187</td>\n",
              "    </tr>\n",
              "    <tr>\n",
              "      <th>27</th>\n",
              "      <td>2018-01-01</td>\n",
              "      <td>61776</td>\n",
              "    </tr>\n",
              "    <tr>\n",
              "      <th>28</th>\n",
              "      <td>2019-01-01</td>\n",
              "      <td>61993</td>\n",
              "    </tr>\n",
              "    <tr>\n",
              "      <th>29</th>\n",
              "      <td>2020-01-01</td>\n",
              "      <td>62289</td>\n",
              "    </tr>\n",
              "    <tr>\n",
              "      <th>30</th>\n",
              "      <td>2021-01-01</td>\n",
              "      <td>62576</td>\n",
              "    </tr>\n",
              "  </tbody>\n",
              "</table>\n",
              "</div>\n",
              "      <button class=\"colab-df-convert\" onclick=\"convertToInteractive('df-69c149da-58bb-4da7-b088-391b64ac2595')\"\n",
              "              title=\"Convert this dataframe to an interactive table.\"\n",
              "              style=\"display:none;\">\n",
              "        \n",
              "  <svg xmlns=\"http://www.w3.org/2000/svg\" height=\"24px\"viewBox=\"0 0 24 24\"\n",
              "       width=\"24px\">\n",
              "    <path d=\"M0 0h24v24H0V0z\" fill=\"none\"/>\n",
              "    <path d=\"M18.56 5.44l.94 2.06.94-2.06 2.06-.94-2.06-.94-.94-2.06-.94 2.06-2.06.94zm-11 1L8.5 8.5l.94-2.06 2.06-.94-2.06-.94L8.5 2.5l-.94 2.06-2.06.94zm10 10l.94 2.06.94-2.06 2.06-.94-2.06-.94-.94-2.06-.94 2.06-2.06.94z\"/><path d=\"M17.41 7.96l-1.37-1.37c-.4-.4-.92-.59-1.43-.59-.52 0-1.04.2-1.43.59L10.3 9.45l-7.72 7.72c-.78.78-.78 2.05 0 2.83L4 21.41c.39.39.9.59 1.41.59.51 0 1.02-.2 1.41-.59l7.78-7.78 2.81-2.81c.8-.78.8-2.07 0-2.86zM5.41 20L4 18.59l7.72-7.72 1.47 1.35L5.41 20z\"/>\n",
              "  </svg>\n",
              "      </button>\n",
              "      \n",
              "  <style>\n",
              "    .colab-df-container {\n",
              "      display:flex;\n",
              "      flex-wrap:wrap;\n",
              "      gap: 12px;\n",
              "    }\n",
              "\n",
              "    .colab-df-convert {\n",
              "      background-color: #E8F0FE;\n",
              "      border: none;\n",
              "      border-radius: 50%;\n",
              "      cursor: pointer;\n",
              "      display: none;\n",
              "      fill: #1967D2;\n",
              "      height: 32px;\n",
              "      padding: 0 0 0 0;\n",
              "      width: 32px;\n",
              "    }\n",
              "\n",
              "    .colab-df-convert:hover {\n",
              "      background-color: #E2EBFA;\n",
              "      box-shadow: 0px 1px 2px rgba(60, 64, 67, 0.3), 0px 1px 3px 1px rgba(60, 64, 67, 0.15);\n",
              "      fill: #174EA6;\n",
              "    }\n",
              "\n",
              "    [theme=dark] .colab-df-convert {\n",
              "      background-color: #3B4455;\n",
              "      fill: #D2E3FC;\n",
              "    }\n",
              "\n",
              "    [theme=dark] .colab-df-convert:hover {\n",
              "      background-color: #434B5C;\n",
              "      box-shadow: 0px 1px 3px 1px rgba(0, 0, 0, 0.15);\n",
              "      filter: drop-shadow(0px 1px 2px rgba(0, 0, 0, 0.3));\n",
              "      fill: #FFFFFF;\n",
              "    }\n",
              "  </style>\n",
              "\n",
              "      <script>\n",
              "        const buttonEl =\n",
              "          document.querySelector('#df-69c149da-58bb-4da7-b088-391b64ac2595 button.colab-df-convert');\n",
              "        buttonEl.style.display =\n",
              "          google.colab.kernel.accessAllowed ? 'block' : 'none';\n",
              "\n",
              "        async function convertToInteractive(key) {\n",
              "          const element = document.querySelector('#df-69c149da-58bb-4da7-b088-391b64ac2595');\n",
              "          const dataTable =\n",
              "            await google.colab.kernel.invokeFunction('convertToInteractive',\n",
              "                                                     [key], {});\n",
              "          if (!dataTable) return;\n",
              "\n",
              "          const docLinkHtml = 'Like what you see? Visit the ' +\n",
              "            '<a target=\"_blank\" href=https://colab.research.google.com/notebooks/data_table.ipynb>data table notebook</a>'\n",
              "            + ' to learn more about interactive tables.';\n",
              "          element.innerHTML = '';\n",
              "          dataTable['output_type'] = 'display_data';\n",
              "          await google.colab.output.renderOutput(dataTable, element);\n",
              "          const docLink = document.createElement('div');\n",
              "          docLink.innerHTML = docLinkHtml;\n",
              "          element.appendChild(docLink);\n",
              "        }\n",
              "      </script>\n",
              "    </div>\n",
              "  </div>\n",
              "  "
            ],
            "text/plain": [
              "          ano  populacao\n",
              "0  1991-01-01      51273\n",
              "1  1992-01-01      51530\n",
              "2  1993-01-01      51965\n",
              "3  1994-01-01      52279\n",
              "4  1995-01-01      52586\n",
              "5  1996-01-01      51396\n",
              "6  1997-01-01      51575\n",
              "7  1998-01-01      51726\n",
              "8  1999-01-01      51878\n",
              "9  2000-01-01      54715\n",
              "10 2001-01-01      55132\n",
              "11 2002-01-01      55439\n",
              "12 2003-01-01      55775\n",
              "13 2004-01-01      56481\n",
              "14 2005-01-01      56871\n",
              "15 2006-01-01      57259\n",
              "16 2007-01-01      56051\n",
              "17 2008-01-01      57627\n",
              "18 2009-01-01      57875\n",
              "19 2010-01-01      58446\n",
              "20 2011-01-01      58794\n",
              "21 2012-01-01      59130\n",
              "22 2013-01-01      60612\n",
              "23 2014-01-01      61030\n",
              "24 2015-01-01      61431\n",
              "25 2016-01-01      61816\n",
              "26 2017-01-01      62187\n",
              "27 2018-01-01      61776\n",
              "28 2019-01-01      61993\n",
              "29 2020-01-01      62289\n",
              "30 2021-01-01      62576"
            ]
          },
          "execution_count": 24,
          "metadata": {},
          "output_type": "execute_result"
        }
      ],
      "source": [
        "# dados apos conversao para dt\n",
        "df_ibge_populacao['ano'] = pd.to_datetime(df_ibge_populacao['ano'], format='%Y')\n",
        "df_ibge_populacao"
      ]
    },
    {
      "cell_type": "code",
      "execution_count": null,
      "metadata": {
        "colab": {
          "base_uri": "https://localhost:8080/"
        },
        "id": "SkngLEe7FUp6",
        "outputId": "83444d13-e520-4c10-8f1a-0d94f08624a8"
      },
      "outputs": [
        {
          "data": {
            "text/plain": [
              "ano          datetime64[ns]\n",
              "populacao             int64\n",
              "dtype: object"
            ]
          },
          "execution_count": 25,
          "metadata": {},
          "output_type": "execute_result"
        }
      ],
      "source": [
        "# dados apos a conversao\n",
        "df_ibge_populacao.dtypes"
      ]
    },
    {
      "attachments": {},
      "cell_type": "markdown",
      "metadata": {
        "id": "7xO_MJRiETt8"
      },
      "source": [
        "# Análises"
      ]
    },
    {
      "attachments": {},
      "cell_type": "markdown",
      "metadata": {
        "id": "NthP_TRzEYQm"
      },
      "source": [
        "## Visual - Plot dos gráficos"
      ]
    },
    {
      "attachments": {},
      "cell_type": "markdown",
      "metadata": {
        "id": "6idchRs4GFxG"
      },
      "source": [
        "### Time series da população cajezeirense de 1991 a 2021"
      ]
    },
    {
      "cell_type": "code",
      "execution_count": null,
      "metadata": {
        "id": "1b1W5--pG3z3"
      },
      "outputs": [],
      "source": [
        "df_ibge_populacao_index_ano = df_ibge_populacao.set_index('ano')"
      ]
    },
    {
      "cell_type": "code",
      "execution_count": null,
      "metadata": {
        "colab": {
          "base_uri": "https://localhost:8080/",
          "height": 468
        },
        "id": "aoSKDi4tDKfu",
        "outputId": "79b55077-8a63-4575-835d-351534a91080"
      },
      "outputs": [
        {
          "data": {
            "image/png": "[encoded data removed]",
            "text/plain": [
              "<Figure size 1000x500 with 1 Axes>"
            ]
          },
          "metadata": {},
          "output_type": "display_data"
        }
      ],
      "source": [
        "# Plota o gráfico de linha com as séries temporais\n",
        "fig, ax = plt.subplots(figsize=(10, 5))\n",
        "\n",
        "ax.plot(df_ibge_populacao_index_ano.index, df_ibge_populacao_index_ano['populacao'], label='Total Anual')\n",
        "\n",
        "# Adiciona legenda e título ao gráfico\n",
        "ax.legend()\n",
        "ax.set_title('População Cajazeirense entre 1991 e 2021 - IBGE')\n",
        "\n",
        "# Exibe o gráfico\n",
        "plt.show()"
      ]
    },
    {
      "cell_type": "code",
      "execution_count": null,
      "metadata": {
        "colab": {
          "base_uri": "https://localhost:8080/",
          "height": 1000
        },
        "id": "r6SpEf5bGi3B",
        "outputId": "47162fca-4bb5-4e6b-825b-b252c8a4932a"
      },
      "outputs": [
        {
          "data": {
            "text/html": [
              "\n",
              "  <div id=\"df-47afe818-d3ce-4347-afb2-f838612af135\">\n",
              "    <div class=\"colab-df-container\">\n",
              "      <div>\n",
              "<style scoped>\n",
              "    .dataframe tbody tr th:only-of-type {\n",
              "        vertical-align: middle;\n",
              "    }\n",
              "\n",
              "    .dataframe tbody tr th {\n",
              "        vertical-align: top;\n",
              "    }\n",
              "\n",
              "    .dataframe thead th {\n",
              "        text-align: right;\n",
              "    }\n",
              "</style>\n",
              "<table border=\"1\" class=\"dataframe\">\n",
              "  <thead>\n",
              "    <tr style=\"text-align: right;\">\n",
              "      <th></th>\n",
              "      <th>populacao</th>\n",
              "      <th>variacao_anual</th>\n",
              "      <th>porcentagem_variacao_anual_%</th>\n",
              "      <th>aceleracao_variacao_anual</th>\n",
              "      <th>porcentagem_aceleracao_variacao_anual_%</th>\n",
              "    </tr>\n",
              "    <tr>\n",
              "      <th>ano</th>\n",
              "      <th></th>\n",
              "      <th></th>\n",
              "      <th></th>\n",
              "      <th></th>\n",
              "      <th></th>\n",
              "    </tr>\n",
              "  </thead>\n",
              "  <tbody>\n",
              "    <tr>\n",
              "      <th>1991-01-01</th>\n",
              "      <td>51273</td>\n",
              "      <td>NaN</td>\n",
              "      <td>NaN</td>\n",
              "      <td>NaN</td>\n",
              "      <td>NaN</td>\n",
              "    </tr>\n",
              "    <tr>\n",
              "      <th>1992-01-01</th>\n",
              "      <td>51530</td>\n",
              "      <td>257.0</td>\n",
              "      <td>0.50</td>\n",
              "      <td>NaN</td>\n",
              "      <td>NaN</td>\n",
              "    </tr>\n",
              "    <tr>\n",
              "      <th>1993-01-01</th>\n",
              "      <td>51965</td>\n",
              "      <td>435.0</td>\n",
              "      <td>0.84</td>\n",
              "      <td>178.0</td>\n",
              "      <td>69.26</td>\n",
              "    </tr>\n",
              "    <tr>\n",
              "      <th>1994-01-01</th>\n",
              "      <td>52279</td>\n",
              "      <td>314.0</td>\n",
              "      <td>0.60</td>\n",
              "      <td>-121.0</td>\n",
              "      <td>-27.82</td>\n",
              "    </tr>\n",
              "    <tr>\n",
              "      <th>1995-01-01</th>\n",
              "      <td>52586</td>\n",
              "      <td>307.0</td>\n",
              "      <td>0.59</td>\n",
              "      <td>-7.0</td>\n",
              "      <td>-2.23</td>\n",
              "    </tr>\n",
              "    <tr>\n",
              "      <th>1996-01-01</th>\n",
              "      <td>51396</td>\n",
              "      <td>-1190.0</td>\n",
              "      <td>-2.26</td>\n",
              "      <td>-1497.0</td>\n",
              "      <td>-487.62</td>\n",
              "    </tr>\n",
              "    <tr>\n",
              "      <th>1997-01-01</th>\n",
              "      <td>51575</td>\n",
              "      <td>179.0</td>\n",
              "      <td>0.35</td>\n",
              "      <td>1369.0</td>\n",
              "      <td>-115.04</td>\n",
              "    </tr>\n",
              "    <tr>\n",
              "      <th>1998-01-01</th>\n",
              "      <td>51726</td>\n",
              "      <td>151.0</td>\n",
              "      <td>0.29</td>\n",
              "      <td>-28.0</td>\n",
              "      <td>-15.64</td>\n",
              "    </tr>\n",
              "    <tr>\n",
              "      <th>1999-01-01</th>\n",
              "      <td>51878</td>\n",
              "      <td>152.0</td>\n",
              "      <td>0.29</td>\n",
              "      <td>1.0</td>\n",
              "      <td>0.66</td>\n",
              "    </tr>\n",
              "    <tr>\n",
              "      <th>2000-01-01</th>\n",
              "      <td>54715</td>\n",
              "      <td>2837.0</td>\n",
              "      <td>5.47</td>\n",
              "      <td>2685.0</td>\n",
              "      <td>1766.45</td>\n",
              "    </tr>\n",
              "    <tr>\n",
              "      <th>2001-01-01</th>\n",
              "      <td>55132</td>\n",
              "      <td>417.0</td>\n",
              "      <td>0.76</td>\n",
              "      <td>-2420.0</td>\n",
              "      <td>-85.30</td>\n",
              "    </tr>\n",
              "    <tr>\n",
              "      <th>2002-01-01</th>\n",
              "      <td>55439</td>\n",
              "      <td>307.0</td>\n",
              "      <td>0.56</td>\n",
              "      <td>-110.0</td>\n",
              "      <td>-26.38</td>\n",
              "    </tr>\n",
              "    <tr>\n",
              "      <th>2003-01-01</th>\n",
              "      <td>55775</td>\n",
              "      <td>336.0</td>\n",
              "      <td>0.61</td>\n",
              "      <td>29.0</td>\n",
              "      <td>9.45</td>\n",
              "    </tr>\n",
              "    <tr>\n",
              "      <th>2004-01-01</th>\n",
              "      <td>56481</td>\n",
              "      <td>706.0</td>\n",
              "      <td>1.27</td>\n",
              "      <td>370.0</td>\n",
              "      <td>110.12</td>\n",
              "    </tr>\n",
              "    <tr>\n",
              "      <th>2005-01-01</th>\n",
              "      <td>56871</td>\n",
              "      <td>390.0</td>\n",
              "      <td>0.69</td>\n",
              "      <td>-316.0</td>\n",
              "      <td>-44.76</td>\n",
              "    </tr>\n",
              "    <tr>\n",
              "      <th>2006-01-01</th>\n",
              "      <td>57259</td>\n",
              "      <td>388.0</td>\n",
              "      <td>0.68</td>\n",
              "      <td>-2.0</td>\n",
              "      <td>-0.51</td>\n",
              "    </tr>\n",
              "    <tr>\n",
              "      <th>2007-01-01</th>\n",
              "      <td>56051</td>\n",
              "      <td>-1208.0</td>\n",
              "      <td>-2.11</td>\n",
              "      <td>-1596.0</td>\n",
              "      <td>-411.34</td>\n",
              "    </tr>\n",
              "    <tr>\n",
              "      <th>2008-01-01</th>\n",
              "      <td>57627</td>\n",
              "      <td>1576.0</td>\n",
              "      <td>2.81</td>\n",
              "      <td>2784.0</td>\n",
              "      <td>-230.46</td>\n",
              "    </tr>\n",
              "    <tr>\n",
              "      <th>2009-01-01</th>\n",
              "      <td>57875</td>\n",
              "      <td>248.0</td>\n",
              "      <td>0.43</td>\n",
              "      <td>-1328.0</td>\n",
              "      <td>-84.26</td>\n",
              "    </tr>\n",
              "    <tr>\n",
              "      <th>2010-01-01</th>\n",
              "      <td>58446</td>\n",
              "      <td>571.0</td>\n",
              "      <td>0.99</td>\n",
              "      <td>323.0</td>\n",
              "      <td>130.24</td>\n",
              "    </tr>\n",
              "    <tr>\n",
              "      <th>2011-01-01</th>\n",
              "      <td>58794</td>\n",
              "      <td>348.0</td>\n",
              "      <td>0.60</td>\n",
              "      <td>-223.0</td>\n",
              "      <td>-39.05</td>\n",
              "    </tr>\n",
              "    <tr>\n",
              "      <th>2012-01-01</th>\n",
              "      <td>59130</td>\n",
              "      <td>336.0</td>\n",
              "      <td>0.57</td>\n",
              "      <td>-12.0</td>\n",
              "      <td>-3.45</td>\n",
              "    </tr>\n",
              "    <tr>\n",
              "      <th>2013-01-01</th>\n",
              "      <td>60612</td>\n",
              "      <td>1482.0</td>\n",
              "      <td>2.51</td>\n",
              "      <td>1146.0</td>\n",
              "      <td>341.07</td>\n",
              "    </tr>\n",
              "    <tr>\n",
              "      <th>2014-01-01</th>\n",
              "      <td>61030</td>\n",
              "      <td>418.0</td>\n",
              "      <td>0.69</td>\n",
              "      <td>-1064.0</td>\n",
              "      <td>-71.79</td>\n",
              "    </tr>\n",
              "    <tr>\n",
              "      <th>2015-01-01</th>\n",
              "      <td>61431</td>\n",
              "      <td>401.0</td>\n",
              "      <td>0.66</td>\n",
              "      <td>-17.0</td>\n",
              "      <td>-4.07</td>\n",
              "    </tr>\n",
              "    <tr>\n",
              "      <th>2016-01-01</th>\n",
              "      <td>61816</td>\n",
              "      <td>385.0</td>\n",
              "      <td>0.63</td>\n",
              "      <td>-16.0</td>\n",
              "      <td>-3.99</td>\n",
              "    </tr>\n",
              "    <tr>\n",
              "      <th>2017-01-01</th>\n",
              "      <td>62187</td>\n",
              "      <td>371.0</td>\n",
              "      <td>0.60</td>\n",
              "      <td>-14.0</td>\n",
              "      <td>-3.64</td>\n",
              "    </tr>\n",
              "    <tr>\n",
              "      <th>2018-01-01</th>\n",
              "      <td>61776</td>\n",
              "      <td>-411.0</td>\n",
              "      <td>-0.66</td>\n",
              "      <td>-782.0</td>\n",
              "      <td>-210.78</td>\n",
              "    </tr>\n",
              "    <tr>\n",
              "      <th>2019-01-01</th>\n",
              "      <td>61993</td>\n",
              "      <td>217.0</td>\n",
              "      <td>0.35</td>\n",
              "      <td>628.0</td>\n",
              "      <td>-152.80</td>\n",
              "    </tr>\n",
              "    <tr>\n",
              "      <th>2020-01-01</th>\n",
              "      <td>62289</td>\n",
              "      <td>296.0</td>\n",
              "      <td>0.48</td>\n",
              "      <td>79.0</td>\n",
              "      <td>36.41</td>\n",
              "    </tr>\n",
              "    <tr>\n",
              "      <th>2021-01-01</th>\n",
              "      <td>62576</td>\n",
              "      <td>287.0</td>\n",
              "      <td>0.46</td>\n",
              "      <td>-9.0</td>\n",
              "      <td>-3.04</td>\n",
              "    </tr>\n",
              "  </tbody>\n",
              "</table>\n",
              "</div>\n",
              "      <button class=\"colab-df-convert\" onclick=\"convertToInteractive('df-47afe818-d3ce-4347-afb2-f838612af135')\"\n",
              "              title=\"Convert this dataframe to an interactive table.\"\n",
              "              style=\"display:none;\">\n",
              "        \n",
              "  <svg xmlns=\"http://www.w3.org/2000/svg\" height=\"24px\"viewBox=\"0 0 24 24\"\n",
              "       width=\"24px\">\n",
              "    <path d=\"M0 0h24v24H0V0z\" fill=\"none\"/>\n",
              "    <path d=\"M18.56 5.44l.94 2.06.94-2.06 2.06-.94-2.06-.94-.94-2.06-.94 2.06-2.06.94zm-11 1L8.5 8.5l.94-2.06 2.06-.94-2.06-.94L8.5 2.5l-.94 2.06-2.06.94zm10 10l.94 2.06.94-2.06 2.06-.94-2.06-.94-.94-2.06-.94 2.06-2.06.94z\"/><path d=\"M17.41 7.96l-1.37-1.37c-.4-.4-.92-.59-1.43-.59-.52 0-1.04.2-1.43.59L10.3 9.45l-7.72 7.72c-.78.78-.78 2.05 0 2.83L4 21.41c.39.39.9.59 1.41.59.51 0 1.02-.2 1.41-.59l7.78-7.78 2.81-2.81c.8-.78.8-2.07 0-2.86zM5.41 20L4 18.59l7.72-7.72 1.47 1.35L5.41 20z\"/>\n",
              "  </svg>\n",
              "      </button>\n",
              "      \n",
              "  <style>\n",
              "    .colab-df-container {\n",
              "      display:flex;\n",
              "      flex-wrap:wrap;\n",
              "      gap: 12px;\n",
              "    }\n",
              "\n",
              "    .colab-df-convert {\n",
              "      background-color: #E8F0FE;\n",
              "      border: none;\n",
              "      border-radius: 50%;\n",
              "      cursor: pointer;\n",
              "      display: none;\n",
              "      fill: #1967D2;\n",
              "      height: 32px;\n",
              "      padding: 0 0 0 0;\n",
              "      width: 32px;\n",
              "    }\n",
              "\n",
              "    .colab-df-convert:hover {\n",
              "      background-color: #E2EBFA;\n",
              "      box-shadow: 0px 1px 2px rgba(60, 64, 67, 0.3), 0px 1px 3px 1px rgba(60, 64, 67, 0.15);\n",
              "      fill: #174EA6;\n",
              "    }\n",
              "\n",
              "    [theme=dark] .colab-df-convert {\n",
              "      background-color: #3B4455;\n",
              "      fill: #D2E3FC;\n",
              "    }\n",
              "\n",
              "    [theme=dark] .colab-df-convert:hover {\n",
              "      background-color: #434B5C;\n",
              "      box-shadow: 0px 1px 3px 1px rgba(0, 0, 0, 0.15);\n",
              "      filter: drop-shadow(0px 1px 2px rgba(0, 0, 0, 0.3));\n",
              "      fill: #FFFFFF;\n",
              "    }\n",
              "  </style>\n",
              "\n",
              "      <script>\n",
              "        const buttonEl =\n",
              "          document.querySelector('#df-47afe818-d3ce-4347-afb2-f838612af135 button.colab-df-convert');\n",
              "        buttonEl.style.display =\n",
              "          google.colab.kernel.accessAllowed ? 'block' : 'none';\n",
              "\n",
              "        async function convertToInteractive(key) {\n",
              "          const element = document.querySelector('#df-47afe818-d3ce-4347-afb2-f838612af135');\n",
              "          const dataTable =\n",
              "            await google.colab.kernel.invokeFunction('convertToInteractive',\n",
              "                                                     [key], {});\n",
              "          if (!dataTable) return;\n",
              "\n",
              "          const docLinkHtml = 'Like what you see? Visit the ' +\n",
              "            '<a target=\"_blank\" href=https://colab.research.google.com/notebooks/data_table.ipynb>data table notebook</a>'\n",
              "            + ' to learn more about interactive tables.';\n",
              "          element.innerHTML = '';\n",
              "          dataTable['output_type'] = 'display_data';\n",
              "          await google.colab.output.renderOutput(dataTable, element);\n",
              "          const docLink = document.createElement('div');\n",
              "          docLink.innerHTML = docLinkHtml;\n",
              "          element.appendChild(docLink);\n",
              "        }\n",
              "      </script>\n",
              "    </div>\n",
              "  </div>\n",
              "  "
            ],
            "text/plain": [
              "            populacao  variacao_anual  porcentagem_variacao_anual_%  \\\n",
              "ano                                                                   \n",
              "1991-01-01      51273             NaN                           NaN   \n",
              "1992-01-01      51530           257.0                          0.50   \n",
              "1993-01-01      51965           435.0                          0.84   \n",
              "1994-01-01      52279           314.0                          0.60   \n",
              "1995-01-01      52586           307.0                          0.59   \n",
              "1996-01-01      51396         -1190.0                         -2.26   \n",
              "1997-01-01      51575           179.0                          0.35   \n",
              "1998-01-01      51726           151.0                          0.29   \n",
              "1999-01-01      51878           152.0                          0.29   \n",
              "2000-01-01      54715          2837.0                          5.47   \n",
              "2001-01-01      55132           417.0                          0.76   \n",
              "2002-01-01      55439           307.0                          0.56   \n",
              "2003-01-01      55775           336.0                          0.61   \n",
              "2004-01-01      56481           706.0                          1.27   \n",
              "2005-01-01      56871           390.0                          0.69   \n",
              "2006-01-01      57259           388.0                          0.68   \n",
              "2007-01-01      56051         -1208.0                         -2.11   \n",
              "2008-01-01      57627          1576.0                          2.81   \n",
              "2009-01-01      57875           248.0                          0.43   \n",
              "2010-01-01      58446           571.0                          0.99   \n",
              "2011-01-01      58794           348.0                          0.60   \n",
              "2012-01-01      59130           336.0                          0.57   \n",
              "2013-01-01      60612          1482.0                          2.51   \n",
              "2014-01-01      61030           418.0                          0.69   \n",
              "2015-01-01      61431           401.0                          0.66   \n",
              "2016-01-01      61816           385.0                          0.63   \n",
              "2017-01-01      62187           371.0                          0.60   \n",
              "2018-01-01      61776          -411.0                         -0.66   \n",
              "2019-01-01      61993           217.0                          0.35   \n",
              "2020-01-01      62289           296.0                          0.48   \n",
              "2021-01-01      62576           287.0                          0.46   \n",
              "\n",
              "            aceleracao_variacao_anual  porcentagem_aceleracao_variacao_anual_%  \n",
              "ano                                                                             \n",
              "1991-01-01                        NaN                                      NaN  \n",
              "1992-01-01                        NaN                                      NaN  \n",
              "1993-01-01                      178.0                                    69.26  \n",
              "1994-01-01                     -121.0                                   -27.82  \n",
              "1995-01-01                       -7.0                                    -2.23  \n",
              "1996-01-01                    -1497.0                                  -487.62  \n",
              "1997-01-01                     1369.0                                  -115.04  \n",
              "1998-01-01                      -28.0                                   -15.64  \n",
              "1999-01-01                        1.0                                     0.66  \n",
              "2000-01-01                     2685.0                                  1766.45  \n",
              "2001-01-01                    -2420.0                                   -85.30  \n",
              "2002-01-01                     -110.0                                   -26.38  \n",
              "2003-01-01                       29.0                                     9.45  \n",
              "2004-01-01                      370.0                                   110.12  \n",
              "2005-01-01                     -316.0                                   -44.76  \n",
              "2006-01-01                       -2.0                                    -0.51  \n",
              "2007-01-01                    -1596.0                                  -411.34  \n",
              "2008-01-01                     2784.0                                  -230.46  \n",
              "2009-01-01                    -1328.0                                   -84.26  \n",
              "2010-01-01                      323.0                                   130.24  \n",
              "2011-01-01                     -223.0                                   -39.05  \n",
              "2012-01-01                      -12.0                                    -3.45  \n",
              "2013-01-01                     1146.0                                   341.07  \n",
              "2014-01-01                    -1064.0                                   -71.79  \n",
              "2015-01-01                      -17.0                                    -4.07  \n",
              "2016-01-01                      -16.0                                    -3.99  \n",
              "2017-01-01                      -14.0                                    -3.64  \n",
              "2018-01-01                     -782.0                                  -210.78  \n",
              "2019-01-01                      628.0                                  -152.80  \n",
              "2020-01-01                       79.0                                    36.41  \n",
              "2021-01-01                       -9.0                                    -3.04  "
            ]
          },
          "execution_count": 28,
          "metadata": {},
          "output_type": "execute_result"
        }
      ],
      "source": [
        "df_ibge_populacao_index_ano['variacao_anual'] = df_ibge_populacao_index_ano['populacao'].diff()\n",
        "df_ibge_populacao_index_ano['porcentagem_variacao_anual_%'] = ((df_ibge_populacao_index_ano['variacao_anual'] / df_ibge_populacao_index_ano['populacao'].shift(1)) * 100).round(2)\n",
        "df_ibge_populacao_index_ano['aceleracao_variacao_anual'] = df_ibge_populacao_index_ano['variacao_anual'].diff()\n",
        "df_ibge_populacao_index_ano['porcentagem_aceleracao_variacao_anual_%'] = ((df_ibge_populacao_index_ano['aceleracao_variacao_anual'] / df_ibge_populacao_index_ano['variacao_anual'].shift(1)) * 100).round(2)\n",
        "df_ibge_populacao_index_ano"
      ]
    },
    {
      "cell_type": "code",
      "execution_count": null,
      "metadata": {
        "colab": {
          "base_uri": "https://localhost:8080/",
          "height": 468
        },
        "id": "xoUKPuisHles",
        "outputId": "15dd48a5-4808-4a5e-9a37-d2aba08cba3c"
      },
      "outputs": [
        {
          "data": {
            "image/png": "[encoded data removed]",
            "text/plain": [
              "<Figure size 1000x500 with 1 Axes>"
            ]
          },
          "metadata": {},
          "output_type": "display_data"
        }
      ],
      "source": [
        "# Plota o gráfico de linha com as séries temporais\n",
        "fig, ax = plt.subplots(figsize=(10, 5))\n",
        "\n",
        "ax.plot(df_ibge_populacao_index_ano.index, df_ibge_populacao_index_ano['variacao_anual'], label='Variação')\n",
        "\n",
        "# Adiciona legenda e título ao gráfico\n",
        "ax.legend()\n",
        "ax.set_title('Variação Anual Populacional Cajazeirense entre 1991 e 2021 - IBGE')\n",
        "\n",
        "# Exibe o gráfico\n",
        "plt.show()"
      ]
    },
    {
      "cell_type": "code",
      "execution_count": null,
      "metadata": {
        "colab": {
          "base_uri": "https://localhost:8080/",
          "height": 468
        },
        "id": "a_0U0Ae7H8CX",
        "outputId": "15c513a8-b83a-400e-a334-87ac7f2de79f"
      },
      "outputs": [
        {
          "data": {
            "image/png": "[encoded data removed]",
            "text/plain": [
              "<Figure size 1000x500 with 1 Axes>"
            ]
          },
          "metadata": {},
          "output_type": "display_data"
        }
      ],
      "source": [
        "# Plota o gráfico de linha com as séries temporais\n",
        "fig, ax = plt.subplots(figsize=(10, 5))\n",
        "\n",
        "ax.plot(df_ibge_populacao_index_ano.index, df_ibge_populacao_index_ano['aceleracao_variacao_anual'], label='Aceleração')\n",
        "\n",
        "# Adiciona legenda e título ao gráfico\n",
        "ax.legend()\n",
        "ax.set_title('Aceleração Crescimento Anual Populacional Cajazeirense entre 1991 e 2021 - IBGE')\n",
        "\n",
        "# Exibe o gráfico\n",
        "plt.show()"
      ]
    },
    {
      "cell_type": "code",
      "execution_count": null,
      "metadata": {
        "id": "jMNd5SQHNpJi"
      },
      "outputs": [],
      "source": []
    },
    {
      "cell_type": "code",
      "execution_count": null,
      "metadata": {
        "colab": {
          "base_uri": "https://localhost:8080/"
        },
        "id": "SXNc479PIdx9",
        "outputId": "9473b218-6404-4d8c-f1c1-fbfc1128393f"
      },
      "outputs": [
        {
          "data": {
            "text/plain": [
              "11303.0"
            ]
          },
          "execution_count": 31,
          "metadata": {},
          "output_type": "execute_result"
        }
      ],
      "source": [
        "df_ibge_populacao_index_ano['variacao_anual'].sum()"
      ]
    },
    {
      "cell_type": "code",
      "execution_count": null,
      "metadata": {
        "colab": {
          "base_uri": "https://localhost:8080/"
        },
        "id": "yZM9Ghv8KLwL",
        "outputId": "51cf668f-9253-4709-dea3-4e19a684a349"
      },
      "outputs": [
        {
          "data": {
            "text/plain": [
              "30.0"
            ]
          },
          "execution_count": 32,
          "metadata": {},
          "output_type": "execute_result"
        }
      ],
      "source": [
        "df_ibge_populacao_index_ano['aceleracao_variacao_anual'].sum()"
      ]
    },
    {
      "cell_type": "code",
      "execution_count": null,
      "metadata": {
        "colab": {
          "base_uri": "https://localhost:8080/"
        },
        "id": "y8biiBQ5M2HO",
        "outputId": "1eaf2955-da36-4a2a-96a9-9b2e48e78426"
      },
      "outputs": [
        {
          "data": {
            "text/plain": [
              "20.25"
            ]
          },
          "execution_count": 33,
          "metadata": {},
          "output_type": "execute_result"
        }
      ],
      "source": [
        "(df_ibge_populacao_index_ano['porcentagem_variacao_anual_%'].sum()).round(2)"
      ]
    },
    {
      "cell_type": "code",
      "execution_count": null,
      "metadata": {
        "colab": {
          "base_uri": "https://localhost:8080/"
        },
        "id": "JgnFTjr-M1-0",
        "outputId": "9944b986-91ee-4980-923a-b838a92188e2"
      },
      "outputs": [
        {
          "data": {
            "text/plain": [
              "14.18"
            ]
          },
          "execution_count": 34,
          "metadata": {},
          "output_type": "execute_result"
        }
      ],
      "source": [
        "media_aceleracao = ((df_ibge_populacao_index_ano['porcentagem_aceleracao_variacao_anual_%'].sum())/df_ibge_populacao_index_ano.shape[0]).round(2)\n",
        "media_aceleracao"
      ]
    },
    {
      "cell_type": "code",
      "execution_count": null,
      "metadata": {
        "id": "zAijiO-2M_Vp"
      },
      "outputs": [],
      "source": []
    },
    {
      "cell_type": "code",
      "execution_count": null,
      "metadata": {
        "id": "iBDYPX5dNtYo"
      },
      "outputs": [],
      "source": []
    }
  ],
  "metadata": {
    "colab": {
      "provenance": []
    },
    "kernelspec": {
      "display_name": "Python 3",
      "name": "python3"
    },
    "language_info": {
      "codemirror_mode": {
        "name": "ipython",
        "version": 3
      },
      "file_extension": ".py",
      "mimetype": "text/x-python",
      "name": "python",
      "nbconvert_exporter": "python",
      "pygments_lexer": "ipython3",
      "version": "3.9.16"
    }
  },
  "nbformat": 4,
  "nbformat_minor": 0
}
