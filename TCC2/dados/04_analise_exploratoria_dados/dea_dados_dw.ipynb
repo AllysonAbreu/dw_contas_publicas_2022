{
 "cells": [
  {
   "attachments": {},
   "cell_type": "markdown",
   "metadata": {},
   "source": [
    "# Imports necessários"
   ]
  },
  {
   "cell_type": "code",
   "execution_count": 47,
   "metadata": {},
   "outputs": [],
   "source": [
    "import numpy as np\n",
    "import pandas as pd\n",
    "import pyodbc\n",
    "from dotenv import load_dotenv\n",
    "import os\n",
    "from sklearn.linear_model import LinearRegression\n",
    "from sklearn.model_selection import train_test_split\n",
    "from sklearn.metrics import r2_score"
   ]
  },
  {
   "attachments": {},
   "cell_type": "markdown",
   "metadata": {},
   "source": [
    "# Conexão e query's"
   ]
  },
  {
   "attachments": {},
   "cell_type": "markdown",
   "metadata": {},
   "source": [
    "### Conexão com o DB"
   ]
  },
  {
   "cell_type": "code",
   "execution_count": 3,
   "metadata": {},
   "outputs": [],
   "source": [
    "def connect_db():\n",
    "    load_dotenv()  # carrega as variáveis de ambiente do arquivo .env\n",
    "\n",
    "    server = os.getenv('DB_SERVER')\n",
    "    database = os.getenv('DB_DATABASE')\n",
    "    username = os.getenv('DB_USERNAME')\n",
    "    password = os.getenv('DB_PASSWORD')\n",
    "\n",
    "    global cnxn\n",
    "    if 'cnxn' in globals():\n",
    "        try:\n",
    "            cnxn.close()\n",
    "            print('Conexão anterior fechada com sucesso.')\n",
    "            return None\n",
    "        except Exception as e:\n",
    "            print(f'Não foi possível fechar a conexão anterior. Erro: {e}')\n",
    "\n",
    "    try:\n",
    "        cnxn = pyodbc.connect(f\"DRIVER={{ODBC Driver 17 for SQL Server}};SERVER={server};DATABASE={database};UID={username};PWD={password}\")\n",
    "        print('Conexão bem sucedida.')\n",
    "        return cnxn\n",
    "    except Exception as err:\n",
    "        print(f'Conexão mal sucedida. Erro {err}')\n",
    "        return None"
   ]
  },
  {
   "attachments": {},
   "cell_type": "markdown",
   "metadata": {},
   "source": [
    "### Querys de busca no DB"
   ]
  },
  {
   "cell_type": "code",
   "execution_count": 4,
   "metadata": {},
   "outputs": [],
   "source": [
    "query_get_data_receitas = 'SELECT * FROM dbo.Fato_Receita'"
   ]
  },
  {
   "attachments": {},
   "cell_type": "markdown",
   "metadata": {},
   "source": [
    "# Import dos dados constantes no DW"
   ]
  },
  {
   "attachments": {},
   "cell_type": "markdown",
   "metadata": {},
   "source": [
    "## Dados sobre as Receitas"
   ]
  },
  {
   "cell_type": "code",
   "execution_count": 5,
   "metadata": {},
   "outputs": [
    {
     "name": "stdout",
     "output_type": "stream",
     "text": [
      "Conexão bem sucedida.\n"
     ]
    },
    {
     "name": "stderr",
     "output_type": "stream",
     "text": [
      "C:\\Users\\allys\\AppData\\Local\\Temp\\ipykernel_17920\\1582883830.py:1: UserWarning: pandas only supports SQLAlchemy connectable (engine/connection) or database string URI or sqlite3 DBAPI2 connection. Other DBAPI2 objects are not tested. Please consider using SQLAlchemy.\n",
      "  df_receitas = pd.read_sql(query_get_data_receitas, connect_db())\n"
     ]
    },
    {
     "name": "stdout",
     "output_type": "stream",
     "text": [
      "Conexão anterior fechada com sucesso.\n"
     ]
    },
    {
     "data": {
      "text/html": [
       "<div>\n",
       "<style scoped>\n",
       "    .dataframe tbody tr th:only-of-type {\n",
       "        vertical-align: middle;\n",
       "    }\n",
       "\n",
       "    .dataframe tbody tr th {\n",
       "        vertical-align: top;\n",
       "    }\n",
       "\n",
       "    .dataframe thead th {\n",
       "        text-align: right;\n",
       "    }\n",
       "</style>\n",
       "<table border=\"1\" class=\"dataframe\">\n",
       "  <thead>\n",
       "    <tr style=\"text-align: right;\">\n",
       "      <th></th>\n",
       "      <th>id</th>\n",
       "      <th>uid_fato_receita</th>\n",
       "      <th>cod_receita</th>\n",
       "      <th>data_fato</th>\n",
       "      <th>contribuinte_receita</th>\n",
       "      <th>valor</th>\n",
       "    </tr>\n",
       "  </thead>\n",
       "  <tbody>\n",
       "    <tr>\n",
       "      <th>0</th>\n",
       "      <td>1</td>\n",
       "      <td>229F9CDC-2494-4933-B43E-9ADD784F01B1</td>\n",
       "      <td>1722010101</td>\n",
       "      <td>2013-01-03</td>\n",
       "      <td>886cd0eabf5a18</td>\n",
       "      <td>185560.68</td>\n",
       "    </tr>\n",
       "    <tr>\n",
       "      <th>1</th>\n",
       "      <td>2</td>\n",
       "      <td>B8D6B25C-8928-4887-B189-0D9B5D17E11D</td>\n",
       "      <td>1722010101</td>\n",
       "      <td>2013-01-04</td>\n",
       "      <td>886cd0eabf5a18</td>\n",
       "      <td>8081.80</td>\n",
       "    </tr>\n",
       "    <tr>\n",
       "      <th>2</th>\n",
       "      <td>3</td>\n",
       "      <td>F63D84B9-0BF1-46AD-B381-AF189BF428BF</td>\n",
       "      <td>1722010101</td>\n",
       "      <td>2013-01-07</td>\n",
       "      <td>886cd0eabf5a18</td>\n",
       "      <td>4231.39</td>\n",
       "    </tr>\n",
       "    <tr>\n",
       "      <th>3</th>\n",
       "      <td>4</td>\n",
       "      <td>F645121D-AA82-4EDB-8A86-7F41154D65AF</td>\n",
       "      <td>1722010101</td>\n",
       "      <td>2013-01-08</td>\n",
       "      <td>886cd0eabf5a18</td>\n",
       "      <td>10536.53</td>\n",
       "    </tr>\n",
       "    <tr>\n",
       "      <th>4</th>\n",
       "      <td>5</td>\n",
       "      <td>28DE0FD1-6032-4A2C-B16F-F250E9B31DD1</td>\n",
       "      <td>1722010101</td>\n",
       "      <td>2013-01-15</td>\n",
       "      <td>886cd0eabf5a18</td>\n",
       "      <td>103118.27</td>\n",
       "    </tr>\n",
       "    <tr>\n",
       "      <th>...</th>\n",
       "      <td>...</td>\n",
       "      <td>...</td>\n",
       "      <td>...</td>\n",
       "      <td>...</td>\n",
       "      <td>...</td>\n",
       "      <td>...</td>\n",
       "    </tr>\n",
       "    <tr>\n",
       "      <th>102288</th>\n",
       "      <td>102289</td>\n",
       "      <td>EF8465D6-48C6-44C8-9741-FEB45515F37B</td>\n",
       "      <td>191101011</td>\n",
       "      <td>2022-01-19</td>\n",
       "      <td>e6da541375c18b</td>\n",
       "      <td>4374.24</td>\n",
       "    </tr>\n",
       "    <tr>\n",
       "      <th>102289</th>\n",
       "      <td>102290</td>\n",
       "      <td>DEDC9308-3ED5-498A-A904-E9551AC67411</td>\n",
       "      <td>112101011</td>\n",
       "      <td>2022-01-18</td>\n",
       "      <td>e6da541375c18b</td>\n",
       "      <td>228.00</td>\n",
       "    </tr>\n",
       "    <tr>\n",
       "      <th>102290</th>\n",
       "      <td>102291</td>\n",
       "      <td>1DDFCD5B-3F8A-4C08-B899-4331C5011C02</td>\n",
       "      <td>191101011</td>\n",
       "      <td>2022-01-18</td>\n",
       "      <td>e6da541375c18b</td>\n",
       "      <td>3758.69</td>\n",
       "    </tr>\n",
       "    <tr>\n",
       "      <th>102291</th>\n",
       "      <td>102292</td>\n",
       "      <td>CC42EB8D-FF4C-4126-81A9-01FE36DF882D</td>\n",
       "      <td>112101011</td>\n",
       "      <td>2022-01-17</td>\n",
       "      <td>e6da541375c18b</td>\n",
       "      <td>4297.00</td>\n",
       "    </tr>\n",
       "    <tr>\n",
       "      <th>102292</th>\n",
       "      <td>102293</td>\n",
       "      <td>32F30BB0-4086-45BF-9769-288B5D9F1AFD</td>\n",
       "      <td>191101011</td>\n",
       "      <td>2022-01-17</td>\n",
       "      <td>e6da541375c18b</td>\n",
       "      <td>78032.06</td>\n",
       "    </tr>\n",
       "  </tbody>\n",
       "</table>\n",
       "<p>102293 rows × 6 columns</p>\n",
       "</div>"
      ],
      "text/plain": [
       "            id                      uid_fato_receita  cod_receita  data_fato  \\\n",
       "0            1  229F9CDC-2494-4933-B43E-9ADD784F01B1   1722010101 2013-01-03   \n",
       "1            2  B8D6B25C-8928-4887-B189-0D9B5D17E11D   1722010101 2013-01-04   \n",
       "2            3  F63D84B9-0BF1-46AD-B381-AF189BF428BF   1722010101 2013-01-07   \n",
       "3            4  F645121D-AA82-4EDB-8A86-7F41154D65AF   1722010101 2013-01-08   \n",
       "4            5  28DE0FD1-6032-4A2C-B16F-F250E9B31DD1   1722010101 2013-01-15   \n",
       "...        ...                                   ...          ...        ...   \n",
       "102288  102289  EF8465D6-48C6-44C8-9741-FEB45515F37B    191101011 2022-01-19   \n",
       "102289  102290  DEDC9308-3ED5-498A-A904-E9551AC67411    112101011 2022-01-18   \n",
       "102290  102291  1DDFCD5B-3F8A-4C08-B899-4331C5011C02    191101011 2022-01-18   \n",
       "102291  102292  CC42EB8D-FF4C-4126-81A9-01FE36DF882D    112101011 2022-01-17   \n",
       "102292  102293  32F30BB0-4086-45BF-9769-288B5D9F1AFD    191101011 2022-01-17   \n",
       "\n",
       "       contribuinte_receita      valor  \n",
       "0            886cd0eabf5a18  185560.68  \n",
       "1            886cd0eabf5a18    8081.80  \n",
       "2            886cd0eabf5a18    4231.39  \n",
       "3            886cd0eabf5a18   10536.53  \n",
       "4            886cd0eabf5a18  103118.27  \n",
       "...                     ...        ...  \n",
       "102288       e6da541375c18b    4374.24  \n",
       "102289       e6da541375c18b     228.00  \n",
       "102290       e6da541375c18b    3758.69  \n",
       "102291       e6da541375c18b    4297.00  \n",
       "102292       e6da541375c18b   78032.06  \n",
       "\n",
       "[102293 rows x 6 columns]"
      ]
     },
     "execution_count": 5,
     "metadata": {},
     "output_type": "execute_result"
    }
   ],
   "source": [
    "df_receitas = pd.read_sql(query_get_data_receitas, connect_db())\n",
    "connect_db()\n",
    "df_receitas"
   ]
  },
  {
   "cell_type": "code",
   "execution_count": 31,
   "metadata": {},
   "outputs": [
    {
     "data": {
      "text/html": [
       "<div>\n",
       "<style scoped>\n",
       "    .dataframe tbody tr th:only-of-type {\n",
       "        vertical-align: middle;\n",
       "    }\n",
       "\n",
       "    .dataframe tbody tr th {\n",
       "        vertical-align: top;\n",
       "    }\n",
       "\n",
       "    .dataframe thead th {\n",
       "        text-align: right;\n",
       "    }\n",
       "</style>\n",
       "<table border=\"1\" class=\"dataframe\">\n",
       "  <thead>\n",
       "    <tr style=\"text-align: right;\">\n",
       "      <th></th>\n",
       "      <th>cod_receita</th>\n",
       "      <th>data_fato</th>\n",
       "      <th>contribuinte_receita</th>\n",
       "      <th>valor</th>\n",
       "      <th>ano</th>\n",
       "      <th>mes</th>\n",
       "      <th>dia</th>\n",
       "    </tr>\n",
       "  </thead>\n",
       "  <tbody>\n",
       "    <tr>\n",
       "      <th>0</th>\n",
       "      <td>1722010101</td>\n",
       "      <td>2013-01-03</td>\n",
       "      <td>886cd0eabf5a18</td>\n",
       "      <td>185560.68</td>\n",
       "      <td>2013</td>\n",
       "      <td>1</td>\n",
       "      <td>3</td>\n",
       "    </tr>\n",
       "    <tr>\n",
       "      <th>1</th>\n",
       "      <td>1722010101</td>\n",
       "      <td>2013-01-04</td>\n",
       "      <td>886cd0eabf5a18</td>\n",
       "      <td>8081.80</td>\n",
       "      <td>2013</td>\n",
       "      <td>1</td>\n",
       "      <td>4</td>\n",
       "    </tr>\n",
       "    <tr>\n",
       "      <th>2</th>\n",
       "      <td>1722010101</td>\n",
       "      <td>2013-01-07</td>\n",
       "      <td>886cd0eabf5a18</td>\n",
       "      <td>4231.39</td>\n",
       "      <td>2013</td>\n",
       "      <td>1</td>\n",
       "      <td>7</td>\n",
       "    </tr>\n",
       "    <tr>\n",
       "      <th>3</th>\n",
       "      <td>1722010101</td>\n",
       "      <td>2013-01-08</td>\n",
       "      <td>886cd0eabf5a18</td>\n",
       "      <td>10536.53</td>\n",
       "      <td>2013</td>\n",
       "      <td>1</td>\n",
       "      <td>8</td>\n",
       "    </tr>\n",
       "    <tr>\n",
       "      <th>4</th>\n",
       "      <td>1722010101</td>\n",
       "      <td>2013-01-15</td>\n",
       "      <td>886cd0eabf5a18</td>\n",
       "      <td>103118.27</td>\n",
       "      <td>2013</td>\n",
       "      <td>1</td>\n",
       "      <td>15</td>\n",
       "    </tr>\n",
       "    <tr>\n",
       "      <th>...</th>\n",
       "      <td>...</td>\n",
       "      <td>...</td>\n",
       "      <td>...</td>\n",
       "      <td>...</td>\n",
       "      <td>...</td>\n",
       "      <td>...</td>\n",
       "      <td>...</td>\n",
       "    </tr>\n",
       "    <tr>\n",
       "      <th>102288</th>\n",
       "      <td>191101011</td>\n",
       "      <td>2022-01-19</td>\n",
       "      <td>e6da541375c18b</td>\n",
       "      <td>4374.24</td>\n",
       "      <td>2022</td>\n",
       "      <td>1</td>\n",
       "      <td>19</td>\n",
       "    </tr>\n",
       "    <tr>\n",
       "      <th>102289</th>\n",
       "      <td>112101011</td>\n",
       "      <td>2022-01-18</td>\n",
       "      <td>e6da541375c18b</td>\n",
       "      <td>228.00</td>\n",
       "      <td>2022</td>\n",
       "      <td>1</td>\n",
       "      <td>18</td>\n",
       "    </tr>\n",
       "    <tr>\n",
       "      <th>102290</th>\n",
       "      <td>191101011</td>\n",
       "      <td>2022-01-18</td>\n",
       "      <td>e6da541375c18b</td>\n",
       "      <td>3758.69</td>\n",
       "      <td>2022</td>\n",
       "      <td>1</td>\n",
       "      <td>18</td>\n",
       "    </tr>\n",
       "    <tr>\n",
       "      <th>102291</th>\n",
       "      <td>112101011</td>\n",
       "      <td>2022-01-17</td>\n",
       "      <td>e6da541375c18b</td>\n",
       "      <td>4297.00</td>\n",
       "      <td>2022</td>\n",
       "      <td>1</td>\n",
       "      <td>17</td>\n",
       "    </tr>\n",
       "    <tr>\n",
       "      <th>102292</th>\n",
       "      <td>191101011</td>\n",
       "      <td>2022-01-17</td>\n",
       "      <td>e6da541375c18b</td>\n",
       "      <td>78032.06</td>\n",
       "      <td>2022</td>\n",
       "      <td>1</td>\n",
       "      <td>17</td>\n",
       "    </tr>\n",
       "  </tbody>\n",
       "</table>\n",
       "<p>102293 rows × 7 columns</p>\n",
       "</div>"
      ],
      "text/plain": [
       "        cod_receita  data_fato contribuinte_receita      valor   ano  mes  dia\n",
       "0        1722010101 2013-01-03       886cd0eabf5a18  185560.68  2013    1    3\n",
       "1        1722010101 2013-01-04       886cd0eabf5a18    8081.80  2013    1    4\n",
       "2        1722010101 2013-01-07       886cd0eabf5a18    4231.39  2013    1    7\n",
       "3        1722010101 2013-01-08       886cd0eabf5a18   10536.53  2013    1    8\n",
       "4        1722010101 2013-01-15       886cd0eabf5a18  103118.27  2013    1   15\n",
       "...             ...        ...                  ...        ...   ...  ...  ...\n",
       "102288    191101011 2022-01-19       e6da541375c18b    4374.24  2022    1   19\n",
       "102289    112101011 2022-01-18       e6da541375c18b     228.00  2022    1   18\n",
       "102290    191101011 2022-01-18       e6da541375c18b    3758.69  2022    1   18\n",
       "102291    112101011 2022-01-17       e6da541375c18b    4297.00  2022    1   17\n",
       "102292    191101011 2022-01-17       e6da541375c18b   78032.06  2022    1   17\n",
       "\n",
       "[102293 rows x 7 columns]"
      ]
     },
     "execution_count": 31,
     "metadata": {},
     "output_type": "execute_result"
    }
   ],
   "source": [
    "df_receitas_copy = df_receitas[['cod_receita','data_fato','contribuinte_receita','valor']].copy()\n",
    "df_receitas_copy['ano'] = df_receitas_copy['data_fato'].dt.year\n",
    "df_receitas_copy['mes'] = df_receitas_copy['data_fato'].dt.month\n",
    "df_receitas_copy['dia'] = df_receitas_copy['data_fato'].dt.day\n",
    "df_receitas_copy"
   ]
  },
  {
   "attachments": {},
   "cell_type": "markdown",
   "metadata": {},
   "source": [
    "## Análise regressiva"
   ]
  },
  {
   "attachments": {},
   "cell_type": "markdown",
   "metadata": {},
   "source": [
    "#### Definindo as variáveis independentes (y) e variável dependente(x)"
   ]
  },
  {
   "cell_type": "code",
   "execution_count": 50,
   "metadata": {},
   "outputs": [],
   "source": [
    "X = df_receitas_copy['valor']\n",
    "y = df_receitas_copy['cod_receita']"
   ]
  },
  {
   "attachments": {},
   "cell_type": "markdown",
   "metadata": {},
   "source": [
    "#### Dividindo o conjunto de dados em conjutos de treinamento e teste"
   ]
  },
  {
   "attachments": {},
   "cell_type": "markdown",
   "metadata": {},
   "source": [
    "#### Divisão dos dados em conjuntos de treinamento e teste\n",
    "\n",
    "Neste trecho de código, estamos usando a função `train_test_split` da biblioteca Scikit-Learn para dividir o conjunto de dados em conjuntos de treinamento e teste. A função recebe como argumentos as variáveis independentes (X) e a variável dependente (y), bem como outros parâmetros opcionais.\n",
    "\n",
    "Os parâmetros `test_size` e `random_state` são definidos na chamada da função e afetam a maneira como os dados são divididos em conjuntos de treinamento e teste. \n",
    "\n",
    "- `test_size`: define a proporção dos dados que serão utilizados para teste. Nesse caso, `test_size=0.2` significa que 20% dos dados serão usados para teste e 80% para treinamento.\n",
    "\n",
    "- `random_state`: define uma semente aleatória para garantir que a divisão dos dados seja sempre a mesma, facilitando a reprodução dos resultados. Nesse caso, `random_state=42` é uma escolha comum, mas poderia ser qualquer outro valor.\n",
    "\n",
    "A função `train_test_split` retorna quatro conjuntos de dados:\n",
    "\n",
    "- `X_train`: conjunto de dados de treinamento para as variáveis independentes.\n",
    "- `X_test`: conjunto de dados de teste para as variáveis independentes.\n",
    "- `y_train`: conjunto de dados de treinamento para a variável dependente.\n",
    "- `y_test`: conjunto de dados de teste para a variável dependente.\n",
    "\n",
    "Esses conjuntos de dados são usados para treinar e testar o modelo de regressão. O conjunto de treinamento é usado para ajustar o modelo aos dados, enquanto o conjunto de teste é usado para avaliar o desempenho do modelo em dados novos e não vistos anteriormente.\n",
    "\n",
    "É importante dividir os dados em conjuntos de treinamento e teste para evitar o overfitting, que ocorre quando o modelo é ajustado aos dados de treinamento de forma tão precisa que se torna incapaz de generalizar para novos dados. A divisão dos dados permite avaliar o desempenho do modelo em dados não utilizados para treinamento e ajustar os parâmetros do modelo para melhorar sua capacidade de generalização.\n"
   ]
  },
  {
   "cell_type": "code",
   "execution_count": 51,
   "metadata": {},
   "outputs": [],
   "source": [
    "X_train, X_test, y_train, y_test = train_test_split(X, y, test_size=0.2, random_state=42)"
   ]
  },
  {
   "attachments": {},
   "cell_type": "markdown",
   "metadata": {},
   "source": [
    "### Instanciando o modelo utilizado"
   ]
  },
  {
   "attachments": {},
   "cell_type": "markdown",
   "metadata": {},
   "source": [
    "#### Regressão Linear"
   ]
  },
  {
   "cell_type": "code",
   "execution_count": 52,
   "metadata": {},
   "outputs": [],
   "source": [
    "# Transformando X_train e X_test em um array numpy bidimensional\n",
    "X_train = X_train.values.reshape((-1, 1))\n",
    "X_test = X_test.values.reshape((-1, 1))"
   ]
  },
  {
   "cell_type": "code",
   "execution_count": 53,
   "metadata": {},
   "outputs": [
    {
     "data": {
      "text/html": [
       "<style>#sk-container-id-3 {color: black;background-color: white;}#sk-container-id-3 pre{padding: 0;}#sk-container-id-3 div.sk-toggleable {background-color: white;}#sk-container-id-3 label.sk-toggleable__label {cursor: pointer;display: block;width: 100%;margin-bottom: 0;padding: 0.3em;box-sizing: border-box;text-align: center;}#sk-container-id-3 label.sk-toggleable__label-arrow:before {content: \"▸\";float: left;margin-right: 0.25em;color: #696969;}#sk-container-id-3 label.sk-toggleable__label-arrow:hover:before {color: black;}#sk-container-id-3 div.sk-estimator:hover label.sk-toggleable__label-arrow:before {color: black;}#sk-container-id-3 div.sk-toggleable__content {max-height: 0;max-width: 0;overflow: hidden;text-align: left;background-color: #f0f8ff;}#sk-container-id-3 div.sk-toggleable__content pre {margin: 0.2em;color: black;border-radius: 0.25em;background-color: #f0f8ff;}#sk-container-id-3 input.sk-toggleable__control:checked~div.sk-toggleable__content {max-height: 200px;max-width: 100%;overflow: auto;}#sk-container-id-3 input.sk-toggleable__control:checked~label.sk-toggleable__label-arrow:before {content: \"▾\";}#sk-container-id-3 div.sk-estimator input.sk-toggleable__control:checked~label.sk-toggleable__label {background-color: #d4ebff;}#sk-container-id-3 div.sk-label input.sk-toggleable__control:checked~label.sk-toggleable__label {background-color: #d4ebff;}#sk-container-id-3 input.sk-hidden--visually {border: 0;clip: rect(1px 1px 1px 1px);clip: rect(1px, 1px, 1px, 1px);height: 1px;margin: -1px;overflow: hidden;padding: 0;position: absolute;width: 1px;}#sk-container-id-3 div.sk-estimator {font-family: monospace;background-color: #f0f8ff;border: 1px dotted black;border-radius: 0.25em;box-sizing: border-box;margin-bottom: 0.5em;}#sk-container-id-3 div.sk-estimator:hover {background-color: #d4ebff;}#sk-container-id-3 div.sk-parallel-item::after {content: \"\";width: 100%;border-bottom: 1px solid gray;flex-grow: 1;}#sk-container-id-3 div.sk-label:hover label.sk-toggleable__label {background-color: #d4ebff;}#sk-container-id-3 div.sk-serial::before {content: \"\";position: absolute;border-left: 1px solid gray;box-sizing: border-box;top: 0;bottom: 0;left: 50%;z-index: 0;}#sk-container-id-3 div.sk-serial {display: flex;flex-direction: column;align-items: center;background-color: white;padding-right: 0.2em;padding-left: 0.2em;position: relative;}#sk-container-id-3 div.sk-item {position: relative;z-index: 1;}#sk-container-id-3 div.sk-parallel {display: flex;align-items: stretch;justify-content: center;background-color: white;position: relative;}#sk-container-id-3 div.sk-item::before, #sk-container-id-3 div.sk-parallel-item::before {content: \"\";position: absolute;border-left: 1px solid gray;box-sizing: border-box;top: 0;bottom: 0;left: 50%;z-index: -1;}#sk-container-id-3 div.sk-parallel-item {display: flex;flex-direction: column;z-index: 1;position: relative;background-color: white;}#sk-container-id-3 div.sk-parallel-item:first-child::after {align-self: flex-end;width: 50%;}#sk-container-id-3 div.sk-parallel-item:last-child::after {align-self: flex-start;width: 50%;}#sk-container-id-3 div.sk-parallel-item:only-child::after {width: 0;}#sk-container-id-3 div.sk-dashed-wrapped {border: 1px dashed gray;margin: 0 0.4em 0.5em 0.4em;box-sizing: border-box;padding-bottom: 0.4em;background-color: white;}#sk-container-id-3 div.sk-label label {font-family: monospace;font-weight: bold;display: inline-block;line-height: 1.2em;}#sk-container-id-3 div.sk-label-container {text-align: center;}#sk-container-id-3 div.sk-container {/* jupyter's `normalize.less` sets `[hidden] { display: none; }` but bootstrap.min.css set `[hidden] { display: none !important; }` so we also need the `!important` here to be able to override the default hidden behavior on the sphinx rendered scikit-learn.org. See: https://github.com/scikit-learn/scikit-learn/issues/21755 */display: inline-block !important;position: relative;}#sk-container-id-3 div.sk-text-repr-fallback {display: none;}</style><div id=\"sk-container-id-3\" class=\"sk-top-container\"><div class=\"sk-text-repr-fallback\"><pre>LinearRegression()</pre><b>In a Jupyter environment, please rerun this cell to show the HTML representation or trust the notebook. <br />On GitHub, the HTML representation is unable to render, please try loading this page with nbviewer.org.</b></div><div class=\"sk-container\" hidden><div class=\"sk-item\"><div class=\"sk-estimator sk-toggleable\"><input class=\"sk-toggleable__control sk-hidden--visually\" id=\"sk-estimator-id-3\" type=\"checkbox\" checked><label for=\"sk-estimator-id-3\" class=\"sk-toggleable__label sk-toggleable__label-arrow\">LinearRegression</label><div class=\"sk-toggleable__content\"><pre>LinearRegression()</pre></div></div></div></div></div>"
      ],
      "text/plain": [
       "LinearRegression()"
      ]
     },
     "execution_count": 53,
     "metadata": {},
     "output_type": "execute_result"
    }
   ],
   "source": [
    "model = LinearRegression()\n",
    "model.fit(X_train, y_train)"
   ]
  },
  {
   "attachments": {},
   "cell_type": "markdown",
   "metadata": {},
   "source": [
    "#### Utilizando o modelo para previsões nos dados de teste"
   ]
  },
  {
   "cell_type": "code",
   "execution_count": 54,
   "metadata": {},
   "outputs": [],
   "source": [
    "y_pred = model.predict(X_test)"
   ]
  },
  {
   "attachments": {},
   "cell_type": "markdown",
   "metadata": {},
   "source": [
    "#### Avaliando o desempenho com coef. determinação (r2)"
   ]
  },
  {
   "cell_type": "code",
   "execution_count": 55,
   "metadata": {},
   "outputs": [
    {
     "data": {
      "text/plain": [
       "0.0012093665558950972"
      ]
     },
     "execution_count": 55,
     "metadata": {},
     "output_type": "execute_result"
    }
   ],
   "source": [
    "r2_score(y_test, y_pred)"
   ]
  },
  {
   "cell_type": "code",
   "execution_count": 56,
   "metadata": {},
   "outputs": [
    {
     "data": {
      "text/plain": [
       "0.0012093665558950972"
      ]
     },
     "execution_count": 56,
     "metadata": {},
     "output_type": "execute_result"
    }
   ],
   "source": [
    "model.score(X_test, y_test)"
   ]
  },
  {
   "cell_type": "code",
   "execution_count": null,
   "metadata": {},
   "outputs": [],
   "source": []
  }
 ],
 "metadata": {
  "kernelspec": {
   "display_name": "base",
   "language": "python",
   "name": "python3"
  },
  "language_info": {
   "codemirror_mode": {
    "name": "ipython",
    "version": 3
   },
   "file_extension": ".py",
   "mimetype": "text/x-python",
   "name": "python",
   "nbconvert_exporter": "python",
   "pygments_lexer": "ipython3",
   "version": "3.9.13"
  },
  "orig_nbformat": 4
 },
 "nbformat": 4,
 "nbformat_minor": 2
}
