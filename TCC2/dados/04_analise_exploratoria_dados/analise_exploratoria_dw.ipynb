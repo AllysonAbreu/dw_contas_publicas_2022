{
 "cells": [
  {
   "attachments": {},
   "cell_type": "markdown",
   "metadata": {},
   "source": [
    "# Imports necessários"
   ]
  },
  {
   "cell_type": "code",
   "execution_count": 13,
   "metadata": {},
   "outputs": [],
   "source": [
    "import pandas as pd\n",
    "import numpy as np\n",
    "import matplotlib as mtp\n",
    "import seaborn as sns\n",
    "import os\n",
    "import csv\n",
    "import requests as rqt\n",
    "import json\n",
    "from bs4 import BeautifulSoup"
   ]
  },
  {
   "attachments": {},
   "cell_type": "markdown",
   "metadata": {},
   "source": [
    "## Definindo caminho para import dos path"
   ]
  },
  {
   "cell_type": "code",
   "execution_count": 8,
   "metadata": {},
   "outputs": [
    {
     "name": "stdout",
     "output_type": "stream",
     "text": [
      "[['https://servicodados.ibge.gov.br/api/v1/localidades/municipios/2503704'], ['https://cidades.ibge.gov.br/brasil/pb/cajazeiras/panorama']]\n"
     ]
    }
   ],
   "source": [
    "# Definir uma variável global para armazenar as informações lidas do arquivo\n",
    "linhas = []\n",
    "\n",
    "# Definir uma variável de ambiente para armazenar a localização do arquivo\n",
    "os.environ['PATHS'] = 'dados/.env'\n",
    "\n",
    "# Função para ler as informações do arquivo e adicioná-las à variável global\n",
    "def ler_arquivo():\n",
    "    global linhas\n",
    "    with open(os.environ.get('PATHS'), 'r') as f:\n",
    "        linhas = [linha.strip().split(',') for linha in f.readlines()]\n",
    "\n",
    "# Chamar a função para ler o arquivo e atualizar a variável global\n",
    "ler_arquivo()\n",
    "\n",
    "# Imprimir a variável global\n",
    "print(linhas)"
   ]
  },
  {
   "attachments": {},
   "cell_type": "markdown",
   "metadata": {},
   "source": [
    "## Definindo paramêtros para salvar os arquivos .csv"
   ]
  },
  {
   "cell_type": "code",
   "execution_count": 9,
   "metadata": {},
   "outputs": [],
   "source": [
    "# definir parâmetros do arquivo CSV\n",
    "csv_kwargs = {'index': False,\n",
    "              'sep': ';',\n",
    "              'quoting': csv.QUOTE_NONE,\n",
    "              'quotechar': '\"'}"
   ]
  },
  {
   "cell_type": "code",
   "execution_count": 10,
   "metadata": {},
   "outputs": [],
   "source": [
    "def save_dataframe(df, filename):\n",
    "    # Verifica se o diretório existe e cria caso não exista\n",
    "    diretorio = './arquivos_para_carga'\n",
    "    if not os.path.exists(diretorio):\n",
    "        os.makedirs(diretorio)\n",
    "    \n",
    "    # Salva o dataframe em um arquivo csv no diretório criado\n",
    "    filepath = f'./{diretorio}/{filename}.csv'\n",
    "    df.to_csv(filepath, index=False, sep=';')"
   ]
  },
  {
   "attachments": {},
   "cell_type": "markdown",
   "metadata": {},
   "source": [
    "# Extraindo Dados do Município no IBGE"
   ]
  },
  {
   "attachments": {},
   "cell_type": "markdown",
   "metadata": {},
   "source": [
    "Site para consulta: https://cidades.ibge.gov.br/brasil/pb/cajazeiras/panorama"
   ]
  },
  {
   "cell_type": "code",
   "execution_count": 46,
   "metadata": {},
   "outputs": [],
   "source": [
    "dic_dados_ibge = {\n",
    "    'Cidade':{\n",
    "        'Nome': 'Cajazeiras',\n",
    "        'Estado': 'Paraíba',\n",
    "        'UF': 'PB'\n",
    "    },\n",
    "    'Populacao':{\n",
    "        'Estimada_2021':62576,\n",
    "        'Ultimo_censo_2010':58446,\n",
    "        'Densidade_demografica_2010_(hab/km2)': 103.28\n",
    "    },\n",
    "    'Renda':{\n",
    "        'Salario_medio_trabalhadore_formais_2020_salario_minimo': 1.7,\n",
    "        'Pessoal_ocupado_2020': 9497,\n",
    "        'Populacao_ocupada_(%)': 15.2,\n",
    "        'Populacao_renda_maior_1/2_salario_minimo_2010_(%)': 43.1\n",
    "    },\n",
    "    'Educacao':{\n",
    "        'Taxa_escolaridade_6_14_anos_2010_(%)':97.2,\n",
    "        'IDEB':{\n",
    "            'Anos_iniciais_ensino_fundamental_2021': 5.1,\n",
    "            'Anos_finais_ensino_fundamental_2021': 4.9\n",
    "        },\n",
    "        'Matriculas_ensino_fundamental_2021': 8499,\n",
    "        'Matriculas_ensino_medio_2021': 3212,\n",
    "        'Docentes_ensino_fundamental_2021': 453,\n",
    "        'Docentes_ensino_medio_2021': 290,\n",
    "        'Numero_estabelecimentos_ensino_fundamental_2021': 48,\n",
    "        'Numero_estabelecimentos_ensino_medio_2021': 13\n",
    "    },\n",
    "    'Economia':{\n",
    "        'PIB_per_capita_2020': 18213.02,\n",
    "        'Percentual_receitas_oriundas_outras_fontes_2015_(%)': 76.7,\n",
    "        'IDH_municipal':0.679,\n",
    "        'Total_receitas_realizadas_2017_(x1000)': 116751.94,\n",
    "        'Total_despesas_empenhadas_2017_(x1000)': 119997.38\n",
    "    },\n",
    "    'Saude':{\n",
    "        'Mortalidade_infantil_2020_a_cada_mil_nascidos_vivos': 16.48,\n",
    "        'Internacoes_por_diarreia_2016_a_cada_mil_habitantes': 1,\n",
    "        'Estabelecimentos_de_saude_SUS_2009': 33\n",
    "    },\n",
    "    'Meio_Ambiente':{\n",
    "        'Area_urbanizada_2019_(km2)': 14.30,\n",
    "        'Esgotamento_sanitario_adequado_2010_(%)': 54.8,\n",
    "        'Arborizacao_vias_publicas_2010_(%)': 94.4,\n",
    "        'Urbanizacao_vias_publicas_2010_(%)': 8.3,\n",
    "        'Populacao_exposta_a_riscos':'sem dados',\n",
    "        'Bioma':'Caatinga',\n",
    "        'Sistama_costa_marinheiro_2019': 'nao pertence'\n",
    "    },\n",
    "    'Territorio':{\n",
    "        'Area_unidade_territorial_2021_(km2)': 562.703\n",
    "    }\n",
    "}"
   ]
  },
  {
   "cell_type": "code",
   "execution_count": null,
   "metadata": {},
   "outputs": [],
   "source": []
  }
 ],
 "metadata": {
  "kernelspec": {
   "display_name": "base",
   "language": "python",
   "name": "python3"
  },
  "language_info": {
   "codemirror_mode": {
    "name": "ipython",
    "version": 3
   },
   "file_extension": ".py",
   "mimetype": "text/x-python",
   "name": "python",
   "nbconvert_exporter": "python",
   "pygments_lexer": "ipython3",
   "version": "3.9.13"
  },
  "orig_nbformat": 4,
  "vscode": {
   "interpreter": {
    "hash": "ad2bdc8ecc057115af97d19610ffacc2b4e99fae6737bb82f5d7fb13d2f2c186"
   }
  }
 },
 "nbformat": 4,
 "nbformat_minor": 2
}
