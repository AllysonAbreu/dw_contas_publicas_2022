{
  "nbformat": 4,
  "nbformat_minor": 0,
  "metadata": {
    "colab": {
      "provenance": [],
      "include_colab_link": true
    },
    "kernelspec": {
      "name": "python3",
      "display_name": "Python 3"
    },
    "language_info": {
      "name": "python"
    }
  },
  "cells": [
    {
      "cell_type": "markdown",
      "metadata": {
        "id": "view-in-github",
        "colab_type": "text"
      },
      "source": [
        "<a href=\"https://colab.research.google.com/github/AllysonAbreu/dw_contas_publicas_2022/blob/master/dea_despesas_dados_novos.ipynb\" target=\"_parent\"><img src=\"https://colab.research.google.com/assets/colab-badge.svg\" alt=\"Open In Colab\"/></a>"
      ]
    },
    {
      "cell_type": "markdown",
      "source": [
        "# Imports e instalações"
      ],
      "metadata": {
        "id": "TeF516hXCOs5"
      }
    },
    {
      "cell_type": "code",
      "execution_count": 1,
      "metadata": {
        "id": "QdQggdHNOY3q",
        "colab": {
          "base_uri": "https://localhost:8080/",
          "height": 1000
        },
        "outputId": "f1f7afb9-2997-4e11-9baa-5bdfcbb08964"
      },
      "outputs": [
        {
          "output_type": "stream",
          "name": "stdout",
          "text": [
            "Looking in indexes: https://pypi.org/simple, https://us-python.pkg.dev/colab-wheels/public/simple/\n",
            "Collecting basedosdados\n",
            "  Downloading basedosdados-1.6.11-py3-none-any.whl (51 kB)\n",
            "\u001b[2K     \u001b[90m━━━━━━━━━━━━━━━━━━━━━━━━━━━━━━━━━━━━━━━━\u001b[0m \u001b[32m51.1/51.1 kB\u001b[0m \u001b[31m3.0 MB/s\u001b[0m eta \u001b[36m0:00:00\u001b[0m\n",
            "\u001b[?25hCollecting tqdm==4.50.2\n",
            "  Downloading tqdm-4.50.2-py2.py3-none-any.whl (70 kB)\n",
            "\u001b[2K     \u001b[90m━━━━━━━━━━━━━━━━━━━━━━━━━━━━━━━━━━━━━━━━\u001b[0m \u001b[32m70.9/70.9 kB\u001b[0m \u001b[31m8.3 MB/s\u001b[0m eta \u001b[36m0:00:00\u001b[0m\n",
            "\u001b[?25hCollecting shapely<2.0.0,>=1.6.0\n",
            "  Downloading Shapely-1.8.5.post1-cp310-cp310-manylinux_2_12_x86_64.manylinux2010_x86_64.whl (2.0 MB)\n",
            "\u001b[2K     \u001b[90m━━━━━━━━━━━━━━━━━━━━━━━━━━━━━━━━━━━━━━━━\u001b[0m \u001b[32m2.0/2.0 MB\u001b[0m \u001b[31m31.3 MB/s\u001b[0m eta \u001b[36m0:00:00\u001b[0m\n",
            "\u001b[?25hCollecting google-cloud-bigquery-storage==1.1.0\n",
            "  Downloading google_cloud_bigquery_storage-1.1.0-py2.py3-none-any.whl (135 kB)\n",
            "\u001b[2K     \u001b[90m━━━━━━━━━━━━━━━━━━━━━━━━━━━━━━━━━━━━━━\u001b[0m \u001b[32m135.2/135.2 kB\u001b[0m \u001b[31m13.4 MB/s\u001b[0m eta \u001b[36m0:00:00\u001b[0m\n",
            "\u001b[?25hCollecting google-cloud-bigquery==2.30.1\n",
            "  Downloading google_cloud_bigquery-2.30.1-py2.py3-none-any.whl (203 kB)\n",
            "\u001b[2K     \u001b[90m━━━━━━━━━━━━━━━━━━━━━━━━━━━━━━━━━━━━━━\u001b[0m \u001b[32m204.0/204.0 kB\u001b[0m \u001b[31m17.3 MB/s\u001b[0m eta \u001b[36m0:00:00\u001b[0m\n",
            "\u001b[?25hRequirement already satisfied: pandas-gbq<0.18.0,>=0.17.4 in /usr/local/lib/python3.10/dist-packages (from basedosdados) (0.17.9)\n",
            "Collecting ckanapi==4.6\n",
            "  Downloading ckanapi-4.6.tar.gz (32 kB)\n",
            "  Preparing metadata (setup.py) ... \u001b[?25l\u001b[?25hdone\n",
            "Collecting loguru<0.7.0,>=0.6.0\n",
            "  Downloading loguru-0.6.0-py3-none-any.whl (58 kB)\n",
            "\u001b[2K     \u001b[90m━━━━━━━━━━━━━━━━━━━━━━━━━━━━━━━━━━━━━━━━\u001b[0m \u001b[32m58.3/58.3 kB\u001b[0m \u001b[31m6.6 MB/s\u001b[0m eta \u001b[36m0:00:00\u001b[0m\n",
            "\u001b[?25hCollecting click==8.0.3\n",
            "  Downloading click-8.0.3-py3-none-any.whl (97 kB)\n",
            "\u001b[2K     \u001b[90m━━━━━━━━━━━━━━━━━━━━━━━━━━━━━━━━━━━━━━━━\u001b[0m \u001b[32m97.5/97.5 kB\u001b[0m \u001b[31m8.7 MB/s\u001b[0m eta \u001b[36m0:00:00\u001b[0m\n",
            "\u001b[?25hCollecting pyaml==20.4.0\n",
            "  Downloading pyaml-20.4.0-py2.py3-none-any.whl (17 kB)\n",
            "Requirement already satisfied: pandas<2.0.0,>=1.3.5 in /usr/local/lib/python3.10/dist-packages (from basedosdados) (1.5.3)\n",
            "Collecting pyarrow==6.0.0\n",
            "  Downloading pyarrow-6.0.0-cp310-cp310-manylinux_2_17_x86_64.manylinux2014_x86_64.whl (25.6 MB)\n",
            "\u001b[2K     \u001b[90m━━━━━━━━━━━━━━━━━━━━━━━━━━━━━━━━━━━━━━━━\u001b[0m \u001b[32m25.6/25.6 MB\u001b[0m \u001b[31m28.7 MB/s\u001b[0m eta \u001b[36m0:00:00\u001b[0m\n",
            "\u001b[?25hRequirement already satisfied: toml<0.11.0,>=0.10.2 in /usr/local/lib/python3.10/dist-packages (from basedosdados) (0.10.2)\n",
            "Collecting pandavro<2.0.0,>=1.6.0\n",
            "  Downloading pandavro-1.7.2-py3-none-any.whl (8.8 kB)\n",
            "Collecting Jinja2==3.0.3\n",
            "  Downloading Jinja2-3.0.3-py3-none-any.whl (133 kB)\n",
            "\u001b[2K     \u001b[90m━━━━━━━━━━━━━━━━━━━━━━━━━━━━━━━━━━━━━━\u001b[0m \u001b[32m133.6/133.6 kB\u001b[0m \u001b[31m16.6 MB/s\u001b[0m eta \u001b[36m0:00:00\u001b[0m\n",
            "\u001b[?25hCollecting ruamel.yaml==0.17.10\n",
            "  Downloading ruamel.yaml-0.17.10-py3-none-any.whl (108 kB)\n",
            "\u001b[2K     \u001b[90m━━━━━━━━━━━━━━━━━━━━━━━━━━━━━━━━━━━━━━\u001b[0m \u001b[32m108.4/108.4 kB\u001b[0m \u001b[31m13.7 MB/s\u001b[0m eta \u001b[36m0:00:00\u001b[0m\n",
            "\u001b[?25hCollecting importlib-metadata<5.0.0,>=4.11.3\n",
            "  Downloading importlib_metadata-4.13.0-py3-none-any.whl (23 kB)\n",
            "Collecting tomlkit==0.7.0\n",
            "  Downloading tomlkit-0.7.0-py2.py3-none-any.whl (32 kB)\n",
            "Collecting google-cloud-storage==1.42.3\n",
            "  Downloading google_cloud_storage-1.42.3-py2.py3-none-any.whl (105 kB)\n",
            "\u001b[2K     \u001b[90m━━━━━━━━━━━━━━━━━━━━━━━━━━━━━━━━━━━━━━\u001b[0m \u001b[32m106.0/106.0 kB\u001b[0m \u001b[31m13.8 MB/s\u001b[0m eta \u001b[36m0:00:00\u001b[0m\n",
            "\u001b[?25hRequirement already satisfied: setuptools in /usr/local/lib/python3.10/dist-packages (from ckanapi==4.6->basedosdados) (67.7.2)\n",
            "Collecting docopt\n",
            "  Downloading docopt-0.6.2.tar.gz (25 kB)\n",
            "  Preparing metadata (setup.py) ... \u001b[?25l\u001b[?25hdone\n",
            "Requirement already satisfied: requests in /usr/local/lib/python3.10/dist-packages (from ckanapi==4.6->basedosdados) (2.27.1)\n",
            "Requirement already satisfied: python-slugify>=1.0 in /usr/local/lib/python3.10/dist-packages (from ckanapi==4.6->basedosdados) (8.0.1)\n",
            "Requirement already satisfied: six<2.0,>=1.9 in /usr/local/lib/python3.10/dist-packages (from ckanapi==4.6->basedosdados) (1.16.0)\n",
            "Requirement already satisfied: google-api-core[grpc]<3.0.0dev,>=1.29.0 in /usr/local/lib/python3.10/dist-packages (from google-cloud-bigquery==2.30.1->basedosdados) (2.11.0)\n",
            "Requirement already satisfied: google-cloud-core<3.0.0dev,>=1.4.1 in /usr/local/lib/python3.10/dist-packages (from google-cloud-bigquery==2.30.1->basedosdados) (2.3.2)\n",
            "Requirement already satisfied: protobuf>=3.12.0 in /usr/local/lib/python3.10/dist-packages (from google-cloud-bigquery==2.30.1->basedosdados) (3.20.3)\n",
            "Requirement already satisfied: grpcio<2.0dev,>=1.38.1 in /usr/local/lib/python3.10/dist-packages (from google-cloud-bigquery==2.30.1->basedosdados) (1.54.0)\n",
            "Requirement already satisfied: packaging>=14.3 in /usr/local/lib/python3.10/dist-packages (from google-cloud-bigquery==2.30.1->basedosdados) (23.1)\n",
            "Requirement already satisfied: python-dateutil<3.0dev,>=2.7.2 in /usr/local/lib/python3.10/dist-packages (from google-cloud-bigquery==2.30.1->basedosdados) (2.8.2)\n",
            "Requirement already satisfied: proto-plus>=1.10.0 in /usr/local/lib/python3.10/dist-packages (from google-cloud-bigquery==2.30.1->basedosdados) (1.22.2)\n",
            "Requirement already satisfied: google-resumable-media<3.0dev,>=0.6.0 in /usr/local/lib/python3.10/dist-packages (from google-cloud-bigquery==2.30.1->basedosdados) (2.5.0)\n",
            "Collecting google-api-core[grpc]<3.0.0dev,>=1.29.0\n",
            "  Downloading google_api_core-1.34.0-py3-none-any.whl (120 kB)\n",
            "\u001b[2K     \u001b[90m━━━━━━━━━━━━━━━━━━━━━━━━━━━━━━━━━━━━━━\u001b[0m \u001b[32m120.2/120.2 kB\u001b[0m \u001b[31m11.9 MB/s\u001b[0m eta \u001b[36m0:00:00\u001b[0m\n",
            "\u001b[?25hRequirement already satisfied: google-auth<3.0dev,>=1.25.0 in /usr/local/lib/python3.10/dist-packages (from google-cloud-storage==1.42.3->basedosdados) (2.17.3)\n",
            "Requirement already satisfied: MarkupSafe>=2.0 in /usr/local/lib/python3.10/dist-packages (from Jinja2==3.0.3->basedosdados) (2.1.2)\n",
            "Requirement already satisfied: PyYAML in /usr/local/lib/python3.10/dist-packages (from pyaml==20.4.0->basedosdados) (6.0)\n",
            "Requirement already satisfied: numpy>=1.16.6 in /usr/local/lib/python3.10/dist-packages (from pyarrow==6.0.0->basedosdados) (1.22.4)\n",
            "Requirement already satisfied: zipp>=0.5 in /usr/local/lib/python3.10/dist-packages (from importlib-metadata<5.0.0,>=4.11.3->basedosdados) (3.15.0)\n",
            "Requirement already satisfied: pytz>=2020.1 in /usr/local/lib/python3.10/dist-packages (from pandas<2.0.0,>=1.3.5->basedosdados) (2022.7.1)\n",
            "Requirement already satisfied: db-dtypes<2.0.0,>=0.3.1 in /usr/local/lib/python3.10/dist-packages (from pandas-gbq<0.18.0,>=0.17.4->basedosdados) (1.1.1)\n",
            "Requirement already satisfied: pydata-google-auth in /usr/local/lib/python3.10/dist-packages (from pandas-gbq<0.18.0,>=0.17.4->basedosdados) (1.7.0)\n",
            "Requirement already satisfied: google-auth-oauthlib>=0.0.1 in /usr/local/lib/python3.10/dist-packages (from pandas-gbq<0.18.0,>=0.17.4->basedosdados) (1.0.0)\n",
            "Collecting fastavro~=1.5.1\n",
            "  Downloading fastavro-1.5.4-cp310-cp310-manylinux_2_17_x86_64.manylinux2014_x86_64.whl (2.6 MB)\n",
            "\u001b[2K     \u001b[90m━━━━━━━━━━━━━━━━━━━━━━━━━━━━━━━━━━━━━━━━\u001b[0m \u001b[32m2.6/2.6 MB\u001b[0m \u001b[31m51.5 MB/s\u001b[0m eta \u001b[36m0:00:00\u001b[0m\n",
            "\u001b[?25hRequirement already satisfied: googleapis-common-protos<2.0dev,>=1.56.2 in /usr/local/lib/python3.10/dist-packages (from google-api-core[grpc]<3.0.0dev,>=1.29.0->google-cloud-bigquery==2.30.1->basedosdados) (1.59.0)\n",
            "Requirement already satisfied: grpcio-status<2.0dev,>=1.33.2 in /usr/local/lib/python3.10/dist-packages (from google-api-core[grpc]<3.0.0dev,>=1.29.0->google-cloud-bigquery==2.30.1->basedosdados) (1.48.2)\n",
            "Requirement already satisfied: cachetools<6.0,>=2.0.0 in /usr/local/lib/python3.10/dist-packages (from google-auth<3.0dev,>=1.25.0->google-cloud-storage==1.42.3->basedosdados) (5.3.0)\n",
            "Requirement already satisfied: rsa<5,>=3.1.4 in /usr/local/lib/python3.10/dist-packages (from google-auth<3.0dev,>=1.25.0->google-cloud-storage==1.42.3->basedosdados) (4.9)\n",
            "Requirement already satisfied: pyasn1-modules>=0.2.1 in /usr/local/lib/python3.10/dist-packages (from google-auth<3.0dev,>=1.25.0->google-cloud-storage==1.42.3->basedosdados) (0.3.0)\n",
            "Requirement already satisfied: requests-oauthlib>=0.7.0 in /usr/local/lib/python3.10/dist-packages (from google-auth-oauthlib>=0.0.1->pandas-gbq<0.18.0,>=0.17.4->basedosdados) (1.3.1)\n",
            "Requirement already satisfied: google-crc32c<2.0dev,>=1.0 in /usr/local/lib/python3.10/dist-packages (from google-resumable-media<3.0dev,>=0.6.0->google-cloud-bigquery==2.30.1->basedosdados) (1.5.0)\n",
            "Requirement already satisfied: text-unidecode>=1.3 in /usr/local/lib/python3.10/dist-packages (from python-slugify>=1.0->ckanapi==4.6->basedosdados) (1.3)\n",
            "Requirement already satisfied: urllib3<1.27,>=1.21.1 in /usr/local/lib/python3.10/dist-packages (from requests->ckanapi==4.6->basedosdados) (1.26.15)\n",
            "Requirement already satisfied: certifi>=2017.4.17 in /usr/local/lib/python3.10/dist-packages (from requests->ckanapi==4.6->basedosdados) (2022.12.7)\n",
            "Requirement already satisfied: charset-normalizer~=2.0.0 in /usr/local/lib/python3.10/dist-packages (from requests->ckanapi==4.6->basedosdados) (2.0.12)\n",
            "Requirement already satisfied: idna<4,>=2.5 in /usr/local/lib/python3.10/dist-packages (from requests->ckanapi==4.6->basedosdados) (3.4)\n",
            "Requirement already satisfied: pyasn1<0.6.0,>=0.4.6 in /usr/local/lib/python3.10/dist-packages (from pyasn1-modules>=0.2.1->google-auth<3.0dev,>=1.25.0->google-cloud-storage==1.42.3->basedosdados) (0.5.0)\n",
            "Requirement already satisfied: oauthlib>=3.0.0 in /usr/local/lib/python3.10/dist-packages (from requests-oauthlib>=0.7.0->google-auth-oauthlib>=0.0.1->pandas-gbq<0.18.0,>=0.17.4->basedosdados) (3.2.2)\n",
            "Building wheels for collected packages: ckanapi, docopt\n",
            "  Building wheel for ckanapi (setup.py) ... \u001b[?25l\u001b[?25hdone\n",
            "  Created wheel for ckanapi: filename=ckanapi-4.6-py3-none-any.whl size=40700 sha256=58c4084182851b6de84f058f13ef670e21f5c014b141285581d1d2b061f79e49\n",
            "  Stored in directory: /root/.cache/pip/wheels/64/30/93/f9c2ebf4e93dc7b6abd5e376cdee291a6541ee504ac6ec4062\n",
            "  Building wheel for docopt (setup.py) ... \u001b[?25l\u001b[?25hdone\n",
            "  Created wheel for docopt: filename=docopt-0.6.2-py2.py3-none-any.whl size=13721 sha256=f5d8472e68b93ca1bb6cfe2b2fe3c376ed65be29906c3c65fad88ceeafe01667\n",
            "  Stored in directory: /root/.cache/pip/wheels/fc/ab/d4/5da2067ac95b36618c629a5f93f809425700506f72c9732fac\n",
            "Successfully built ckanapi docopt\n",
            "Installing collected packages: docopt, tqdm, tomlkit, shapely, ruamel.yaml, pyarrow, pyaml, loguru, Jinja2, importlib-metadata, fastavro, click, ckanapi, pandavro, google-api-core, google-cloud-storage, google-cloud-bigquery-storage, google-cloud-bigquery, basedosdados\n",
            "  Attempting uninstall: tqdm\n",
            "    Found existing installation: tqdm 4.65.0\n",
            "    Uninstalling tqdm-4.65.0:\n",
            "      Successfully uninstalled tqdm-4.65.0\n",
            "  Attempting uninstall: shapely\n",
            "    Found existing installation: shapely 2.0.1\n",
            "    Uninstalling shapely-2.0.1:\n",
            "      Successfully uninstalled shapely-2.0.1\n",
            "  Attempting uninstall: pyarrow\n",
            "    Found existing installation: pyarrow 9.0.0\n",
            "    Uninstalling pyarrow-9.0.0:\n",
            "      Successfully uninstalled pyarrow-9.0.0\n",
            "  Attempting uninstall: Jinja2\n",
            "    Found existing installation: Jinja2 3.1.2\n",
            "    Uninstalling Jinja2-3.1.2:\n",
            "      Successfully uninstalled Jinja2-3.1.2\n",
            "  Attempting uninstall: click\n",
            "    Found existing installation: click 8.1.3\n",
            "    Uninstalling click-8.1.3:\n",
            "      Successfully uninstalled click-8.1.3\n",
            "  Attempting uninstall: google-api-core\n",
            "    Found existing installation: google-api-core 2.11.0\n",
            "    Uninstalling google-api-core-2.11.0:\n",
            "      Successfully uninstalled google-api-core-2.11.0\n",
            "  Attempting uninstall: google-cloud-storage\n",
            "    Found existing installation: google-cloud-storage 2.8.0\n",
            "    Uninstalling google-cloud-storage-2.8.0:\n",
            "      Successfully uninstalled google-cloud-storage-2.8.0\n",
            "  Attempting uninstall: google-cloud-bigquery-storage\n",
            "    Found existing installation: google-cloud-bigquery-storage 2.19.1\n",
            "    Uninstalling google-cloud-bigquery-storage-2.19.1:\n",
            "      Successfully uninstalled google-cloud-bigquery-storage-2.19.1\n",
            "  Attempting uninstall: google-cloud-bigquery\n",
            "    Found existing installation: google-cloud-bigquery 3.9.0\n",
            "    Uninstalling google-cloud-bigquery-3.9.0:\n",
            "      Successfully uninstalled google-cloud-bigquery-3.9.0\n",
            "Successfully installed Jinja2-3.0.3 basedosdados-1.6.11 ckanapi-4.6 click-8.0.3 docopt-0.6.2 fastavro-1.5.4 google-api-core-1.34.0 google-cloud-bigquery-2.30.1 google-cloud-bigquery-storage-1.1.0 google-cloud-storage-1.42.3 importlib-metadata-4.13.0 loguru-0.6.0 pandavro-1.7.2 pyaml-20.4.0 pyarrow-6.0.0 ruamel.yaml-0.17.10 shapely-1.8.5.post1 tomlkit-0.7.0 tqdm-4.50.2\n"
          ]
        },
        {
          "output_type": "display_data",
          "data": {
            "application/vnd.colab-display-data+json": {
              "pip_warning": {
                "packages": [
                  "google"
                ]
              }
            }
          },
          "metadata": {}
        }
      ],
      "source": [
        "# instalações das bibliotecas\n",
        "!pip install basedosdados"
      ]
    },
    {
      "cell_type": "code",
      "source": [
        "import pandas as pd\n",
        "import matplotlib.pyplot as plt\n",
        "import matplotlib.dates as mdates\n",
        "import seaborn as sns\n",
        "import datetime as dt\n",
        "import basedosdados as bd\n",
        "from google.colab import auth\n",
        "from google.cloud import bigquery"
      ],
      "metadata": {
        "id": "LYbfuBAWCXQi"
      },
      "execution_count": 2,
      "outputs": []
    },
    {
      "cell_type": "markdown",
      "source": [
        "# Imports dos dados"
      ],
      "metadata": {
        "id": "li80fk5eCUtH"
      }
    },
    {
      "cell_type": "markdown",
      "source": [
        "## Login no gcloud"
      ],
      "metadata": {
        "id": "r9SitjaiCa83"
      }
    },
    {
      "cell_type": "code",
      "source": [
        "auth.authenticate_user()\n",
        "\n",
        "project = 'dados-ibge-384913'\n",
        "location = 'US'\n",
        "client = bigquery.Client(project=project, location=location)"
      ],
      "metadata": {
        "id": "SzE3iM8HCZl0"
      },
      "execution_count": 3,
      "outputs": []
    },
    {
      "cell_type": "markdown",
      "source": [
        "## Querys para buscar no firebase"
      ],
      "metadata": {
        "id": "XM89CO4uCgnj"
      }
    },
    {
      "cell_type": "markdown",
      "source": [
        "- Os dataframes com as tabelas utilizadas são de responsabilidade do projeto Base dos dados. Clique [aqui](https://basedosdados.org/) para conhecer mais."
      ],
      "metadata": {
        "id": "MfM3wbErhrT6"
      }
    },
    {
      "cell_type": "code",
      "source": [
        "query_saude = \"select * from `basedosdados.br_ieps_saude.municipio` as db where db.id_municipio = '2503704'\"\n",
        "query_educacao = \"select * from `basedosdados.br_inep_indicadores_educacionais.municipio` as db where db.id_municipio = '2503704'\""
      ],
      "metadata": {
        "id": "6VR55s-XCjA3"
      },
      "execution_count": 4,
      "outputs": []
    },
    {
      "cell_type": "markdown",
      "source": [
        "## Import dos dados do IBGE"
      ],
      "metadata": {
        "id": "Zc74PzbkCoTZ"
      }
    },
    {
      "cell_type": "markdown",
      "source": [
        "### Indicadores saúde"
      ],
      "metadata": {
        "id": "DOs-vlsYVsSB"
      }
    },
    {
      "cell_type": "code",
      "source": [
        "# Para carregar os dados do firebase direto no pandas\n",
        "df_ibge_saude = client.query(query_saude).to_dataframe()\n",
        "df_ibge_saude.head(1)"
      ],
      "metadata": {
        "id": "FJQjvT-CCqi2",
        "colab": {
          "base_uri": "https://localhost:8080/",
          "height": 174
        },
        "outputId": "b45dcd62-c2da-4c66-cc36-61890787ca40"
      },
      "execution_count": 10,
      "outputs": [
        {
          "output_type": "execute_result",
          "data": {
            "text/plain": [
              "    ano id_municipio sigla_uf        nome  cob_ab  cob_acs  cob_esf  \\\n",
              "0  2010      2503704       PB  Cajazeiras   89.42    100.0    89.42   \n",
              "\n",
              "   cob_vac_bcg  cob_vac_rota  cob_vac_menin  ...  desp_recp_saude_pc_mun  \\\n",
              "0        100.0     92.518703            0.0  ...                   86.08   \n",
              "\n",
              "   pct_desp_recp_saude_uf  desp_tot_saude_pc_uf  desp_recp_saude_pc_uf  \\\n",
              "0                     NaN                   NaN                    NaN   \n",
              "\n",
              "   desp_tot_saude_pc_mun_def  desp_recp_saude_pc_mun_def  \\\n",
              "0                 562.799802                  164.843332   \n",
              "\n",
              "   desp_tot_saude_pc_uf_def  desp_recp_saude_pc_uf_def  num_familias_bf  \\\n",
              "0                       NaN                        NaN              NaN   \n",
              "\n",
              "   gasto_pbf_pc_def  \n",
              "0        286.193802  \n",
              "\n",
              "[1 rows x 68 columns]"
            ],
            "text/html": [
              "\n",
              "  <div id=\"df-114540de-3d22-4827-943d-c7c5cccfbb79\">\n",
              "    <div class=\"colab-df-container\">\n",
              "      <div>\n",
              "<style scoped>\n",
              "    .dataframe tbody tr th:only-of-type {\n",
              "        vertical-align: middle;\n",
              "    }\n",
              "\n",
              "    .dataframe tbody tr th {\n",
              "        vertical-align: top;\n",
              "    }\n",
              "\n",
              "    .dataframe thead th {\n",
              "        text-align: right;\n",
              "    }\n",
              "</style>\n",
              "<table border=\"1\" class=\"dataframe\">\n",
              "  <thead>\n",
              "    <tr style=\"text-align: right;\">\n",
              "      <th></th>\n",
              "      <th>ano</th>\n",
              "      <th>id_municipio</th>\n",
              "      <th>sigla_uf</th>\n",
              "      <th>nome</th>\n",
              "      <th>cob_ab</th>\n",
              "      <th>cob_acs</th>\n",
              "      <th>cob_esf</th>\n",
              "      <th>cob_vac_bcg</th>\n",
              "      <th>cob_vac_rota</th>\n",
              "      <th>cob_vac_menin</th>\n",
              "      <th>...</th>\n",
              "      <th>desp_recp_saude_pc_mun</th>\n",
              "      <th>pct_desp_recp_saude_uf</th>\n",
              "      <th>desp_tot_saude_pc_uf</th>\n",
              "      <th>desp_recp_saude_pc_uf</th>\n",
              "      <th>desp_tot_saude_pc_mun_def</th>\n",
              "      <th>desp_recp_saude_pc_mun_def</th>\n",
              "      <th>desp_tot_saude_pc_uf_def</th>\n",
              "      <th>desp_recp_saude_pc_uf_def</th>\n",
              "      <th>num_familias_bf</th>\n",
              "      <th>gasto_pbf_pc_def</th>\n",
              "    </tr>\n",
              "  </thead>\n",
              "  <tbody>\n",
              "    <tr>\n",
              "      <th>0</th>\n",
              "      <td>2010</td>\n",
              "      <td>2503704</td>\n",
              "      <td>PB</td>\n",
              "      <td>Cajazeiras</td>\n",
              "      <td>89.42</td>\n",
              "      <td>100.0</td>\n",
              "      <td>89.42</td>\n",
              "      <td>100.0</td>\n",
              "      <td>92.518703</td>\n",
              "      <td>0.0</td>\n",
              "      <td>...</td>\n",
              "      <td>86.08</td>\n",
              "      <td>NaN</td>\n",
              "      <td>NaN</td>\n",
              "      <td>NaN</td>\n",
              "      <td>562.799802</td>\n",
              "      <td>164.843332</td>\n",
              "      <td>NaN</td>\n",
              "      <td>NaN</td>\n",
              "      <td>NaN</td>\n",
              "      <td>286.193802</td>\n",
              "    </tr>\n",
              "  </tbody>\n",
              "</table>\n",
              "<p>1 rows × 68 columns</p>\n",
              "</div>\n",
              "      <button class=\"colab-df-convert\" onclick=\"convertToInteractive('df-114540de-3d22-4827-943d-c7c5cccfbb79')\"\n",
              "              title=\"Convert this dataframe to an interactive table.\"\n",
              "              style=\"display:none;\">\n",
              "        \n",
              "  <svg xmlns=\"http://www.w3.org/2000/svg\" height=\"24px\"viewBox=\"0 0 24 24\"\n",
              "       width=\"24px\">\n",
              "    <path d=\"M0 0h24v24H0V0z\" fill=\"none\"/>\n",
              "    <path d=\"M18.56 5.44l.94 2.06.94-2.06 2.06-.94-2.06-.94-.94-2.06-.94 2.06-2.06.94zm-11 1L8.5 8.5l.94-2.06 2.06-.94-2.06-.94L8.5 2.5l-.94 2.06-2.06.94zm10 10l.94 2.06.94-2.06 2.06-.94-2.06-.94-.94-2.06-.94 2.06-2.06.94z\"/><path d=\"M17.41 7.96l-1.37-1.37c-.4-.4-.92-.59-1.43-.59-.52 0-1.04.2-1.43.59L10.3 9.45l-7.72 7.72c-.78.78-.78 2.05 0 2.83L4 21.41c.39.39.9.59 1.41.59.51 0 1.02-.2 1.41-.59l7.78-7.78 2.81-2.81c.8-.78.8-2.07 0-2.86zM5.41 20L4 18.59l7.72-7.72 1.47 1.35L5.41 20z\"/>\n",
              "  </svg>\n",
              "      </button>\n",
              "      \n",
              "  <style>\n",
              "    .colab-df-container {\n",
              "      display:flex;\n",
              "      flex-wrap:wrap;\n",
              "      gap: 12px;\n",
              "    }\n",
              "\n",
              "    .colab-df-convert {\n",
              "      background-color: #E8F0FE;\n",
              "      border: none;\n",
              "      border-radius: 50%;\n",
              "      cursor: pointer;\n",
              "      display: none;\n",
              "      fill: #1967D2;\n",
              "      height: 32px;\n",
              "      padding: 0 0 0 0;\n",
              "      width: 32px;\n",
              "    }\n",
              "\n",
              "    .colab-df-convert:hover {\n",
              "      background-color: #E2EBFA;\n",
              "      box-shadow: 0px 1px 2px rgba(60, 64, 67, 0.3), 0px 1px 3px 1px rgba(60, 64, 67, 0.15);\n",
              "      fill: #174EA6;\n",
              "    }\n",
              "\n",
              "    [theme=dark] .colab-df-convert {\n",
              "      background-color: #3B4455;\n",
              "      fill: #D2E3FC;\n",
              "    }\n",
              "\n",
              "    [theme=dark] .colab-df-convert:hover {\n",
              "      background-color: #434B5C;\n",
              "      box-shadow: 0px 1px 3px 1px rgba(0, 0, 0, 0.15);\n",
              "      filter: drop-shadow(0px 1px 2px rgba(0, 0, 0, 0.3));\n",
              "      fill: #FFFFFF;\n",
              "    }\n",
              "  </style>\n",
              "\n",
              "      <script>\n",
              "        const buttonEl =\n",
              "          document.querySelector('#df-114540de-3d22-4827-943d-c7c5cccfbb79 button.colab-df-convert');\n",
              "        buttonEl.style.display =\n",
              "          google.colab.kernel.accessAllowed ? 'block' : 'none';\n",
              "\n",
              "        async function convertToInteractive(key) {\n",
              "          const element = document.querySelector('#df-114540de-3d22-4827-943d-c7c5cccfbb79');\n",
              "          const dataTable =\n",
              "            await google.colab.kernel.invokeFunction('convertToInteractive',\n",
              "                                                     [key], {});\n",
              "          if (!dataTable) return;\n",
              "\n",
              "          const docLinkHtml = 'Like what you see? Visit the ' +\n",
              "            '<a target=\"_blank\" href=https://colab.research.google.com/notebooks/data_table.ipynb>data table notebook</a>'\n",
              "            + ' to learn more about interactive tables.';\n",
              "          element.innerHTML = '';\n",
              "          dataTable['output_type'] = 'display_data';\n",
              "          await google.colab.output.renderOutput(dataTable, element);\n",
              "          const docLink = document.createElement('div');\n",
              "          docLink.innerHTML = docLinkHtml;\n",
              "          element.appendChild(docLink);\n",
              "        }\n",
              "      </script>\n",
              "    </div>\n",
              "  </div>\n",
              "  "
            ]
          },
          "metadata": {},
          "execution_count": 10
        }
      ]
    },
    {
      "cell_type": "code",
      "source": [
        "df_ibge_saude.dtypes"
      ],
      "metadata": {
        "colab": {
          "base_uri": "https://localhost:8080/"
        },
        "id": "cRtIkvQMfolr",
        "outputId": "7a8c2741-1632-428a-f2c8-c29525f62257"
      },
      "execution_count": 11,
      "outputs": [
        {
          "output_type": "execute_result",
          "data": {
            "text/plain": [
              "ano                             int64\n",
              "id_municipio                   object\n",
              "sigla_uf                       object\n",
              "nome                           object\n",
              "cob_ab                        float64\n",
              "                               ...   \n",
              "desp_recp_saude_pc_mun_def    float64\n",
              "desp_tot_saude_pc_uf_def      float64\n",
              "desp_recp_saude_pc_uf_def     float64\n",
              "num_familias_bf               float64\n",
              "gasto_pbf_pc_def              float64\n",
              "Length: 68, dtype: object"
            ]
          },
          "metadata": {},
          "execution_count": 11
        }
      ]
    },
    {
      "cell_type": "markdown",
      "source": [
        "### Indicadores educação básica"
      ],
      "metadata": {
        "id": "x-OI0k9rVwwO"
      }
    },
    {
      "cell_type": "code",
      "source": [
        "# Para carregar os dados do firebase direto no pandas\n",
        "df_ibge_educacao = client.query(query_educacao).to_dataframe()\n",
        "df_ibge_educacao.head(1)"
      ],
      "metadata": {
        "id": "X8IHrHUiOyCY",
        "outputId": "9aec49b1-8da9-4f16-b9f6-23c69eb76a1e",
        "colab": {
          "base_uri": "https://localhost:8080/",
          "height": 174
        }
      },
      "execution_count": 13,
      "outputs": [
        {
          "output_type": "execute_result",
          "data": {
            "text/plain": [
              "    ano id_municipio localizacao      rede  atu_ei  atu_ei_creche  \\\n",
              "0  2006      2503704       rural  estadual     NaN            NaN   \n",
              "\n",
              "   atu_ei_pre_escola  atu_ef  atu_ef_anos_iniciais  atu_ef_anos_finais  ...  \\\n",
              "0                NaN     NaN                   NaN                 NaN  ...   \n",
              "\n",
              "   ied_em_nivel_3  ied_em_nivel_4  ied_em_nivel_5  ied_em_nivel_6  \\\n",
              "0             NaN             NaN             NaN             NaN   \n",
              "\n",
              "   icg_nivel_1  icg_nivel_2  icg_nivel_3  icg_nivel_4  icg_nivel_5  \\\n",
              "0          NaN          NaN          NaN          NaN          NaN   \n",
              "\n",
              "   icg_nivel_6  \n",
              "0          NaN  \n",
              "\n",
              "[1 rows x 215 columns]"
            ],
            "text/html": [
              "\n",
              "  <div id=\"df-6ac9cfec-c5a2-4227-8579-631adc29f9fe\">\n",
              "    <div class=\"colab-df-container\">\n",
              "      <div>\n",
              "<style scoped>\n",
              "    .dataframe tbody tr th:only-of-type {\n",
              "        vertical-align: middle;\n",
              "    }\n",
              "\n",
              "    .dataframe tbody tr th {\n",
              "        vertical-align: top;\n",
              "    }\n",
              "\n",
              "    .dataframe thead th {\n",
              "        text-align: right;\n",
              "    }\n",
              "</style>\n",
              "<table border=\"1\" class=\"dataframe\">\n",
              "  <thead>\n",
              "    <tr style=\"text-align: right;\">\n",
              "      <th></th>\n",
              "      <th>ano</th>\n",
              "      <th>id_municipio</th>\n",
              "      <th>localizacao</th>\n",
              "      <th>rede</th>\n",
              "      <th>atu_ei</th>\n",
              "      <th>atu_ei_creche</th>\n",
              "      <th>atu_ei_pre_escola</th>\n",
              "      <th>atu_ef</th>\n",
              "      <th>atu_ef_anos_iniciais</th>\n",
              "      <th>atu_ef_anos_finais</th>\n",
              "      <th>...</th>\n",
              "      <th>ied_em_nivel_3</th>\n",
              "      <th>ied_em_nivel_4</th>\n",
              "      <th>ied_em_nivel_5</th>\n",
              "      <th>ied_em_nivel_6</th>\n",
              "      <th>icg_nivel_1</th>\n",
              "      <th>icg_nivel_2</th>\n",
              "      <th>icg_nivel_3</th>\n",
              "      <th>icg_nivel_4</th>\n",
              "      <th>icg_nivel_5</th>\n",
              "      <th>icg_nivel_6</th>\n",
              "    </tr>\n",
              "  </thead>\n",
              "  <tbody>\n",
              "    <tr>\n",
              "      <th>0</th>\n",
              "      <td>2006</td>\n",
              "      <td>2503704</td>\n",
              "      <td>rural</td>\n",
              "      <td>estadual</td>\n",
              "      <td>NaN</td>\n",
              "      <td>NaN</td>\n",
              "      <td>NaN</td>\n",
              "      <td>NaN</td>\n",
              "      <td>NaN</td>\n",
              "      <td>NaN</td>\n",
              "      <td>...</td>\n",
              "      <td>NaN</td>\n",
              "      <td>NaN</td>\n",
              "      <td>NaN</td>\n",
              "      <td>NaN</td>\n",
              "      <td>NaN</td>\n",
              "      <td>NaN</td>\n",
              "      <td>NaN</td>\n",
              "      <td>NaN</td>\n",
              "      <td>NaN</td>\n",
              "      <td>NaN</td>\n",
              "    </tr>\n",
              "  </tbody>\n",
              "</table>\n",
              "<p>1 rows × 215 columns</p>\n",
              "</div>\n",
              "      <button class=\"colab-df-convert\" onclick=\"convertToInteractive('df-6ac9cfec-c5a2-4227-8579-631adc29f9fe')\"\n",
              "              title=\"Convert this dataframe to an interactive table.\"\n",
              "              style=\"display:none;\">\n",
              "        \n",
              "  <svg xmlns=\"http://www.w3.org/2000/svg\" height=\"24px\"viewBox=\"0 0 24 24\"\n",
              "       width=\"24px\">\n",
              "    <path d=\"M0 0h24v24H0V0z\" fill=\"none\"/>\n",
              "    <path d=\"M18.56 5.44l.94 2.06.94-2.06 2.06-.94-2.06-.94-.94-2.06-.94 2.06-2.06.94zm-11 1L8.5 8.5l.94-2.06 2.06-.94-2.06-.94L8.5 2.5l-.94 2.06-2.06.94zm10 10l.94 2.06.94-2.06 2.06-.94-2.06-.94-.94-2.06-.94 2.06-2.06.94z\"/><path d=\"M17.41 7.96l-1.37-1.37c-.4-.4-.92-.59-1.43-.59-.52 0-1.04.2-1.43.59L10.3 9.45l-7.72 7.72c-.78.78-.78 2.05 0 2.83L4 21.41c.39.39.9.59 1.41.59.51 0 1.02-.2 1.41-.59l7.78-7.78 2.81-2.81c.8-.78.8-2.07 0-2.86zM5.41 20L4 18.59l7.72-7.72 1.47 1.35L5.41 20z\"/>\n",
              "  </svg>\n",
              "      </button>\n",
              "      \n",
              "  <style>\n",
              "    .colab-df-container {\n",
              "      display:flex;\n",
              "      flex-wrap:wrap;\n",
              "      gap: 12px;\n",
              "    }\n",
              "\n",
              "    .colab-df-convert {\n",
              "      background-color: #E8F0FE;\n",
              "      border: none;\n",
              "      border-radius: 50%;\n",
              "      cursor: pointer;\n",
              "      display: none;\n",
              "      fill: #1967D2;\n",
              "      height: 32px;\n",
              "      padding: 0 0 0 0;\n",
              "      width: 32px;\n",
              "    }\n",
              "\n",
              "    .colab-df-convert:hover {\n",
              "      background-color: #E2EBFA;\n",
              "      box-shadow: 0px 1px 2px rgba(60, 64, 67, 0.3), 0px 1px 3px 1px rgba(60, 64, 67, 0.15);\n",
              "      fill: #174EA6;\n",
              "    }\n",
              "\n",
              "    [theme=dark] .colab-df-convert {\n",
              "      background-color: #3B4455;\n",
              "      fill: #D2E3FC;\n",
              "    }\n",
              "\n",
              "    [theme=dark] .colab-df-convert:hover {\n",
              "      background-color: #434B5C;\n",
              "      box-shadow: 0px 1px 3px 1px rgba(0, 0, 0, 0.15);\n",
              "      filter: drop-shadow(0px 1px 2px rgba(0, 0, 0, 0.3));\n",
              "      fill: #FFFFFF;\n",
              "    }\n",
              "  </style>\n",
              "\n",
              "      <script>\n",
              "        const buttonEl =\n",
              "          document.querySelector('#df-6ac9cfec-c5a2-4227-8579-631adc29f9fe button.colab-df-convert');\n",
              "        buttonEl.style.display =\n",
              "          google.colab.kernel.accessAllowed ? 'block' : 'none';\n",
              "\n",
              "        async function convertToInteractive(key) {\n",
              "          const element = document.querySelector('#df-6ac9cfec-c5a2-4227-8579-631adc29f9fe');\n",
              "          const dataTable =\n",
              "            await google.colab.kernel.invokeFunction('convertToInteractive',\n",
              "                                                     [key], {});\n",
              "          if (!dataTable) return;\n",
              "\n",
              "          const docLinkHtml = 'Like what you see? Visit the ' +\n",
              "            '<a target=\"_blank\" href=https://colab.research.google.com/notebooks/data_table.ipynb>data table notebook</a>'\n",
              "            + ' to learn more about interactive tables.';\n",
              "          element.innerHTML = '';\n",
              "          dataTable['output_type'] = 'display_data';\n",
              "          await google.colab.output.renderOutput(dataTable, element);\n",
              "          const docLink = document.createElement('div');\n",
              "          docLink.innerHTML = docLinkHtml;\n",
              "          element.appendChild(docLink);\n",
              "        }\n",
              "      </script>\n",
              "    </div>\n",
              "  </div>\n",
              "  "
            ]
          },
          "metadata": {},
          "execution_count": 13
        }
      ]
    },
    {
      "cell_type": "code",
      "source": [
        "df_ibge_educacao.dtypes"
      ],
      "metadata": {
        "colab": {
          "base_uri": "https://localhost:8080/"
        },
        "id": "HuJJaTKKf67T",
        "outputId": "804de264-30ec-4afd-983e-a7760f601881"
      },
      "execution_count": 14,
      "outputs": [
        {
          "output_type": "execute_result",
          "data": {
            "text/plain": [
              "ano               int64\n",
              "id_municipio     object\n",
              "localizacao      object\n",
              "rede             object\n",
              "atu_ei          float64\n",
              "                 ...   \n",
              "icg_nivel_2     float64\n",
              "icg_nivel_3     float64\n",
              "icg_nivel_4     float64\n",
              "icg_nivel_5     float64\n",
              "icg_nivel_6     float64\n",
              "Length: 215, dtype: object"
            ]
          },
          "metadata": {},
          "execution_count": 14
        }
      ]
    },
    {
      "cell_type": "markdown",
      "source": [
        "### Ideb\n",
        "- Os dados podem ser encontrados [aqui](https://www.gov.br/inep/pt-br/areas-de-atuacao/pesquisas-estatisticas-e-indicadores/ideb/resultados)."
      ],
      "metadata": {
        "id": "--gLhkoRo20O"
      }
    },
    {
      "cell_type": "code",
      "source": [
        "dic_dados_ideb_anos_iniciais = {2013:3.9,2015:4.0,2017:4.6,2019:5.3,2021:4.9} # 1 ao 5 ano\n",
        "dic_dados_ideb_anos_finais = {2013:3.8,2015:4.0,2017:4.3,2019:4.6,2021:4.9} # 6 ao 9 ano\n",
        "dic_dados_media_ideb = {2013:3.8,2015:4.0,2017:4.4,2019:4.9,2021:4.9} # média aritmética dos idebs\n",
        "\n",
        "# transformando o dicionário em um dataframe pandas\n",
        "df_dados_ideb = pd.DataFrame.from_dict(dic_dados_media_ideb, orient='index',columns=['media_ideb'])\n",
        "df_dados_ideb.index.name='ano'\n",
        "df_dados_ideb.reset_index(inplace=True)\n",
        "df_dados_ideb"
      ],
      "metadata": {
        "colab": {
          "base_uri": "https://localhost:8080/",
          "height": 206
        },
        "id": "48AGBYOZo2Ip",
        "outputId": "b836408d-696e-47b0-a801-b3197d029dfc"
      },
      "execution_count": 25,
      "outputs": [
        {
          "output_type": "execute_result",
          "data": {
            "text/plain": [
              "    ano  media_ideb\n",
              "0  2013         3.8\n",
              "1  2015         4.0\n",
              "2  2017         4.4\n",
              "3  2019         4.9\n",
              "4  2021         4.9"
            ],
            "text/html": [
              "\n",
              "  <div id=\"df-1873c7ec-7b94-412f-8bcd-b838252c5072\">\n",
              "    <div class=\"colab-df-container\">\n",
              "      <div>\n",
              "<style scoped>\n",
              "    .dataframe tbody tr th:only-of-type {\n",
              "        vertical-align: middle;\n",
              "    }\n",
              "\n",
              "    .dataframe tbody tr th {\n",
              "        vertical-align: top;\n",
              "    }\n",
              "\n",
              "    .dataframe thead th {\n",
              "        text-align: right;\n",
              "    }\n",
              "</style>\n",
              "<table border=\"1\" class=\"dataframe\">\n",
              "  <thead>\n",
              "    <tr style=\"text-align: right;\">\n",
              "      <th></th>\n",
              "      <th>ano</th>\n",
              "      <th>media_ideb</th>\n",
              "    </tr>\n",
              "  </thead>\n",
              "  <tbody>\n",
              "    <tr>\n",
              "      <th>0</th>\n",
              "      <td>2013</td>\n",
              "      <td>3.8</td>\n",
              "    </tr>\n",
              "    <tr>\n",
              "      <th>1</th>\n",
              "      <td>2015</td>\n",
              "      <td>4.0</td>\n",
              "    </tr>\n",
              "    <tr>\n",
              "      <th>2</th>\n",
              "      <td>2017</td>\n",
              "      <td>4.4</td>\n",
              "    </tr>\n",
              "    <tr>\n",
              "      <th>3</th>\n",
              "      <td>2019</td>\n",
              "      <td>4.9</td>\n",
              "    </tr>\n",
              "    <tr>\n",
              "      <th>4</th>\n",
              "      <td>2021</td>\n",
              "      <td>4.9</td>\n",
              "    </tr>\n",
              "  </tbody>\n",
              "</table>\n",
              "</div>\n",
              "      <button class=\"colab-df-convert\" onclick=\"convertToInteractive('df-1873c7ec-7b94-412f-8bcd-b838252c5072')\"\n",
              "              title=\"Convert this dataframe to an interactive table.\"\n",
              "              style=\"display:none;\">\n",
              "        \n",
              "  <svg xmlns=\"http://www.w3.org/2000/svg\" height=\"24px\"viewBox=\"0 0 24 24\"\n",
              "       width=\"24px\">\n",
              "    <path d=\"M0 0h24v24H0V0z\" fill=\"none\"/>\n",
              "    <path d=\"M18.56 5.44l.94 2.06.94-2.06 2.06-.94-2.06-.94-.94-2.06-.94 2.06-2.06.94zm-11 1L8.5 8.5l.94-2.06 2.06-.94-2.06-.94L8.5 2.5l-.94 2.06-2.06.94zm10 10l.94 2.06.94-2.06 2.06-.94-2.06-.94-.94-2.06-.94 2.06-2.06.94z\"/><path d=\"M17.41 7.96l-1.37-1.37c-.4-.4-.92-.59-1.43-.59-.52 0-1.04.2-1.43.59L10.3 9.45l-7.72 7.72c-.78.78-.78 2.05 0 2.83L4 21.41c.39.39.9.59 1.41.59.51 0 1.02-.2 1.41-.59l7.78-7.78 2.81-2.81c.8-.78.8-2.07 0-2.86zM5.41 20L4 18.59l7.72-7.72 1.47 1.35L5.41 20z\"/>\n",
              "  </svg>\n",
              "      </button>\n",
              "      \n",
              "  <style>\n",
              "    .colab-df-container {\n",
              "      display:flex;\n",
              "      flex-wrap:wrap;\n",
              "      gap: 12px;\n",
              "    }\n",
              "\n",
              "    .colab-df-convert {\n",
              "      background-color: #E8F0FE;\n",
              "      border: none;\n",
              "      border-radius: 50%;\n",
              "      cursor: pointer;\n",
              "      display: none;\n",
              "      fill: #1967D2;\n",
              "      height: 32px;\n",
              "      padding: 0 0 0 0;\n",
              "      width: 32px;\n",
              "    }\n",
              "\n",
              "    .colab-df-convert:hover {\n",
              "      background-color: #E2EBFA;\n",
              "      box-shadow: 0px 1px 2px rgba(60, 64, 67, 0.3), 0px 1px 3px 1px rgba(60, 64, 67, 0.15);\n",
              "      fill: #174EA6;\n",
              "    }\n",
              "\n",
              "    [theme=dark] .colab-df-convert {\n",
              "      background-color: #3B4455;\n",
              "      fill: #D2E3FC;\n",
              "    }\n",
              "\n",
              "    [theme=dark] .colab-df-convert:hover {\n",
              "      background-color: #434B5C;\n",
              "      box-shadow: 0px 1px 3px 1px rgba(0, 0, 0, 0.15);\n",
              "      filter: drop-shadow(0px 1px 2px rgba(0, 0, 0, 0.3));\n",
              "      fill: #FFFFFF;\n",
              "    }\n",
              "  </style>\n",
              "\n",
              "      <script>\n",
              "        const buttonEl =\n",
              "          document.querySelector('#df-1873c7ec-7b94-412f-8bcd-b838252c5072 button.colab-df-convert');\n",
              "        buttonEl.style.display =\n",
              "          google.colab.kernel.accessAllowed ? 'block' : 'none';\n",
              "\n",
              "        async function convertToInteractive(key) {\n",
              "          const element = document.querySelector('#df-1873c7ec-7b94-412f-8bcd-b838252c5072');\n",
              "          const dataTable =\n",
              "            await google.colab.kernel.invokeFunction('convertToInteractive',\n",
              "                                                     [key], {});\n",
              "          if (!dataTable) return;\n",
              "\n",
              "          const docLinkHtml = 'Like what you see? Visit the ' +\n",
              "            '<a target=\"_blank\" href=https://colab.research.google.com/notebooks/data_table.ipynb>data table notebook</a>'\n",
              "            + ' to learn more about interactive tables.';\n",
              "          element.innerHTML = '';\n",
              "          dataTable['output_type'] = 'display_data';\n",
              "          await google.colab.output.renderOutput(dataTable, element);\n",
              "          const docLink = document.createElement('div');\n",
              "          docLink.innerHTML = docLinkHtml;\n",
              "          element.appendChild(docLink);\n",
              "        }\n",
              "      </script>\n",
              "    </div>\n",
              "  </div>\n",
              "  "
            ]
          },
          "metadata": {},
          "execution_count": 25
        }
      ]
    },
    {
      "cell_type": "markdown",
      "source": [
        "## Import dos dados em .csv"
      ],
      "metadata": {
        "id": "jvkVUW4TIq0S"
      }
    },
    {
      "cell_type": "code",
      "source": [
        "df_despesas = pd.read_csv('dados_despesas.csv', sep=';')\n",
        "df_despesas.head(1)"
      ],
      "metadata": {
        "id": "XDwQKdKAHAIz",
        "outputId": "9d656c9b-24b3-450a-ff04-28793e4bf722",
        "colab": {
          "base_uri": "https://localhost:8080/",
          "height": 179
        }
      },
      "execution_count": 9,
      "outputs": [
        {
          "output_type": "execute_result",
          "data": {
            "text/plain": [
              "    DATA_FATO        FONTE_RECURSO                            ORGAO_INTERNO  \\\n",
              "0  2013-12-31  recursos ordinarios  secretaria municipal de infra estrutura   \n",
              "\n",
              "        ORGAO_VINCULADO  ELEMENTO  SUBELEMENTO  FUNCAO  SUBFUNCAO  NATUREZA  \\\n",
              "0  prefeitura municipal        39         2044       4        122         3   \n",
              "\n",
              "   VALOR_FIXADO  VALOR_EMPENHADO  VALOR_LIQUIDADO  VALOR_PAGO   SALDO  \\\n",
              "0     2911694.0           5120.0           5120.0         0.0  5120.0   \n",
              "\n",
              "           CODIGO  \n",
              "0  80e7979ff78e14  "
            ],
            "text/html": [
              "\n",
              "  <div id=\"df-cdf871ac-fe13-4cd5-8894-6013c85d996f\">\n",
              "    <div class=\"colab-df-container\">\n",
              "      <div>\n",
              "<style scoped>\n",
              "    .dataframe tbody tr th:only-of-type {\n",
              "        vertical-align: middle;\n",
              "    }\n",
              "\n",
              "    .dataframe tbody tr th {\n",
              "        vertical-align: top;\n",
              "    }\n",
              "\n",
              "    .dataframe thead th {\n",
              "        text-align: right;\n",
              "    }\n",
              "</style>\n",
              "<table border=\"1\" class=\"dataframe\">\n",
              "  <thead>\n",
              "    <tr style=\"text-align: right;\">\n",
              "      <th></th>\n",
              "      <th>DATA_FATO</th>\n",
              "      <th>FONTE_RECURSO</th>\n",
              "      <th>ORGAO_INTERNO</th>\n",
              "      <th>ORGAO_VINCULADO</th>\n",
              "      <th>ELEMENTO</th>\n",
              "      <th>SUBELEMENTO</th>\n",
              "      <th>FUNCAO</th>\n",
              "      <th>SUBFUNCAO</th>\n",
              "      <th>NATUREZA</th>\n",
              "      <th>VALOR_FIXADO</th>\n",
              "      <th>VALOR_EMPENHADO</th>\n",
              "      <th>VALOR_LIQUIDADO</th>\n",
              "      <th>VALOR_PAGO</th>\n",
              "      <th>SALDO</th>\n",
              "      <th>CODIGO</th>\n",
              "    </tr>\n",
              "  </thead>\n",
              "  <tbody>\n",
              "    <tr>\n",
              "      <th>0</th>\n",
              "      <td>2013-12-31</td>\n",
              "      <td>recursos ordinarios</td>\n",
              "      <td>secretaria municipal de infra estrutura</td>\n",
              "      <td>prefeitura municipal</td>\n",
              "      <td>39</td>\n",
              "      <td>2044</td>\n",
              "      <td>4</td>\n",
              "      <td>122</td>\n",
              "      <td>3</td>\n",
              "      <td>2911694.0</td>\n",
              "      <td>5120.0</td>\n",
              "      <td>5120.0</td>\n",
              "      <td>0.0</td>\n",
              "      <td>5120.0</td>\n",
              "      <td>80e7979ff78e14</td>\n",
              "    </tr>\n",
              "  </tbody>\n",
              "</table>\n",
              "</div>\n",
              "      <button class=\"colab-df-convert\" onclick=\"convertToInteractive('df-cdf871ac-fe13-4cd5-8894-6013c85d996f')\"\n",
              "              title=\"Convert this dataframe to an interactive table.\"\n",
              "              style=\"display:none;\">\n",
              "        \n",
              "  <svg xmlns=\"http://www.w3.org/2000/svg\" height=\"24px\"viewBox=\"0 0 24 24\"\n",
              "       width=\"24px\">\n",
              "    <path d=\"M0 0h24v24H0V0z\" fill=\"none\"/>\n",
              "    <path d=\"M18.56 5.44l.94 2.06.94-2.06 2.06-.94-2.06-.94-.94-2.06-.94 2.06-2.06.94zm-11 1L8.5 8.5l.94-2.06 2.06-.94-2.06-.94L8.5 2.5l-.94 2.06-2.06.94zm10 10l.94 2.06.94-2.06 2.06-.94-2.06-.94-.94-2.06-.94 2.06-2.06.94z\"/><path d=\"M17.41 7.96l-1.37-1.37c-.4-.4-.92-.59-1.43-.59-.52 0-1.04.2-1.43.59L10.3 9.45l-7.72 7.72c-.78.78-.78 2.05 0 2.83L4 21.41c.39.39.9.59 1.41.59.51 0 1.02-.2 1.41-.59l7.78-7.78 2.81-2.81c.8-.78.8-2.07 0-2.86zM5.41 20L4 18.59l7.72-7.72 1.47 1.35L5.41 20z\"/>\n",
              "  </svg>\n",
              "      </button>\n",
              "      \n",
              "  <style>\n",
              "    .colab-df-container {\n",
              "      display:flex;\n",
              "      flex-wrap:wrap;\n",
              "      gap: 12px;\n",
              "    }\n",
              "\n",
              "    .colab-df-convert {\n",
              "      background-color: #E8F0FE;\n",
              "      border: none;\n",
              "      border-radius: 50%;\n",
              "      cursor: pointer;\n",
              "      display: none;\n",
              "      fill: #1967D2;\n",
              "      height: 32px;\n",
              "      padding: 0 0 0 0;\n",
              "      width: 32px;\n",
              "    }\n",
              "\n",
              "    .colab-df-convert:hover {\n",
              "      background-color: #E2EBFA;\n",
              "      box-shadow: 0px 1px 2px rgba(60, 64, 67, 0.3), 0px 1px 3px 1px rgba(60, 64, 67, 0.15);\n",
              "      fill: #174EA6;\n",
              "    }\n",
              "\n",
              "    [theme=dark] .colab-df-convert {\n",
              "      background-color: #3B4455;\n",
              "      fill: #D2E3FC;\n",
              "    }\n",
              "\n",
              "    [theme=dark] .colab-df-convert:hover {\n",
              "      background-color: #434B5C;\n",
              "      box-shadow: 0px 1px 3px 1px rgba(0, 0, 0, 0.15);\n",
              "      filter: drop-shadow(0px 1px 2px rgba(0, 0, 0, 0.3));\n",
              "      fill: #FFFFFF;\n",
              "    }\n",
              "  </style>\n",
              "\n",
              "      <script>\n",
              "        const buttonEl =\n",
              "          document.querySelector('#df-cdf871ac-fe13-4cd5-8894-6013c85d996f button.colab-df-convert');\n",
              "        buttonEl.style.display =\n",
              "          google.colab.kernel.accessAllowed ? 'block' : 'none';\n",
              "\n",
              "        async function convertToInteractive(key) {\n",
              "          const element = document.querySelector('#df-cdf871ac-fe13-4cd5-8894-6013c85d996f');\n",
              "          const dataTable =\n",
              "            await google.colab.kernel.invokeFunction('convertToInteractive',\n",
              "                                                     [key], {});\n",
              "          if (!dataTable) return;\n",
              "\n",
              "          const docLinkHtml = 'Like what you see? Visit the ' +\n",
              "            '<a target=\"_blank\" href=https://colab.research.google.com/notebooks/data_table.ipynb>data table notebook</a>'\n",
              "            + ' to learn more about interactive tables.';\n",
              "          element.innerHTML = '';\n",
              "          dataTable['output_type'] = 'display_data';\n",
              "          await google.colab.output.renderOutput(dataTable, element);\n",
              "          const docLink = document.createElement('div');\n",
              "          docLink.innerHTML = docLinkHtml;\n",
              "          element.appendChild(docLink);\n",
              "        }\n",
              "      </script>\n",
              "    </div>\n",
              "  </div>\n",
              "  "
            ]
          },
          "metadata": {},
          "execution_count": 9
        }
      ]
    },
    {
      "cell_type": "code",
      "source": [
        "df_despesas.dtypes"
      ],
      "metadata": {
        "colab": {
          "base_uri": "https://localhost:8080/"
        },
        "id": "AqS6Qu04gA5V",
        "outputId": "786bbe52-0f8c-428f-f386-bdb854b8290c"
      },
      "execution_count": 15,
      "outputs": [
        {
          "output_type": "execute_result",
          "data": {
            "text/plain": [
              "DATA_FATO           object\n",
              "FONTE_RECURSO       object\n",
              "ORGAO_INTERNO       object\n",
              "ORGAO_VINCULADO     object\n",
              "ELEMENTO             int64\n",
              "SUBELEMENTO          int64\n",
              "FUNCAO               int64\n",
              "SUBFUNCAO            int64\n",
              "NATUREZA             int64\n",
              "VALOR_FIXADO       float64\n",
              "VALOR_EMPENHADO    float64\n",
              "VALOR_LIQUIDADO    float64\n",
              "VALOR_PAGO         float64\n",
              "SALDO              float64\n",
              "CODIGO              object\n",
              "dtype: object"
            ]
          },
          "metadata": {},
          "execution_count": 15
        }
      ]
    },
    {
      "cell_type": "markdown",
      "source": [
        "## Conversões nos dados"
      ],
      "metadata": {
        "id": "nz8S4UJ9FnZ3"
      }
    },
    {
      "cell_type": "markdown",
      "source": [
        "### Conversão e tratamento dos dados nas colunas do DF df_ibge_saude"
      ],
      "metadata": {
        "id": "3kInZUOSZzag"
      }
    },
    {
      "cell_type": "code",
      "source": [
        "# dados antes da conversão\n",
        "df_ibge_saude.dtypes"
      ],
      "metadata": {
        "id": "yc4yW6p3Zx8w",
        "outputId": "846a2a5f-73f4-4c69-cd4a-40fdb74386d2",
        "colab": {
          "base_uri": "https://localhost:8080/"
        }
      },
      "execution_count": 26,
      "outputs": [
        {
          "output_type": "execute_result",
          "data": {
            "text/plain": [
              "ano                             int64\n",
              "id_municipio                   object\n",
              "sigla_uf                       object\n",
              "nome                           object\n",
              "cob_ab                        float64\n",
              "                               ...   \n",
              "desp_recp_saude_pc_mun_def    float64\n",
              "desp_tot_saude_pc_uf_def      float64\n",
              "desp_recp_saude_pc_uf_def     float64\n",
              "num_familias_bf               float64\n",
              "gasto_pbf_pc_def              float64\n",
              "Length: 68, dtype: object"
            ]
          },
          "metadata": {},
          "execution_count": 26
        }
      ]
    },
    {
      "cell_type": "code",
      "source": [
        "# dados da coluna ano após a conversão\n",
        "df_ibge_saude['ano'] = pd.to_datetime(df_ibge_saude['ano'], format='%Y')\n",
        "df_ibge_saude.dtypes"
      ],
      "metadata": {
        "id": "m9gPP9r9aG5h",
        "outputId": "ec17a00a-ec09-4576-d88d-2a6dcba83eb7",
        "colab": {
          "base_uri": "https://localhost:8080/"
        }
      },
      "execution_count": 27,
      "outputs": [
        {
          "output_type": "execute_result",
          "data": {
            "text/plain": [
              "ano                           datetime64[ns]\n",
              "id_municipio                          object\n",
              "sigla_uf                              object\n",
              "nome                                  object\n",
              "cob_ab                               float64\n",
              "                                   ...      \n",
              "desp_recp_saude_pc_mun_def           float64\n",
              "desp_tot_saude_pc_uf_def             float64\n",
              "desp_recp_saude_pc_uf_def            float64\n",
              "num_familias_bf                      float64\n",
              "gasto_pbf_pc_def                     float64\n",
              "Length: 68, dtype: object"
            ]
          },
          "metadata": {},
          "execution_count": 27
        }
      ]
    },
    {
      "cell_type": "markdown",
      "source": [
        "### Conversão e tratamento dos dados da coluna tempo do DF dados_despesas"
      ],
      "metadata": {
        "id": "fLfZy69IHkz4"
      }
    },
    {
      "cell_type": "code",
      "source": [
        "# dados antes da conversão\n",
        "df_despesas.dtypes"
      ],
      "metadata": {
        "id": "ZZUm6a0eHscN",
        "outputId": "b9d58fd7-ecfa-4489-b40a-a83ca7f00045",
        "colab": {
          "base_uri": "https://localhost:8080/"
        }
      },
      "execution_count": 28,
      "outputs": [
        {
          "output_type": "execute_result",
          "data": {
            "text/plain": [
              "DATA_FATO           object\n",
              "FONTE_RECURSO       object\n",
              "ORGAO_INTERNO       object\n",
              "ORGAO_VINCULADO     object\n",
              "ELEMENTO             int64\n",
              "SUBELEMENTO          int64\n",
              "FUNCAO               int64\n",
              "SUBFUNCAO            int64\n",
              "NATUREZA             int64\n",
              "VALOR_FIXADO       float64\n",
              "VALOR_EMPENHADO    float64\n",
              "VALOR_LIQUIDADO    float64\n",
              "VALOR_PAGO         float64\n",
              "SALDO              float64\n",
              "CODIGO              object\n",
              "dtype: object"
            ]
          },
          "metadata": {},
          "execution_count": 28
        }
      ]
    },
    {
      "cell_type": "code",
      "source": [
        "# dados após a conversão\n",
        "df_despesas['DATA_FATO'] = pd.to_datetime(df_despesas['DATA_FATO'])\n",
        "df_despesas.dtypes"
      ],
      "metadata": {
        "id": "ybSMgP4wHxP3",
        "outputId": "4647125a-4247-4382-d10a-b358cffd906d",
        "colab": {
          "base_uri": "https://localhost:8080/"
        }
      },
      "execution_count": 30,
      "outputs": [
        {
          "output_type": "execute_result",
          "data": {
            "text/plain": [
              "DATA_FATO          datetime64[ns]\n",
              "FONTE_RECURSO              object\n",
              "ORGAO_INTERNO              object\n",
              "ORGAO_VINCULADO            object\n",
              "ELEMENTO                    int64\n",
              "SUBELEMENTO                 int64\n",
              "FUNCAO                      int64\n",
              "SUBFUNCAO                   int64\n",
              "NATUREZA                    int64\n",
              "VALOR_FIXADO              float64\n",
              "VALOR_EMPENHADO           float64\n",
              "VALOR_LIQUIDADO           float64\n",
              "VALOR_PAGO                float64\n",
              "SALDO                     float64\n",
              "CODIGO                     object\n",
              "dtype: object"
            ]
          },
          "metadata": {},
          "execution_count": 30
        }
      ]
    },
    {
      "cell_type": "markdown",
      "source": [
        "### Conversão na coluna ano do DF df_ibge_educacao"
      ],
      "metadata": {
        "id": "eQteOy0aFrn3"
      }
    },
    {
      "cell_type": "code",
      "source": [
        "# dados originais\n",
        "df_ibge_educacao.dtypes"
      ],
      "metadata": {
        "colab": {
          "base_uri": "https://localhost:8080/"
        },
        "id": "SpDLe4M1FRzS",
        "outputId": "1bd43d45-77c0-4825-ee0a-14bdf9ff9b40"
      },
      "execution_count": 31,
      "outputs": [
        {
          "output_type": "execute_result",
          "data": {
            "text/plain": [
              "ano               int64\n",
              "id_municipio     object\n",
              "localizacao      object\n",
              "rede             object\n",
              "atu_ei          float64\n",
              "                 ...   \n",
              "icg_nivel_2     float64\n",
              "icg_nivel_3     float64\n",
              "icg_nivel_4     float64\n",
              "icg_nivel_5     float64\n",
              "icg_nivel_6     float64\n",
              "Length: 215, dtype: object"
            ]
          },
          "metadata": {},
          "execution_count": 31
        }
      ]
    },
    {
      "cell_type": "code",
      "source": [
        "# dados apos conversao para dt\n",
        "df_ibge_educacao['ano'] = pd.to_datetime(df_ibge_educacao['ano'], format='%Y')\n",
        "df_ibge_educacao.head(1)"
      ],
      "metadata": {
        "colab": {
          "base_uri": "https://localhost:8080/",
          "height": 191
        },
        "id": "ruQmKFtCFUtH",
        "outputId": "0dabbee4-cafd-4ab9-dc8a-5073c2ab4011"
      },
      "execution_count": 41,
      "outputs": [
        {
          "output_type": "execute_result",
          "data": {
            "text/plain": [
              "         ano id_municipio localizacao      rede  atu_ei  atu_ei_creche  \\\n",
              "0 2006-01-01      2503704       rural  estadual     0.0            0.0   \n",
              "\n",
              "   atu_ei_pre_escola  atu_ef  atu_ef_anos_iniciais  atu_ef_anos_finais  ...  \\\n",
              "0                0.0     0.0                   0.0                 0.0  ...   \n",
              "\n",
              "   ied_em_nivel_3  ied_em_nivel_4  ied_em_nivel_5  ied_em_nivel_6  \\\n",
              "0             0.0             0.0             0.0             0.0   \n",
              "\n",
              "   icg_nivel_1  icg_nivel_2  icg_nivel_3  icg_nivel_4  icg_nivel_5  \\\n",
              "0          0.0          0.0          0.0          0.0          0.0   \n",
              "\n",
              "   icg_nivel_6  \n",
              "0          0.0  \n",
              "\n",
              "[1 rows x 215 columns]"
            ],
            "text/html": [
              "\n",
              "  <div id=\"df-7486957e-a252-4b5c-bd03-e83eeac76906\">\n",
              "    <div class=\"colab-df-container\">\n",
              "      <div>\n",
              "<style scoped>\n",
              "    .dataframe tbody tr th:only-of-type {\n",
              "        vertical-align: middle;\n",
              "    }\n",
              "\n",
              "    .dataframe tbody tr th {\n",
              "        vertical-align: top;\n",
              "    }\n",
              "\n",
              "    .dataframe thead th {\n",
              "        text-align: right;\n",
              "    }\n",
              "</style>\n",
              "<table border=\"1\" class=\"dataframe\">\n",
              "  <thead>\n",
              "    <tr style=\"text-align: right;\">\n",
              "      <th></th>\n",
              "      <th>ano</th>\n",
              "      <th>id_municipio</th>\n",
              "      <th>localizacao</th>\n",
              "      <th>rede</th>\n",
              "      <th>atu_ei</th>\n",
              "      <th>atu_ei_creche</th>\n",
              "      <th>atu_ei_pre_escola</th>\n",
              "      <th>atu_ef</th>\n",
              "      <th>atu_ef_anos_iniciais</th>\n",
              "      <th>atu_ef_anos_finais</th>\n",
              "      <th>...</th>\n",
              "      <th>ied_em_nivel_3</th>\n",
              "      <th>ied_em_nivel_4</th>\n",
              "      <th>ied_em_nivel_5</th>\n",
              "      <th>ied_em_nivel_6</th>\n",
              "      <th>icg_nivel_1</th>\n",
              "      <th>icg_nivel_2</th>\n",
              "      <th>icg_nivel_3</th>\n",
              "      <th>icg_nivel_4</th>\n",
              "      <th>icg_nivel_5</th>\n",
              "      <th>icg_nivel_6</th>\n",
              "    </tr>\n",
              "  </thead>\n",
              "  <tbody>\n",
              "    <tr>\n",
              "      <th>0</th>\n",
              "      <td>2006-01-01</td>\n",
              "      <td>2503704</td>\n",
              "      <td>rural</td>\n",
              "      <td>estadual</td>\n",
              "      <td>0.0</td>\n",
              "      <td>0.0</td>\n",
              "      <td>0.0</td>\n",
              "      <td>0.0</td>\n",
              "      <td>0.0</td>\n",
              "      <td>0.0</td>\n",
              "      <td>...</td>\n",
              "      <td>0.0</td>\n",
              "      <td>0.0</td>\n",
              "      <td>0.0</td>\n",
              "      <td>0.0</td>\n",
              "      <td>0.0</td>\n",
              "      <td>0.0</td>\n",
              "      <td>0.0</td>\n",
              "      <td>0.0</td>\n",
              "      <td>0.0</td>\n",
              "      <td>0.0</td>\n",
              "    </tr>\n",
              "  </tbody>\n",
              "</table>\n",
              "<p>1 rows × 215 columns</p>\n",
              "</div>\n",
              "      <button class=\"colab-df-convert\" onclick=\"convertToInteractive('df-7486957e-a252-4b5c-bd03-e83eeac76906')\"\n",
              "              title=\"Convert this dataframe to an interactive table.\"\n",
              "              style=\"display:none;\">\n",
              "        \n",
              "  <svg xmlns=\"http://www.w3.org/2000/svg\" height=\"24px\"viewBox=\"0 0 24 24\"\n",
              "       width=\"24px\">\n",
              "    <path d=\"M0 0h24v24H0V0z\" fill=\"none\"/>\n",
              "    <path d=\"M18.56 5.44l.94 2.06.94-2.06 2.06-.94-2.06-.94-.94-2.06-.94 2.06-2.06.94zm-11 1L8.5 8.5l.94-2.06 2.06-.94-2.06-.94L8.5 2.5l-.94 2.06-2.06.94zm10 10l.94 2.06.94-2.06 2.06-.94-2.06-.94-.94-2.06-.94 2.06-2.06.94z\"/><path d=\"M17.41 7.96l-1.37-1.37c-.4-.4-.92-.59-1.43-.59-.52 0-1.04.2-1.43.59L10.3 9.45l-7.72 7.72c-.78.78-.78 2.05 0 2.83L4 21.41c.39.39.9.59 1.41.59.51 0 1.02-.2 1.41-.59l7.78-7.78 2.81-2.81c.8-.78.8-2.07 0-2.86zM5.41 20L4 18.59l7.72-7.72 1.47 1.35L5.41 20z\"/>\n",
              "  </svg>\n",
              "      </button>\n",
              "      \n",
              "  <style>\n",
              "    .colab-df-container {\n",
              "      display:flex;\n",
              "      flex-wrap:wrap;\n",
              "      gap: 12px;\n",
              "    }\n",
              "\n",
              "    .colab-df-convert {\n",
              "      background-color: #E8F0FE;\n",
              "      border: none;\n",
              "      border-radius: 50%;\n",
              "      cursor: pointer;\n",
              "      display: none;\n",
              "      fill: #1967D2;\n",
              "      height: 32px;\n",
              "      padding: 0 0 0 0;\n",
              "      width: 32px;\n",
              "    }\n",
              "\n",
              "    .colab-df-convert:hover {\n",
              "      background-color: #E2EBFA;\n",
              "      box-shadow: 0px 1px 2px rgba(60, 64, 67, 0.3), 0px 1px 3px 1px rgba(60, 64, 67, 0.15);\n",
              "      fill: #174EA6;\n",
              "    }\n",
              "\n",
              "    [theme=dark] .colab-df-convert {\n",
              "      background-color: #3B4455;\n",
              "      fill: #D2E3FC;\n",
              "    }\n",
              "\n",
              "    [theme=dark] .colab-df-convert:hover {\n",
              "      background-color: #434B5C;\n",
              "      box-shadow: 0px 1px 3px 1px rgba(0, 0, 0, 0.15);\n",
              "      filter: drop-shadow(0px 1px 2px rgba(0, 0, 0, 0.3));\n",
              "      fill: #FFFFFF;\n",
              "    }\n",
              "  </style>\n",
              "\n",
              "      <script>\n",
              "        const buttonEl =\n",
              "          document.querySelector('#df-7486957e-a252-4b5c-bd03-e83eeac76906 button.colab-df-convert');\n",
              "        buttonEl.style.display =\n",
              "          google.colab.kernel.accessAllowed ? 'block' : 'none';\n",
              "\n",
              "        async function convertToInteractive(key) {\n",
              "          const element = document.querySelector('#df-7486957e-a252-4b5c-bd03-e83eeac76906');\n",
              "          const dataTable =\n",
              "            await google.colab.kernel.invokeFunction('convertToInteractive',\n",
              "                                                     [key], {});\n",
              "          if (!dataTable) return;\n",
              "\n",
              "          const docLinkHtml = 'Like what you see? Visit the ' +\n",
              "            '<a target=\"_blank\" href=https://colab.research.google.com/notebooks/data_table.ipynb>data table notebook</a>'\n",
              "            + ' to learn more about interactive tables.';\n",
              "          element.innerHTML = '';\n",
              "          dataTable['output_type'] = 'display_data';\n",
              "          await google.colab.output.renderOutput(dataTable, element);\n",
              "          const docLink = document.createElement('div');\n",
              "          docLink.innerHTML = docLinkHtml;\n",
              "          element.appendChild(docLink);\n",
              "        }\n",
              "      </script>\n",
              "    </div>\n",
              "  </div>\n",
              "  "
            ]
          },
          "metadata": {},
          "execution_count": 41
        }
      ]
    },
    {
      "cell_type": "code",
      "source": [
        "df_ibge_educacao.fillna(0.0,inplace=True)"
      ],
      "metadata": {
        "id": "uzGBa4Ar17ti"
      },
      "execution_count": 39,
      "outputs": []
    },
    {
      "cell_type": "code",
      "source": [
        "# dados apos a conversao\n",
        "df_ibge_educacao.dtypes"
      ],
      "metadata": {
        "colab": {
          "base_uri": "https://localhost:8080/"
        },
        "id": "SkngLEe7FUp6",
        "outputId": "48093745-2e6c-4de0-a053-30dd69388ab1"
      },
      "execution_count": 40,
      "outputs": [
        {
          "output_type": "execute_result",
          "data": {
            "text/plain": [
              "ano             datetime64[ns]\n",
              "id_municipio            object\n",
              "localizacao             object\n",
              "rede                    object\n",
              "atu_ei                 float64\n",
              "                     ...      \n",
              "icg_nivel_2            float64\n",
              "icg_nivel_3            float64\n",
              "icg_nivel_4            float64\n",
              "icg_nivel_5            float64\n",
              "icg_nivel_6            float64\n",
              "Length: 215, dtype: object"
            ]
          },
          "metadata": {},
          "execution_count": 40
        }
      ]
    },
    {
      "cell_type": "markdown",
      "source": [
        "# Análises"
      ],
      "metadata": {
        "id": "7xO_MJRiETt8"
      }
    },
    {
      "cell_type": "markdown",
      "source": [
        "## Séries históricas"
      ],
      "metadata": {
        "id": "NthP_TRzEYQm"
      }
    },
    {
      "cell_type": "markdown",
      "source": [
        "### Time series da população cajazeirense entre 1991 e 2021"
      ],
      "metadata": {
        "id": "6idchRs4GFxG"
      }
    },
    {
      "cell_type": "code",
      "source": [
        "df_ibge_populacao_index_ano = df_ibge_populacao.set_index('ano')"
      ],
      "metadata": {
        "id": "1b1W5--pG3z3"
      },
      "execution_count": null,
      "outputs": []
    },
    {
      "cell_type": "code",
      "source": [
        "# Plota o gráfico de linha com as séries temporais\n",
        "fig, ax = plt.subplots(figsize=(10, 5))\n",
        "\n",
        "ax.plot(df_ibge_populacao_index_ano.index, df_ibge_populacao_index_ano['populacao'], label='Total Anual')\n",
        "\n",
        "# Adiciona legenda e título ao gráfico\n",
        "ax.legend()\n",
        "ax.set_title('População Cajazeirense entre 1991 e 2021 - IBGE')\n",
        "\n",
        "# Exibe o gráfico\n",
        "plt.show()"
      ],
      "metadata": {
        "id": "aoSKDi4tDKfu"
      },
      "execution_count": null,
      "outputs": []
    },
    {
      "cell_type": "code",
      "source": [
        "df_ibge_populacao_index_ano['variacao_anual'] = df_ibge_populacao_index_ano['populacao'].diff()\n",
        "df_ibge_populacao_index_ano['porcentagem_variacao_anual_%'] = ((df_ibge_populacao_index_ano['variacao_anual'] / df_ibge_populacao_index_ano['populacao'].shift(1)) * 100).round(2)\n",
        "df_ibge_populacao_index_ano['aceleracao_variacao_anual'] = df_ibge_populacao_index_ano['variacao_anual'].diff()\n",
        "df_ibge_populacao_index_ano['porcentagem_aceleracao_variacao_anual_%'] = ((df_ibge_populacao_index_ano['aceleracao_variacao_anual'] / df_ibge_populacao_index_ano['variacao_anual'].shift(1)) * 100).round(2)\n",
        "df_ibge_populacao_index_ano"
      ],
      "metadata": {
        "id": "r6SpEf5bGi3B"
      },
      "execution_count": null,
      "outputs": []
    },
    {
      "cell_type": "code",
      "source": [
        "# Plota o gráfico de linha com as séries temporais\n",
        "fig, ax = plt.subplots(figsize=(10, 5))\n",
        "\n",
        "ax.plot(df_ibge_populacao_index_ano.index, df_ibge_populacao_index_ano['variacao_anual'], label='Variação')\n",
        "\n",
        "# Adiciona legenda e título ao gráfico\n",
        "ax.legend()\n",
        "ax.set_title('Variação Anual Populacional Cajazeirense entre 1991 e 2021 - IBGE')\n",
        "\n",
        "# Exibe o gráfico\n",
        "plt.show()"
      ],
      "metadata": {
        "id": "xoUKPuisHles"
      },
      "execution_count": null,
      "outputs": []
    },
    {
      "cell_type": "code",
      "source": [
        "# Plota o gráfico de linha com as séries temporais\n",
        "fig, ax = plt.subplots(figsize=(10, 5))\n",
        "\n",
        "ax.plot(df_ibge_populacao_index_ano.index, df_ibge_populacao_index_ano['aceleracao_variacao_anual'], label='Aceleração')\n",
        "\n",
        "# Adiciona legenda e título ao gráfico\n",
        "ax.legend()\n",
        "ax.set_title('Aceleração Crescimento Anual Populacional Cajazeirense entre 1991 e 2021 - IBGE')\n",
        "\n",
        "# Exibe o gráfico\n",
        "plt.show()"
      ],
      "metadata": {
        "id": "a_0U0Ae7H8CX"
      },
      "execution_count": null,
      "outputs": []
    },
    {
      "cell_type": "code",
      "source": [
        "print(f\"Total da variação populacional entre 1991 e 2021: {df_ibge_populacao_index_ano['variacao_anual'].sum()}\")\n",
        "print(f\"Média móvel da variação anual: {(df_ibge_populacao_index_ano['variacao_anual'].sum()/df_ibge_populacao_index_ano.shape[0]).round(2)}\")"
      ],
      "metadata": {
        "id": "SXNc479PIdx9"
      },
      "execution_count": null,
      "outputs": []
    },
    {
      "cell_type": "code",
      "source": [
        "print(f\"Total da aceleração da variação populacional entre 1991 e 2021: {df_ibge_populacao_index_ano['aceleracao_variacao_anual'].sum()}\")\n",
        "print(f\"Média móvel anual da aceleração da variação populacional entre 1991 e 2021: {(df_ibge_populacao_index_ano['aceleracao_variacao_anual'].sum()/df_ibge_populacao_index_ano.shape[0]).round(2)}\")"
      ],
      "metadata": {
        "id": "yZM9Ghv8KLwL"
      },
      "execution_count": null,
      "outputs": []
    },
    {
      "cell_type": "code",
      "source": [
        "print(f\"Porcentagem da variação populacional entre 1991 e 2021: {df_ibge_populacao_index_ano['porcentagem_variacao_anual_%'].sum().round(2)}%\")\n",
        "print(f\"Média percentual móvel anual da variação populacional entre 1991 e 2021: {(df_ibge_populacao_index_ano['porcentagem_variacao_anual_%'].sum()/df_ibge_populacao_index_ano.shape[0]).round(2)}%\")"
      ],
      "metadata": {
        "id": "y8biiBQ5M2HO"
      },
      "execution_count": null,
      "outputs": []
    },
    {
      "cell_type": "code",
      "source": [
        "print(f\"Porcentagem da aceleração da variação populacional entre 1991 e 2021: {df_ibge_populacao_index_ano['porcentagem_aceleracao_variacao_anual_%'].sum().round(2)}%\")\n",
        "print(f\"Média percentual móvel anual da aceleração da variação populacional entre 1991 e 2021: {(df_ibge_populacao_index_ano['porcentagem_aceleracao_variacao_anual_%'].sum()/df_ibge_populacao_index_ano.shape[0]).round(2)}%\")"
      ],
      "metadata": {
        "id": "JgnFTjr-M1-0"
      },
      "execution_count": null,
      "outputs": []
    },
    {
      "cell_type": "markdown",
      "source": [
        "### Time series do pib entre 1999 e 2020"
      ],
      "metadata": {
        "id": "n3HPjhMOc1qN"
      }
    },
    {
      "cell_type": "code",
      "source": [
        "# verificando se há valores nulos\n",
        "df_ibge_pib.isna().value_counts()"
      ],
      "metadata": {
        "id": "_NcsC_c1c06g"
      },
      "execution_count": null,
      "outputs": []
    },
    {
      "cell_type": "code",
      "source": [
        "# verificando o tipo das colunas\n",
        "df_ibge_pib.dtypes"
      ],
      "metadata": {
        "id": "8C8BlV24dL_T"
      },
      "execution_count": null,
      "outputs": []
    },
    {
      "cell_type": "code",
      "source": [
        "# criando df para analises dos dados\n",
        "df_valor_pib_analise = df_ibge_pib[['ano','pib', 'impostos_liquidos', 'va', 'va_agropecuaria', 'va_industria', 'va_servicos', 'va_adespss']]\n",
        "\n",
        "df_valor_pib_analise.set_index('ano', inplace=True)\n",
        "df_valor_pib_analise"
      ],
      "metadata": {
        "id": "82oNh8pTdSoZ"
      },
      "execution_count": null,
      "outputs": []
    },
    {
      "cell_type": "markdown",
      "source": [
        "#### PIB"
      ],
      "metadata": {
        "id": "C3NtWW70f5zZ"
      }
    },
    {
      "cell_type": "code",
      "source": [
        "df_pib_analise = df_valor_pib_analise.copy()\n",
        "df_pib_analise.drop(columns=['impostos_liquidos','va','va_agropecuaria','va_industria','va_servicos','va_adespss'], inplace=True)\n",
        "\n",
        "pd.options.display.float_format = '{:.2f}'.format\n",
        "print(df_pib_analise)"
      ],
      "metadata": {
        "id": "KolYCUAvgdoI"
      },
      "execution_count": null,
      "outputs": []
    },
    {
      "cell_type": "code",
      "source": [
        "# inferindo variação e acelaração anual do pib\n",
        "df_pib_analise['variacao_anual'] = df_pib_analise['pib'].diff()\n",
        "df_pib_analise['porcentagem_variacao_anual_%'] = ((df_pib_analise['variacao_anual'] / df_pib_analise['pib'].shift(1)) * 100).round(2)\n",
        "df_pib_analise['aceleracao_variacao_anual'] = df_pib_analise['variacao_anual'].diff()\n",
        "df_pib_analise['porcentagem_aceleracao_variacao_anual_%'] = ((df_pib_analise['aceleracao_variacao_anual'] / df_pib_analise['variacao_anual'].shift(1)) * 100).round(2)\n",
        "df_pib_analise"
      ],
      "metadata": {
        "id": "WHqYR4Y1dSl3"
      },
      "execution_count": null,
      "outputs": []
    },
    {
      "cell_type": "code",
      "source": [
        "# Plota o gráfico de linha com as séries temporais\n",
        "fig, ax = plt.subplots(figsize=(10, 5))\n",
        "ax.plot(df_pib_analise.index, df_pib_analise['pib'], label='Valor Anual - R$')\n",
        "\n",
        "# Adiciona legenda e título ao gráfico\n",
        "ax.legend()\n",
        "ax.set_title('PIB municipal anual bruto entre os anos de 1999 a 2020')\n",
        "ax.xaxis.label.set_visible(False)  # esconde a legenda do eixo X\n",
        "\n",
        "# Configura o eixo x para não mostrar nenhum rótulo\n",
        "# plt.gca().set_xticklabels([])\n",
        "\n",
        "# Exibe o gráfico\n",
        "plt.show()"
      ],
      "metadata": {
        "id": "NoRSULvRdSjT"
      },
      "execution_count": null,
      "outputs": []
    },
    {
      "cell_type": "code",
      "source": [
        "# Plota o gráfico de linha com as séries temporais\n",
        "fig, ax = plt.subplots(figsize=(10, 5))\n",
        "ax.plot(df_pib_analise.index, df_pib_analise['variacao_anual'], label='Valor Anual - R$')\n",
        "\n",
        "# Adiciona legenda e título ao gráfico\n",
        "ax.legend()\n",
        "ax.set_title('Variação do PIB municipal bruto entre os anos de 1999 a 2020')\n",
        "ax.xaxis.label.set_visible(False)  # esconde a legenda do eixo X\n",
        "\n",
        "# Configura o eixo x para não mostrar nenhum rótulo\n",
        "# plt.gca().set_xticklabels([])\n",
        "\n",
        "# Exibe o gráfico\n",
        "plt.show()"
      ],
      "metadata": {
        "id": "OlGp23S6dSg-"
      },
      "execution_count": null,
      "outputs": []
    },
    {
      "cell_type": "code",
      "source": [
        "# Plota o gráfico de linha com as séries temporais\n",
        "fig, ax = plt.subplots(figsize=(10, 5))\n",
        "ax.plot(df_pib_analise.index, df_pib_analise['aceleracao_variacao_anual'], label='Valor Anual - R$')\n",
        "\n",
        "# Adiciona legenda e título ao gráfico\n",
        "ax.legend()\n",
        "ax.set_title('Aceleração do PIB municipal anual bruto entre os anos de 1999 a 2020')\n",
        "ax.xaxis.label.set_visible(False)  # esconde a legenda do eixo X\n",
        "\n",
        "# Configura o eixo x para não mostrar nenhum rótulo\n",
        "# plt.gca().set_xticklabels([])\n",
        "\n",
        "# Exibe o gráfico\n",
        "plt.show()"
      ],
      "metadata": {
        "id": "wnjl-XHAdSeY"
      },
      "execution_count": null,
      "outputs": []
    },
    {
      "cell_type": "code",
      "source": [
        "print(f\"Total da variação do PIB municipal: R$ {df_pib_analise['variacao_anual'].sum().round(2)}\")\n",
        "print(f\"Média móvel anual da variação do PIB municipal: R$ {(df_pib_analise['variacao_anual'].sum()/df_pib_analise.shape[0]).round(2)}\")"
      ],
      "metadata": {
        "id": "nke_w-NXdSZQ"
      },
      "execution_count": null,
      "outputs": []
    },
    {
      "cell_type": "code",
      "source": [
        "print(f\"Total da aceleração da variação do PIB municipal: R$ {df_pib_analise['aceleracao_variacao_anual'].sum().round(2)}\")\n",
        "print(f\"Média móvel anual da aceleração da variação do PIB municipal: R$ {(df_pib_analise['aceleracao_variacao_anual'].sum()/df_pib_analise.shape[0]).round(2)}\")"
      ],
      "metadata": {
        "id": "osEnrUxph080"
      },
      "execution_count": null,
      "outputs": []
    },
    {
      "cell_type": "code",
      "source": [
        "print(f\"Porcentagem da variação do PIB municipal: {df_pib_analise['porcentagem_variacao_anual_%'].sum().round(2)}%\")\n",
        "print(f\"Média móvel percentual anual da variação do PIB municipal: {(df_pib_analise['porcentagem_variacao_anual_%'].sum()/df_pib_analise.shape[0]).round(2)}%\")"
      ],
      "metadata": {
        "id": "sb9R1rWXh010"
      },
      "execution_count": null,
      "outputs": []
    },
    {
      "cell_type": "code",
      "source": [
        "print(f\"Porcentagem da aceleração da variação do PIB municipal: {df_pib_analise['porcentagem_aceleracao_variacao_anual_%'].sum().round(2)}%\")\n",
        "print(f\"Média móvel percentual anual da acelereção variação do PIB municipal: {(df_pib_analise['porcentagem_aceleracao_variacao_anual_%'].sum()/df_pib_analise.shape[0]).round(2)}%\")"
      ],
      "metadata": {
        "id": "03Rh6iMRh0t3"
      },
      "execution_count": null,
      "outputs": []
    },
    {
      "cell_type": "markdown",
      "source": [
        "#### Valores brutos específicos"
      ],
      "metadata": {
        "id": "R2yOWQ9EOO2X"
      }
    },
    {
      "cell_type": "code",
      "source": [
        "df_va_analise = df_valor_pib_analise.copy()\n",
        "df_va_analise.drop(columns=['pib', 'impostos_liquidos'], inplace=True)\n",
        "\n",
        "pd.options.display.float_format = '{:.2f}'.format\n",
        "print(df_va_analise)"
      ],
      "metadata": {
        "id": "H94Imy6oOOSK"
      },
      "execution_count": null,
      "outputs": []
    },
    {
      "cell_type": "code",
      "source": [
        "# inferindo variação e acelaração anual dos valores brutos\n",
        "df_va_analise['variacao_anual_va'] = df_va_analise['va'].diff()\n",
        "df_va_analise['porcentagem_variacao_anual_va_%'] = ((df_va_analise['variacao_anual_va'] / df_va_analise['va'].shift(1)) * 100).round(2)\n",
        "df_va_analise['aceleracao_variacao_anual_va'] = df_va_analise['variacao_anual_va'].diff()\n",
        "df_va_analise['porcentagem_aceleracao_variacao_anual_va_%'] = ((df_va_analise['aceleracao_variacao_anual_va'] / df_va_analise['variacao_anual_va'].shift(1)) * 100).round(2)"
      ],
      "metadata": {
        "id": "cWeGFhoEPokA"
      },
      "execution_count": null,
      "outputs": []
    },
    {
      "cell_type": "code",
      "source": [
        "# inferindo variação e acelaração anual dos valores brutos\n",
        "df_va_analise['variacao_anual_va_agropecuaria'] = df_va_analise['va_agropecuaria'].diff()\n",
        "df_va_analise['porcentagem_variacao_anual_va_agropecuaria_%'] = ((df_va_analise['variacao_anual_va_agropecuaria'] / df_va_analise['va_agropecuaria'].shift(1)) * 100).round(2)\n",
        "df_va_analise['aceleracao_variacao_anual_va_agropecuaria'] = df_va_analise['variacao_anual_va_agropecuaria'].diff()\n",
        "df_va_analise['porcentagem_aceleracao_variacao_anual_va_agropecuaria_%'] = ((df_va_analise['aceleracao_variacao_anual_va_agropecuaria'] / df_va_analise['variacao_anual_va_agropecuaria'].shift(1)) * 100).round(2)"
      ],
      "metadata": {
        "id": "lcilOD-IPohF"
      },
      "execution_count": null,
      "outputs": []
    },
    {
      "cell_type": "code",
      "source": [
        "# inferindo variação e acelaração anual dos valores brutos\n",
        "df_va_analise['variacao_anual_va_industria'] = df_va_analise['va_industria'].diff()\n",
        "df_va_analise['porcentagem_variacao_anual_va_industria_%'] = ((df_va_analise['variacao_anual_va_industria'] / df_va_analise['va_industria'].shift(1)) * 100).round(2)\n",
        "df_va_analise['aceleracao_variacao_anual_va_industria'] = df_va_analise['variacao_anual_va_industria'].diff()\n",
        "df_va_analise['porcentagem_aceleracao_variacao_anual_va_industria_%'] = ((df_va_analise['aceleracao_variacao_anual_va_industria'] / df_va_analise['variacao_anual_va_industria'].shift(1)) * 100).round(2)"
      ],
      "metadata": {
        "id": "aOuDLx2CPoeN"
      },
      "execution_count": null,
      "outputs": []
    },
    {
      "cell_type": "code",
      "source": [
        "# inferindo variação e acelaração anual dos valores brutos\n",
        "df_va_analise['variacao_anual_va_servicos'] = df_va_analise['va_servicos'].diff()\n",
        "df_va_analise['porcentagem_variacao_anual_va_servicos_%'] = ((df_va_analise['variacao_anual_va_servicos'] / df_va_analise['va_servicos'].shift(1)) * 100).round(2)\n",
        "df_va_analise['aceleracao_variacao_anual_va_servicos'] = df_va_analise['variacao_anual_va_servicos'].diff()\n",
        "df_va_analise['porcentagem_aceleracao_variacao_anual_va_servicos_%'] = ((df_va_analise['aceleracao_variacao_anual_va_servicos'] / df_va_analise['variacao_anual_va_servicos'].shift(1)) * 100).round(2)"
      ],
      "metadata": {
        "id": "2W-XyRK2PoVB"
      },
      "execution_count": null,
      "outputs": []
    },
    {
      "cell_type": "code",
      "source": [
        "# inferindo variação e acelaração anual dos valores brutos\n",
        "df_va_analise['variacao_anual_va_adespss'] = df_va_analise['va_adespss'].diff()\n",
        "df_va_analise['porcentagem_variacao_anual_va_adespss_%'] = ((df_va_analise['variacao_anual_va_adespss'] / df_va_analise['va_adespss'].shift(1)) * 100).round(2)\n",
        "df_va_analise['aceleracao_variacao_anual_va_adespss'] = df_va_analise['variacao_anual_va_adespss'].diff()\n",
        "df_va_analise['porcentagem_aceleracao_variacao_anual_va_adespss_%'] = ((df_va_analise['aceleracao_variacao_anual_va_adespss'] / df_va_analise['variacao_anual_va_adespss'].shift(1)) * 100).round(2)\n",
        "df_va_analise"
      ],
      "metadata": {
        "id": "5_UE5jMVQEai"
      },
      "execution_count": null,
      "outputs": []
    },
    {
      "cell_type": "code",
      "source": [
        "# Plota o gráfico de linha com as séries temporais\n",
        "fig, ax = plt.subplots(figsize=(10, 5))\n",
        "\n",
        "ax.plot(df_va_analise.index, df_va_analise['va'], label='Valor - R$')\n",
        "\n",
        "# Adiciona legenda e título ao gráfico\n",
        "ax.legend()\n",
        "ax.set_title('Valores adicionado bruto a preços correntes 1990 e 2020 - IBGE')\n",
        "\n",
        "# Exibe o gráfico\n",
        "plt.show()"
      ],
      "metadata": {
        "id": "r-pH2blRQlsj"
      },
      "execution_count": null,
      "outputs": []
    },
    {
      "cell_type": "code",
      "source": [
        "# Plota o gráfico de linha com as séries temporais\n",
        "fig, ax = plt.subplots(figsize=(10, 5))\n",
        "\n",
        "ax.plot(df_va_analise.index, df_va_analise['variacao_anual_va'], label='Valor - R$')\n",
        "\n",
        "# Adiciona legenda e título ao gráfico\n",
        "ax.legend()\n",
        "ax.set_title('Variação anual dos valores adicionado bruto a preços correntes 1990 e 2020 - IBGE')\n",
        "\n",
        "# Exibe o gráfico\n",
        "plt.show()"
      ],
      "metadata": {
        "id": "TMWyJAtqQlnF"
      },
      "execution_count": null,
      "outputs": []
    },
    {
      "cell_type": "code",
      "source": [
        "# Plota o gráfico de linha com as séries temporais\n",
        "fig, ax = plt.subplots(figsize=(10, 5))\n",
        "\n",
        "ax.plot(df_va_analise.index, df_va_analise['aceleracao_variacao_anual_va'], label='Valor - R$')\n",
        "\n",
        "# Adiciona legenda e título ao gráfico\n",
        "ax.legend()\n",
        "ax.set_title('Aceleração da variação anual dos valores adicionado bruto a preços correntes 1990 e 2020 - IBGE')\n",
        "\n",
        "# Exibe o gráfico\n",
        "plt.show()"
      ],
      "metadata": {
        "id": "iyYXcVabQlqB"
      },
      "execution_count": null,
      "outputs": []
    },
    {
      "cell_type": "code",
      "source": [
        "# Plota o gráfico de linha com as séries temporais\n",
        "fig, ax = plt.subplots(figsize=(10, 5))\n",
        "\n",
        "ax.plot(df_va_analise.index, df_va_analise['va_agropecuaria'], label='Valor - R$')\n",
        "\n",
        "# Adiciona legenda e título ao gráfico\n",
        "ax.legend()\n",
        "ax.set_title('Valores adicionado bruto a preços correntes da agropecuária 1990 e 2020 - IBGE')\n",
        "\n",
        "# Exibe o gráfico\n",
        "plt.show()"
      ],
      "metadata": {
        "id": "3XXaRCgIQli-"
      },
      "execution_count": null,
      "outputs": []
    },
    {
      "cell_type": "code",
      "source": [
        "# Plota o gráfico de linha com as séries temporais\n",
        "fig, ax = plt.subplots(figsize=(10, 5))\n",
        "\n",
        "ax.plot(df_va_analise.index, df_va_analise['variacao_anual_va_agropecuaria'], label='Valor - R$')\n",
        "\n",
        "# Adiciona legenda e título ao gráfico\n",
        "ax.legend()\n",
        "ax.set_title('Variação anual dos valores adicionado bruto a preços correntes da agropecuária 1990 e 2020 - IBGE')\n",
        "\n",
        "# Exibe o gráfico\n",
        "plt.show()"
      ],
      "metadata": {
        "id": "9z_y_t_vQlgH"
      },
      "execution_count": null,
      "outputs": []
    },
    {
      "cell_type": "code",
      "source": [
        "# Plota o gráfico de linha com as séries temporais\n",
        "fig, ax = plt.subplots(figsize=(10, 5))\n",
        "\n",
        "ax.plot(df_va_analise.index, df_va_analise['aceleracao_variacao_anual_va_agropecuaria'], label='Valor - R$')\n",
        "\n",
        "# Adiciona legenda e título ao gráfico\n",
        "ax.legend()\n",
        "ax.set_title('Aceleração da variação anual dos valores adicionado bruto a preços correntes da agropecuária 1990 e 2020 - IBGE')\n",
        "\n",
        "# Exibe o gráfico\n",
        "plt.show()"
      ],
      "metadata": {
        "id": "VNlQ1KZzQldf"
      },
      "execution_count": null,
      "outputs": []
    },
    {
      "cell_type": "code",
      "source": [
        "# Plota o gráfico de linha com as séries temporais\n",
        "fig, ax = plt.subplots(figsize=(10, 5))\n",
        "\n",
        "ax.plot(df_va_analise.index, df_va_analise['va_industria'], label='Valor - R$')\n",
        "\n",
        "# Adiciona legenda e título ao gráfico\n",
        "ax.legend()\n",
        "ax.set_title('Valores adicionado bruto a preços correntes da indústria 1990 e 2020 - IBGE')\n",
        "\n",
        "# Exibe o gráfico\n",
        "plt.show()"
      ],
      "metadata": {
        "id": "RlJN3ujFQlay"
      },
      "execution_count": null,
      "outputs": []
    },
    {
      "cell_type": "code",
      "source": [
        "# Plota o gráfico de linha com as séries temporais\n",
        "fig, ax = plt.subplots(figsize=(10, 5))\n",
        "\n",
        "ax.plot(df_va_analise.index, df_va_analise['variacao_anual_va_industria'], label='Valor - R$')\n",
        "\n",
        "# Adiciona legenda e título ao gráfico\n",
        "ax.legend()\n",
        "ax.set_title('Variação anual dos valores adicionado bruto a preços correntes da indústria 1990 e 2020 - IBGE')\n",
        "\n",
        "# Exibe o gráfico\n",
        "plt.show()"
      ],
      "metadata": {
        "id": "CE-jYx8tQlYI"
      },
      "execution_count": null,
      "outputs": []
    },
    {
      "cell_type": "code",
      "source": [
        "# Plota o gráfico de linha com as séries temporais\n",
        "fig, ax = plt.subplots(figsize=(10, 5))\n",
        "\n",
        "ax.plot(df_va_analise.index, df_va_analise['aceleracao_variacao_anual_va_industria'], label='Valor - R$')\n",
        "\n",
        "# Adiciona legenda e título ao gráfico\n",
        "ax.legend()\n",
        "ax.set_title('Aceleração da variação anual dos valores adicionado bruto a preços correntes da indústria 1990 e 2020 - IBGE')\n",
        "\n",
        "# Exibe o gráfico\n",
        "plt.show()"
      ],
      "metadata": {
        "id": "kCCx6lYiQlVL"
      },
      "execution_count": null,
      "outputs": []
    },
    {
      "cell_type": "code",
      "source": [
        "# Plota o gráfico de linha com as séries temporais\n",
        "fig, ax = plt.subplots(figsize=(10, 5))\n",
        "\n",
        "ax.plot(df_va_analise.index, df_va_analise['va_servicos'], label='Valor - R$')\n",
        "\n",
        "# Adiciona legenda e título ao gráfico\n",
        "ax.legend()\n",
        "ax.set_title('Valores adicionado bruto a preços correntes dos serviços 1990 e 2020 - IBGE')\n",
        "\n",
        "# Exibe o gráfico\n",
        "plt.show()"
      ],
      "metadata": {
        "id": "J_eG7YuLQlSq"
      },
      "execution_count": null,
      "outputs": []
    },
    {
      "cell_type": "code",
      "source": [
        "# Plota o gráfico de linha com as séries temporais\n",
        "fig, ax = plt.subplots(figsize=(10, 5))\n",
        "\n",
        "ax.plot(df_va_analise.index, df_va_analise['variacao_anual_va_servicos'], label='Valor - R$')\n",
        "\n",
        "# Adiciona legenda e título ao gráfico\n",
        "ax.legend()\n",
        "ax.set_title('Variação anual dos valores adicionado bruto a preços correntes dos serviços 1990 e 2020 - IBGE')\n",
        "\n",
        "# Exibe o gráfico\n",
        "plt.show()"
      ],
      "metadata": {
        "id": "Zzk2ea_4QlQL"
      },
      "execution_count": null,
      "outputs": []
    },
    {
      "cell_type": "code",
      "source": [
        "# Plota o gráfico de linha com as séries temporais\n",
        "fig, ax = plt.subplots(figsize=(10, 5))\n",
        "\n",
        "ax.plot(df_va_analise.index, df_va_analise['aceleracao_variacao_anual_va_servicos'], label='Valor - R$')\n",
        "\n",
        "# Adiciona legenda e título ao gráfico\n",
        "ax.legend()\n",
        "ax.set_title('Aceleração da variação anual dos valores adicionado bruto a preços correntes dos serviços 1990 e 2020 - IBGE')\n",
        "\n",
        "# Exibe o gráfico\n",
        "plt.show()"
      ],
      "metadata": {
        "id": "f9ACYF6tQlNa"
      },
      "execution_count": null,
      "outputs": []
    },
    {
      "cell_type": "code",
      "source": [
        "# Plota o gráfico de linha com as séries temporais\n",
        "fig, ax = plt.subplots(figsize=(10, 5))\n",
        "\n",
        "ax.plot(df_va_analise.index, df_va_analise['va_adespss'], label='Valor - R$')\n",
        "\n",
        "# Adiciona legenda e título ao gráfico\n",
        "ax.legend()\n",
        "ax.set_title('Valores adicionado bruto a preços correntes dos serviços públicos 1990 e 2020 - IBGE')\n",
        "\n",
        "# Exibe o gráfico\n",
        "plt.show()"
      ],
      "metadata": {
        "id": "8PUsEnmBQlKw"
      },
      "execution_count": null,
      "outputs": []
    },
    {
      "cell_type": "code",
      "source": [
        "# Plota o gráfico de linha com as séries temporais\n",
        "fig, ax = plt.subplots(figsize=(10, 5))\n",
        "\n",
        "ax.plot(df_va_analise.index, df_va_analise['variacao_anual_va_adespss'], label='Valor - R$')\n",
        "\n",
        "# Adiciona legenda e título ao gráfico\n",
        "ax.legend()\n",
        "ax.set_title('Variação anual dos valores adicionado bruto a preços correntes dos serviços públicos 1990 e 2020 - IBGE')\n",
        "\n",
        "# Exibe o gráfico\n",
        "plt.show()"
      ],
      "metadata": {
        "id": "wPTvLjjnQlH7"
      },
      "execution_count": null,
      "outputs": []
    },
    {
      "cell_type": "code",
      "source": [
        "# Plota o gráfico de linha com as séries temporais\n",
        "fig, ax = plt.subplots(figsize=(10, 5))\n",
        "\n",
        "ax.plot(df_va_analise.index, df_va_analise['aceleracao_variacao_anual_va_adespss'], label='Valor - R$')\n",
        "\n",
        "# Adiciona legenda e título ao gráfico\n",
        "ax.legend()\n",
        "ax.set_title('Aceleração da variação anual dos valores adicionado bruto a preços correntes dos serviços públicos 1990 e 2020 - IBGE')\n",
        "\n",
        "# Exibe o gráfico\n",
        "plt.show()"
      ],
      "metadata": {
        "id": "ZgkzwM8pQlFh"
      },
      "execution_count": null,
      "outputs": []
    },
    {
      "cell_type": "code",
      "source": [
        "# Variação da receita bruta anual\n",
        "print(f\"Total da variação anual da receita bruta anual entre 1999 e 2020: R$ {df_va_analise['variacao_anual_va'].sum().round(2)}\")\n",
        "print(f\"Média móvel da variação anual: R$ {(df_va_analise['variacao_anual_va'].sum()/df_va_analise.shape[0]).round(2)}\")\n",
        "\n",
        "# Aceleração da variação da receita bruta anual\n",
        "print(f\"\\nTotal da aceleração da variação anual da receita bruta entre 1999 e 2020: R$ {df_va_analise['aceleracao_variacao_anual_va'].sum().round(2)}\")\n",
        "print(f\"Média móvel anual da aceleração da variação anual da receita bruta: R${(df_va_analise['aceleracao_variacao_anual_va'].sum()/df_va_analise.shape[0]).round(2)}\")\n",
        "\n",
        "# Porcentagem da variação da receita bruta anual\n",
        "print(f\"\\nPorcentagem da variação anual da receita bruta entre 1999 e 2020: {df_va_analise['porcentagem_variacao_anual_va_%'].sum().round(2)}%\")\n",
        "print(f\"Média percentual móvel anual da variação anual da receita bruta: {(df_va_analise['porcentagem_variacao_anual_va_%'].sum()/df_va_analise.shape[0]).round(2)}%\")\n",
        "\n",
        "# Porcentagem da aceleração da variação da receita bruta anual\n",
        "print(f\"\\nPorcentagem da aceleração da variação anual da receita bruta entre 1999 e 2020: {df_va_analise['porcentagem_aceleracao_variacao_anual_va_%'].sum().round(2)}%\")\n",
        "print(f\"Média percentual móvel anual da aceleração da variação anual da receita bruta: {(df_va_analise['porcentagem_aceleracao_variacao_anual_va_%'].sum()/df_va_analise.shape[0]).round(2)}%\")"
      ],
      "metadata": {
        "id": "eQnE6DQ-QlC7"
      },
      "execution_count": null,
      "outputs": []
    },
    {
      "cell_type": "code",
      "source": [
        "# Variação da receita bruta anual da agropecuária\n",
        "print(f\"Total da variação anual da receita bruta da agropecuária entre 1999 e 2020: R$ {df_va_analise['variacao_anual_va_agropecuaria'].sum().round(2)}\")\n",
        "print(f\"Média móvel da variação da agropecuária anual: R$ {(df_va_analise['variacao_anual_va_agropecuaria'].sum()/df_va_analise.shape[0]).round(2)}\")\n",
        "\n",
        "# Aceleração da variação da receita bruta anual da agropecuária \n",
        "print(f\"\\nTotal da aceleração da variação anual da receita bruta da agropecuária entre 1999 e 2020: R$ {df_va_analise['aceleracao_variacao_anual_va_agropecuaria'].sum().round(2)}\")\n",
        "print(f\"Média móvel anual da aceleração da variação anual da receita bruta da agropecuária: R${(df_va_analise['aceleracao_variacao_anual_va_agropecuaria'].sum()/df_va_analise.shape[0]).round(2)}\")\n",
        "\n",
        "# Porcentagem da variação da receita bruta anual da agropecuária \n",
        "print(f\"\\nPorcentagem da variação anual da receita bruta da agropecuária entre 1999 e 2020: {df_va_analise['porcentagem_variacao_anual_va_agropecuaria_%'].sum().round(2)}%\")\n",
        "print(f\"Média percentual móvel anual da variação anual da receita bruta da agropecuária: {(df_va_analise['porcentagem_variacao_anual_va_agropecuaria_%'].sum()/df_va_analise.shape[0]).round(2)}%\")\n",
        "\n",
        "# Porcentagem da aceleração da variação da receita bruta anual da agropecuária \n",
        "print(f\"\\nPorcentagem da aceleração da variação anual da receita bruta da agropecuária entre 1999 e 2020: {df_va_analise['porcentagem_aceleracao_variacao_anual_va_agropecuaria_%'].sum().round(2)}%\")\n",
        "print(f\"Média percentual móvel anual da aceleração da variação anual da receita bruta da agropecuária: {(df_va_analise['porcentagem_aceleracao_variacao_anual_va_agropecuaria_%'].sum()/df_va_analise.shape[0]).round(2)}%\")"
      ],
      "metadata": {
        "id": "v2S4NhW3QlAz"
      },
      "execution_count": null,
      "outputs": []
    },
    {
      "cell_type": "code",
      "source": [
        "# Variação da receita bruta anual da indústria\n",
        "print(f\"Total da variação anual da receita bruta da indústria entre 1999 e 2020: R$ {df_va_analise['variacao_anual_va_industria'].sum().round(2)}\")\n",
        "print(f\"Média móvel da variação da indústria anual: R$ {(df_va_analise['variacao_anual_va_industria'].sum()/df_va_analise.shape[0]).round(2)}\")\n",
        "\n",
        "# Aceleração da variação da receita bruta anual da indústria \n",
        "print(f\"\\nTotal da aceleração da variação anual da receita bruta da indústria entre 1999 e 2020: R$ {df_va_analise['aceleracao_variacao_anual_va_industria'].sum().round(2)}\")\n",
        "print(f\"Média móvel anual da aceleração da variação anual da receita bruta da indústria: R${(df_va_analise['aceleracao_variacao_anual_va_industria'].sum()/df_va_analise.shape[0]).round(2)}\")\n",
        "\n",
        "# Porcentagem da variação da receita bruta anual da indústria \n",
        "print(f\"\\nPorcentagem da variação anual da receita bruta da indústria entre 1999 e 2020: {df_va_analise['porcentagem_variacao_anual_va_industria_%'].sum().round(2)}%\")\n",
        "print(f\"Média percentual móvel anual da variação anual da receita bruta da indústria: {(df_va_analise['porcentagem_variacao_anual_va_industria_%'].sum()/df_va_analise.shape[0]).round(2)}%\")\n",
        "\n",
        "# Porcentagem da aceleração da variação da receita bruta anual da indústria \n",
        "print(f\"\\nPorcentagem da aceleração da variação anual da receita bruta da indústria entre 1999 e 2020: {df_va_analise['porcentagem_aceleracao_variacao_anual_va_industria_%'].sum().round(2)}%\")\n",
        "print(f\"Média percentual móvel anual da aceleração da variação anual da receita bruta da indústria: {(df_va_analise['porcentagem_aceleracao_variacao_anual_va_industria_%'].sum()/df_va_analise.shape[0]).round(2)}%\")"
      ],
      "metadata": {
        "id": "N9QyOT3NQk_F"
      },
      "execution_count": null,
      "outputs": []
    },
    {
      "cell_type": "code",
      "source": [
        "# Variação da receita bruta anual da serviços\n",
        "print(f\"Total da variação anual da receita bruta da serviços entre 1999 e 2020: R$ {df_va_analise['variacao_anual_va_adespss'].sum().round(2)}\")\n",
        "print(f\"Média móvel da variação da serviços anual: R$ {(df_va_analise['variacao_anual_va_adespss'].sum()/df_va_analise.shape[0]).round(2)}\")\n",
        "\n",
        "# Aceleração da variação da receita bruta anual da serviços \n",
        "print(f\"\\nTotal da aceleração da variação anual da receita bruta da serviços entre 1999 e 2020: R$ {df_va_analise['aceleracao_variacao_anual_va_adespss'].sum().round(2)}\")\n",
        "print(f\"Média móvel anual da aceleração da variação anual da receita bruta da serviços: R${(df_va_analise['aceleracao_variacao_anual_va_adespss'].sum()/df_va_analise.shape[0]).round(2)}\")\n",
        "\n",
        "# Porcentagem da variação da receita bruta anual da serviços \n",
        "print(f\"\\nPorcentagem da variação anual da receita bruta da serviços entre 1999 e 2020: {df_va_analise['porcentagem_variacao_anual_va_adespss_%'].sum().round(2)}%\")\n",
        "print(f\"Média percentual móvel anual da variação anual da receita bruta da serviços: {(df_va_analise['porcentagem_variacao_anual_va_adespss_%'].sum()/df_va_analise.shape[0]).round(2)}%\")\n",
        "\n",
        "# Porcentagem da aceleração da variação da receita bruta anual da serviços \n",
        "print(f\"\\nPorcentagem da aceleração da variação anual da receita bruta da serviços entre 1999 e 2020: {df_va_analise['porcentagem_aceleracao_variacao_anual_va_adespss_%'].sum().round(2)}%\")\n",
        "print(f\"Média percentual móvel anual da aceleração da variação anual da receita bruta da serviços: {(df_va_analise['porcentagem_aceleracao_variacao_anual_va_adespss_%'].sum()/df_va_analise.shape[0]).round(2)}%\")"
      ],
      "metadata": {
        "id": "nAiyGUhxQk8B"
      },
      "execution_count": null,
      "outputs": []
    },
    {
      "cell_type": "code",
      "source": [
        "# Variação da receita bruta anual da serviços exclusivos da Adm. Pública\n",
        "print(f\"Total da variação anual da receita bruta da serviços exclusivos da Adm. Pública entre 1999 e 2020: R$ {df_va_analise['variacao_anual_va_servicos'].sum().round(2)}\")\n",
        "print(f\"Média móvel da variação da serviços anual: R$ {(df_va_analise['variacao_anual_va_servicos'].sum()/df_va_analise.shape[0]).round(2)}\")\n",
        "\n",
        "# Aceleração da variação da receita bruta anual da serviços \n",
        "print(f\"\\nTotal da aceleração da variação anual da receita bruta da serviços exclusivos da Adm. Pública entre 1999 e 2020: R$ {df_va_analise['aceleracao_variacao_anual_va_servicos'].sum().round(2)}\")\n",
        "print(f\"Média móvel anual da aceleração da variação anual da receita bruta da serviços: R${(df_va_analise['aceleracao_variacao_anual_va_servicos'].sum()/df_va_analise.shape[0]).round(2)}\")\n",
        "\n",
        "# Porcentagem da variação da receita bruta anual da serviços \n",
        "print(f\"\\nPorcentagem da variação anual da receita bruta da serviços exclusivos da Adm. Pública entre 1999 e 2020: {df_va_analise['porcentagem_variacao_anual_va_servicos_%'].sum().round(2)}%\")\n",
        "print(f\"Média percentual móvel anual da variação anual da receita bruta da serviços: {(df_va_analise['porcentagem_variacao_anual_va_servicos_%'].sum()/df_va_analise.shape[0]).round(2)}%\")\n",
        "\n",
        "# Porcentagem da aceleração da variação da receita bruta anual da serviços \n",
        "print(f\"\\nPorcentagem da aceleração da variação anual da receita bruta da serviços exclusivos da Adm. Pública entre 1999 e 2020: {df_va_analise['porcentagem_aceleracao_variacao_anual_va_servicos_%'].sum().round(2)}%\")\n",
        "print(f\"Média percentual móvel anual da aceleração da variação anual da receita bruta da serviços: {(df_va_analise['porcentagem_aceleracao_variacao_anual_va_servicos_%'].sum()/df_va_analise.shape[0]).round(2)}%\")"
      ],
      "metadata": {
        "id": "SrsI0SGLQk5g"
      },
      "execution_count": null,
      "outputs": []
    },
    {
      "cell_type": "markdown",
      "source": [
        "#### Impostos líquidos"
      ],
      "metadata": {
        "id": "LnPppry-jezT"
      }
    },
    {
      "cell_type": "code",
      "source": [
        "df_impostos_analise = df_valor_pib_analise.copy()\n",
        "df_impostos_analise.drop(columns=['pib','va', 'va_agropecuaria', 'va_industria', 'va_servicos', 'va_adespss'], inplace=True)\n",
        "\n",
        "pd.options.display.float_format = '{:.2f}'.format\n",
        "print(df_impostos_analise)"
      ],
      "metadata": {
        "id": "rFS8-LCVQk3h"
      },
      "execution_count": null,
      "outputs": []
    },
    {
      "cell_type": "code",
      "source": [
        "# inferindo variação e acelaração anual dos impostos líquidos\n",
        "df_impostos_analise['variacao_anual'] = df_impostos_analise['impostos_liquidos'].diff()\n",
        "df_impostos_analise['porcentagem_variacao_anual_%'] = ((df_impostos_analise['variacao_anual'] / df_impostos_analise['impostos_liquidos'].shift(1)) * 100).round(2)\n",
        "df_impostos_analise['aceleracao_variacao_anual'] = df_impostos_analise['variacao_anual'].diff()\n",
        "df_impostos_analise['porcentagem_aceleracao_variacao_anual_%'] = ((df_impostos_analise['aceleracao_variacao_anual'] / df_impostos_analise['variacao_anual'].shift(1)) * 100).round(2)\n",
        "df_impostos_analise"
      ],
      "metadata": {
        "id": "6ODp1ibdQk1V"
      },
      "execution_count": null,
      "outputs": []
    },
    {
      "cell_type": "code",
      "source": [
        "# Plota o gráfico de linha com as séries temporais\n",
        "fig, ax = plt.subplots(figsize=(10, 5))\n",
        "ax.plot(df_impostos_analise.index, df_impostos_analise['impostos_liquidos'], label='Valor Anual - R$')\n",
        "\n",
        "# Adiciona legenda e título ao gráfico\n",
        "ax.legend()\n",
        "ax.set_title('Impostos municipais anual líquido entre os anos de 1999 a 2020')\n",
        "ax.xaxis.label.set_visible(False)  # esconde a legenda do eixo X\n",
        "\n",
        "# Configura o eixo x para não mostrar nenhum rótulo\n",
        "# plt.gca().set_xticklabels([])\n",
        "\n",
        "# Exibe o gráfico\n",
        "plt.show()"
      ],
      "metadata": {
        "id": "jRvP-YMnQkzB"
      },
      "execution_count": null,
      "outputs": []
    },
    {
      "cell_type": "code",
      "source": [
        "# Plota o gráfico de linha com as séries temporais\n",
        "fig, ax = plt.subplots(figsize=(10, 5))\n",
        "ax.plot(df_impostos_analise.index, df_impostos_analise['variacao_anual'], label='Valor Anual - R$')\n",
        "\n",
        "# Adiciona legenda e título ao gráfico\n",
        "ax.legend()\n",
        "ax.set_title('Variação dos impostos municipais líquidos entre os anos de 1999 a 2020')\n",
        "ax.xaxis.label.set_visible(False)  # esconde a legenda do eixo X\n",
        "\n",
        "# Configura o eixo x para não mostrar nenhum rótulo\n",
        "# plt.gca().set_xticklabels([])\n",
        "\n",
        "# Exibe o gráfico\n",
        "plt.show()"
      ],
      "metadata": {
        "id": "MNUJg9F5QkwP"
      },
      "execution_count": null,
      "outputs": []
    },
    {
      "cell_type": "code",
      "source": [
        "# Plota o gráfico de linha com as séries temporais\n",
        "fig, ax = plt.subplots(figsize=(10, 5))\n",
        "ax.plot(df_impostos_analise.index, df_impostos_analise['aceleracao_variacao_anual'], label='Valor Anual - R$')\n",
        "\n",
        "# Adiciona legenda e título ao gráfico\n",
        "ax.legend()\n",
        "ax.set_title('Aceleração da variação dos impostos municipais anual líquido entre os anos de 1999 a 2020')\n",
        "ax.xaxis.label.set_visible(False)  # esconde a legenda do eixo X\n",
        "\n",
        "# Configura o eixo x para não mostrar nenhum rótulo\n",
        "# plt.gca().set_xticklabels([])\n",
        "\n",
        "# Exibe o gráfico\n",
        "plt.show()"
      ],
      "metadata": {
        "id": "I5mFNWxLQkt1"
      },
      "execution_count": null,
      "outputs": []
    },
    {
      "cell_type": "code",
      "source": [
        "# Total da variação dos impostos líquidos\n",
        "print(f\"Total da variação dos impostos líquidos municipais entre 1999 e 2020: R$ {df_impostos_analise['variacao_anual'].sum().round(2)}\")\n",
        "print(f\"Média móvel anual da variação dos impostos líquidos municipais: R$ {(df_impostos_analise['variacao_anual'].sum()/df_impostos_analise.shape[0]).round(2)}\")\n",
        "\n",
        "# Total da aceleração da variação dos impostos líquidos\n",
        "print(f\"\\nTotal da aceleração da variação dos impostos líquidos municipais entre 1999 e 2020: R$ {df_impostos_analise['aceleracao_variacao_anual'].sum().round(2)}\")\n",
        "print(f\"Média móvel anual da aceleração da variação dos impostos líquidos municipais: R$ {(df_impostos_analise['aceleracao_variacao_anual'].sum()/df_impostos_analise.shape[0]).round(2)}\")\n",
        "\n",
        "# Porcentagem da variação dos impostos líquidos\n",
        "print(f\"\\nPorcentagem da variação dos impostos líquidos municipais entre 1999 e 2020: {df_impostos_analise['porcentagem_variacao_anual_%'].sum().round(2)}%\")\n",
        "print(f\"Média móvel percentual anual da variação dos impostos líquidos municipais: {(df_impostos_analise['porcentagem_variacao_anual_%'].sum()/df_impostos_analise.shape[0]).round(2)}%\")\n",
        "\n",
        "# Porcentagem da aceleração da variação dos impostos líquidos\n",
        "print(f\"\\nPorcentagem da aceleração da variação dos impostos líquidos municipais entre 1999 e 2020: {df_impostos_analise['porcentagem_aceleracao_variacao_anual_%'].sum().round(2)}%\")\n",
        "print(f\"Média móvel percentual anual da acelereção variação dos impostos líquidos municipais: {(df_impostos_analise['porcentagem_aceleracao_variacao_anual_%'].sum()/df_impostos_analise.shape[0]).round(2)}%\")"
      ],
      "metadata": {
        "id": "gR8axKNIQkrP"
      },
      "execution_count": null,
      "outputs": []
    },
    {
      "cell_type": "markdown",
      "source": [
        "### Time series das receitas"
      ],
      "metadata": {
        "id": "WY25rWOjHUhw"
      }
    },
    {
      "cell_type": "markdown",
      "source": [
        "#### Por meses"
      ],
      "metadata": {
        "id": "U50KsO6bEQdB"
      }
    },
    {
      "cell_type": "code",
      "source": [
        "# verificando se há valores nulos\n",
        "df_receitas.isna().value_counts()"
      ],
      "metadata": {
        "id": "hxOD4jvqKRIG"
      },
      "execution_count": null,
      "outputs": []
    },
    {
      "cell_type": "code",
      "source": [
        "df_receitas.dtypes"
      ],
      "metadata": {
        "id": "wuE8j7hea8nm"
      },
      "execution_count": null,
      "outputs": []
    },
    {
      "cell_type": "code",
      "source": [
        "# criando df para analises dos dados\n",
        "df_receitas_analise = df_receitas[['DATA','VALOR_ARRECADADO']]\n",
        "\n",
        "# criando coluna mês-ano para agrupar os dados\n",
        "df_receitas_analise['mes_ano'] = pd.to_datetime(df_receitas_analise['DATA'].dt.strftime(\"%m-%Y\"))\n",
        "\n",
        "# agrupando os dados no df e deletando coluna das datas\n",
        "df_receitas_analise.drop(columns=('DATA'), inplace=True)\n",
        "df_receitas_analise = df_receitas_analise.groupby('mes_ano').sum()\n",
        "df_receitas_analise"
      ],
      "metadata": {
        "id": "zAijiO-2M_Vp"
      },
      "execution_count": null,
      "outputs": []
    },
    {
      "cell_type": "code",
      "source": [
        "df_receitas_analise['variacao_mensal'] = df_receitas_analise['VALOR_ARRECADADO'].diff()\n",
        "df_receitas_analise['porcentagem_variacao_mensal_%'] = ((df_receitas_analise['variacao_mensal'] / df_receitas_analise['VALOR_ARRECADADO'].shift(1)) * 100).round(2)\n",
        "df_receitas_analise['aceleracao_variacao_mensal'] = df_receitas_analise['variacao_mensal'].diff()\n",
        "df_receitas_analise['porcentagem_aceleracao_variacao_mensal_%'] = ((df_receitas_analise['aceleracao_variacao_mensal'] / df_receitas_analise['variacao_mensal'].shift(1)) * 100).round(2)\n",
        "df_receitas_analise"
      ],
      "metadata": {
        "id": "_vAbM3KbcdpO"
      },
      "execution_count": null,
      "outputs": []
    },
    {
      "cell_type": "code",
      "source": [
        "# Plota o gráfico de linha com as séries temporais\n",
        "fig, ax = plt.subplots(figsize=(10, 5))\n",
        "ax.plot(df_receitas_analise.index, df_receitas_analise['VALOR_ARRECADADO'], label='Valor Mensal - R$')\n",
        "\n",
        "# Adiciona legenda e título ao gráfico\n",
        "ax.legend()\n",
        "ax.set_title('Receitas orçamentária mensais brutas entre os anos de 2013 a 2022')\n",
        "ax.xaxis.label.set_visible(False)  # esconde a legenda do eixo X\n",
        "\n",
        "# Configura o eixo x para não mostrar nenhum rótulo\n",
        "# plt.gca().set_xticklabels([])\n",
        "\n",
        "# Exibe o gráfico\n",
        "plt.show()"
      ],
      "metadata": {
        "id": "t65sBciDOaV2"
      },
      "execution_count": null,
      "outputs": []
    },
    {
      "cell_type": "code",
      "source": [
        "# Plota o gráfico de linha com as séries temporais\n",
        "fig, ax = plt.subplots(figsize=(10, 5))\n",
        "ax.plot(df_receitas_analise.index, df_receitas_analise['variacao_mensal'], label='Valor Mensal - R$')\n",
        "\n",
        "# Adiciona legenda e título ao gráfico\n",
        "ax.legend()\n",
        "ax.set_title('Variação das receitas orçamentária mensais brutas entre os anos de 2013 a 2022')\n",
        "ax.xaxis.label.set_visible(False)  # esconde a legenda do eixo X\n",
        "\n",
        "# Configura o eixo x para não mostrar nenhum rótulo\n",
        "# plt.gca().set_xticklabels([])\n",
        "\n",
        "# Exibe o gráfico\n",
        "plt.show()"
      ],
      "metadata": {
        "id": "NyZt9Ux4V0Th"
      },
      "execution_count": null,
      "outputs": []
    },
    {
      "cell_type": "code",
      "source": [
        "# Plota o gráfico de linha com as séries temporais\n",
        "fig, ax = plt.subplots(figsize=(10, 5))\n",
        "ax.plot(df_receitas_analise.index, df_receitas_analise['aceleracao_variacao_mensal'], label='Valor Mensal - R$')\n",
        "\n",
        "# Adiciona legenda e título ao gráfico\n",
        "ax.legend()\n",
        "ax.set_title('Aceleração da variação das receitas orçamentária mensais brutas entre os anos de 2013 a 2022')\n",
        "ax.xaxis.label.set_visible(False)  # esconde a legenda do eixo X\n",
        "\n",
        "# Configura o eixo x para não mostrar nenhum rótulo\n",
        "# plt.gca().set_xticklabels([])\n",
        "\n",
        "# Exibe o gráfico\n",
        "plt.show()"
      ],
      "metadata": {
        "id": "BgNMpz8TdHa4"
      },
      "execution_count": null,
      "outputs": []
    },
    {
      "cell_type": "code",
      "source": [
        "print(f\"Total da variação das receitas mensais: R$ {df_receitas_analise['variacao_mensal'].sum().round(2)}\")\n",
        "print(f\"Média móvel mensal da variação das receitas: R$ {(df_receitas_analise['variacao_mensal'].sum()/df_receitas_analise.shape[0]).round(2)}\")"
      ],
      "metadata": {
        "id": "b1E7aKpadOaw"
      },
      "execution_count": null,
      "outputs": []
    },
    {
      "cell_type": "code",
      "source": [
        "print(f\"Total da aceleração da variação das receitas mensais: R$ {df_receitas_analise['aceleracao_variacao_mensal'].sum().round(2)}\")\n",
        "print(f\"Média móvel mensal da aceleração da variação das receitas: R$ {(df_receitas_analise['aceleracao_variacao_mensal'].sum()/df_receitas_analise.shape[0]).round(2)}\")"
      ],
      "metadata": {
        "id": "JMd53ZOWi68J"
      },
      "execution_count": null,
      "outputs": []
    },
    {
      "cell_type": "code",
      "source": [
        "print(f\"Porcentagem da variação das receitas mensais: {df_receitas_analise['porcentagem_variacao_mensal_%'].sum().round(2)}%\")\n",
        "print(f\"Média movel percentual mensal da variação das receitas: {(df_receitas_analise['porcentagem_variacao_mensal_%'].sum()/df_receitas_analise.shape[0]).round(2)}%\")"
      ],
      "metadata": {
        "id": "J3G6Yn74kUvs"
      },
      "execution_count": null,
      "outputs": []
    },
    {
      "cell_type": "code",
      "source": [
        "print(f\"Porcentagem da aceleração da variação das receitas mensais: {df_receitas_analise['porcentagem_aceleracao_variacao_mensal_%'].sum().round(2)}%\")\n",
        "print(f\"Média móvel percentual mensal da acelereção variação das receitas: {(df_receitas_analise['porcentagem_aceleracao_variacao_mensal_%'].sum()/df_receitas_analise.shape[0]).round(2)}%\")"
      ],
      "metadata": {
        "id": "G7vYEGaSkq8j"
      },
      "execution_count": null,
      "outputs": []
    },
    {
      "cell_type": "markdown",
      "source": [
        "#### Por ano"
      ],
      "metadata": {
        "id": "nigLlkJ_EUaj"
      }
    },
    {
      "cell_type": "code",
      "source": [
        "# criando df para analises dos dados\n",
        "df_receitas_analise = df_receitas[['DATA','VALOR_ARRECADADO']]\n",
        "\n",
        "# criando coluna mês-ano para agrupar os dados\n",
        "df_receitas_analise['ano'] = pd.to_datetime(df_receitas_analise['DATA'].dt.strftime(\"%Y\"))\n",
        "\n",
        "# agrupando os dados no df e deletando coluna das datas\n",
        "df_receitas_analise.drop(columns=('DATA'), inplace=True)\n",
        "df_receitas_analise = df_receitas_analise.groupby('ano').sum().round(2)\n",
        "\n",
        "# Mostrar os valores com 2 casas decimais\n",
        "pd.options.display.float_format = '{:.2f}'.format\n",
        "print(df_receitas_analise)"
      ],
      "metadata": {
        "id": "sE_CjeKxk-em"
      },
      "execution_count": null,
      "outputs": []
    },
    {
      "cell_type": "code",
      "source": [
        "df_receitas_analise['variacao_anual'] = df_receitas_analise['VALOR_ARRECADADO'].diff()\n",
        "df_receitas_analise['porcentagem_variacao_anual_%'] = ((df_receitas_analise['variacao_anual'] / df_receitas_analise['VALOR_ARRECADADO'].shift(1)) * 100).round(2)\n",
        "df_receitas_analise['aceleracao_variacao_anual'] = df_receitas_analise['variacao_anual'].diff()\n",
        "df_receitas_analise['porcentagem_aceleracao_variacao_anual_%'] = ((df_receitas_analise['aceleracao_variacao_anual'] / df_receitas_analise['variacao_anual'].shift(1)) * 100).round(2)\n",
        "df_receitas_analise"
      ],
      "metadata": {
        "id": "u4iKegO6E0-y"
      },
      "execution_count": null,
      "outputs": []
    },
    {
      "cell_type": "code",
      "source": [
        "# Plota o gráfico de linha com as séries temporais\n",
        "fig, ax = plt.subplots(figsize=(10, 5))\n",
        "ax.plot(df_receitas_analise.index, df_receitas_analise['VALOR_ARRECADADO'], label='Valor Anual - R$')\n",
        "\n",
        "# Adiciona legenda e título ao gráfico\n",
        "ax.legend()\n",
        "ax.set_title('Receitas orçamentária anuais brutas entre os anos de 2013 a 2022')\n",
        "ax.xaxis.label.set_visible(False)  # esconde a legenda do eixo X\n",
        "\n",
        "# Configura o eixo x para não mostrar nenhum rótulo\n",
        "# plt.gca().set_xticklabels([])\n",
        "\n",
        "# Exibe o gráfico\n",
        "plt.show()"
      ],
      "metadata": {
        "id": "nX_Ypxt7HUYQ"
      },
      "execution_count": null,
      "outputs": []
    },
    {
      "cell_type": "code",
      "source": [
        "# Plota o gráfico de linha com as séries temporais\n",
        "fig, ax = plt.subplots(figsize=(10, 5))\n",
        "ax.plot(df_receitas_analise.index, df_receitas_analise['variacao_anual'], label='Valor Anual - R$')\n",
        "\n",
        "# Adiciona legenda e título ao gráfico\n",
        "ax.legend()\n",
        "ax.set_title('Variação das receitas orçamentária anuais brutas entre os anos de 2013 a 2022')\n",
        "ax.xaxis.label.set_visible(False)  # esconde a legenda do eixo X\n",
        "\n",
        "# Configura o eixo x para não mostrar nenhum rótulo\n",
        "# plt.gca().set_xticklabels([])\n",
        "\n",
        "# Exibe o gráfico\n",
        "plt.show()"
      ],
      "metadata": {
        "id": "eW9eiuLyHe2l"
      },
      "execution_count": null,
      "outputs": []
    },
    {
      "cell_type": "code",
      "source": [
        "# Plota o gráfico de linha com as séries temporais\n",
        "fig, ax = plt.subplots(figsize=(10, 5))\n",
        "ax.plot(df_receitas_analise.index, df_receitas_analise['aceleracao_variacao_anual'], label='Valor Anual - R$')\n",
        "\n",
        "# Adiciona legenda e título ao gráfico\n",
        "ax.legend()\n",
        "ax.set_title('Aceleração da variação das receitas orçamentária anuais brutas entre os anos de 2013 a 2022')\n",
        "ax.xaxis.label.set_visible(False)  # esconde a legenda do eixo X\n",
        "\n",
        "# Configura o eixo x para não mostrar nenhum rótulo\n",
        "# plt.gca().set_xticklabels([])\n",
        "\n",
        "# Exibe o gráfico\n",
        "plt.show()"
      ],
      "metadata": {
        "id": "Hir_-BtvHe0Q"
      },
      "execution_count": null,
      "outputs": []
    },
    {
      "cell_type": "code",
      "source": [
        "print(f\"Total da variação das receitas anuais: R$ {df_receitas_analise['variacao_anual'].sum().round(2)}\")\n",
        "print(f\"Média móvel anual da variação das receitas: R$ {(df_receitas_analise['variacao_anual'].sum()/df_receitas_analise.shape[0]).round(2)}\")"
      ],
      "metadata": {
        "id": "iE235bQcHexv"
      },
      "execution_count": null,
      "outputs": []
    },
    {
      "cell_type": "code",
      "source": [
        "print(f\"Total da aceleração da variação das receitas anuais: R$ {df_receitas_analise['aceleracao_variacao_anual'].sum().round(2)}\")\n",
        "print(f\"Média móvel anual da aceleração da variação das receitas: R$ {(df_receitas_analise['aceleracao_variacao_anual'].sum()/df_receitas_analise.shape[0]).round(2)}\")"
      ],
      "metadata": {
        "id": "DF9T7aClHeu-"
      },
      "execution_count": null,
      "outputs": []
    },
    {
      "cell_type": "code",
      "source": [
        "print(f\"Porcentagem da variação das receitas anuais: {df_receitas_analise['porcentagem_variacao_anual_%'].sum().round(2)}%\")\n",
        "print(f\"Média movel percentual anual da variação das receitas: {(df_receitas_analise['porcentagem_variacao_anual_%'].sum()/df_receitas_analise.shape[0]).round(2)}%\")"
      ],
      "metadata": {
        "id": "t-ijDJnNHesZ"
      },
      "execution_count": null,
      "outputs": []
    },
    {
      "cell_type": "code",
      "source": [
        "print(f\"Porcentagem da aceleração da variação das receitas anuais: {df_receitas_analise['porcentagem_aceleracao_variacao_anual_%'].sum().round(2)}%\")\n",
        "print(f\"Média móvel percentual anual da acelereção variação das receitas: {(df_receitas_analise['porcentagem_aceleracao_variacao_anual_%'].sum()/df_receitas_analise.shape[0]).round(2)}%\")"
      ],
      "metadata": {
        "id": "ukmyuKXKHq12"
      },
      "execution_count": null,
      "outputs": []
    },
    {
      "cell_type": "markdown",
      "source": [
        "## Análise regressiva linear"
      ],
      "metadata": {
        "id": "fYHnPkVVmy29"
      }
    },
    {
      "cell_type": "markdown",
      "source": [
        "### Gerando dados para o PIB e População para os anos de 2021 e 2022"
      ],
      "metadata": {
        "id": "ShLirTvdn8T8"
      }
    },
    {
      "cell_type": "code",
      "source": [
        "df_dados_analise_linear_receitas = df_receitas_analise.drop(columns=['variacao_anual','porcentagem_variacao_anual_%','aceleracao_variacao_anual','porcentagem_aceleracao_variacao_anual_%'])\n",
        "\n",
        "df_dados_analise_linear_receitas = pd.merge(df_dados_analise_linear_receitas,\n",
        "                                           df_ibge_populacao_index_ano.drop(columns=['variacao_anual','porcentagem_variacao_anual_%','aceleracao_variacao_anual','porcentagem_aceleracao_variacao_anual_%']),\n",
        "                                           left_index=True, right_index=True, how='inner')\n",
        "\n",
        "df_dados_analise_linear_receitas = pd.merge(df_dados_analise_linear_receitas,\n",
        "                                           df_valor_pib_analise,\n",
        "                                           left_index=True, right_index=True, how='inner')\n",
        "\n",
        "\n",
        "df_dados_analise_linear_receitas['pib_percapita'] = ((df_dados_analise_linear_receitas['pib']/df_dados_analise_linear_receitas['populacao'])*100).round(2)\n",
        "\n",
        "anos = pd.date_range(start='2013-01-01', end='2020-01-01', freq='AS')\n",
        "df_dados_analise_linear_receitas['anos'] = anos.year\n",
        "\n",
        "df_dados_analise_linear_receitas"
      ],
      "metadata": {
        "id": "83SHo0jfHqx4"
      },
      "execution_count": null,
      "outputs": []
    },
    {
      "cell_type": "code",
      "source": [
        "df_dados_analise_linear_receitas.dtypes"
      ],
      "metadata": {
        "id": "fxGa0L4SMF0W"
      },
      "execution_count": null,
      "outputs": []
    },
    {
      "cell_type": "code",
      "source": [
        "print('Matriz de correlação entre as variáveis:')\n",
        "df_dados_analise_linear_receitas.corr()"
      ],
      "metadata": {
        "id": "tf4OuIEGHqoX"
      },
      "execution_count": null,
      "outputs": []
    },
    {
      "cell_type": "code",
      "source": [
        "# plotando heatmap\n",
        "sns.heatmap(df_dados_analise_linear_receitas.corr(), annot=True)"
      ],
      "metadata": {
        "id": "Qv3QIJhgHenI"
      },
      "execution_count": null,
      "outputs": []
    },
    {
      "cell_type": "markdown",
      "source": [
        "#### Análise regressiva linear"
      ],
      "metadata": {
        "id": "3NUaJsYh2_qm"
      }
    },
    {
      "cell_type": "code",
      "source": [
        "from sklearn.linear_model import LinearRegression\n",
        "from sklearn.model_selection import train_test_split\n",
        "import numpy as np"
      ],
      "metadata": {
        "id": "OxNW4LKTtV1N"
      },
      "execution_count": null,
      "outputs": []
    },
    {
      "cell_type": "markdown",
      "source": [
        "##### Modelo para análise regressiva linear com o ANO como variável dependente"
      ],
      "metadata": {
        "id": "XChiSQQKS4HX"
      }
    },
    {
      "cell_type": "code",
      "source": [
        "df_receitas_analise"
      ],
      "metadata": {
        "id": "tjzGDuX3SiLJ"
      },
      "execution_count": null,
      "outputs": []
    },
    {
      "cell_type": "code",
      "source": [
        "# dados\n",
        "X = df_dados_analise_linear_receitas[['anos']]\n",
        "y = np.array(df_dados_analise_linear_receitas['VALOR_ARRECADADO']).reshape((-1,1))\n",
        "\n",
        "# Divide o conjunto de dados em treino e teste\n",
        "X_train, X_test, y_train, y_test = train_test_split(X, y, test_size=0.3, random_state=42)\n",
        "\n",
        "# cria o modelo de regressão linear e ajusta os dados\n",
        "model = LinearRegression().fit(X_train,y_train)\n",
        "\n",
        "# utilizando o modelo para previsões nos dados de teste\n",
        "y_pred = model.predict(X_test)\n",
        "\n",
        "# calcula a previsão para um novo dado\n",
        "ano = 2022\n",
        "y_pred = model.predict([[ano]])\n",
        "\n",
        "# Imprime os coeficientes da regressão\n",
        "print(f'Coeficiente de interceptação: {model.intercept_[0]:.2f}')\n",
        "\n",
        "# Avaliar o modelo usando os dados de teste\n",
        "score = model.score(X_test, y_test)\n",
        "print(f\"A acurácia do modelo é {score:.2f}\")\n",
        "\n",
        "# Imprime a previsão para o novo dado\n",
        "print(f'Previsão para o ano de {ano}: R$ {float(y_pred[0]):.2f}')"
      ],
      "metadata": {
        "id": "XshOo7Ph3Emq"
      },
      "execution_count": null,
      "outputs": []
    },
    {
      "cell_type": "code",
      "source": [
        "valor_arrecadado = 201644040.94\n",
        "diferenca = valor_arrecadado - y_pred[0][0]\n",
        "porcentagem = (diferenca/valor_arrecadado).round(2)\n",
        "print(f'O modelo possui um desvio da realidade de aproximadamente: {porcentagem}%.')"
      ],
      "metadata": {
        "id": "SFZdsXAX5A63"
      },
      "execution_count": null,
      "outputs": []
    },
    {
      "cell_type": "markdown",
      "source": [
        "##### Modelo para análise regressiva linear com a POPULACAO como variável dependente"
      ],
      "metadata": {
        "id": "351_qe3eTCuM"
      }
    },
    {
      "cell_type": "code",
      "source": [
        "df_ibge_populacao"
      ],
      "metadata": {
        "id": "Qea-jxxeTSbi"
      },
      "execution_count": null,
      "outputs": []
    },
    {
      "cell_type": "code",
      "source": [
        "# dados\n",
        "X = df_dados_analise_linear_receitas[['populacao']]\n",
        "y = np.array(df_dados_analise_linear_receitas['VALOR_ARRECADADO']).reshape((-1,1))\n",
        "\n",
        "# Divide o conjunto de dados em treino e teste\n",
        "X_train, X_test, y_train, y_test = train_test_split(X, y, test_size=0.3, random_state=42)\n",
        "\n",
        "# cria o modelo de regressão linear e ajusta os dados\n",
        "model = LinearRegression().fit(X_train,y_train)\n",
        "\n",
        "# utilizando o modelo para previsões nos dados de teste\n",
        "y_pred = model.predict(X_test)\n",
        "\n",
        "# calcula a previsão para um novo dado\n",
        "populacao = 62576\n",
        "y_pred = model.predict([[populacao]])\n",
        "\n",
        "# Imprime os coeficientes da regressão\n",
        "print(f'Coeficiente de interceptação: {model.intercept_[0]:.2f}')\n",
        "\n",
        "# Avaliar o modelo usando os dados de teste\n",
        "score = model.score(X_test, y_test)\n",
        "print(f\"A acurácia do modelo é {score:.2f}\")\n",
        "\n",
        "# Imprime a previsão para o novo dado\n",
        "print(f'Previsão para a população de {populacao}: R$ {float(y_pred[0]):.2f}')"
      ],
      "metadata": {
        "id": "rONiFG-fRo7K"
      },
      "execution_count": null,
      "outputs": []
    },
    {
      "cell_type": "code",
      "source": [
        "valor_arrecadado = 179003057.61\n",
        "diferenca = valor_arrecadado - y_pred[0][0]\n",
        "porcentagem = (diferenca/valor_arrecadado).round(2)\n",
        "print(f'O modelo possui um desvio da realidade de aproximadamente: {porcentagem}%.')"
      ],
      "metadata": {
        "id": "YVRhjczdTbpv"
      },
      "execution_count": null,
      "outputs": []
    },
    {
      "cell_type": "markdown",
      "source": [
        "##### Modelo para análise regressiva linear com a POPULACAO e ANO como variáveis dependentes"
      ],
      "metadata": {
        "id": "9dHBpJP-To4S"
      }
    },
    {
      "cell_type": "code",
      "source": [
        "# dados\n",
        "X = df_dados_analise_linear_receitas[['populacao','anos']]\n",
        "y = np.array(df_dados_analise_linear_receitas['VALOR_ARRECADADO']).reshape((-1,1))\n",
        "\n",
        "# Divide o conjunto de dados em treino e teste\n",
        "X_train, X_test, y_train, y_test = train_test_split(X, y, test_size=0.3, random_state=42)\n",
        "\n",
        "# cria o modelo de regressão linear e ajusta os dados\n",
        "model = LinearRegression().fit(X_train,y_train)\n",
        "\n",
        "# utilizando o modelo para previsões nos dados de teste\n",
        "y_pred = model.predict(X_test)\n",
        "\n",
        "# calcula a previsão para um novo dado\n",
        "populacao = 62576\n",
        "ano = 2021\n",
        "y_pred = model.predict([[populacao,ano]])\n",
        "\n",
        "# Imprime os coeficientes da regressão\n",
        "print(f'Coeficiente de interceptação: {model.intercept_[0]:.2f}')\n",
        "\n",
        "# Avaliar o modelo usando os dados de teste\n",
        "score = model.score(X_test, y_test)\n",
        "print(f\"A acurácia do modelo é {score:.2f}\")\n",
        "\n",
        "# Imprime a previsão para o novo dado\n",
        "print(f'Previsão para a população de {populacao} no ano de {ano}: R$ {float(y_pred[0]):.2f}')"
      ],
      "metadata": {
        "id": "MWyYDabVTmCM"
      },
      "execution_count": null,
      "outputs": []
    },
    {
      "cell_type": "code",
      "source": [
        "valor_arrecadado = 179003057.61\n",
        "diferenca = valor_arrecadado - y_pred[0][0]\n",
        "porcentagem = (diferenca/valor_arrecadado).round(2)\n",
        "print(f'O modelo possui um desvio da realidade de aproximadamente: {porcentagem}%.')"
      ],
      "metadata": {
        "id": "bFx__4LZT3tb"
      },
      "execution_count": null,
      "outputs": []
    },
    {
      "cell_type": "markdown",
      "source": [
        "#### Modelo para análise regressiva linear com o PIB, IMPOSTOS E VALORES BRUTOS como variáveis dependentes"
      ],
      "metadata": {
        "id": "dbRPUzgadvAL"
      }
    },
    {
      "cell_type": "code",
      "source": [
        "df_dados_analise_linear_receitas"
      ],
      "metadata": {
        "id": "5UNxBf_ierLx"
      },
      "execution_count": null,
      "outputs": []
    },
    {
      "cell_type": "code",
      "source": [
        "# dados\n",
        "X = df_dados_analise_linear_receitas[['pib','pib_percapita','impostos_liquidos','va','va_agropecuaria','va_industria','va_servicos','va_adespss']]\n",
        "y = np.array(df_dados_analise_linear_receitas['VALOR_ARRECADADO']).reshape((-1,1))\n",
        "\n",
        "# Divide o conjunto de dados em treino e teste\n",
        "X_train, X_test, y_train, y_test = train_test_split(X, y, test_size=0.3, random_state=42)\n",
        "\n",
        "# cria o modelo de regressão linear e ajusta os dados\n",
        "model = LinearRegression().fit(X_train,y_train)\n",
        "\n",
        "# utilizando o modelo para previsões nos dados de teste\n",
        "y_pred = model.predict(X_test)\n",
        "\n",
        "# calcula a previsão para um novo dado\n",
        "pib = 1234470600.00\n",
        "pib_percapita = 1821301.67\n",
        "imposts_liquidos = 149580220.00\n",
        "va = 984890380.00\n",
        "va_agropecuaria = 16844650.00\n",
        "va_industria = 98240130.00\n",
        "va_servicos = 567634700.00\n",
        "va_adespss = 302170900.00\n",
        "\n",
        "y_pred = model.predict([[pib,pib_percapita,imposts_liquidos,va,va_agropecuaria,va_industria,va_servicos,va_adespss]])\n",
        "\n",
        "# Imprime os coeficientes da regressão\n",
        "print(f'Coeficiente de interceptação: {model.intercept_[0]:.2f}')\n",
        "\n",
        "# Avaliar o modelo usando os dados de teste\n",
        "score = model.score(X_test, y_test)\n",
        "print(f\"A acurácia do modelo é {score:.2f}\")\n",
        "\n",
        "# Imprime a previsão para o novo dado\n",
        "print(f'Previsão: R$ {float(y_pred[0]):.2f}')"
      ],
      "metadata": {
        "id": "Gs5rg_siUBXX"
      },
      "execution_count": null,
      "outputs": []
    },
    {
      "cell_type": "markdown",
      "source": [
        "##### Modelo para análise regressiva linear com o PIB, POPULACAO E ANOS como variáveis dependentes"
      ],
      "metadata": {
        "id": "SUMbmDbxOCNg"
      }
    },
    {
      "cell_type": "code",
      "source": [
        "# dados\n",
        "X = df_dados_analise_linear_receitas[['pib','populacao','anos']]\n",
        "y = np.array(df_dados_analise_linear_receitas['VALOR_ARRECADADO']).reshape((-1,1))\n",
        "\n",
        "# Divide o conjunto de dados em treino e teste\n",
        "X_train, X_test, y_train, y_test = train_test_split(X, y, test_size=0.3, random_state=42)\n",
        "\n",
        "# cria o modelo de regressão linear e ajusta os dados\n",
        "model = LinearRegression().fit(X_train,y_train)\n",
        "\n",
        "# utilizando o modelo para previsões nos dados de teste\n",
        "y_pred = model.predict(X_test)\n",
        "\n",
        "# calcula a previsão para um novo dado\n",
        "pib = 1234470600.00\n",
        "populacao = 62556\n",
        "ano = 2023\n",
        "\n",
        "y_pred = model.predict([[pib,populacao,ano]])\n",
        "\n",
        "# Imprime os coeficientes da regressão\n",
        "print(f'Coeficiente de interceptação: {model.intercept_[0]:.2f}')\n",
        "\n",
        "# Avaliar o modelo usando os dados de teste\n",
        "score = model.score(X_test, y_test)\n",
        "print(f\"A acurácia do modelo é {score:.2f}\")\n",
        "\n",
        "# Imprime a previsão para o novo dado\n",
        "print(f'Previsão: R$ {float(y_pred[0]):.2f}')"
      ],
      "metadata": {
        "id": "IusePkUofMnk"
      },
      "execution_count": null,
      "outputs": []
    },
    {
      "cell_type": "code",
      "source": [],
      "metadata": {
        "id": "xbhxkj6WOXgC"
      },
      "execution_count": null,
      "outputs": []
    }
  ]
}