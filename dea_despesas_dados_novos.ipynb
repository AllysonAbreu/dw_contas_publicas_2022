{
  "nbformat": 4,
  "nbformat_minor": 0,
  "metadata": {
    "colab": {
      "provenance": [],
      "include_colab_link": true
    },
    "kernelspec": {
      "name": "python3",
      "display_name": "Python 3"
    },
    "language_info": {
      "name": "python"
    }
  },
  "cells": [
    {
      "cell_type": "markdown",
      "metadata": {
        "id": "view-in-github",
        "colab_type": "text"
      },
      "source": [
        "<a href=\"https://colab.research.google.com/github/AllysonAbreu/dw_contas_publicas_2022/blob/master/dea_despesas_dados_novos.ipynb\" target=\"_parent\"><img src=\"https://colab.research.google.com/assets/colab-badge.svg\" alt=\"Open In Colab\"/></a>"
      ]
    },
    {
      "cell_type": "markdown",
      "source": [
        "# Imports e instalações"
      ],
      "metadata": {
        "id": "TeF516hXCOs5"
      }
    },
    {
      "cell_type": "code",
      "execution_count": 26,
      "metadata": {
        "id": "QdQggdHNOY3q",
        "colab": {
          "base_uri": "https://localhost:8080/"
        },
        "outputId": "0ccdf385-2520-4189-e660-6ee4d725c5f3"
      },
      "outputs": [
        {
          "output_type": "stream",
          "name": "stdout",
          "text": [
            "Looking in indexes: https://pypi.org/simple, https://us-python.pkg.dev/colab-wheels/public/simple/\n",
            "Requirement already satisfied: basedosdados in /usr/local/lib/python3.10/dist-packages (1.6.11)\n",
            "Requirement already satisfied: tqdm==4.50.2 in /usr/local/lib/python3.10/dist-packages (from basedosdados) (4.50.2)\n",
            "Requirement already satisfied: pyarrow==6.0.0 in /usr/local/lib/python3.10/dist-packages (from basedosdados) (6.0.0)\n",
            "Requirement already satisfied: tomlkit==0.7.0 in /usr/local/lib/python3.10/dist-packages (from basedosdados) (0.7.0)\n",
            "Requirement already satisfied: pandavro<2.0.0,>=1.6.0 in /usr/local/lib/python3.10/dist-packages (from basedosdados) (1.7.2)\n",
            "Requirement already satisfied: pandas<2.0.0,>=1.3.5 in /usr/local/lib/python3.10/dist-packages (from basedosdados) (1.5.3)\n",
            "Requirement already satisfied: Jinja2==3.0.3 in /usr/local/lib/python3.10/dist-packages (from basedosdados) (3.0.3)\n",
            "Requirement already satisfied: ruamel.yaml==0.17.10 in /usr/local/lib/python3.10/dist-packages (from basedosdados) (0.17.10)\n",
            "Requirement already satisfied: pyaml==20.4.0 in /usr/local/lib/python3.10/dist-packages (from basedosdados) (20.4.0)\n",
            "Requirement already satisfied: shapely<2.0.0,>=1.6.0 in /usr/local/lib/python3.10/dist-packages (from basedosdados) (1.8.5.post1)\n",
            "Requirement already satisfied: ckanapi==4.6 in /usr/local/lib/python3.10/dist-packages (from basedosdados) (4.6)\n",
            "Requirement already satisfied: loguru<0.7.0,>=0.6.0 in /usr/local/lib/python3.10/dist-packages (from basedosdados) (0.6.0)\n",
            "Requirement already satisfied: pandas-gbq<0.18.0,>=0.17.4 in /usr/local/lib/python3.10/dist-packages (from basedosdados) (0.17.9)\n",
            "Requirement already satisfied: click==8.0.3 in /usr/local/lib/python3.10/dist-packages (from basedosdados) (8.0.3)\n",
            "Requirement already satisfied: google-cloud-bigquery==2.30.1 in /usr/local/lib/python3.10/dist-packages (from basedosdados) (2.30.1)\n",
            "Requirement already satisfied: google-cloud-storage==1.42.3 in /usr/local/lib/python3.10/dist-packages (from basedosdados) (1.42.3)\n",
            "Requirement already satisfied: importlib-metadata<5.0.0,>=4.11.3 in /usr/local/lib/python3.10/dist-packages (from basedosdados) (4.13.0)\n",
            "Requirement already satisfied: toml<0.11.0,>=0.10.2 in /usr/local/lib/python3.10/dist-packages (from basedosdados) (0.10.2)\n",
            "Requirement already satisfied: google-cloud-bigquery-storage==1.1.0 in /usr/local/lib/python3.10/dist-packages (from basedosdados) (1.1.0)\n",
            "Requirement already satisfied: requests in /usr/local/lib/python3.10/dist-packages (from ckanapi==4.6->basedosdados) (2.27.1)\n",
            "Requirement already satisfied: six<2.0,>=1.9 in /usr/local/lib/python3.10/dist-packages (from ckanapi==4.6->basedosdados) (1.16.0)\n",
            "Requirement already satisfied: docopt in /usr/local/lib/python3.10/dist-packages (from ckanapi==4.6->basedosdados) (0.6.2)\n",
            "Requirement already satisfied: setuptools in /usr/local/lib/python3.10/dist-packages (from ckanapi==4.6->basedosdados) (67.7.2)\n",
            "Requirement already satisfied: python-slugify>=1.0 in /usr/local/lib/python3.10/dist-packages (from ckanapi==4.6->basedosdados) (8.0.1)\n",
            "Requirement already satisfied: grpcio<2.0dev,>=1.38.1 in /usr/local/lib/python3.10/dist-packages (from google-cloud-bigquery==2.30.1->basedosdados) (1.54.0)\n",
            "Requirement already satisfied: packaging>=14.3 in /usr/local/lib/python3.10/dist-packages (from google-cloud-bigquery==2.30.1->basedosdados) (23.1)\n",
            "Requirement already satisfied: google-resumable-media<3.0dev,>=0.6.0 in /usr/local/lib/python3.10/dist-packages (from google-cloud-bigquery==2.30.1->basedosdados) (2.5.0)\n",
            "Requirement already satisfied: python-dateutil<3.0dev,>=2.7.2 in /usr/local/lib/python3.10/dist-packages (from google-cloud-bigquery==2.30.1->basedosdados) (2.8.2)\n",
            "Requirement already satisfied: protobuf>=3.12.0 in /usr/local/lib/python3.10/dist-packages (from google-cloud-bigquery==2.30.1->basedosdados) (3.20.3)\n",
            "Requirement already satisfied: google-api-core[grpc]<3.0.0dev,>=1.29.0 in /usr/local/lib/python3.10/dist-packages (from google-cloud-bigquery==2.30.1->basedosdados) (1.34.0)\n",
            "Requirement already satisfied: google-cloud-core<3.0.0dev,>=1.4.1 in /usr/local/lib/python3.10/dist-packages (from google-cloud-bigquery==2.30.1->basedosdados) (2.3.2)\n",
            "Requirement already satisfied: proto-plus>=1.10.0 in /usr/local/lib/python3.10/dist-packages (from google-cloud-bigquery==2.30.1->basedosdados) (1.22.2)\n",
            "Requirement already satisfied: google-auth<3.0dev,>=1.25.0 in /usr/local/lib/python3.10/dist-packages (from google-cloud-storage==1.42.3->basedosdados) (2.17.3)\n",
            "Requirement already satisfied: MarkupSafe>=2.0 in /usr/local/lib/python3.10/dist-packages (from Jinja2==3.0.3->basedosdados) (2.1.2)\n",
            "Requirement already satisfied: PyYAML in /usr/local/lib/python3.10/dist-packages (from pyaml==20.4.0->basedosdados) (6.0)\n",
            "Requirement already satisfied: numpy>=1.16.6 in /usr/local/lib/python3.10/dist-packages (from pyarrow==6.0.0->basedosdados) (1.22.4)\n",
            "Requirement already satisfied: zipp>=0.5 in /usr/local/lib/python3.10/dist-packages (from importlib-metadata<5.0.0,>=4.11.3->basedosdados) (3.15.0)\n",
            "Requirement already satisfied: pytz>=2020.1 in /usr/local/lib/python3.10/dist-packages (from pandas<2.0.0,>=1.3.5->basedosdados) (2022.7.1)\n",
            "Requirement already satisfied: google-auth-oauthlib>=0.0.1 in /usr/local/lib/python3.10/dist-packages (from pandas-gbq<0.18.0,>=0.17.4->basedosdados) (1.0.0)\n",
            "Requirement already satisfied: db-dtypes<2.0.0,>=0.3.1 in /usr/local/lib/python3.10/dist-packages (from pandas-gbq<0.18.0,>=0.17.4->basedosdados) (1.1.1)\n",
            "Requirement already satisfied: pydata-google-auth in /usr/local/lib/python3.10/dist-packages (from pandas-gbq<0.18.0,>=0.17.4->basedosdados) (1.7.0)\n",
            "Requirement already satisfied: fastavro~=1.5.1 in /usr/local/lib/python3.10/dist-packages (from pandavro<2.0.0,>=1.6.0->basedosdados) (1.5.4)\n",
            "Requirement already satisfied: googleapis-common-protos<2.0dev,>=1.56.2 in /usr/local/lib/python3.10/dist-packages (from google-api-core[grpc]<3.0.0dev,>=1.29.0->google-cloud-bigquery==2.30.1->basedosdados) (1.59.0)\n",
            "Requirement already satisfied: grpcio-status<2.0dev,>=1.33.2 in /usr/local/lib/python3.10/dist-packages (from google-api-core[grpc]<3.0.0dev,>=1.29.0->google-cloud-bigquery==2.30.1->basedosdados) (1.48.2)\n",
            "Requirement already satisfied: pyasn1-modules>=0.2.1 in /usr/local/lib/python3.10/dist-packages (from google-auth<3.0dev,>=1.25.0->google-cloud-storage==1.42.3->basedosdados) (0.3.0)\n",
            "Requirement already satisfied: rsa<5,>=3.1.4 in /usr/local/lib/python3.10/dist-packages (from google-auth<3.0dev,>=1.25.0->google-cloud-storage==1.42.3->basedosdados) (4.9)\n",
            "Requirement already satisfied: cachetools<6.0,>=2.0.0 in /usr/local/lib/python3.10/dist-packages (from google-auth<3.0dev,>=1.25.0->google-cloud-storage==1.42.3->basedosdados) (5.3.0)\n",
            "Requirement already satisfied: requests-oauthlib>=0.7.0 in /usr/local/lib/python3.10/dist-packages (from google-auth-oauthlib>=0.0.1->pandas-gbq<0.18.0,>=0.17.4->basedosdados) (1.3.1)\n",
            "Requirement already satisfied: google-crc32c<2.0dev,>=1.0 in /usr/local/lib/python3.10/dist-packages (from google-resumable-media<3.0dev,>=0.6.0->google-cloud-bigquery==2.30.1->basedosdados) (1.5.0)\n",
            "Requirement already satisfied: text-unidecode>=1.3 in /usr/local/lib/python3.10/dist-packages (from python-slugify>=1.0->ckanapi==4.6->basedosdados) (1.3)\n",
            "Requirement already satisfied: idna<4,>=2.5 in /usr/local/lib/python3.10/dist-packages (from requests->ckanapi==4.6->basedosdados) (3.4)\n",
            "Requirement already satisfied: certifi>=2017.4.17 in /usr/local/lib/python3.10/dist-packages (from requests->ckanapi==4.6->basedosdados) (2022.12.7)\n",
            "Requirement already satisfied: urllib3<1.27,>=1.21.1 in /usr/local/lib/python3.10/dist-packages (from requests->ckanapi==4.6->basedosdados) (1.26.15)\n",
            "Requirement already satisfied: charset-normalizer~=2.0.0 in /usr/local/lib/python3.10/dist-packages (from requests->ckanapi==4.6->basedosdados) (2.0.12)\n",
            "Requirement already satisfied: pyasn1<0.6.0,>=0.4.6 in /usr/local/lib/python3.10/dist-packages (from pyasn1-modules>=0.2.1->google-auth<3.0dev,>=1.25.0->google-cloud-storage==1.42.3->basedosdados) (0.5.0)\n",
            "Requirement already satisfied: oauthlib>=3.0.0 in /usr/local/lib/python3.10/dist-packages (from requests-oauthlib>=0.7.0->google-auth-oauthlib>=0.0.1->pandas-gbq<0.18.0,>=0.17.4->basedosdados) (3.2.2)\n"
          ]
        }
      ],
      "source": [
        "# instalações das bibliotecas\n",
        "!pip install basedosdados"
      ]
    },
    {
      "cell_type": "code",
      "source": [
        "import pandas as pd\n",
        "import matplotlib.pyplot as plt\n",
        "import matplotlib.dates as mdates\n",
        "import seaborn as sns\n",
        "import datetime as dt\n",
        "import basedosdados as bd\n",
        "from google.colab import auth\n",
        "from google.cloud import bigquery"
      ],
      "metadata": {
        "id": "LYbfuBAWCXQi"
      },
      "execution_count": 27,
      "outputs": []
    },
    {
      "cell_type": "markdown",
      "source": [
        "# Imports dos dados"
      ],
      "metadata": {
        "id": "li80fk5eCUtH"
      }
    },
    {
      "cell_type": "markdown",
      "source": [
        "## Login no gcloud"
      ],
      "metadata": {
        "id": "r9SitjaiCa83"
      }
    },
    {
      "cell_type": "code",
      "source": [
        "auth.authenticate_user()\n",
        "\n",
        "project = 'dados-ibge-384913'\n",
        "location = 'US'\n",
        "client = bigquery.Client(project=project, location=location)"
      ],
      "metadata": {
        "id": "SzE3iM8HCZl0"
      },
      "execution_count": 28,
      "outputs": []
    },
    {
      "cell_type": "markdown",
      "source": [
        "## Querys para buscar no firebase"
      ],
      "metadata": {
        "id": "XM89CO4uCgnj"
      }
    },
    {
      "cell_type": "markdown",
      "source": [
        "- Os dataframes com as tabelas utilizadas são de responsabilidade do projeto Base dos dados. Clique [aqui](https://basedosdados.org/) para conhecer mais."
      ],
      "metadata": {
        "id": "MfM3wbErhrT6"
      }
    },
    {
      "cell_type": "code",
      "source": [
        "query_saude = \"select * from `basedosdados.br_ieps_saude.municipio` as db where db.id_municipio = '2503704'\"\n",
        "query_educacao = \"select db.ano,db.atu_ei, db.atu_ei_creche, db.atu_ei_pre_escola,db.atu_ef, db.atu_ef_anos_iniciais,db.atu_ef_anos_finais,db.tdi_ef_anos_iniciais,db.tdi_ef_anos_finais,db.taxa_aprovacao_ef,db.taxa_aprovacao_ef_anos_iniciais,db.taxa_aprovacao_ef_anos_finais,db.taxa_reprovacao_ef,db.taxa_reprovacao_ef_anos_iniciais,db.taxa_reprovacao_ef_anos_finais,db.taxa_abandono_ef,db.taxa_abandono_ef_anos_iniciais,db.taxa_abandono_ef_anos_finais,db.dsu_ei,db.dsu_ei_creche,db.dsu_ei_pre_escola,db.dsu_ef,db.dsu_ef_anos_iniciais,db.dsu_ef_anos_finais from `basedosdados.br_inep_indicadores_educacionais.municipio` as db where db.id_municipio = '2503704'\""
      ],
      "metadata": {
        "id": "6VR55s-XCjA3"
      },
      "execution_count": 29,
      "outputs": []
    },
    {
      "cell_type": "markdown",
      "source": [
        "## Import dos dados do IBGE"
      ],
      "metadata": {
        "id": "Zc74PzbkCoTZ"
      }
    },
    {
      "cell_type": "markdown",
      "source": [
        "### Indicadores saúde"
      ],
      "metadata": {
        "id": "DOs-vlsYVsSB"
      }
    },
    {
      "cell_type": "code",
      "source": [
        "# Para carregar os dados do firebase direto no pandas\n",
        "df_ibge_saude = client.query(query_saude).to_dataframe()\n",
        "df_ibge_saude.head(1)"
      ],
      "metadata": {
        "id": "FJQjvT-CCqi2",
        "colab": {
          "base_uri": "https://localhost:8080/",
          "height": 174
        },
        "outputId": "5bf12f41-e3b0-4622-88ba-3a00eba738c4"
      },
      "execution_count": 30,
      "outputs": [
        {
          "output_type": "execute_result",
          "data": {
            "text/plain": [
              "    ano id_municipio sigla_uf        nome  cob_ab  cob_acs  cob_esf  \\\n",
              "0  2010      2503704       PB  Cajazeiras   89.42    100.0    89.42   \n",
              "\n",
              "   cob_vac_bcg  cob_vac_rota  cob_vac_menin  ...  desp_recp_saude_pc_mun  \\\n",
              "0        100.0     92.518703            0.0  ...                   86.08   \n",
              "\n",
              "   pct_desp_recp_saude_uf  desp_tot_saude_pc_uf  desp_recp_saude_pc_uf  \\\n",
              "0                     NaN                   NaN                    NaN   \n",
              "\n",
              "   desp_tot_saude_pc_mun_def  desp_recp_saude_pc_mun_def  \\\n",
              "0                 562.799802                  164.843332   \n",
              "\n",
              "   desp_tot_saude_pc_uf_def  desp_recp_saude_pc_uf_def  num_familias_bf  \\\n",
              "0                       NaN                        NaN              NaN   \n",
              "\n",
              "   gasto_pbf_pc_def  \n",
              "0        286.193802  \n",
              "\n",
              "[1 rows x 68 columns]"
            ],
            "text/html": [
              "\n",
              "  <div id=\"df-efa9e433-cb32-44b6-b5fd-37e22be2e35e\">\n",
              "    <div class=\"colab-df-container\">\n",
              "      <div>\n",
              "<style scoped>\n",
              "    .dataframe tbody tr th:only-of-type {\n",
              "        vertical-align: middle;\n",
              "    }\n",
              "\n",
              "    .dataframe tbody tr th {\n",
              "        vertical-align: top;\n",
              "    }\n",
              "\n",
              "    .dataframe thead th {\n",
              "        text-align: right;\n",
              "    }\n",
              "</style>\n",
              "<table border=\"1\" class=\"dataframe\">\n",
              "  <thead>\n",
              "    <tr style=\"text-align: right;\">\n",
              "      <th></th>\n",
              "      <th>ano</th>\n",
              "      <th>id_municipio</th>\n",
              "      <th>sigla_uf</th>\n",
              "      <th>nome</th>\n",
              "      <th>cob_ab</th>\n",
              "      <th>cob_acs</th>\n",
              "      <th>cob_esf</th>\n",
              "      <th>cob_vac_bcg</th>\n",
              "      <th>cob_vac_rota</th>\n",
              "      <th>cob_vac_menin</th>\n",
              "      <th>...</th>\n",
              "      <th>desp_recp_saude_pc_mun</th>\n",
              "      <th>pct_desp_recp_saude_uf</th>\n",
              "      <th>desp_tot_saude_pc_uf</th>\n",
              "      <th>desp_recp_saude_pc_uf</th>\n",
              "      <th>desp_tot_saude_pc_mun_def</th>\n",
              "      <th>desp_recp_saude_pc_mun_def</th>\n",
              "      <th>desp_tot_saude_pc_uf_def</th>\n",
              "      <th>desp_recp_saude_pc_uf_def</th>\n",
              "      <th>num_familias_bf</th>\n",
              "      <th>gasto_pbf_pc_def</th>\n",
              "    </tr>\n",
              "  </thead>\n",
              "  <tbody>\n",
              "    <tr>\n",
              "      <th>0</th>\n",
              "      <td>2010</td>\n",
              "      <td>2503704</td>\n",
              "      <td>PB</td>\n",
              "      <td>Cajazeiras</td>\n",
              "      <td>89.42</td>\n",
              "      <td>100.0</td>\n",
              "      <td>89.42</td>\n",
              "      <td>100.0</td>\n",
              "      <td>92.518703</td>\n",
              "      <td>0.0</td>\n",
              "      <td>...</td>\n",
              "      <td>86.08</td>\n",
              "      <td>NaN</td>\n",
              "      <td>NaN</td>\n",
              "      <td>NaN</td>\n",
              "      <td>562.799802</td>\n",
              "      <td>164.843332</td>\n",
              "      <td>NaN</td>\n",
              "      <td>NaN</td>\n",
              "      <td>NaN</td>\n",
              "      <td>286.193802</td>\n",
              "    </tr>\n",
              "  </tbody>\n",
              "</table>\n",
              "<p>1 rows × 68 columns</p>\n",
              "</div>\n",
              "      <button class=\"colab-df-convert\" onclick=\"convertToInteractive('df-efa9e433-cb32-44b6-b5fd-37e22be2e35e')\"\n",
              "              title=\"Convert this dataframe to an interactive table.\"\n",
              "              style=\"display:none;\">\n",
              "        \n",
              "  <svg xmlns=\"http://www.w3.org/2000/svg\" height=\"24px\"viewBox=\"0 0 24 24\"\n",
              "       width=\"24px\">\n",
              "    <path d=\"M0 0h24v24H0V0z\" fill=\"none\"/>\n",
              "    <path d=\"M18.56 5.44l.94 2.06.94-2.06 2.06-.94-2.06-.94-.94-2.06-.94 2.06-2.06.94zm-11 1L8.5 8.5l.94-2.06 2.06-.94-2.06-.94L8.5 2.5l-.94 2.06-2.06.94zm10 10l.94 2.06.94-2.06 2.06-.94-2.06-.94-.94-2.06-.94 2.06-2.06.94z\"/><path d=\"M17.41 7.96l-1.37-1.37c-.4-.4-.92-.59-1.43-.59-.52 0-1.04.2-1.43.59L10.3 9.45l-7.72 7.72c-.78.78-.78 2.05 0 2.83L4 21.41c.39.39.9.59 1.41.59.51 0 1.02-.2 1.41-.59l7.78-7.78 2.81-2.81c.8-.78.8-2.07 0-2.86zM5.41 20L4 18.59l7.72-7.72 1.47 1.35L5.41 20z\"/>\n",
              "  </svg>\n",
              "      </button>\n",
              "      \n",
              "  <style>\n",
              "    .colab-df-container {\n",
              "      display:flex;\n",
              "      flex-wrap:wrap;\n",
              "      gap: 12px;\n",
              "    }\n",
              "\n",
              "    .colab-df-convert {\n",
              "      background-color: #E8F0FE;\n",
              "      border: none;\n",
              "      border-radius: 50%;\n",
              "      cursor: pointer;\n",
              "      display: none;\n",
              "      fill: #1967D2;\n",
              "      height: 32px;\n",
              "      padding: 0 0 0 0;\n",
              "      width: 32px;\n",
              "    }\n",
              "\n",
              "    .colab-df-convert:hover {\n",
              "      background-color: #E2EBFA;\n",
              "      box-shadow: 0px 1px 2px rgba(60, 64, 67, 0.3), 0px 1px 3px 1px rgba(60, 64, 67, 0.15);\n",
              "      fill: #174EA6;\n",
              "    }\n",
              "\n",
              "    [theme=dark] .colab-df-convert {\n",
              "      background-color: #3B4455;\n",
              "      fill: #D2E3FC;\n",
              "    }\n",
              "\n",
              "    [theme=dark] .colab-df-convert:hover {\n",
              "      background-color: #434B5C;\n",
              "      box-shadow: 0px 1px 3px 1px rgba(0, 0, 0, 0.15);\n",
              "      filter: drop-shadow(0px 1px 2px rgba(0, 0, 0, 0.3));\n",
              "      fill: #FFFFFF;\n",
              "    }\n",
              "  </style>\n",
              "\n",
              "      <script>\n",
              "        const buttonEl =\n",
              "          document.querySelector('#df-efa9e433-cb32-44b6-b5fd-37e22be2e35e button.colab-df-convert');\n",
              "        buttonEl.style.display =\n",
              "          google.colab.kernel.accessAllowed ? 'block' : 'none';\n",
              "\n",
              "        async function convertToInteractive(key) {\n",
              "          const element = document.querySelector('#df-efa9e433-cb32-44b6-b5fd-37e22be2e35e');\n",
              "          const dataTable =\n",
              "            await google.colab.kernel.invokeFunction('convertToInteractive',\n",
              "                                                     [key], {});\n",
              "          if (!dataTable) return;\n",
              "\n",
              "          const docLinkHtml = 'Like what you see? Visit the ' +\n",
              "            '<a target=\"_blank\" href=https://colab.research.google.com/notebooks/data_table.ipynb>data table notebook</a>'\n",
              "            + ' to learn more about interactive tables.';\n",
              "          element.innerHTML = '';\n",
              "          dataTable['output_type'] = 'display_data';\n",
              "          await google.colab.output.renderOutput(dataTable, element);\n",
              "          const docLink = document.createElement('div');\n",
              "          docLink.innerHTML = docLinkHtml;\n",
              "          element.appendChild(docLink);\n",
              "        }\n",
              "      </script>\n",
              "    </div>\n",
              "  </div>\n",
              "  "
            ]
          },
          "metadata": {},
          "execution_count": 30
        }
      ]
    },
    {
      "cell_type": "code",
      "source": [
        "df_ibge_saude.dtypes"
      ],
      "metadata": {
        "colab": {
          "base_uri": "https://localhost:8080/"
        },
        "id": "cRtIkvQMfolr",
        "outputId": "5725dd1e-2055-49f4-bd4b-ef08a0991ee7"
      },
      "execution_count": 31,
      "outputs": [
        {
          "output_type": "execute_result",
          "data": {
            "text/plain": [
              "ano                             int64\n",
              "id_municipio                   object\n",
              "sigla_uf                       object\n",
              "nome                           object\n",
              "cob_ab                        float64\n",
              "                               ...   \n",
              "desp_recp_saude_pc_mun_def    float64\n",
              "desp_tot_saude_pc_uf_def      float64\n",
              "desp_recp_saude_pc_uf_def     float64\n",
              "num_familias_bf               float64\n",
              "gasto_pbf_pc_def              float64\n",
              "Length: 68, dtype: object"
            ]
          },
          "metadata": {},
          "execution_count": 31
        }
      ]
    },
    {
      "cell_type": "markdown",
      "source": [
        "### Indicadores educação básica"
      ],
      "metadata": {
        "id": "x-OI0k9rVwwO"
      }
    },
    {
      "cell_type": "code",
      "source": [
        "# Para carregar os dados do firebase direto no pandas\n",
        "df_ibge_educacao = client.query(query_educacao).to_dataframe()\n",
        "df_ibge_educacao.head(1)"
      ],
      "metadata": {
        "id": "X8IHrHUiOyCY",
        "outputId": "501a2ec3-3c71-4486-cbc3-6e73d7437794",
        "colab": {
          "base_uri": "https://localhost:8080/",
          "height": 174
        }
      },
      "execution_count": 32,
      "outputs": [
        {
          "output_type": "execute_result",
          "data": {
            "text/plain": [
              "    ano  atu_ei  atu_ei_creche  atu_ei_pre_escola  atu_ef  \\\n",
              "0  2011     NaN            NaN                NaN    16.2   \n",
              "\n",
              "   atu_ef_anos_iniciais  atu_ef_anos_finais  tdi_ef_anos_iniciais  \\\n",
              "0                   NaN                 NaN                  39.2   \n",
              "\n",
              "   tdi_ef_anos_finais  taxa_aprovacao_ef  ...  taxa_reprovacao_ef_anos_finais  \\\n",
              "0                 NaN               86.3  ...                             NaN   \n",
              "\n",
              "   taxa_abandono_ef  taxa_abandono_ef_anos_iniciais  \\\n",
              "0              10.5                            10.5   \n",
              "\n",
              "   taxa_abandono_ef_anos_finais  dsu_ei  dsu_ei_creche  dsu_ei_pre_escola  \\\n",
              "0                           NaN     NaN            NaN                NaN   \n",
              "\n",
              "   dsu_ef  dsu_ef_anos_iniciais  dsu_ef_anos_finais  \n",
              "0    16.7                   NaN                16.7  \n",
              "\n",
              "[1 rows x 24 columns]"
            ],
            "text/html": [
              "\n",
              "  <div id=\"df-53f67b22-7995-4a48-bf22-5335d5c4ce4d\">\n",
              "    <div class=\"colab-df-container\">\n",
              "      <div>\n",
              "<style scoped>\n",
              "    .dataframe tbody tr th:only-of-type {\n",
              "        vertical-align: middle;\n",
              "    }\n",
              "\n",
              "    .dataframe tbody tr th {\n",
              "        vertical-align: top;\n",
              "    }\n",
              "\n",
              "    .dataframe thead th {\n",
              "        text-align: right;\n",
              "    }\n",
              "</style>\n",
              "<table border=\"1\" class=\"dataframe\">\n",
              "  <thead>\n",
              "    <tr style=\"text-align: right;\">\n",
              "      <th></th>\n",
              "      <th>ano</th>\n",
              "      <th>atu_ei</th>\n",
              "      <th>atu_ei_creche</th>\n",
              "      <th>atu_ei_pre_escola</th>\n",
              "      <th>atu_ef</th>\n",
              "      <th>atu_ef_anos_iniciais</th>\n",
              "      <th>atu_ef_anos_finais</th>\n",
              "      <th>tdi_ef_anos_iniciais</th>\n",
              "      <th>tdi_ef_anos_finais</th>\n",
              "      <th>taxa_aprovacao_ef</th>\n",
              "      <th>...</th>\n",
              "      <th>taxa_reprovacao_ef_anos_finais</th>\n",
              "      <th>taxa_abandono_ef</th>\n",
              "      <th>taxa_abandono_ef_anos_iniciais</th>\n",
              "      <th>taxa_abandono_ef_anos_finais</th>\n",
              "      <th>dsu_ei</th>\n",
              "      <th>dsu_ei_creche</th>\n",
              "      <th>dsu_ei_pre_escola</th>\n",
              "      <th>dsu_ef</th>\n",
              "      <th>dsu_ef_anos_iniciais</th>\n",
              "      <th>dsu_ef_anos_finais</th>\n",
              "    </tr>\n",
              "  </thead>\n",
              "  <tbody>\n",
              "    <tr>\n",
              "      <th>0</th>\n",
              "      <td>2011</td>\n",
              "      <td>NaN</td>\n",
              "      <td>NaN</td>\n",
              "      <td>NaN</td>\n",
              "      <td>16.2</td>\n",
              "      <td>NaN</td>\n",
              "      <td>NaN</td>\n",
              "      <td>39.2</td>\n",
              "      <td>NaN</td>\n",
              "      <td>86.3</td>\n",
              "      <td>...</td>\n",
              "      <td>NaN</td>\n",
              "      <td>10.5</td>\n",
              "      <td>10.5</td>\n",
              "      <td>NaN</td>\n",
              "      <td>NaN</td>\n",
              "      <td>NaN</td>\n",
              "      <td>NaN</td>\n",
              "      <td>16.7</td>\n",
              "      <td>NaN</td>\n",
              "      <td>16.7</td>\n",
              "    </tr>\n",
              "  </tbody>\n",
              "</table>\n",
              "<p>1 rows × 24 columns</p>\n",
              "</div>\n",
              "      <button class=\"colab-df-convert\" onclick=\"convertToInteractive('df-53f67b22-7995-4a48-bf22-5335d5c4ce4d')\"\n",
              "              title=\"Convert this dataframe to an interactive table.\"\n",
              "              style=\"display:none;\">\n",
              "        \n",
              "  <svg xmlns=\"http://www.w3.org/2000/svg\" height=\"24px\"viewBox=\"0 0 24 24\"\n",
              "       width=\"24px\">\n",
              "    <path d=\"M0 0h24v24H0V0z\" fill=\"none\"/>\n",
              "    <path d=\"M18.56 5.44l.94 2.06.94-2.06 2.06-.94-2.06-.94-.94-2.06-.94 2.06-2.06.94zm-11 1L8.5 8.5l.94-2.06 2.06-.94-2.06-.94L8.5 2.5l-.94 2.06-2.06.94zm10 10l.94 2.06.94-2.06 2.06-.94-2.06-.94-.94-2.06-.94 2.06-2.06.94z\"/><path d=\"M17.41 7.96l-1.37-1.37c-.4-.4-.92-.59-1.43-.59-.52 0-1.04.2-1.43.59L10.3 9.45l-7.72 7.72c-.78.78-.78 2.05 0 2.83L4 21.41c.39.39.9.59 1.41.59.51 0 1.02-.2 1.41-.59l7.78-7.78 2.81-2.81c.8-.78.8-2.07 0-2.86zM5.41 20L4 18.59l7.72-7.72 1.47 1.35L5.41 20z\"/>\n",
              "  </svg>\n",
              "      </button>\n",
              "      \n",
              "  <style>\n",
              "    .colab-df-container {\n",
              "      display:flex;\n",
              "      flex-wrap:wrap;\n",
              "      gap: 12px;\n",
              "    }\n",
              "\n",
              "    .colab-df-convert {\n",
              "      background-color: #E8F0FE;\n",
              "      border: none;\n",
              "      border-radius: 50%;\n",
              "      cursor: pointer;\n",
              "      display: none;\n",
              "      fill: #1967D2;\n",
              "      height: 32px;\n",
              "      padding: 0 0 0 0;\n",
              "      width: 32px;\n",
              "    }\n",
              "\n",
              "    .colab-df-convert:hover {\n",
              "      background-color: #E2EBFA;\n",
              "      box-shadow: 0px 1px 2px rgba(60, 64, 67, 0.3), 0px 1px 3px 1px rgba(60, 64, 67, 0.15);\n",
              "      fill: #174EA6;\n",
              "    }\n",
              "\n",
              "    [theme=dark] .colab-df-convert {\n",
              "      background-color: #3B4455;\n",
              "      fill: #D2E3FC;\n",
              "    }\n",
              "\n",
              "    [theme=dark] .colab-df-convert:hover {\n",
              "      background-color: #434B5C;\n",
              "      box-shadow: 0px 1px 3px 1px rgba(0, 0, 0, 0.15);\n",
              "      filter: drop-shadow(0px 1px 2px rgba(0, 0, 0, 0.3));\n",
              "      fill: #FFFFFF;\n",
              "    }\n",
              "  </style>\n",
              "\n",
              "      <script>\n",
              "        const buttonEl =\n",
              "          document.querySelector('#df-53f67b22-7995-4a48-bf22-5335d5c4ce4d button.colab-df-convert');\n",
              "        buttonEl.style.display =\n",
              "          google.colab.kernel.accessAllowed ? 'block' : 'none';\n",
              "\n",
              "        async function convertToInteractive(key) {\n",
              "          const element = document.querySelector('#df-53f67b22-7995-4a48-bf22-5335d5c4ce4d');\n",
              "          const dataTable =\n",
              "            await google.colab.kernel.invokeFunction('convertToInteractive',\n",
              "                                                     [key], {});\n",
              "          if (!dataTable) return;\n",
              "\n",
              "          const docLinkHtml = 'Like what you see? Visit the ' +\n",
              "            '<a target=\"_blank\" href=https://colab.research.google.com/notebooks/data_table.ipynb>data table notebook</a>'\n",
              "            + ' to learn more about interactive tables.';\n",
              "          element.innerHTML = '';\n",
              "          dataTable['output_type'] = 'display_data';\n",
              "          await google.colab.output.renderOutput(dataTable, element);\n",
              "          const docLink = document.createElement('div');\n",
              "          docLink.innerHTML = docLinkHtml;\n",
              "          element.appendChild(docLink);\n",
              "        }\n",
              "      </script>\n",
              "    </div>\n",
              "  </div>\n",
              "  "
            ]
          },
          "metadata": {},
          "execution_count": 32
        }
      ]
    },
    {
      "cell_type": "code",
      "source": [
        "df_ibge_educacao.dtypes"
      ],
      "metadata": {
        "colab": {
          "base_uri": "https://localhost:8080/"
        },
        "id": "HuJJaTKKf67T",
        "outputId": "24de92f2-b3ad-4494-f98e-0c1cbc560a1f"
      },
      "execution_count": 33,
      "outputs": [
        {
          "output_type": "execute_result",
          "data": {
            "text/plain": [
              "ano                                   int64\n",
              "atu_ei                              float64\n",
              "atu_ei_creche                       float64\n",
              "atu_ei_pre_escola                   float64\n",
              "atu_ef                              float64\n",
              "atu_ef_anos_iniciais                float64\n",
              "atu_ef_anos_finais                  float64\n",
              "tdi_ef_anos_iniciais                float64\n",
              "tdi_ef_anos_finais                  float64\n",
              "taxa_aprovacao_ef                   float64\n",
              "taxa_aprovacao_ef_anos_iniciais     float64\n",
              "taxa_aprovacao_ef_anos_finais       float64\n",
              "taxa_reprovacao_ef                  float64\n",
              "taxa_reprovacao_ef_anos_iniciais    float64\n",
              "taxa_reprovacao_ef_anos_finais      float64\n",
              "taxa_abandono_ef                    float64\n",
              "taxa_abandono_ef_anos_iniciais      float64\n",
              "taxa_abandono_ef_anos_finais        float64\n",
              "dsu_ei                              float64\n",
              "dsu_ei_creche                       float64\n",
              "dsu_ei_pre_escola                   float64\n",
              "dsu_ef                              float64\n",
              "dsu_ef_anos_iniciais                float64\n",
              "dsu_ef_anos_finais                  float64\n",
              "dtype: object"
            ]
          },
          "metadata": {},
          "execution_count": 33
        }
      ]
    },
    {
      "cell_type": "markdown",
      "source": [
        "### Ideb\n",
        "- Os dados podem ser encontrados [aqui](https://www.gov.br/inep/pt-br/areas-de-atuacao/pesquisas-estatisticas-e-indicadores/ideb/resultados)."
      ],
      "metadata": {
        "id": "--gLhkoRo20O"
      }
    },
    {
      "cell_type": "code",
      "source": [
        "dic_dados_ideb_anos_iniciais = {2013:3.9,2015:4.0,2017:4.6,2019:5.3,2021:4.9} # 1 ao 5 ano\n",
        "dic_dados_ideb_anos_finais = {2013:3.8,2015:4.0,2017:4.3,2019:4.6,2021:4.9} # 6 ao 9 ano\n",
        "dic_dados_media_ideb = {2013:3.8,2015:4.0,2017:4.4,2019:4.9,2021:4.9} # média aritmética dos idebs\n",
        "\n",
        "# transformando o dicionário em um dataframe pandas\n",
        "df_dados_ideb = pd.DataFrame.from_dict(dic_dados_media_ideb, orient='index',columns=['media_ideb'])\n",
        "df_dados_ideb.index.name='ano'\n",
        "df_dados_ideb.reset_index(inplace=True)\n",
        "df_dados_ideb"
      ],
      "metadata": {
        "colab": {
          "base_uri": "https://localhost:8080/",
          "height": 206
        },
        "id": "48AGBYOZo2Ip",
        "outputId": "f34c9fd8-d286-4364-c976-e0f8859159eb"
      },
      "execution_count": 34,
      "outputs": [
        {
          "output_type": "execute_result",
          "data": {
            "text/plain": [
              "    ano  media_ideb\n",
              "0  2013         3.8\n",
              "1  2015         4.0\n",
              "2  2017         4.4\n",
              "3  2019         4.9\n",
              "4  2021         4.9"
            ],
            "text/html": [
              "\n",
              "  <div id=\"df-4591a87b-9cf5-4257-854f-a12d6839d901\">\n",
              "    <div class=\"colab-df-container\">\n",
              "      <div>\n",
              "<style scoped>\n",
              "    .dataframe tbody tr th:only-of-type {\n",
              "        vertical-align: middle;\n",
              "    }\n",
              "\n",
              "    .dataframe tbody tr th {\n",
              "        vertical-align: top;\n",
              "    }\n",
              "\n",
              "    .dataframe thead th {\n",
              "        text-align: right;\n",
              "    }\n",
              "</style>\n",
              "<table border=\"1\" class=\"dataframe\">\n",
              "  <thead>\n",
              "    <tr style=\"text-align: right;\">\n",
              "      <th></th>\n",
              "      <th>ano</th>\n",
              "      <th>media_ideb</th>\n",
              "    </tr>\n",
              "  </thead>\n",
              "  <tbody>\n",
              "    <tr>\n",
              "      <th>0</th>\n",
              "      <td>2013</td>\n",
              "      <td>3.8</td>\n",
              "    </tr>\n",
              "    <tr>\n",
              "      <th>1</th>\n",
              "      <td>2015</td>\n",
              "      <td>4.0</td>\n",
              "    </tr>\n",
              "    <tr>\n",
              "      <th>2</th>\n",
              "      <td>2017</td>\n",
              "      <td>4.4</td>\n",
              "    </tr>\n",
              "    <tr>\n",
              "      <th>3</th>\n",
              "      <td>2019</td>\n",
              "      <td>4.9</td>\n",
              "    </tr>\n",
              "    <tr>\n",
              "      <th>4</th>\n",
              "      <td>2021</td>\n",
              "      <td>4.9</td>\n",
              "    </tr>\n",
              "  </tbody>\n",
              "</table>\n",
              "</div>\n",
              "      <button class=\"colab-df-convert\" onclick=\"convertToInteractive('df-4591a87b-9cf5-4257-854f-a12d6839d901')\"\n",
              "              title=\"Convert this dataframe to an interactive table.\"\n",
              "              style=\"display:none;\">\n",
              "        \n",
              "  <svg xmlns=\"http://www.w3.org/2000/svg\" height=\"24px\"viewBox=\"0 0 24 24\"\n",
              "       width=\"24px\">\n",
              "    <path d=\"M0 0h24v24H0V0z\" fill=\"none\"/>\n",
              "    <path d=\"M18.56 5.44l.94 2.06.94-2.06 2.06-.94-2.06-.94-.94-2.06-.94 2.06-2.06.94zm-11 1L8.5 8.5l.94-2.06 2.06-.94-2.06-.94L8.5 2.5l-.94 2.06-2.06.94zm10 10l.94 2.06.94-2.06 2.06-.94-2.06-.94-.94-2.06-.94 2.06-2.06.94z\"/><path d=\"M17.41 7.96l-1.37-1.37c-.4-.4-.92-.59-1.43-.59-.52 0-1.04.2-1.43.59L10.3 9.45l-7.72 7.72c-.78.78-.78 2.05 0 2.83L4 21.41c.39.39.9.59 1.41.59.51 0 1.02-.2 1.41-.59l7.78-7.78 2.81-2.81c.8-.78.8-2.07 0-2.86zM5.41 20L4 18.59l7.72-7.72 1.47 1.35L5.41 20z\"/>\n",
              "  </svg>\n",
              "      </button>\n",
              "      \n",
              "  <style>\n",
              "    .colab-df-container {\n",
              "      display:flex;\n",
              "      flex-wrap:wrap;\n",
              "      gap: 12px;\n",
              "    }\n",
              "\n",
              "    .colab-df-convert {\n",
              "      background-color: #E8F0FE;\n",
              "      border: none;\n",
              "      border-radius: 50%;\n",
              "      cursor: pointer;\n",
              "      display: none;\n",
              "      fill: #1967D2;\n",
              "      height: 32px;\n",
              "      padding: 0 0 0 0;\n",
              "      width: 32px;\n",
              "    }\n",
              "\n",
              "    .colab-df-convert:hover {\n",
              "      background-color: #E2EBFA;\n",
              "      box-shadow: 0px 1px 2px rgba(60, 64, 67, 0.3), 0px 1px 3px 1px rgba(60, 64, 67, 0.15);\n",
              "      fill: #174EA6;\n",
              "    }\n",
              "\n",
              "    [theme=dark] .colab-df-convert {\n",
              "      background-color: #3B4455;\n",
              "      fill: #D2E3FC;\n",
              "    }\n",
              "\n",
              "    [theme=dark] .colab-df-convert:hover {\n",
              "      background-color: #434B5C;\n",
              "      box-shadow: 0px 1px 3px 1px rgba(0, 0, 0, 0.15);\n",
              "      filter: drop-shadow(0px 1px 2px rgba(0, 0, 0, 0.3));\n",
              "      fill: #FFFFFF;\n",
              "    }\n",
              "  </style>\n",
              "\n",
              "      <script>\n",
              "        const buttonEl =\n",
              "          document.querySelector('#df-4591a87b-9cf5-4257-854f-a12d6839d901 button.colab-df-convert');\n",
              "        buttonEl.style.display =\n",
              "          google.colab.kernel.accessAllowed ? 'block' : 'none';\n",
              "\n",
              "        async function convertToInteractive(key) {\n",
              "          const element = document.querySelector('#df-4591a87b-9cf5-4257-854f-a12d6839d901');\n",
              "          const dataTable =\n",
              "            await google.colab.kernel.invokeFunction('convertToInteractive',\n",
              "                                                     [key], {});\n",
              "          if (!dataTable) return;\n",
              "\n",
              "          const docLinkHtml = 'Like what you see? Visit the ' +\n",
              "            '<a target=\"_blank\" href=https://colab.research.google.com/notebooks/data_table.ipynb>data table notebook</a>'\n",
              "            + ' to learn more about interactive tables.';\n",
              "          element.innerHTML = '';\n",
              "          dataTable['output_type'] = 'display_data';\n",
              "          await google.colab.output.renderOutput(dataTable, element);\n",
              "          const docLink = document.createElement('div');\n",
              "          docLink.innerHTML = docLinkHtml;\n",
              "          element.appendChild(docLink);\n",
              "        }\n",
              "      </script>\n",
              "    </div>\n",
              "  </div>\n",
              "  "
            ]
          },
          "metadata": {},
          "execution_count": 34
        }
      ]
    },
    {
      "cell_type": "markdown",
      "source": [
        "### Média de Alunos por Turma\n",
        "- Os dados podem ser encontrados [aqui](https://www.gov.br/inep/pt-br/acesso-a-informacao/dados-abertos/indicadores-educacionais/media-de-alunos-por-turma)."
      ],
      "metadata": {
        "id": "q-KBc0Djf0fc"
      }
    },
    {
      "cell_type": "code",
      "source": [
        "dic_alunos_por_turma = {2022:{'creche':23.1,'pre_escola':23.7,'ens_fund_anos_iniciais':23.5,'ens_fund_anos_finais':28.3,'ens_fund_total':25.5},\n",
        "                        2021:{'creche':20.6,'pre_escola':23.4,'ens_fund_anos_iniciais':24.8,'ens_fund_anos_finais':29.2,'ens_fund_total':26.5},\n",
        "                        2020:{'creche':20.1,'pre_escola':21.4,'ens_fund_anos_iniciais':23.9,'ens_fund_anos_finais':26.1,'ens_fund_total':24.6},\n",
        "                        2019:{'creche':20.5,'pre_escola':18.5,'ens_fund_anos_iniciais':23.1,'ens_fund_anos_finais':26.6,'ens_fund_total':24.2},\n",
        "                        2018:{'creche':17.6,'pre_escola':21.1,'ens_fund_anos_iniciais':22.7,'ens_fund_anos_finais':25.7,'ens_fund_total':23.7},\n",
        "                        2017:{'creche':15.7,'pre_escola':19.7,'ens_fund_anos_iniciais':22.8,'ens_fund_anos_finais':25.2,'ens_fund_total':23.5},\n",
        "                        2016:{'creche':16.1,'pre_escola':21.1,'ens_fund_anos_iniciais':22.2,'ens_fund_anos_finais':26.2,'ens_fund_total':23.6},\n",
        "                        2015:{'creche':15.6,'pre_escola':21.4,'ens_fund_anos_iniciais':22.7,'ens_fund_anos_finais':22.6,'ens_fund_total':22.5},\n",
        "                        2014:{'creche':19.9,'pre_escola':21.8,'ens_fund_anos_iniciais':22.7,'ens_fund_anos_finais':23.4,'ens_fund_total':22.6},\n",
        "                        2013:{'creche':18.3,'pre_escola':19.3,'ens_fund_anos_iniciais':22.5,'ens_fund_anos_finais':23.8,'ens_fund_total':22.1}}\n",
        "\n",
        "# criando dataframe\n",
        "df_media_alunos_turma = pd.DataFrame(dic_alunos_por_turma).transpose()\n",
        "df_media_alunos_turma.index.name='ano'\n",
        "df_media_alunos_turma.reset_index(inplace=True)\n",
        "df_media_alunos_turma"
      ],
      "metadata": {
        "id": "mmanSm4jgXll",
        "outputId": "c4626167-9e0b-4649-d68d-42125cfef29f",
        "colab": {
          "base_uri": "https://localhost:8080/",
          "height": 363
        }
      },
      "execution_count": 35,
      "outputs": [
        {
          "output_type": "execute_result",
          "data": {
            "text/plain": [
              "    ano  creche  pre_escola  ens_fund_anos_iniciais  ens_fund_anos_finais  \\\n",
              "0  2022    23.1        23.7                    23.5                  28.3   \n",
              "1  2021    20.6        23.4                    24.8                  29.2   \n",
              "2  2020    20.1        21.4                    23.9                  26.1   \n",
              "3  2019    20.5        18.5                    23.1                  26.6   \n",
              "4  2018    17.6        21.1                    22.7                  25.7   \n",
              "5  2017    15.7        19.7                    22.8                  25.2   \n",
              "6  2016    16.1        21.1                    22.2                  26.2   \n",
              "7  2015    15.6        21.4                    22.7                  22.6   \n",
              "8  2014    19.9        21.8                    22.7                  23.4   \n",
              "9  2013    18.3        19.3                    22.5                  23.8   \n",
              "\n",
              "   ens_fund_total  \n",
              "0            25.5  \n",
              "1            26.5  \n",
              "2            24.6  \n",
              "3            24.2  \n",
              "4            23.7  \n",
              "5            23.5  \n",
              "6            23.6  \n",
              "7            22.5  \n",
              "8            22.6  \n",
              "9            22.1  "
            ],
            "text/html": [
              "\n",
              "  <div id=\"df-a602539c-279d-4bd1-9ccc-fa0989b11b2e\">\n",
              "    <div class=\"colab-df-container\">\n",
              "      <div>\n",
              "<style scoped>\n",
              "    .dataframe tbody tr th:only-of-type {\n",
              "        vertical-align: middle;\n",
              "    }\n",
              "\n",
              "    .dataframe tbody tr th {\n",
              "        vertical-align: top;\n",
              "    }\n",
              "\n",
              "    .dataframe thead th {\n",
              "        text-align: right;\n",
              "    }\n",
              "</style>\n",
              "<table border=\"1\" class=\"dataframe\">\n",
              "  <thead>\n",
              "    <tr style=\"text-align: right;\">\n",
              "      <th></th>\n",
              "      <th>ano</th>\n",
              "      <th>creche</th>\n",
              "      <th>pre_escola</th>\n",
              "      <th>ens_fund_anos_iniciais</th>\n",
              "      <th>ens_fund_anos_finais</th>\n",
              "      <th>ens_fund_total</th>\n",
              "    </tr>\n",
              "  </thead>\n",
              "  <tbody>\n",
              "    <tr>\n",
              "      <th>0</th>\n",
              "      <td>2022</td>\n",
              "      <td>23.1</td>\n",
              "      <td>23.7</td>\n",
              "      <td>23.5</td>\n",
              "      <td>28.3</td>\n",
              "      <td>25.5</td>\n",
              "    </tr>\n",
              "    <tr>\n",
              "      <th>1</th>\n",
              "      <td>2021</td>\n",
              "      <td>20.6</td>\n",
              "      <td>23.4</td>\n",
              "      <td>24.8</td>\n",
              "      <td>29.2</td>\n",
              "      <td>26.5</td>\n",
              "    </tr>\n",
              "    <tr>\n",
              "      <th>2</th>\n",
              "      <td>2020</td>\n",
              "      <td>20.1</td>\n",
              "      <td>21.4</td>\n",
              "      <td>23.9</td>\n",
              "      <td>26.1</td>\n",
              "      <td>24.6</td>\n",
              "    </tr>\n",
              "    <tr>\n",
              "      <th>3</th>\n",
              "      <td>2019</td>\n",
              "      <td>20.5</td>\n",
              "      <td>18.5</td>\n",
              "      <td>23.1</td>\n",
              "      <td>26.6</td>\n",
              "      <td>24.2</td>\n",
              "    </tr>\n",
              "    <tr>\n",
              "      <th>4</th>\n",
              "      <td>2018</td>\n",
              "      <td>17.6</td>\n",
              "      <td>21.1</td>\n",
              "      <td>22.7</td>\n",
              "      <td>25.7</td>\n",
              "      <td>23.7</td>\n",
              "    </tr>\n",
              "    <tr>\n",
              "      <th>5</th>\n",
              "      <td>2017</td>\n",
              "      <td>15.7</td>\n",
              "      <td>19.7</td>\n",
              "      <td>22.8</td>\n",
              "      <td>25.2</td>\n",
              "      <td>23.5</td>\n",
              "    </tr>\n",
              "    <tr>\n",
              "      <th>6</th>\n",
              "      <td>2016</td>\n",
              "      <td>16.1</td>\n",
              "      <td>21.1</td>\n",
              "      <td>22.2</td>\n",
              "      <td>26.2</td>\n",
              "      <td>23.6</td>\n",
              "    </tr>\n",
              "    <tr>\n",
              "      <th>7</th>\n",
              "      <td>2015</td>\n",
              "      <td>15.6</td>\n",
              "      <td>21.4</td>\n",
              "      <td>22.7</td>\n",
              "      <td>22.6</td>\n",
              "      <td>22.5</td>\n",
              "    </tr>\n",
              "    <tr>\n",
              "      <th>8</th>\n",
              "      <td>2014</td>\n",
              "      <td>19.9</td>\n",
              "      <td>21.8</td>\n",
              "      <td>22.7</td>\n",
              "      <td>23.4</td>\n",
              "      <td>22.6</td>\n",
              "    </tr>\n",
              "    <tr>\n",
              "      <th>9</th>\n",
              "      <td>2013</td>\n",
              "      <td>18.3</td>\n",
              "      <td>19.3</td>\n",
              "      <td>22.5</td>\n",
              "      <td>23.8</td>\n",
              "      <td>22.1</td>\n",
              "    </tr>\n",
              "  </tbody>\n",
              "</table>\n",
              "</div>\n",
              "      <button class=\"colab-df-convert\" onclick=\"convertToInteractive('df-a602539c-279d-4bd1-9ccc-fa0989b11b2e')\"\n",
              "              title=\"Convert this dataframe to an interactive table.\"\n",
              "              style=\"display:none;\">\n",
              "        \n",
              "  <svg xmlns=\"http://www.w3.org/2000/svg\" height=\"24px\"viewBox=\"0 0 24 24\"\n",
              "       width=\"24px\">\n",
              "    <path d=\"M0 0h24v24H0V0z\" fill=\"none\"/>\n",
              "    <path d=\"M18.56 5.44l.94 2.06.94-2.06 2.06-.94-2.06-.94-.94-2.06-.94 2.06-2.06.94zm-11 1L8.5 8.5l.94-2.06 2.06-.94-2.06-.94L8.5 2.5l-.94 2.06-2.06.94zm10 10l.94 2.06.94-2.06 2.06-.94-2.06-.94-.94-2.06-.94 2.06-2.06.94z\"/><path d=\"M17.41 7.96l-1.37-1.37c-.4-.4-.92-.59-1.43-.59-.52 0-1.04.2-1.43.59L10.3 9.45l-7.72 7.72c-.78.78-.78 2.05 0 2.83L4 21.41c.39.39.9.59 1.41.59.51 0 1.02-.2 1.41-.59l7.78-7.78 2.81-2.81c.8-.78.8-2.07 0-2.86zM5.41 20L4 18.59l7.72-7.72 1.47 1.35L5.41 20z\"/>\n",
              "  </svg>\n",
              "      </button>\n",
              "      \n",
              "  <style>\n",
              "    .colab-df-container {\n",
              "      display:flex;\n",
              "      flex-wrap:wrap;\n",
              "      gap: 12px;\n",
              "    }\n",
              "\n",
              "    .colab-df-convert {\n",
              "      background-color: #E8F0FE;\n",
              "      border: none;\n",
              "      border-radius: 50%;\n",
              "      cursor: pointer;\n",
              "      display: none;\n",
              "      fill: #1967D2;\n",
              "      height: 32px;\n",
              "      padding: 0 0 0 0;\n",
              "      width: 32px;\n",
              "    }\n",
              "\n",
              "    .colab-df-convert:hover {\n",
              "      background-color: #E2EBFA;\n",
              "      box-shadow: 0px 1px 2px rgba(60, 64, 67, 0.3), 0px 1px 3px 1px rgba(60, 64, 67, 0.15);\n",
              "      fill: #174EA6;\n",
              "    }\n",
              "\n",
              "    [theme=dark] .colab-df-convert {\n",
              "      background-color: #3B4455;\n",
              "      fill: #D2E3FC;\n",
              "    }\n",
              "\n",
              "    [theme=dark] .colab-df-convert:hover {\n",
              "      background-color: #434B5C;\n",
              "      box-shadow: 0px 1px 3px 1px rgba(0, 0, 0, 0.15);\n",
              "      filter: drop-shadow(0px 1px 2px rgba(0, 0, 0, 0.3));\n",
              "      fill: #FFFFFF;\n",
              "    }\n",
              "  </style>\n",
              "\n",
              "      <script>\n",
              "        const buttonEl =\n",
              "          document.querySelector('#df-a602539c-279d-4bd1-9ccc-fa0989b11b2e button.colab-df-convert');\n",
              "        buttonEl.style.display =\n",
              "          google.colab.kernel.accessAllowed ? 'block' : 'none';\n",
              "\n",
              "        async function convertToInteractive(key) {\n",
              "          const element = document.querySelector('#df-a602539c-279d-4bd1-9ccc-fa0989b11b2e');\n",
              "          const dataTable =\n",
              "            await google.colab.kernel.invokeFunction('convertToInteractive',\n",
              "                                                     [key], {});\n",
              "          if (!dataTable) return;\n",
              "\n",
              "          const docLinkHtml = 'Like what you see? Visit the ' +\n",
              "            '<a target=\"_blank\" href=https://colab.research.google.com/notebooks/data_table.ipynb>data table notebook</a>'\n",
              "            + ' to learn more about interactive tables.';\n",
              "          element.innerHTML = '';\n",
              "          dataTable['output_type'] = 'display_data';\n",
              "          await google.colab.output.renderOutput(dataTable, element);\n",
              "          const docLink = document.createElement('div');\n",
              "          docLink.innerHTML = docLinkHtml;\n",
              "          element.appendChild(docLink);\n",
              "        }\n",
              "      </script>\n",
              "    </div>\n",
              "  </div>\n",
              "  "
            ]
          },
          "metadata": {},
          "execution_count": 35
        }
      ]
    },
    {
      "cell_type": "markdown",
      "source": [
        "### Porcentagem de Docentes com Curso Superior\n",
        "- Os dados podem ser encontrados [aqui](https://www.gov.br/inep/pt-br/acesso-a-informacao/dados-abertos/indicadores-educacionais/percentual-de-docentes-com-curso-superior)."
      ],
      "metadata": {
        "id": "Udj8l-a_rbQi"
      }
    },
    {
      "cell_type": "code",
      "source": [
        "dic_porc_docentes_curso_superior = {2022:{'creche_%':88.6,'pre_escola_%':78,'ens_fund_anos_iniciais_%':82.2,'ens_fund_anos_finais_%':98,'ens_fund_total_%':91.4},\n",
        "                                    2021:{'creche_%':97.1,'pre_escola_%':85.4,'ens_fund_anos_iniciais_%':88.5,'ens_fund_anos_finais_%':97.9,'ens_fund_total_%':94},\n",
        "                                    2020:{'creche_%':94.9,'pre_escola_%':94.3,'ens_fund_anos_iniciais_%':85,'ens_fund_anos_finais_%':98.6,'ens_fund_total_%':92.7},\n",
        "                                    2018:{'creche_%':100,'pre_escola_%':88.9,'ens_fund_anos_iniciais_%':90.2,'ens_fund_anos_finais_%':98.3,'ens_fund_total_%':94.5},\n",
        "                                    2017:{'creche_%':90.0,'pre_escola_%':91.1,'ens_fund_anos_iniciais_%':90.5,'ens_fund_anos_finais_%':98.5,'ens_fund_total_%':94.8},\n",
        "                                    2016:{'creche_%':82.6,'pre_escola_%':92.7,'ens_fund_anos_iniciais_%':95.8,'ens_fund_anos_finais_%':97.8,'ens_fund_total_%':95.8},\n",
        "                                    2015:{'creche_%':77.8,'pre_escola_%':85,'ens_fund_anos_iniciais_%':88.8,'ens_fund_anos_finais_%':96.5,'ens_fund_total_%':93.1},\n",
        "                                    2014:{'creche_%':78.6,'pre_escola_%':72.7,'ens_fund_anos_iniciais_%':83.8,'ens_fund_anos_finais_%':89.7,'ens_fund_total_%':87.1},\n",
        "                                    2013:{'creche_%':57.1,'pre_escola_%':69.6,'ens_fund_anos_iniciais_%':80.9,'ens_fund_anos_finais_%':87.4,'ens_fund_total_%':84.6}}\n",
        "\n",
        "# criando dataframe\n",
        "df_porc_docentes_curso_superior = pd.DataFrame(dic_porc_docentes_curso_superior).transpose()\n",
        "df_porc_docentes_curso_superior.index.name='ano'\n",
        "df_porc_docentes_curso_superior.reset_index(inplace=True)\n",
        "df_porc_docentes_curso_superior"
      ],
      "metadata": {
        "id": "OQvJS3ZdrjCL",
        "outputId": "4567fca5-7ff5-4803-fc1d-17b107646ee6",
        "colab": {
          "base_uri": "https://localhost:8080/",
          "height": 331
        }
      },
      "execution_count": 36,
      "outputs": [
        {
          "output_type": "execute_result",
          "data": {
            "text/plain": [
              "    ano  creche_%  pre_escola_%  ens_fund_anos_iniciais_%  \\\n",
              "0  2022      88.6          78.0                      82.2   \n",
              "1  2021      97.1          85.4                      88.5   \n",
              "2  2020      94.9          94.3                      85.0   \n",
              "3  2018     100.0          88.9                      90.2   \n",
              "4  2017      90.0          91.1                      90.5   \n",
              "5  2016      82.6          92.7                      95.8   \n",
              "6  2015      77.8          85.0                      88.8   \n",
              "7  2014      78.6          72.7                      83.8   \n",
              "8  2013      57.1          69.6                      80.9   \n",
              "\n",
              "   ens_fund_anos_finais_%  ens_fund_total_%  \n",
              "0                    98.0              91.4  \n",
              "1                    97.9              94.0  \n",
              "2                    98.6              92.7  \n",
              "3                    98.3              94.5  \n",
              "4                    98.5              94.8  \n",
              "5                    97.8              95.8  \n",
              "6                    96.5              93.1  \n",
              "7                    89.7              87.1  \n",
              "8                    87.4              84.6  "
            ],
            "text/html": [
              "\n",
              "  <div id=\"df-6b11e084-3c4e-42e9-957b-87e45360862e\">\n",
              "    <div class=\"colab-df-container\">\n",
              "      <div>\n",
              "<style scoped>\n",
              "    .dataframe tbody tr th:only-of-type {\n",
              "        vertical-align: middle;\n",
              "    }\n",
              "\n",
              "    .dataframe tbody tr th {\n",
              "        vertical-align: top;\n",
              "    }\n",
              "\n",
              "    .dataframe thead th {\n",
              "        text-align: right;\n",
              "    }\n",
              "</style>\n",
              "<table border=\"1\" class=\"dataframe\">\n",
              "  <thead>\n",
              "    <tr style=\"text-align: right;\">\n",
              "      <th></th>\n",
              "      <th>ano</th>\n",
              "      <th>creche_%</th>\n",
              "      <th>pre_escola_%</th>\n",
              "      <th>ens_fund_anos_iniciais_%</th>\n",
              "      <th>ens_fund_anos_finais_%</th>\n",
              "      <th>ens_fund_total_%</th>\n",
              "    </tr>\n",
              "  </thead>\n",
              "  <tbody>\n",
              "    <tr>\n",
              "      <th>0</th>\n",
              "      <td>2022</td>\n",
              "      <td>88.6</td>\n",
              "      <td>78.0</td>\n",
              "      <td>82.2</td>\n",
              "      <td>98.0</td>\n",
              "      <td>91.4</td>\n",
              "    </tr>\n",
              "    <tr>\n",
              "      <th>1</th>\n",
              "      <td>2021</td>\n",
              "      <td>97.1</td>\n",
              "      <td>85.4</td>\n",
              "      <td>88.5</td>\n",
              "      <td>97.9</td>\n",
              "      <td>94.0</td>\n",
              "    </tr>\n",
              "    <tr>\n",
              "      <th>2</th>\n",
              "      <td>2020</td>\n",
              "      <td>94.9</td>\n",
              "      <td>94.3</td>\n",
              "      <td>85.0</td>\n",
              "      <td>98.6</td>\n",
              "      <td>92.7</td>\n",
              "    </tr>\n",
              "    <tr>\n",
              "      <th>3</th>\n",
              "      <td>2018</td>\n",
              "      <td>100.0</td>\n",
              "      <td>88.9</td>\n",
              "      <td>90.2</td>\n",
              "      <td>98.3</td>\n",
              "      <td>94.5</td>\n",
              "    </tr>\n",
              "    <tr>\n",
              "      <th>4</th>\n",
              "      <td>2017</td>\n",
              "      <td>90.0</td>\n",
              "      <td>91.1</td>\n",
              "      <td>90.5</td>\n",
              "      <td>98.5</td>\n",
              "      <td>94.8</td>\n",
              "    </tr>\n",
              "    <tr>\n",
              "      <th>5</th>\n",
              "      <td>2016</td>\n",
              "      <td>82.6</td>\n",
              "      <td>92.7</td>\n",
              "      <td>95.8</td>\n",
              "      <td>97.8</td>\n",
              "      <td>95.8</td>\n",
              "    </tr>\n",
              "    <tr>\n",
              "      <th>6</th>\n",
              "      <td>2015</td>\n",
              "      <td>77.8</td>\n",
              "      <td>85.0</td>\n",
              "      <td>88.8</td>\n",
              "      <td>96.5</td>\n",
              "      <td>93.1</td>\n",
              "    </tr>\n",
              "    <tr>\n",
              "      <th>7</th>\n",
              "      <td>2014</td>\n",
              "      <td>78.6</td>\n",
              "      <td>72.7</td>\n",
              "      <td>83.8</td>\n",
              "      <td>89.7</td>\n",
              "      <td>87.1</td>\n",
              "    </tr>\n",
              "    <tr>\n",
              "      <th>8</th>\n",
              "      <td>2013</td>\n",
              "      <td>57.1</td>\n",
              "      <td>69.6</td>\n",
              "      <td>80.9</td>\n",
              "      <td>87.4</td>\n",
              "      <td>84.6</td>\n",
              "    </tr>\n",
              "  </tbody>\n",
              "</table>\n",
              "</div>\n",
              "      <button class=\"colab-df-convert\" onclick=\"convertToInteractive('df-6b11e084-3c4e-42e9-957b-87e45360862e')\"\n",
              "              title=\"Convert this dataframe to an interactive table.\"\n",
              "              style=\"display:none;\">\n",
              "        \n",
              "  <svg xmlns=\"http://www.w3.org/2000/svg\" height=\"24px\"viewBox=\"0 0 24 24\"\n",
              "       width=\"24px\">\n",
              "    <path d=\"M0 0h24v24H0V0z\" fill=\"none\"/>\n",
              "    <path d=\"M18.56 5.44l.94 2.06.94-2.06 2.06-.94-2.06-.94-.94-2.06-.94 2.06-2.06.94zm-11 1L8.5 8.5l.94-2.06 2.06-.94-2.06-.94L8.5 2.5l-.94 2.06-2.06.94zm10 10l.94 2.06.94-2.06 2.06-.94-2.06-.94-.94-2.06-.94 2.06-2.06.94z\"/><path d=\"M17.41 7.96l-1.37-1.37c-.4-.4-.92-.59-1.43-.59-.52 0-1.04.2-1.43.59L10.3 9.45l-7.72 7.72c-.78.78-.78 2.05 0 2.83L4 21.41c.39.39.9.59 1.41.59.51 0 1.02-.2 1.41-.59l7.78-7.78 2.81-2.81c.8-.78.8-2.07 0-2.86zM5.41 20L4 18.59l7.72-7.72 1.47 1.35L5.41 20z\"/>\n",
              "  </svg>\n",
              "      </button>\n",
              "      \n",
              "  <style>\n",
              "    .colab-df-container {\n",
              "      display:flex;\n",
              "      flex-wrap:wrap;\n",
              "      gap: 12px;\n",
              "    }\n",
              "\n",
              "    .colab-df-convert {\n",
              "      background-color: #E8F0FE;\n",
              "      border: none;\n",
              "      border-radius: 50%;\n",
              "      cursor: pointer;\n",
              "      display: none;\n",
              "      fill: #1967D2;\n",
              "      height: 32px;\n",
              "      padding: 0 0 0 0;\n",
              "      width: 32px;\n",
              "    }\n",
              "\n",
              "    .colab-df-convert:hover {\n",
              "      background-color: #E2EBFA;\n",
              "      box-shadow: 0px 1px 2px rgba(60, 64, 67, 0.3), 0px 1px 3px 1px rgba(60, 64, 67, 0.15);\n",
              "      fill: #174EA6;\n",
              "    }\n",
              "\n",
              "    [theme=dark] .colab-df-convert {\n",
              "      background-color: #3B4455;\n",
              "      fill: #D2E3FC;\n",
              "    }\n",
              "\n",
              "    [theme=dark] .colab-df-convert:hover {\n",
              "      background-color: #434B5C;\n",
              "      box-shadow: 0px 1px 3px 1px rgba(0, 0, 0, 0.15);\n",
              "      filter: drop-shadow(0px 1px 2px rgba(0, 0, 0, 0.3));\n",
              "      fill: #FFFFFF;\n",
              "    }\n",
              "  </style>\n",
              "\n",
              "      <script>\n",
              "        const buttonEl =\n",
              "          document.querySelector('#df-6b11e084-3c4e-42e9-957b-87e45360862e button.colab-df-convert');\n",
              "        buttonEl.style.display =\n",
              "          google.colab.kernel.accessAllowed ? 'block' : 'none';\n",
              "\n",
              "        async function convertToInteractive(key) {\n",
              "          const element = document.querySelector('#df-6b11e084-3c4e-42e9-957b-87e45360862e');\n",
              "          const dataTable =\n",
              "            await google.colab.kernel.invokeFunction('convertToInteractive',\n",
              "                                                     [key], {});\n",
              "          if (!dataTable) return;\n",
              "\n",
              "          const docLinkHtml = 'Like what you see? Visit the ' +\n",
              "            '<a target=\"_blank\" href=https://colab.research.google.com/notebooks/data_table.ipynb>data table notebook</a>'\n",
              "            + ' to learn more about interactive tables.';\n",
              "          element.innerHTML = '';\n",
              "          dataTable['output_type'] = 'display_data';\n",
              "          await google.colab.output.renderOutput(dataTable, element);\n",
              "          const docLink = document.createElement('div');\n",
              "          docLink.innerHTML = docLinkHtml;\n",
              "          element.appendChild(docLink);\n",
              "        }\n",
              "      </script>\n",
              "    </div>\n",
              "  </div>\n",
              "  "
            ]
          },
          "metadata": {},
          "execution_count": 36
        }
      ]
    },
    {
      "cell_type": "markdown",
      "source": [
        "### Taxa de Distorção Idade-Série\n",
        "- Os dados podem ser encontrados [aqui](https://www.gov.br/inep/pt-br/acesso-a-informacao/dados-abertos/indicadores-educacionais/taxas-de-distorcao-idade-serie)."
      ],
      "metadata": {
        "id": "Fx4B53m8zxQI"
      }
    },
    {
      "cell_type": "code",
      "source": [
        "dic_taxa_distocao_idade_serie = {2022:{'ens_fund_anos_iniciais_%':8.8,'ens_fund_anos_finais_%':33.9,'ens_fund_total_%':20.4},\n",
        "                                    2021:{'ens_fund_anos_iniciais_%':14.4,'ens_fund_anos_finais_%':37.9,'ens_fund_total_%':25.0},\n",
        "                                    2020:{'ens_fund_anos_iniciais_%':20.7,'ens_fund_anos_finais_%':40.9,'ens_fund_total_%':29.1},\n",
        "                                    2019:{'ens_fund_anos_iniciais_%':23.7,'ens_fund_anos_finais_%':42.2,'ens_fund_total_%':31.4},\n",
        "                                    2018:{'ens_fund_anos_iniciais_%':24.9,'ens_fund_anos_finais_%':44.0,'ens_fund_total_%':32.1},\n",
        "                                    2017:{'ens_fund_anos_iniciais_%':26.2,'ens_fund_anos_finais_%':46.8,'ens_fund_total_%':34.0},\n",
        "                                    2016:{'ens_fund_anos_iniciais_%':26.4,'ens_fund_anos_finais_%':45.7,'ens_fund_total_%':33.9},\n",
        "                                    2015:{'ens_fund_anos_iniciais_%':27.6,'ens_fund_anos_finais_%':49.8,'ens_fund_total_%':36.0},\n",
        "                                    2014:{'ens_fund_anos_iniciais_%':29.4,'ens_fund_anos_finais_%':51.5,'ens_fund_total_%':38.3},\n",
        "                                    2013:{'ens_fund_anos_iniciais_%':30.3,'ens_fund_anos_finais_%':51.5,'ens_fund_total_%':39.0}}\n",
        "\n",
        "# criando dataframe\n",
        "df_taxa_distocao_idade_serie = pd.DataFrame(dic_taxa_distocao_idade_serie).transpose()\n",
        "df_taxa_distocao_idade_serie.index.name='ano'\n",
        "df_taxa_distocao_idade_serie.reset_index(inplace=True)\n",
        "df_taxa_distocao_idade_serie"
      ],
      "metadata": {
        "id": "c72LEH4Bz4U_",
        "outputId": "d85e0634-bfaa-48e7-efe7-d4c61baa1785",
        "colab": {
          "base_uri": "https://localhost:8080/",
          "height": 363
        }
      },
      "execution_count": 37,
      "outputs": [
        {
          "output_type": "execute_result",
          "data": {
            "text/plain": [
              "    ano  ens_fund_anos_iniciais_%  ens_fund_anos_finais_%  ens_fund_total_%\n",
              "0  2022                       8.8                    33.9              20.4\n",
              "1  2021                      14.4                    37.9              25.0\n",
              "2  2020                      20.7                    40.9              29.1\n",
              "3  2019                      23.7                    42.2              31.4\n",
              "4  2018                      24.9                    44.0              32.1\n",
              "5  2017                      26.2                    46.8              34.0\n",
              "6  2016                      26.4                    45.7              33.9\n",
              "7  2015                      27.6                    49.8              36.0\n",
              "8  2014                      29.4                    51.5              38.3\n",
              "9  2013                      30.3                    51.5              39.0"
            ],
            "text/html": [
              "\n",
              "  <div id=\"df-a4b61f21-a7cf-41ea-9274-1856989c482d\">\n",
              "    <div class=\"colab-df-container\">\n",
              "      <div>\n",
              "<style scoped>\n",
              "    .dataframe tbody tr th:only-of-type {\n",
              "        vertical-align: middle;\n",
              "    }\n",
              "\n",
              "    .dataframe tbody tr th {\n",
              "        vertical-align: top;\n",
              "    }\n",
              "\n",
              "    .dataframe thead th {\n",
              "        text-align: right;\n",
              "    }\n",
              "</style>\n",
              "<table border=\"1\" class=\"dataframe\">\n",
              "  <thead>\n",
              "    <tr style=\"text-align: right;\">\n",
              "      <th></th>\n",
              "      <th>ano</th>\n",
              "      <th>ens_fund_anos_iniciais_%</th>\n",
              "      <th>ens_fund_anos_finais_%</th>\n",
              "      <th>ens_fund_total_%</th>\n",
              "    </tr>\n",
              "  </thead>\n",
              "  <tbody>\n",
              "    <tr>\n",
              "      <th>0</th>\n",
              "      <td>2022</td>\n",
              "      <td>8.8</td>\n",
              "      <td>33.9</td>\n",
              "      <td>20.4</td>\n",
              "    </tr>\n",
              "    <tr>\n",
              "      <th>1</th>\n",
              "      <td>2021</td>\n",
              "      <td>14.4</td>\n",
              "      <td>37.9</td>\n",
              "      <td>25.0</td>\n",
              "    </tr>\n",
              "    <tr>\n",
              "      <th>2</th>\n",
              "      <td>2020</td>\n",
              "      <td>20.7</td>\n",
              "      <td>40.9</td>\n",
              "      <td>29.1</td>\n",
              "    </tr>\n",
              "    <tr>\n",
              "      <th>3</th>\n",
              "      <td>2019</td>\n",
              "      <td>23.7</td>\n",
              "      <td>42.2</td>\n",
              "      <td>31.4</td>\n",
              "    </tr>\n",
              "    <tr>\n",
              "      <th>4</th>\n",
              "      <td>2018</td>\n",
              "      <td>24.9</td>\n",
              "      <td>44.0</td>\n",
              "      <td>32.1</td>\n",
              "    </tr>\n",
              "    <tr>\n",
              "      <th>5</th>\n",
              "      <td>2017</td>\n",
              "      <td>26.2</td>\n",
              "      <td>46.8</td>\n",
              "      <td>34.0</td>\n",
              "    </tr>\n",
              "    <tr>\n",
              "      <th>6</th>\n",
              "      <td>2016</td>\n",
              "      <td>26.4</td>\n",
              "      <td>45.7</td>\n",
              "      <td>33.9</td>\n",
              "    </tr>\n",
              "    <tr>\n",
              "      <th>7</th>\n",
              "      <td>2015</td>\n",
              "      <td>27.6</td>\n",
              "      <td>49.8</td>\n",
              "      <td>36.0</td>\n",
              "    </tr>\n",
              "    <tr>\n",
              "      <th>8</th>\n",
              "      <td>2014</td>\n",
              "      <td>29.4</td>\n",
              "      <td>51.5</td>\n",
              "      <td>38.3</td>\n",
              "    </tr>\n",
              "    <tr>\n",
              "      <th>9</th>\n",
              "      <td>2013</td>\n",
              "      <td>30.3</td>\n",
              "      <td>51.5</td>\n",
              "      <td>39.0</td>\n",
              "    </tr>\n",
              "  </tbody>\n",
              "</table>\n",
              "</div>\n",
              "      <button class=\"colab-df-convert\" onclick=\"convertToInteractive('df-a4b61f21-a7cf-41ea-9274-1856989c482d')\"\n",
              "              title=\"Convert this dataframe to an interactive table.\"\n",
              "              style=\"display:none;\">\n",
              "        \n",
              "  <svg xmlns=\"http://www.w3.org/2000/svg\" height=\"24px\"viewBox=\"0 0 24 24\"\n",
              "       width=\"24px\">\n",
              "    <path d=\"M0 0h24v24H0V0z\" fill=\"none\"/>\n",
              "    <path d=\"M18.56 5.44l.94 2.06.94-2.06 2.06-.94-2.06-.94-.94-2.06-.94 2.06-2.06.94zm-11 1L8.5 8.5l.94-2.06 2.06-.94-2.06-.94L8.5 2.5l-.94 2.06-2.06.94zm10 10l.94 2.06.94-2.06 2.06-.94-2.06-.94-.94-2.06-.94 2.06-2.06.94z\"/><path d=\"M17.41 7.96l-1.37-1.37c-.4-.4-.92-.59-1.43-.59-.52 0-1.04.2-1.43.59L10.3 9.45l-7.72 7.72c-.78.78-.78 2.05 0 2.83L4 21.41c.39.39.9.59 1.41.59.51 0 1.02-.2 1.41-.59l7.78-7.78 2.81-2.81c.8-.78.8-2.07 0-2.86zM5.41 20L4 18.59l7.72-7.72 1.47 1.35L5.41 20z\"/>\n",
              "  </svg>\n",
              "      </button>\n",
              "      \n",
              "  <style>\n",
              "    .colab-df-container {\n",
              "      display:flex;\n",
              "      flex-wrap:wrap;\n",
              "      gap: 12px;\n",
              "    }\n",
              "\n",
              "    .colab-df-convert {\n",
              "      background-color: #E8F0FE;\n",
              "      border: none;\n",
              "      border-radius: 50%;\n",
              "      cursor: pointer;\n",
              "      display: none;\n",
              "      fill: #1967D2;\n",
              "      height: 32px;\n",
              "      padding: 0 0 0 0;\n",
              "      width: 32px;\n",
              "    }\n",
              "\n",
              "    .colab-df-convert:hover {\n",
              "      background-color: #E2EBFA;\n",
              "      box-shadow: 0px 1px 2px rgba(60, 64, 67, 0.3), 0px 1px 3px 1px rgba(60, 64, 67, 0.15);\n",
              "      fill: #174EA6;\n",
              "    }\n",
              "\n",
              "    [theme=dark] .colab-df-convert {\n",
              "      background-color: #3B4455;\n",
              "      fill: #D2E3FC;\n",
              "    }\n",
              "\n",
              "    [theme=dark] .colab-df-convert:hover {\n",
              "      background-color: #434B5C;\n",
              "      box-shadow: 0px 1px 3px 1px rgba(0, 0, 0, 0.15);\n",
              "      filter: drop-shadow(0px 1px 2px rgba(0, 0, 0, 0.3));\n",
              "      fill: #FFFFFF;\n",
              "    }\n",
              "  </style>\n",
              "\n",
              "      <script>\n",
              "        const buttonEl =\n",
              "          document.querySelector('#df-a4b61f21-a7cf-41ea-9274-1856989c482d button.colab-df-convert');\n",
              "        buttonEl.style.display =\n",
              "          google.colab.kernel.accessAllowed ? 'block' : 'none';\n",
              "\n",
              "        async function convertToInteractive(key) {\n",
              "          const element = document.querySelector('#df-a4b61f21-a7cf-41ea-9274-1856989c482d');\n",
              "          const dataTable =\n",
              "            await google.colab.kernel.invokeFunction('convertToInteractive',\n",
              "                                                     [key], {});\n",
              "          if (!dataTable) return;\n",
              "\n",
              "          const docLinkHtml = 'Like what you see? Visit the ' +\n",
              "            '<a target=\"_blank\" href=https://colab.research.google.com/notebooks/data_table.ipynb>data table notebook</a>'\n",
              "            + ' to learn more about interactive tables.';\n",
              "          element.innerHTML = '';\n",
              "          dataTable['output_type'] = 'display_data';\n",
              "          await google.colab.output.renderOutput(dataTable, element);\n",
              "          const docLink = document.createElement('div');\n",
              "          docLink.innerHTML = docLinkHtml;\n",
              "          element.appendChild(docLink);\n",
              "        }\n",
              "      </script>\n",
              "    </div>\n",
              "  </div>\n",
              "  "
            ]
          },
          "metadata": {},
          "execution_count": 37
        }
      ]
    },
    {
      "cell_type": "markdown",
      "source": [
        "### Remuneração Média dos Docentes\n",
        "- Os dados podem ser encontrados [aqui](https://www.gov.br/inep/pt-br/acesso-a-informacao/dados-abertos/indicadores-educacionais/remuneracao-media-dos-docentes)."
      ],
      "metadata": {
        "id": "md79vS5XiBzS"
      }
    },
    {
      "cell_type": "code",
      "source": [
        "dic_remuneracao_media_docentes = {2018:{'ens_superior': 258, 'media_ens_superior_R$':4390.05, 'sem_ens_superior':15, 'media_sem_ens_superior_R$':3805.75,'total':273,'carga_horaria_semanal_H':40,'remuneracao_media_total_R$':4359.60},\n",
        "                                  2017:{'ens_superior': 258, 'media_ens_superior_R$':4321.36, 'sem_ens_superior':20, 'media_sem_ens_superior_R$':3456.23,'total':278,'carga_horaria_semanal_H':40,'remuneracao_media_total_R$':4273.53},\n",
        "                                  2016:{'ens_superior': 252, 'media_ens_superior_R$':3858.64, 'sem_ens_superior':17, 'media_sem_ens_superior_R$':3271.40,'total':269,'carga_horaria_semanal_H':40,'remuneracao_media_total_R$':3823.97},\n",
        "                                  2015:{'ens_superior': 255, 'media_ens_superior_R$':3382.48, 'sem_ens_superior':27, 'media_sem_ens_superior_R$':2171.45,'total':282,'carga_horaria_semanal_H':40,'remuneracao_media_total_R$':3287.65},\n",
        "                                  2014:{'ens_superior': 252, 'media_ens_superior_R$':2832.46, 'sem_ens_superior':49, 'media_sem_ens_superior_R$':1292.05,'total':301,'carga_horaria_semanal_H':40,'remuneracao_media_total_R$':2832.46}}\n",
        "\n",
        "# criando dataframe\n",
        "df_remuneracao_media_docentes = pd.DataFrame(dic_remuneracao_media_docentes).transpose()\n",
        "df_remuneracao_media_docentes.index.name='ano'\n",
        "df_remuneracao_media_docentes.reset_index(inplace=True)\n",
        "df_remuneracao_media_docentes"
      ],
      "metadata": {
        "id": "QfQzMDxdiHMg",
        "outputId": "084518ec-927c-41ac-e4e0-7862a375ff64",
        "colab": {
          "base_uri": "https://localhost:8080/",
          "height": 206
        }
      },
      "execution_count": 38,
      "outputs": [
        {
          "output_type": "execute_result",
          "data": {
            "text/plain": [
              "    ano  ens_superior  media_ens_superior_R$  sem_ens_superior  \\\n",
              "0  2018         258.0                4390.05              15.0   \n",
              "1  2017         258.0                4321.36              20.0   \n",
              "2  2016         252.0                3858.64              17.0   \n",
              "3  2015         255.0                3382.48              27.0   \n",
              "4  2014         252.0                2832.46              49.0   \n",
              "\n",
              "   media_sem_ens_superior_R$  total  carga_horaria_semanal_H  \\\n",
              "0                    3805.75  273.0                     40.0   \n",
              "1                    3456.23  278.0                     40.0   \n",
              "2                    3271.40  269.0                     40.0   \n",
              "3                    2171.45  282.0                     40.0   \n",
              "4                    1292.05  301.0                     40.0   \n",
              "\n",
              "   remuneracao_media_total_R$  \n",
              "0                     4359.60  \n",
              "1                     4273.53  \n",
              "2                     3823.97  \n",
              "3                     3287.65  \n",
              "4                     2832.46  "
            ],
            "text/html": [
              "\n",
              "  <div id=\"df-1ac67c6a-3d87-441a-9160-09d71deb2d74\">\n",
              "    <div class=\"colab-df-container\">\n",
              "      <div>\n",
              "<style scoped>\n",
              "    .dataframe tbody tr th:only-of-type {\n",
              "        vertical-align: middle;\n",
              "    }\n",
              "\n",
              "    .dataframe tbody tr th {\n",
              "        vertical-align: top;\n",
              "    }\n",
              "\n",
              "    .dataframe thead th {\n",
              "        text-align: right;\n",
              "    }\n",
              "</style>\n",
              "<table border=\"1\" class=\"dataframe\">\n",
              "  <thead>\n",
              "    <tr style=\"text-align: right;\">\n",
              "      <th></th>\n",
              "      <th>ano</th>\n",
              "      <th>ens_superior</th>\n",
              "      <th>media_ens_superior_R$</th>\n",
              "      <th>sem_ens_superior</th>\n",
              "      <th>media_sem_ens_superior_R$</th>\n",
              "      <th>total</th>\n",
              "      <th>carga_horaria_semanal_H</th>\n",
              "      <th>remuneracao_media_total_R$</th>\n",
              "    </tr>\n",
              "  </thead>\n",
              "  <tbody>\n",
              "    <tr>\n",
              "      <th>0</th>\n",
              "      <td>2018</td>\n",
              "      <td>258.0</td>\n",
              "      <td>4390.05</td>\n",
              "      <td>15.0</td>\n",
              "      <td>3805.75</td>\n",
              "      <td>273.0</td>\n",
              "      <td>40.0</td>\n",
              "      <td>4359.60</td>\n",
              "    </tr>\n",
              "    <tr>\n",
              "      <th>1</th>\n",
              "      <td>2017</td>\n",
              "      <td>258.0</td>\n",
              "      <td>4321.36</td>\n",
              "      <td>20.0</td>\n",
              "      <td>3456.23</td>\n",
              "      <td>278.0</td>\n",
              "      <td>40.0</td>\n",
              "      <td>4273.53</td>\n",
              "    </tr>\n",
              "    <tr>\n",
              "      <th>2</th>\n",
              "      <td>2016</td>\n",
              "      <td>252.0</td>\n",
              "      <td>3858.64</td>\n",
              "      <td>17.0</td>\n",
              "      <td>3271.40</td>\n",
              "      <td>269.0</td>\n",
              "      <td>40.0</td>\n",
              "      <td>3823.97</td>\n",
              "    </tr>\n",
              "    <tr>\n",
              "      <th>3</th>\n",
              "      <td>2015</td>\n",
              "      <td>255.0</td>\n",
              "      <td>3382.48</td>\n",
              "      <td>27.0</td>\n",
              "      <td>2171.45</td>\n",
              "      <td>282.0</td>\n",
              "      <td>40.0</td>\n",
              "      <td>3287.65</td>\n",
              "    </tr>\n",
              "    <tr>\n",
              "      <th>4</th>\n",
              "      <td>2014</td>\n",
              "      <td>252.0</td>\n",
              "      <td>2832.46</td>\n",
              "      <td>49.0</td>\n",
              "      <td>1292.05</td>\n",
              "      <td>301.0</td>\n",
              "      <td>40.0</td>\n",
              "      <td>2832.46</td>\n",
              "    </tr>\n",
              "  </tbody>\n",
              "</table>\n",
              "</div>\n",
              "      <button class=\"colab-df-convert\" onclick=\"convertToInteractive('df-1ac67c6a-3d87-441a-9160-09d71deb2d74')\"\n",
              "              title=\"Convert this dataframe to an interactive table.\"\n",
              "              style=\"display:none;\">\n",
              "        \n",
              "  <svg xmlns=\"http://www.w3.org/2000/svg\" height=\"24px\"viewBox=\"0 0 24 24\"\n",
              "       width=\"24px\">\n",
              "    <path d=\"M0 0h24v24H0V0z\" fill=\"none\"/>\n",
              "    <path d=\"M18.56 5.44l.94 2.06.94-2.06 2.06-.94-2.06-.94-.94-2.06-.94 2.06-2.06.94zm-11 1L8.5 8.5l.94-2.06 2.06-.94-2.06-.94L8.5 2.5l-.94 2.06-2.06.94zm10 10l.94 2.06.94-2.06 2.06-.94-2.06-.94-.94-2.06-.94 2.06-2.06.94z\"/><path d=\"M17.41 7.96l-1.37-1.37c-.4-.4-.92-.59-1.43-.59-.52 0-1.04.2-1.43.59L10.3 9.45l-7.72 7.72c-.78.78-.78 2.05 0 2.83L4 21.41c.39.39.9.59 1.41.59.51 0 1.02-.2 1.41-.59l7.78-7.78 2.81-2.81c.8-.78.8-2.07 0-2.86zM5.41 20L4 18.59l7.72-7.72 1.47 1.35L5.41 20z\"/>\n",
              "  </svg>\n",
              "      </button>\n",
              "      \n",
              "  <style>\n",
              "    .colab-df-container {\n",
              "      display:flex;\n",
              "      flex-wrap:wrap;\n",
              "      gap: 12px;\n",
              "    }\n",
              "\n",
              "    .colab-df-convert {\n",
              "      background-color: #E8F0FE;\n",
              "      border: none;\n",
              "      border-radius: 50%;\n",
              "      cursor: pointer;\n",
              "      display: none;\n",
              "      fill: #1967D2;\n",
              "      height: 32px;\n",
              "      padding: 0 0 0 0;\n",
              "      width: 32px;\n",
              "    }\n",
              "\n",
              "    .colab-df-convert:hover {\n",
              "      background-color: #E2EBFA;\n",
              "      box-shadow: 0px 1px 2px rgba(60, 64, 67, 0.3), 0px 1px 3px 1px rgba(60, 64, 67, 0.15);\n",
              "      fill: #174EA6;\n",
              "    }\n",
              "\n",
              "    [theme=dark] .colab-df-convert {\n",
              "      background-color: #3B4455;\n",
              "      fill: #D2E3FC;\n",
              "    }\n",
              "\n",
              "    [theme=dark] .colab-df-convert:hover {\n",
              "      background-color: #434B5C;\n",
              "      box-shadow: 0px 1px 3px 1px rgba(0, 0, 0, 0.15);\n",
              "      filter: drop-shadow(0px 1px 2px rgba(0, 0, 0, 0.3));\n",
              "      fill: #FFFFFF;\n",
              "    }\n",
              "  </style>\n",
              "\n",
              "      <script>\n",
              "        const buttonEl =\n",
              "          document.querySelector('#df-1ac67c6a-3d87-441a-9160-09d71deb2d74 button.colab-df-convert');\n",
              "        buttonEl.style.display =\n",
              "          google.colab.kernel.accessAllowed ? 'block' : 'none';\n",
              "\n",
              "        async function convertToInteractive(key) {\n",
              "          const element = document.querySelector('#df-1ac67c6a-3d87-441a-9160-09d71deb2d74');\n",
              "          const dataTable =\n",
              "            await google.colab.kernel.invokeFunction('convertToInteractive',\n",
              "                                                     [key], {});\n",
              "          if (!dataTable) return;\n",
              "\n",
              "          const docLinkHtml = 'Like what you see? Visit the ' +\n",
              "            '<a target=\"_blank\" href=https://colab.research.google.com/notebooks/data_table.ipynb>data table notebook</a>'\n",
              "            + ' to learn more about interactive tables.';\n",
              "          element.innerHTML = '';\n",
              "          dataTable['output_type'] = 'display_data';\n",
              "          await google.colab.output.renderOutput(dataTable, element);\n",
              "          const docLink = document.createElement('div');\n",
              "          docLink.innerHTML = docLinkHtml;\n",
              "          element.appendChild(docLink);\n",
              "        }\n",
              "      </script>\n",
              "    </div>\n",
              "  </div>\n",
              "  "
            ]
          },
          "metadata": {},
          "execution_count": 38
        }
      ]
    },
    {
      "cell_type": "markdown",
      "source": [
        "### Taxa de Rendimento\n",
        "- Os dados podem ser encontrados [aqui](https://www.gov.br/inep/pt-br/acesso-a-informacao/dados-abertos/indicadores-educacionais/taxas-de-rendimento)."
      ],
      "metadata": {
        "id": "4SYyjJ5Jn-gt"
      }
    },
    {
      "cell_type": "code",
      "source": [
        "dic_taxa_rendimento = {2021:{'aprovacao_anos_iniciais_ens_fundamental_%': 99.5,'aprovacao_anos_finais_ens_fundamental_%':97.9,'total_aprovacao_ens_fundamental_%':98.8,'reprovacao_anos_iniciais_ens_fundamental_%':0.0,'reprovacao_anos_finais_ens_fundamental_%':0.2,'total_reprovacao_ens_fundamental_%':0.1,'abandono_anos_iniciais_ens_fundamental_%':0.5,'abandono_anos_finais_ens_fundamental_%':1.9,'total_abando_ens_fundamental':1.1},\n",
        "                      2020:{'aprovacao_anos_iniciais_ens_fundamental_%': 99.0,'aprovacao_anos_finais_ens_fundamental_%':97.4,'total_aprovacao_ens_fundamental_%':98.4,'reprovacao_anos_iniciais_ens_fundamental_%':0.0,'reprovacao_anos_finais_ens_fundamental_%':0.2,'total_reprovacao_ens_fundamental_%':0.1,'abandono_anos_iniciais_ens_fundamental_%':1.0,'abandono_anos_finais_ens_fundamental_%':2.4,'total_abando_ens_fundamental':1.5},\n",
        "                      2019:{'aprovacao_anos_iniciais_ens_fundamental_%': 91.5,'aprovacao_anos_finais_ens_fundamental_%':80.2,'total_aprovacao_ens_fundamental_%':86.8,'reprovacao_anos_iniciais_ens_fundamental_%':6.3,'reprovacao_anos_finais_ens_fundamental_%':14.1,'total_reprovacao_ens_fundamental_%':9.5,'abandono_anos_iniciais_ens_fundamental_%':2.2,'abandono_anos_finais_ens_fundamental_%':5.7,'total_abando_ens_fundamental':3.7},\n",
        "                      2018:{'aprovacao_anos_iniciais_ens_fundamental_%': 82.7,'aprovacao_anos_finais_ens_fundamental_%':76.4,'total_aprovacao_ens_fundamental_%':80.3,'reprovacao_anos_iniciais_ens_fundamental_%':14.8,'reprovacao_anos_finais_ens_fundamental_%':16.6,'total_reprovacao_ens_fundamental_%':15.5,'abandono_anos_iniciais_ens_fundamental_%':2.5,'abandono_anos_finais_ens_fundamental_%':7.0,'total_abando_ens_fundamental':4.2},\n",
        "                      2017:{'aprovacao_anos_iniciais_ens_fundamental_%': 82.0,'aprovacao_anos_finais_ens_fundamental_%':72.7,'total_aprovacao_ens_fundamental_%':78.5,'reprovacao_anos_iniciais_ens_fundamental_%':14.3,'reprovacao_anos_finais_ens_fundamental_%':19.6,'total_reprovacao_ens_fundamental_%':16.3,'abandono_anos_iniciais_ens_fundamental_%':3.7,'abandono_anos_finais_ens_fundamental_%':7.7,'total_abando_ens_fundamental':5.2},\n",
        "                      2016:{'aprovacao_anos_iniciais_ens_fundamental_%': 81.6,'aprovacao_anos_finais_ens_fundamental_%':70.7,'total_aprovacao_ens_fundamental_%':77.4,'reprovacao_anos_iniciais_ens_fundamental_%':14.8,'reprovacao_anos_finais_ens_fundamental_%':18.9,'total_reprovacao_ens_fundamental_%':16.3,'abandono_anos_iniciais_ens_fundamental_%':3.6,'abandono_anos_finais_ens_fundamental_%':10.4,'total_abando_ens_fundamental':6.3},\n",
        "                      2015:{'aprovacao_anos_iniciais_ens_fundamental_%': 79.1,'aprovacao_anos_finais_ens_fundamental_%':69.7,'total_aprovacao_ens_fundamental_%':75.6,'reprovacao_anos_iniciais_ens_fundamental_%':14.8,'reprovacao_anos_finais_ens_fundamental_%':18.6,'total_reprovacao_ens_fundamental_%':16.2,'abandono_anos_iniciais_ens_fundamental_%':6.1,'abandono_anos_finais_ens_fundamental_%':11.7,'total_abando_ens_fundamental':8.2},\n",
        "                      2014:{'aprovacao_anos_iniciais_ens_fundamental_%': 81.1,'aprovacao_anos_finais_ens_fundamental_%':69.0,'total_aprovacao_ens_fundamental_%':76.2,'reprovacao_anos_iniciais_ens_fundamental_%':14.8,'reprovacao_anos_finais_ens_fundamental_%':16.8,'total_reprovacao_ens_fundamental_%':15.6,'abandono_anos_iniciais_ens_fundamental_%':4.1,'abandono_anos_finais_ens_fundamental_%':14.2,'total_abando_ens_fundamental':8.2},\n",
        "                      2013:{'aprovacao_anos_iniciais_ens_fundamental_%': 84.5,'aprovacao_anos_finais_ens_fundamental_%':67.2,'total_aprovacao_ens_fundamental_%':77.4,'reprovacao_anos_iniciais_ens_fundamental_%':12.2,'reprovacao_anos_finais_ens_fundamental_%':20.4,'total_reprovacao_ens_fundamental_%':15.6,'abandono_anos_iniciais_ens_fundamental_%':3.3,'abandono_anos_finais_ens_fundamental_%':12.4,'total_abando_ens_fundamental':7.0}}\n",
        "\n",
        "# criando dataframe\n",
        "df_taxa_rendimento = pd.DataFrame(dic_taxa_rendimento).transpose()\n",
        "df_taxa_rendimento.index.name='ano'\n",
        "df_taxa_rendimento.reset_index(inplace=True)\n",
        "df_taxa_rendimento"
      ],
      "metadata": {
        "id": "WMdFRerjoVyU",
        "outputId": "ce14b9fb-d675-4bf7-f9a1-b7cdadfa5516",
        "colab": {
          "base_uri": "https://localhost:8080/",
          "height": 395
        }
      },
      "execution_count": 39,
      "outputs": [
        {
          "output_type": "execute_result",
          "data": {
            "text/plain": [
              "    ano  aprovacao_anos_iniciais_ens_fundamental_%  \\\n",
              "0  2021                                       99.5   \n",
              "1  2020                                       99.0   \n",
              "2  2019                                       91.5   \n",
              "3  2018                                       82.7   \n",
              "4  2017                                       82.0   \n",
              "5  2016                                       81.6   \n",
              "6  2015                                       79.1   \n",
              "7  2014                                       81.1   \n",
              "8  2013                                       84.5   \n",
              "\n",
              "   aprovacao_anos_finais_ens_fundamental_%  total_aprovacao_ens_fundamental_%  \\\n",
              "0                                     97.9                               98.8   \n",
              "1                                     97.4                               98.4   \n",
              "2                                     80.2                               86.8   \n",
              "3                                     76.4                               80.3   \n",
              "4                                     72.7                               78.5   \n",
              "5                                     70.7                               77.4   \n",
              "6                                     69.7                               75.6   \n",
              "7                                     69.0                               76.2   \n",
              "8                                     67.2                               77.4   \n",
              "\n",
              "   reprovacao_anos_iniciais_ens_fundamental_%  \\\n",
              "0                                         0.0   \n",
              "1                                         0.0   \n",
              "2                                         6.3   \n",
              "3                                        14.8   \n",
              "4                                        14.3   \n",
              "5                                        14.8   \n",
              "6                                        14.8   \n",
              "7                                        14.8   \n",
              "8                                        12.2   \n",
              "\n",
              "   reprovacao_anos_finais_ens_fundamental_%  \\\n",
              "0                                       0.2   \n",
              "1                                       0.2   \n",
              "2                                      14.1   \n",
              "3                                      16.6   \n",
              "4                                      19.6   \n",
              "5                                      18.9   \n",
              "6                                      18.6   \n",
              "7                                      16.8   \n",
              "8                                      20.4   \n",
              "\n",
              "   total_reprovacao_ens_fundamental_%  \\\n",
              "0                                 0.1   \n",
              "1                                 0.1   \n",
              "2                                 9.5   \n",
              "3                                15.5   \n",
              "4                                16.3   \n",
              "5                                16.3   \n",
              "6                                16.2   \n",
              "7                                15.6   \n",
              "8                                15.6   \n",
              "\n",
              "   abandono_anos_iniciais_ens_fundamental_%  \\\n",
              "0                                       0.5   \n",
              "1                                       1.0   \n",
              "2                                       2.2   \n",
              "3                                       2.5   \n",
              "4                                       3.7   \n",
              "5                                       3.6   \n",
              "6                                       6.1   \n",
              "7                                       4.1   \n",
              "8                                       3.3   \n",
              "\n",
              "   abandono_anos_finais_ens_fundamental_%  total_abando_ens_fundamental  \n",
              "0                                     1.9                           1.1  \n",
              "1                                     2.4                           1.5  \n",
              "2                                     5.7                           3.7  \n",
              "3                                     7.0                           4.2  \n",
              "4                                     7.7                           5.2  \n",
              "5                                    10.4                           6.3  \n",
              "6                                    11.7                           8.2  \n",
              "7                                    14.2                           8.2  \n",
              "8                                    12.4                           7.0  "
            ],
            "text/html": [
              "\n",
              "  <div id=\"df-0e689b58-f979-4d88-9eb5-48b83fae1c0a\">\n",
              "    <div class=\"colab-df-container\">\n",
              "      <div>\n",
              "<style scoped>\n",
              "    .dataframe tbody tr th:only-of-type {\n",
              "        vertical-align: middle;\n",
              "    }\n",
              "\n",
              "    .dataframe tbody tr th {\n",
              "        vertical-align: top;\n",
              "    }\n",
              "\n",
              "    .dataframe thead th {\n",
              "        text-align: right;\n",
              "    }\n",
              "</style>\n",
              "<table border=\"1\" class=\"dataframe\">\n",
              "  <thead>\n",
              "    <tr style=\"text-align: right;\">\n",
              "      <th></th>\n",
              "      <th>ano</th>\n",
              "      <th>aprovacao_anos_iniciais_ens_fundamental_%</th>\n",
              "      <th>aprovacao_anos_finais_ens_fundamental_%</th>\n",
              "      <th>total_aprovacao_ens_fundamental_%</th>\n",
              "      <th>reprovacao_anos_iniciais_ens_fundamental_%</th>\n",
              "      <th>reprovacao_anos_finais_ens_fundamental_%</th>\n",
              "      <th>total_reprovacao_ens_fundamental_%</th>\n",
              "      <th>abandono_anos_iniciais_ens_fundamental_%</th>\n",
              "      <th>abandono_anos_finais_ens_fundamental_%</th>\n",
              "      <th>total_abando_ens_fundamental</th>\n",
              "    </tr>\n",
              "  </thead>\n",
              "  <tbody>\n",
              "    <tr>\n",
              "      <th>0</th>\n",
              "      <td>2021</td>\n",
              "      <td>99.5</td>\n",
              "      <td>97.9</td>\n",
              "      <td>98.8</td>\n",
              "      <td>0.0</td>\n",
              "      <td>0.2</td>\n",
              "      <td>0.1</td>\n",
              "      <td>0.5</td>\n",
              "      <td>1.9</td>\n",
              "      <td>1.1</td>\n",
              "    </tr>\n",
              "    <tr>\n",
              "      <th>1</th>\n",
              "      <td>2020</td>\n",
              "      <td>99.0</td>\n",
              "      <td>97.4</td>\n",
              "      <td>98.4</td>\n",
              "      <td>0.0</td>\n",
              "      <td>0.2</td>\n",
              "      <td>0.1</td>\n",
              "      <td>1.0</td>\n",
              "      <td>2.4</td>\n",
              "      <td>1.5</td>\n",
              "    </tr>\n",
              "    <tr>\n",
              "      <th>2</th>\n",
              "      <td>2019</td>\n",
              "      <td>91.5</td>\n",
              "      <td>80.2</td>\n",
              "      <td>86.8</td>\n",
              "      <td>6.3</td>\n",
              "      <td>14.1</td>\n",
              "      <td>9.5</td>\n",
              "      <td>2.2</td>\n",
              "      <td>5.7</td>\n",
              "      <td>3.7</td>\n",
              "    </tr>\n",
              "    <tr>\n",
              "      <th>3</th>\n",
              "      <td>2018</td>\n",
              "      <td>82.7</td>\n",
              "      <td>76.4</td>\n",
              "      <td>80.3</td>\n",
              "      <td>14.8</td>\n",
              "      <td>16.6</td>\n",
              "      <td>15.5</td>\n",
              "      <td>2.5</td>\n",
              "      <td>7.0</td>\n",
              "      <td>4.2</td>\n",
              "    </tr>\n",
              "    <tr>\n",
              "      <th>4</th>\n",
              "      <td>2017</td>\n",
              "      <td>82.0</td>\n",
              "      <td>72.7</td>\n",
              "      <td>78.5</td>\n",
              "      <td>14.3</td>\n",
              "      <td>19.6</td>\n",
              "      <td>16.3</td>\n",
              "      <td>3.7</td>\n",
              "      <td>7.7</td>\n",
              "      <td>5.2</td>\n",
              "    </tr>\n",
              "    <tr>\n",
              "      <th>5</th>\n",
              "      <td>2016</td>\n",
              "      <td>81.6</td>\n",
              "      <td>70.7</td>\n",
              "      <td>77.4</td>\n",
              "      <td>14.8</td>\n",
              "      <td>18.9</td>\n",
              "      <td>16.3</td>\n",
              "      <td>3.6</td>\n",
              "      <td>10.4</td>\n",
              "      <td>6.3</td>\n",
              "    </tr>\n",
              "    <tr>\n",
              "      <th>6</th>\n",
              "      <td>2015</td>\n",
              "      <td>79.1</td>\n",
              "      <td>69.7</td>\n",
              "      <td>75.6</td>\n",
              "      <td>14.8</td>\n",
              "      <td>18.6</td>\n",
              "      <td>16.2</td>\n",
              "      <td>6.1</td>\n",
              "      <td>11.7</td>\n",
              "      <td>8.2</td>\n",
              "    </tr>\n",
              "    <tr>\n",
              "      <th>7</th>\n",
              "      <td>2014</td>\n",
              "      <td>81.1</td>\n",
              "      <td>69.0</td>\n",
              "      <td>76.2</td>\n",
              "      <td>14.8</td>\n",
              "      <td>16.8</td>\n",
              "      <td>15.6</td>\n",
              "      <td>4.1</td>\n",
              "      <td>14.2</td>\n",
              "      <td>8.2</td>\n",
              "    </tr>\n",
              "    <tr>\n",
              "      <th>8</th>\n",
              "      <td>2013</td>\n",
              "      <td>84.5</td>\n",
              "      <td>67.2</td>\n",
              "      <td>77.4</td>\n",
              "      <td>12.2</td>\n",
              "      <td>20.4</td>\n",
              "      <td>15.6</td>\n",
              "      <td>3.3</td>\n",
              "      <td>12.4</td>\n",
              "      <td>7.0</td>\n",
              "    </tr>\n",
              "  </tbody>\n",
              "</table>\n",
              "</div>\n",
              "      <button class=\"colab-df-convert\" onclick=\"convertToInteractive('df-0e689b58-f979-4d88-9eb5-48b83fae1c0a')\"\n",
              "              title=\"Convert this dataframe to an interactive table.\"\n",
              "              style=\"display:none;\">\n",
              "        \n",
              "  <svg xmlns=\"http://www.w3.org/2000/svg\" height=\"24px\"viewBox=\"0 0 24 24\"\n",
              "       width=\"24px\">\n",
              "    <path d=\"M0 0h24v24H0V0z\" fill=\"none\"/>\n",
              "    <path d=\"M18.56 5.44l.94 2.06.94-2.06 2.06-.94-2.06-.94-.94-2.06-.94 2.06-2.06.94zm-11 1L8.5 8.5l.94-2.06 2.06-.94-2.06-.94L8.5 2.5l-.94 2.06-2.06.94zm10 10l.94 2.06.94-2.06 2.06-.94-2.06-.94-.94-2.06-.94 2.06-2.06.94z\"/><path d=\"M17.41 7.96l-1.37-1.37c-.4-.4-.92-.59-1.43-.59-.52 0-1.04.2-1.43.59L10.3 9.45l-7.72 7.72c-.78.78-.78 2.05 0 2.83L4 21.41c.39.39.9.59 1.41.59.51 0 1.02-.2 1.41-.59l7.78-7.78 2.81-2.81c.8-.78.8-2.07 0-2.86zM5.41 20L4 18.59l7.72-7.72 1.47 1.35L5.41 20z\"/>\n",
              "  </svg>\n",
              "      </button>\n",
              "      \n",
              "  <style>\n",
              "    .colab-df-container {\n",
              "      display:flex;\n",
              "      flex-wrap:wrap;\n",
              "      gap: 12px;\n",
              "    }\n",
              "\n",
              "    .colab-df-convert {\n",
              "      background-color: #E8F0FE;\n",
              "      border: none;\n",
              "      border-radius: 50%;\n",
              "      cursor: pointer;\n",
              "      display: none;\n",
              "      fill: #1967D2;\n",
              "      height: 32px;\n",
              "      padding: 0 0 0 0;\n",
              "      width: 32px;\n",
              "    }\n",
              "\n",
              "    .colab-df-convert:hover {\n",
              "      background-color: #E2EBFA;\n",
              "      box-shadow: 0px 1px 2px rgba(60, 64, 67, 0.3), 0px 1px 3px 1px rgba(60, 64, 67, 0.15);\n",
              "      fill: #174EA6;\n",
              "    }\n",
              "\n",
              "    [theme=dark] .colab-df-convert {\n",
              "      background-color: #3B4455;\n",
              "      fill: #D2E3FC;\n",
              "    }\n",
              "\n",
              "    [theme=dark] .colab-df-convert:hover {\n",
              "      background-color: #434B5C;\n",
              "      box-shadow: 0px 1px 3px 1px rgba(0, 0, 0, 0.15);\n",
              "      filter: drop-shadow(0px 1px 2px rgba(0, 0, 0, 0.3));\n",
              "      fill: #FFFFFF;\n",
              "    }\n",
              "  </style>\n",
              "\n",
              "      <script>\n",
              "        const buttonEl =\n",
              "          document.querySelector('#df-0e689b58-f979-4d88-9eb5-48b83fae1c0a button.colab-df-convert');\n",
              "        buttonEl.style.display =\n",
              "          google.colab.kernel.accessAllowed ? 'block' : 'none';\n",
              "\n",
              "        async function convertToInteractive(key) {\n",
              "          const element = document.querySelector('#df-0e689b58-f979-4d88-9eb5-48b83fae1c0a');\n",
              "          const dataTable =\n",
              "            await google.colab.kernel.invokeFunction('convertToInteractive',\n",
              "                                                     [key], {});\n",
              "          if (!dataTable) return;\n",
              "\n",
              "          const docLinkHtml = 'Like what you see? Visit the ' +\n",
              "            '<a target=\"_blank\" href=https://colab.research.google.com/notebooks/data_table.ipynb>data table notebook</a>'\n",
              "            + ' to learn more about interactive tables.';\n",
              "          element.innerHTML = '';\n",
              "          dataTable['output_type'] = 'display_data';\n",
              "          await google.colab.output.renderOutput(dataTable, element);\n",
              "          const docLink = document.createElement('div');\n",
              "          docLink.innerHTML = docLinkHtml;\n",
              "          element.appendChild(docLink);\n",
              "        }\n",
              "      </script>\n",
              "    </div>\n",
              "  </div>\n",
              "  "
            ]
          },
          "metadata": {},
          "execution_count": 39
        }
      ]
    },
    {
      "cell_type": "markdown",
      "source": [
        "## Import dos dados em .csv"
      ],
      "metadata": {
        "id": "jvkVUW4TIq0S"
      }
    },
    {
      "cell_type": "code",
      "source": [
        "2503704"
      ],
      "metadata": {
        "id": "ECDaF0AsqPwm",
        "outputId": "baa5fa1e-21c4-4c0b-d9f4-b8248e333a56",
        "colab": {
          "base_uri": "https://localhost:8080/"
        }
      },
      "execution_count": 40,
      "outputs": [
        {
          "output_type": "execute_result",
          "data": {
            "text/plain": [
              "2503704"
            ]
          },
          "metadata": {},
          "execution_count": 40
        }
      ]
    },
    {
      "cell_type": "code",
      "source": [
        "df_despesas = pd.read_csv('dados_despesas.csv', sep=';')\n",
        "df_despesas"
      ],
      "metadata": {
        "id": "XDwQKdKAHAIz",
        "outputId": "ec79b08d-2e0f-48c9-dc69-2db989d903b9",
        "colab": {
          "base_uri": "https://localhost:8080/",
          "height": 748
        }
      },
      "execution_count": 41,
      "outputs": [
        {
          "output_type": "execute_result",
          "data": {
            "text/plain": [
              "        DATA_FATO        FONTE_RECURSO  \\\n",
              "0      2013-12-31  recursos ordinarios   \n",
              "1      2013-12-31  recursos ordinarios   \n",
              "2      2013-12-31  recursos ordinarios   \n",
              "3      2013-12-31  recursos ordinarios   \n",
              "4      2013-12-31  recursos ordinarios   \n",
              "...           ...                  ...   \n",
              "86836  2022-12-30      sem informacoes   \n",
              "86837  2022-12-30      sem informacoes   \n",
              "86838  2022-12-30      sem informacoes   \n",
              "86839  2022-12-30      sem informacoes   \n",
              "86840  2022-12-30      sem informacoes   \n",
              "\n",
              "                                 ORGAO_INTERNO           ORGAO_VINCULADO  \\\n",
              "0      secretaria municipal de infra estrutura      prefeitura municipal   \n",
              "1             secretaria municipal de educacao      prefeitura municipal   \n",
              "2             secretaria municipal de educacao      prefeitura municipal   \n",
              "3             secretaria municipal de educacao      prefeitura municipal   \n",
              "4             secretaria municipal de educacao      prefeitura municipal   \n",
              "...                                        ...                       ...   \n",
              "86836                 fundo municipal de saude  fundo municipal de saude   \n",
              "86837                 fundo municipal de saude  fundo municipal de saude   \n",
              "86838                 fundo municipal de saude  fundo municipal de saude   \n",
              "86839                 fundo municipal de saude  fundo municipal de saude   \n",
              "86840                 fundo municipal de saude  fundo municipal de saude   \n",
              "\n",
              "       ELEMENTO  SUBELEMENTO  FUNCAO  SUBFUNCAO  NATUREZA  VALOR_FIXADO  \\\n",
              "0            39         2044       4        122         3     2911694.0   \n",
              "1            36         2029      13        392         3      107000.0   \n",
              "2            36         2029      13        392         3      107000.0   \n",
              "3            36         2029      13        392         3      107000.0   \n",
              "4            36         2029      13        392         3      107000.0   \n",
              "...         ...          ...     ...        ...       ...           ...   \n",
              "86836    339030          101       1          1        10           0.0   \n",
              "86837    339030          101       1          1        10           0.0   \n",
              "86838    339030          101       1          1        10           0.0   \n",
              "86839    339030          101       1          1        10           0.0   \n",
              "86840    339030         1236       1          1        10           0.0   \n",
              "\n",
              "       VALOR_EMPENHADO  VALOR_LIQUIDADO  VALOR_PAGO     SALDO          CODIGO  \n",
              "0              5120.00           5120.0         0.0   5120.00  80e7979ff78e14  \n",
              "1              6950.00           6950.0         0.0   6950.00  4be681d5c1e352  \n",
              "2               800.00            800.0         0.0    800.00  8ff22c743e712e  \n",
              "3               400.00            400.0         0.0    400.00  1db102414906f0  \n",
              "4               600.00            600.0         0.0    600.00  5125ea1b50db6d  \n",
              "...                ...              ...         ...       ...             ...  \n",
              "86836         25673.02              0.0         0.0  25673.02  7bfd3e9d8aa27b  \n",
              "86837         23333.43              0.0         0.0  23333.43  7bfd3e9d8aa27b  \n",
              "86838         17920.75              0.0         0.0  17920.75  7bfd3e9d8aa27b  \n",
              "86839          3842.60              0.0         0.0   3842.60  7bfd3e9d8aa27b  \n",
              "86840         22970.00          22970.0         0.0  22970.00  227a1ce7e2adcc  \n",
              "\n",
              "[86841 rows x 15 columns]"
            ],
            "text/html": [
              "\n",
              "  <div id=\"df-ec2942a2-a942-4f07-9aa7-45ca14180bca\">\n",
              "    <div class=\"colab-df-container\">\n",
              "      <div>\n",
              "<style scoped>\n",
              "    .dataframe tbody tr th:only-of-type {\n",
              "        vertical-align: middle;\n",
              "    }\n",
              "\n",
              "    .dataframe tbody tr th {\n",
              "        vertical-align: top;\n",
              "    }\n",
              "\n",
              "    .dataframe thead th {\n",
              "        text-align: right;\n",
              "    }\n",
              "</style>\n",
              "<table border=\"1\" class=\"dataframe\">\n",
              "  <thead>\n",
              "    <tr style=\"text-align: right;\">\n",
              "      <th></th>\n",
              "      <th>DATA_FATO</th>\n",
              "      <th>FONTE_RECURSO</th>\n",
              "      <th>ORGAO_INTERNO</th>\n",
              "      <th>ORGAO_VINCULADO</th>\n",
              "      <th>ELEMENTO</th>\n",
              "      <th>SUBELEMENTO</th>\n",
              "      <th>FUNCAO</th>\n",
              "      <th>SUBFUNCAO</th>\n",
              "      <th>NATUREZA</th>\n",
              "      <th>VALOR_FIXADO</th>\n",
              "      <th>VALOR_EMPENHADO</th>\n",
              "      <th>VALOR_LIQUIDADO</th>\n",
              "      <th>VALOR_PAGO</th>\n",
              "      <th>SALDO</th>\n",
              "      <th>CODIGO</th>\n",
              "    </tr>\n",
              "  </thead>\n",
              "  <tbody>\n",
              "    <tr>\n",
              "      <th>0</th>\n",
              "      <td>2013-12-31</td>\n",
              "      <td>recursos ordinarios</td>\n",
              "      <td>secretaria municipal de infra estrutura</td>\n",
              "      <td>prefeitura municipal</td>\n",
              "      <td>39</td>\n",
              "      <td>2044</td>\n",
              "      <td>4</td>\n",
              "      <td>122</td>\n",
              "      <td>3</td>\n",
              "      <td>2911694.0</td>\n",
              "      <td>5120.00</td>\n",
              "      <td>5120.0</td>\n",
              "      <td>0.0</td>\n",
              "      <td>5120.00</td>\n",
              "      <td>80e7979ff78e14</td>\n",
              "    </tr>\n",
              "    <tr>\n",
              "      <th>1</th>\n",
              "      <td>2013-12-31</td>\n",
              "      <td>recursos ordinarios</td>\n",
              "      <td>secretaria municipal de educacao</td>\n",
              "      <td>prefeitura municipal</td>\n",
              "      <td>36</td>\n",
              "      <td>2029</td>\n",
              "      <td>13</td>\n",
              "      <td>392</td>\n",
              "      <td>3</td>\n",
              "      <td>107000.0</td>\n",
              "      <td>6950.00</td>\n",
              "      <td>6950.0</td>\n",
              "      <td>0.0</td>\n",
              "      <td>6950.00</td>\n",
              "      <td>4be681d5c1e352</td>\n",
              "    </tr>\n",
              "    <tr>\n",
              "      <th>2</th>\n",
              "      <td>2013-12-31</td>\n",
              "      <td>recursos ordinarios</td>\n",
              "      <td>secretaria municipal de educacao</td>\n",
              "      <td>prefeitura municipal</td>\n",
              "      <td>36</td>\n",
              "      <td>2029</td>\n",
              "      <td>13</td>\n",
              "      <td>392</td>\n",
              "      <td>3</td>\n",
              "      <td>107000.0</td>\n",
              "      <td>800.00</td>\n",
              "      <td>800.0</td>\n",
              "      <td>0.0</td>\n",
              "      <td>800.00</td>\n",
              "      <td>8ff22c743e712e</td>\n",
              "    </tr>\n",
              "    <tr>\n",
              "      <th>3</th>\n",
              "      <td>2013-12-31</td>\n",
              "      <td>recursos ordinarios</td>\n",
              "      <td>secretaria municipal de educacao</td>\n",
              "      <td>prefeitura municipal</td>\n",
              "      <td>36</td>\n",
              "      <td>2029</td>\n",
              "      <td>13</td>\n",
              "      <td>392</td>\n",
              "      <td>3</td>\n",
              "      <td>107000.0</td>\n",
              "      <td>400.00</td>\n",
              "      <td>400.0</td>\n",
              "      <td>0.0</td>\n",
              "      <td>400.00</td>\n",
              "      <td>1db102414906f0</td>\n",
              "    </tr>\n",
              "    <tr>\n",
              "      <th>4</th>\n",
              "      <td>2013-12-31</td>\n",
              "      <td>recursos ordinarios</td>\n",
              "      <td>secretaria municipal de educacao</td>\n",
              "      <td>prefeitura municipal</td>\n",
              "      <td>36</td>\n",
              "      <td>2029</td>\n",
              "      <td>13</td>\n",
              "      <td>392</td>\n",
              "      <td>3</td>\n",
              "      <td>107000.0</td>\n",
              "      <td>600.00</td>\n",
              "      <td>600.0</td>\n",
              "      <td>0.0</td>\n",
              "      <td>600.00</td>\n",
              "      <td>5125ea1b50db6d</td>\n",
              "    </tr>\n",
              "    <tr>\n",
              "      <th>...</th>\n",
              "      <td>...</td>\n",
              "      <td>...</td>\n",
              "      <td>...</td>\n",
              "      <td>...</td>\n",
              "      <td>...</td>\n",
              "      <td>...</td>\n",
              "      <td>...</td>\n",
              "      <td>...</td>\n",
              "      <td>...</td>\n",
              "      <td>...</td>\n",
              "      <td>...</td>\n",
              "      <td>...</td>\n",
              "      <td>...</td>\n",
              "      <td>...</td>\n",
              "      <td>...</td>\n",
              "    </tr>\n",
              "    <tr>\n",
              "      <th>86836</th>\n",
              "      <td>2022-12-30</td>\n",
              "      <td>sem informacoes</td>\n",
              "      <td>fundo municipal de saude</td>\n",
              "      <td>fundo municipal de saude</td>\n",
              "      <td>339030</td>\n",
              "      <td>101</td>\n",
              "      <td>1</td>\n",
              "      <td>1</td>\n",
              "      <td>10</td>\n",
              "      <td>0.0</td>\n",
              "      <td>25673.02</td>\n",
              "      <td>0.0</td>\n",
              "      <td>0.0</td>\n",
              "      <td>25673.02</td>\n",
              "      <td>7bfd3e9d8aa27b</td>\n",
              "    </tr>\n",
              "    <tr>\n",
              "      <th>86837</th>\n",
              "      <td>2022-12-30</td>\n",
              "      <td>sem informacoes</td>\n",
              "      <td>fundo municipal de saude</td>\n",
              "      <td>fundo municipal de saude</td>\n",
              "      <td>339030</td>\n",
              "      <td>101</td>\n",
              "      <td>1</td>\n",
              "      <td>1</td>\n",
              "      <td>10</td>\n",
              "      <td>0.0</td>\n",
              "      <td>23333.43</td>\n",
              "      <td>0.0</td>\n",
              "      <td>0.0</td>\n",
              "      <td>23333.43</td>\n",
              "      <td>7bfd3e9d8aa27b</td>\n",
              "    </tr>\n",
              "    <tr>\n",
              "      <th>86838</th>\n",
              "      <td>2022-12-30</td>\n",
              "      <td>sem informacoes</td>\n",
              "      <td>fundo municipal de saude</td>\n",
              "      <td>fundo municipal de saude</td>\n",
              "      <td>339030</td>\n",
              "      <td>101</td>\n",
              "      <td>1</td>\n",
              "      <td>1</td>\n",
              "      <td>10</td>\n",
              "      <td>0.0</td>\n",
              "      <td>17920.75</td>\n",
              "      <td>0.0</td>\n",
              "      <td>0.0</td>\n",
              "      <td>17920.75</td>\n",
              "      <td>7bfd3e9d8aa27b</td>\n",
              "    </tr>\n",
              "    <tr>\n",
              "      <th>86839</th>\n",
              "      <td>2022-12-30</td>\n",
              "      <td>sem informacoes</td>\n",
              "      <td>fundo municipal de saude</td>\n",
              "      <td>fundo municipal de saude</td>\n",
              "      <td>339030</td>\n",
              "      <td>101</td>\n",
              "      <td>1</td>\n",
              "      <td>1</td>\n",
              "      <td>10</td>\n",
              "      <td>0.0</td>\n",
              "      <td>3842.60</td>\n",
              "      <td>0.0</td>\n",
              "      <td>0.0</td>\n",
              "      <td>3842.60</td>\n",
              "      <td>7bfd3e9d8aa27b</td>\n",
              "    </tr>\n",
              "    <tr>\n",
              "      <th>86840</th>\n",
              "      <td>2022-12-30</td>\n",
              "      <td>sem informacoes</td>\n",
              "      <td>fundo municipal de saude</td>\n",
              "      <td>fundo municipal de saude</td>\n",
              "      <td>339030</td>\n",
              "      <td>1236</td>\n",
              "      <td>1</td>\n",
              "      <td>1</td>\n",
              "      <td>10</td>\n",
              "      <td>0.0</td>\n",
              "      <td>22970.00</td>\n",
              "      <td>22970.0</td>\n",
              "      <td>0.0</td>\n",
              "      <td>22970.00</td>\n",
              "      <td>227a1ce7e2adcc</td>\n",
              "    </tr>\n",
              "  </tbody>\n",
              "</table>\n",
              "<p>86841 rows × 15 columns</p>\n",
              "</div>\n",
              "      <button class=\"colab-df-convert\" onclick=\"convertToInteractive('df-ec2942a2-a942-4f07-9aa7-45ca14180bca')\"\n",
              "              title=\"Convert this dataframe to an interactive table.\"\n",
              "              style=\"display:none;\">\n",
              "        \n",
              "  <svg xmlns=\"http://www.w3.org/2000/svg\" height=\"24px\"viewBox=\"0 0 24 24\"\n",
              "       width=\"24px\">\n",
              "    <path d=\"M0 0h24v24H0V0z\" fill=\"none\"/>\n",
              "    <path d=\"M18.56 5.44l.94 2.06.94-2.06 2.06-.94-2.06-.94-.94-2.06-.94 2.06-2.06.94zm-11 1L8.5 8.5l.94-2.06 2.06-.94-2.06-.94L8.5 2.5l-.94 2.06-2.06.94zm10 10l.94 2.06.94-2.06 2.06-.94-2.06-.94-.94-2.06-.94 2.06-2.06.94z\"/><path d=\"M17.41 7.96l-1.37-1.37c-.4-.4-.92-.59-1.43-.59-.52 0-1.04.2-1.43.59L10.3 9.45l-7.72 7.72c-.78.78-.78 2.05 0 2.83L4 21.41c.39.39.9.59 1.41.59.51 0 1.02-.2 1.41-.59l7.78-7.78 2.81-2.81c.8-.78.8-2.07 0-2.86zM5.41 20L4 18.59l7.72-7.72 1.47 1.35L5.41 20z\"/>\n",
              "  </svg>\n",
              "      </button>\n",
              "      \n",
              "  <style>\n",
              "    .colab-df-container {\n",
              "      display:flex;\n",
              "      flex-wrap:wrap;\n",
              "      gap: 12px;\n",
              "    }\n",
              "\n",
              "    .colab-df-convert {\n",
              "      background-color: #E8F0FE;\n",
              "      border: none;\n",
              "      border-radius: 50%;\n",
              "      cursor: pointer;\n",
              "      display: none;\n",
              "      fill: #1967D2;\n",
              "      height: 32px;\n",
              "      padding: 0 0 0 0;\n",
              "      width: 32px;\n",
              "    }\n",
              "\n",
              "    .colab-df-convert:hover {\n",
              "      background-color: #E2EBFA;\n",
              "      box-shadow: 0px 1px 2px rgba(60, 64, 67, 0.3), 0px 1px 3px 1px rgba(60, 64, 67, 0.15);\n",
              "      fill: #174EA6;\n",
              "    }\n",
              "\n",
              "    [theme=dark] .colab-df-convert {\n",
              "      background-color: #3B4455;\n",
              "      fill: #D2E3FC;\n",
              "    }\n",
              "\n",
              "    [theme=dark] .colab-df-convert:hover {\n",
              "      background-color: #434B5C;\n",
              "      box-shadow: 0px 1px 3px 1px rgba(0, 0, 0, 0.15);\n",
              "      filter: drop-shadow(0px 1px 2px rgba(0, 0, 0, 0.3));\n",
              "      fill: #FFFFFF;\n",
              "    }\n",
              "  </style>\n",
              "\n",
              "      <script>\n",
              "        const buttonEl =\n",
              "          document.querySelector('#df-ec2942a2-a942-4f07-9aa7-45ca14180bca button.colab-df-convert');\n",
              "        buttonEl.style.display =\n",
              "          google.colab.kernel.accessAllowed ? 'block' : 'none';\n",
              "\n",
              "        async function convertToInteractive(key) {\n",
              "          const element = document.querySelector('#df-ec2942a2-a942-4f07-9aa7-45ca14180bca');\n",
              "          const dataTable =\n",
              "            await google.colab.kernel.invokeFunction('convertToInteractive',\n",
              "                                                     [key], {});\n",
              "          if (!dataTable) return;\n",
              "\n",
              "          const docLinkHtml = 'Like what you see? Visit the ' +\n",
              "            '<a target=\"_blank\" href=https://colab.research.google.com/notebooks/data_table.ipynb>data table notebook</a>'\n",
              "            + ' to learn more about interactive tables.';\n",
              "          element.innerHTML = '';\n",
              "          dataTable['output_type'] = 'display_data';\n",
              "          await google.colab.output.renderOutput(dataTable, element);\n",
              "          const docLink = document.createElement('div');\n",
              "          docLink.innerHTML = docLinkHtml;\n",
              "          element.appendChild(docLink);\n",
              "        }\n",
              "      </script>\n",
              "    </div>\n",
              "  </div>\n",
              "  "
            ]
          },
          "metadata": {},
          "execution_count": 41
        }
      ]
    },
    {
      "cell_type": "code",
      "source": [
        "df_despesas.dtypes"
      ],
      "metadata": {
        "colab": {
          "base_uri": "https://localhost:8080/"
        },
        "id": "AqS6Qu04gA5V",
        "outputId": "e6860ccb-e50f-467d-9b4f-915c5bb6a512"
      },
      "execution_count": 42,
      "outputs": [
        {
          "output_type": "execute_result",
          "data": {
            "text/plain": [
              "DATA_FATO           object\n",
              "FONTE_RECURSO       object\n",
              "ORGAO_INTERNO       object\n",
              "ORGAO_VINCULADO     object\n",
              "ELEMENTO             int64\n",
              "SUBELEMENTO          int64\n",
              "FUNCAO               int64\n",
              "SUBFUNCAO            int64\n",
              "NATUREZA             int64\n",
              "VALOR_FIXADO       float64\n",
              "VALOR_EMPENHADO    float64\n",
              "VALOR_LIQUIDADO    float64\n",
              "VALOR_PAGO         float64\n",
              "SALDO              float64\n",
              "CODIGO              object\n",
              "dtype: object"
            ]
          },
          "metadata": {},
          "execution_count": 42
        }
      ]
    },
    {
      "cell_type": "markdown",
      "source": [
        "## Conversões nos dados"
      ],
      "metadata": {
        "id": "nz8S4UJ9FnZ3"
      }
    },
    {
      "cell_type": "markdown",
      "source": [
        "### Conversão e tratamento dos dados nas colunas do DF df_ibge_saude"
      ],
      "metadata": {
        "id": "3kInZUOSZzag"
      }
    },
    {
      "cell_type": "code",
      "source": [
        "# dados antes da conversão\n",
        "df_ibge_saude.dtypes"
      ],
      "metadata": {
        "id": "yc4yW6p3Zx8w",
        "outputId": "a4203d72-3d7a-406e-fbfb-2974cad24b93",
        "colab": {
          "base_uri": "https://localhost:8080/"
        }
      },
      "execution_count": 43,
      "outputs": [
        {
          "output_type": "execute_result",
          "data": {
            "text/plain": [
              "ano                             int64\n",
              "id_municipio                   object\n",
              "sigla_uf                       object\n",
              "nome                           object\n",
              "cob_ab                        float64\n",
              "                               ...   \n",
              "desp_recp_saude_pc_mun_def    float64\n",
              "desp_tot_saude_pc_uf_def      float64\n",
              "desp_recp_saude_pc_uf_def     float64\n",
              "num_familias_bf               float64\n",
              "gasto_pbf_pc_def              float64\n",
              "Length: 68, dtype: object"
            ]
          },
          "metadata": {},
          "execution_count": 43
        }
      ]
    },
    {
      "cell_type": "code",
      "source": [
        "# dados da coluna ano após a conversão\n",
        "df_ibge_saude['ano'] = pd.to_datetime(df_ibge_saude['ano'], format='%Y')\n",
        "df_ibge_saude.dtypes"
      ],
      "metadata": {
        "id": "m9gPP9r9aG5h",
        "outputId": "bc59c0be-7fd5-4f56-f3cd-49ae7b41b112",
        "colab": {
          "base_uri": "https://localhost:8080/"
        }
      },
      "execution_count": 44,
      "outputs": [
        {
          "output_type": "execute_result",
          "data": {
            "text/plain": [
              "ano                           datetime64[ns]\n",
              "id_municipio                          object\n",
              "sigla_uf                              object\n",
              "nome                                  object\n",
              "cob_ab                               float64\n",
              "                                   ...      \n",
              "desp_recp_saude_pc_mun_def           float64\n",
              "desp_tot_saude_pc_uf_def             float64\n",
              "desp_recp_saude_pc_uf_def            float64\n",
              "num_familias_bf                      float64\n",
              "gasto_pbf_pc_def                     float64\n",
              "Length: 68, dtype: object"
            ]
          },
          "metadata": {},
          "execution_count": 44
        }
      ]
    },
    {
      "cell_type": "markdown",
      "source": [
        "### Conversão e tratamento dos dados da coluna tempo do DF dados_despesas"
      ],
      "metadata": {
        "id": "fLfZy69IHkz4"
      }
    },
    {
      "cell_type": "code",
      "source": [
        "# dados antes da conversão\n",
        "df_despesas.dtypes"
      ],
      "metadata": {
        "id": "ZZUm6a0eHscN",
        "outputId": "f1a6a7fe-3336-482b-d64e-3e947c0133c7",
        "colab": {
          "base_uri": "https://localhost:8080/"
        }
      },
      "execution_count": 45,
      "outputs": [
        {
          "output_type": "execute_result",
          "data": {
            "text/plain": [
              "DATA_FATO           object\n",
              "FONTE_RECURSO       object\n",
              "ORGAO_INTERNO       object\n",
              "ORGAO_VINCULADO     object\n",
              "ELEMENTO             int64\n",
              "SUBELEMENTO          int64\n",
              "FUNCAO               int64\n",
              "SUBFUNCAO            int64\n",
              "NATUREZA             int64\n",
              "VALOR_FIXADO       float64\n",
              "VALOR_EMPENHADO    float64\n",
              "VALOR_LIQUIDADO    float64\n",
              "VALOR_PAGO         float64\n",
              "SALDO              float64\n",
              "CODIGO              object\n",
              "dtype: object"
            ]
          },
          "metadata": {},
          "execution_count": 45
        }
      ]
    },
    {
      "cell_type": "code",
      "source": [
        "# dados após a conversão\n",
        "df_despesas['DATA_FATO'] = pd.to_datetime(df_despesas['DATA_FATO'])\n",
        "df_despesas.dtypes"
      ],
      "metadata": {
        "id": "ybSMgP4wHxP3",
        "outputId": "d4159af2-51e9-4286-a3fb-99bb4c2b120a",
        "colab": {
          "base_uri": "https://localhost:8080/"
        }
      },
      "execution_count": 46,
      "outputs": [
        {
          "output_type": "execute_result",
          "data": {
            "text/plain": [
              "DATA_FATO          datetime64[ns]\n",
              "FONTE_RECURSO              object\n",
              "ORGAO_INTERNO              object\n",
              "ORGAO_VINCULADO            object\n",
              "ELEMENTO                    int64\n",
              "SUBELEMENTO                 int64\n",
              "FUNCAO                      int64\n",
              "SUBFUNCAO                   int64\n",
              "NATUREZA                    int64\n",
              "VALOR_FIXADO              float64\n",
              "VALOR_EMPENHADO           float64\n",
              "VALOR_LIQUIDADO           float64\n",
              "VALOR_PAGO                float64\n",
              "SALDO                     float64\n",
              "CODIGO                     object\n",
              "dtype: object"
            ]
          },
          "metadata": {},
          "execution_count": 46
        }
      ]
    },
    {
      "cell_type": "markdown",
      "source": [
        "### Conversão na coluna ano do DF df_ibge_educacao"
      ],
      "metadata": {
        "id": "eQteOy0aFrn3"
      }
    },
    {
      "cell_type": "code",
      "source": [
        "# dados originais\n",
        "df_ibge_educacao.dtypes"
      ],
      "metadata": {
        "colab": {
          "base_uri": "https://localhost:8080/"
        },
        "id": "SpDLe4M1FRzS",
        "outputId": "f76d4a28-9510-47c8-f63a-3bdefcdd5acb"
      },
      "execution_count": 47,
      "outputs": [
        {
          "output_type": "execute_result",
          "data": {
            "text/plain": [
              "ano                                   int64\n",
              "atu_ei                              float64\n",
              "atu_ei_creche                       float64\n",
              "atu_ei_pre_escola                   float64\n",
              "atu_ef                              float64\n",
              "atu_ef_anos_iniciais                float64\n",
              "atu_ef_anos_finais                  float64\n",
              "tdi_ef_anos_iniciais                float64\n",
              "tdi_ef_anos_finais                  float64\n",
              "taxa_aprovacao_ef                   float64\n",
              "taxa_aprovacao_ef_anos_iniciais     float64\n",
              "taxa_aprovacao_ef_anos_finais       float64\n",
              "taxa_reprovacao_ef                  float64\n",
              "taxa_reprovacao_ef_anos_iniciais    float64\n",
              "taxa_reprovacao_ef_anos_finais      float64\n",
              "taxa_abandono_ef                    float64\n",
              "taxa_abandono_ef_anos_iniciais      float64\n",
              "taxa_abandono_ef_anos_finais        float64\n",
              "dsu_ei                              float64\n",
              "dsu_ei_creche                       float64\n",
              "dsu_ei_pre_escola                   float64\n",
              "dsu_ef                              float64\n",
              "dsu_ef_anos_iniciais                float64\n",
              "dsu_ef_anos_finais                  float64\n",
              "dtype: object"
            ]
          },
          "metadata": {},
          "execution_count": 47
        }
      ]
    },
    {
      "cell_type": "code",
      "source": [
        "# dados apos conversao para dt\n",
        "df_ibge_educacao['ano'] = pd.to_datetime(df_ibge_educacao['ano'], format='%Y')\n",
        "df_ibge_educacao.head(1)"
      ],
      "metadata": {
        "colab": {
          "base_uri": "https://localhost:8080/",
          "height": 208
        },
        "id": "ruQmKFtCFUtH",
        "outputId": "84fd2cba-5794-4ee0-e72f-317ab75fc830"
      },
      "execution_count": 48,
      "outputs": [
        {
          "output_type": "execute_result",
          "data": {
            "text/plain": [
              "         ano  atu_ei  atu_ei_creche  atu_ei_pre_escola  atu_ef  \\\n",
              "0 2011-01-01     NaN            NaN                NaN    16.2   \n",
              "\n",
              "   atu_ef_anos_iniciais  atu_ef_anos_finais  tdi_ef_anos_iniciais  \\\n",
              "0                   NaN                 NaN                  39.2   \n",
              "\n",
              "   tdi_ef_anos_finais  taxa_aprovacao_ef  ...  taxa_reprovacao_ef_anos_finais  \\\n",
              "0                 NaN               86.3  ...                             NaN   \n",
              "\n",
              "   taxa_abandono_ef  taxa_abandono_ef_anos_iniciais  \\\n",
              "0              10.5                            10.5   \n",
              "\n",
              "   taxa_abandono_ef_anos_finais  dsu_ei  dsu_ei_creche  dsu_ei_pre_escola  \\\n",
              "0                           NaN     NaN            NaN                NaN   \n",
              "\n",
              "   dsu_ef  dsu_ef_anos_iniciais  dsu_ef_anos_finais  \n",
              "0    16.7                   NaN                16.7  \n",
              "\n",
              "[1 rows x 24 columns]"
            ],
            "text/html": [
              "\n",
              "  <div id=\"df-3509fbff-a0a8-459a-a973-7be1912cd1ca\">\n",
              "    <div class=\"colab-df-container\">\n",
              "      <div>\n",
              "<style scoped>\n",
              "    .dataframe tbody tr th:only-of-type {\n",
              "        vertical-align: middle;\n",
              "    }\n",
              "\n",
              "    .dataframe tbody tr th {\n",
              "        vertical-align: top;\n",
              "    }\n",
              "\n",
              "    .dataframe thead th {\n",
              "        text-align: right;\n",
              "    }\n",
              "</style>\n",
              "<table border=\"1\" class=\"dataframe\">\n",
              "  <thead>\n",
              "    <tr style=\"text-align: right;\">\n",
              "      <th></th>\n",
              "      <th>ano</th>\n",
              "      <th>atu_ei</th>\n",
              "      <th>atu_ei_creche</th>\n",
              "      <th>atu_ei_pre_escola</th>\n",
              "      <th>atu_ef</th>\n",
              "      <th>atu_ef_anos_iniciais</th>\n",
              "      <th>atu_ef_anos_finais</th>\n",
              "      <th>tdi_ef_anos_iniciais</th>\n",
              "      <th>tdi_ef_anos_finais</th>\n",
              "      <th>taxa_aprovacao_ef</th>\n",
              "      <th>...</th>\n",
              "      <th>taxa_reprovacao_ef_anos_finais</th>\n",
              "      <th>taxa_abandono_ef</th>\n",
              "      <th>taxa_abandono_ef_anos_iniciais</th>\n",
              "      <th>taxa_abandono_ef_anos_finais</th>\n",
              "      <th>dsu_ei</th>\n",
              "      <th>dsu_ei_creche</th>\n",
              "      <th>dsu_ei_pre_escola</th>\n",
              "      <th>dsu_ef</th>\n",
              "      <th>dsu_ef_anos_iniciais</th>\n",
              "      <th>dsu_ef_anos_finais</th>\n",
              "    </tr>\n",
              "  </thead>\n",
              "  <tbody>\n",
              "    <tr>\n",
              "      <th>0</th>\n",
              "      <td>2011-01-01</td>\n",
              "      <td>NaN</td>\n",
              "      <td>NaN</td>\n",
              "      <td>NaN</td>\n",
              "      <td>16.2</td>\n",
              "      <td>NaN</td>\n",
              "      <td>NaN</td>\n",
              "      <td>39.2</td>\n",
              "      <td>NaN</td>\n",
              "      <td>86.3</td>\n",
              "      <td>...</td>\n",
              "      <td>NaN</td>\n",
              "      <td>10.5</td>\n",
              "      <td>10.5</td>\n",
              "      <td>NaN</td>\n",
              "      <td>NaN</td>\n",
              "      <td>NaN</td>\n",
              "      <td>NaN</td>\n",
              "      <td>16.7</td>\n",
              "      <td>NaN</td>\n",
              "      <td>16.7</td>\n",
              "    </tr>\n",
              "  </tbody>\n",
              "</table>\n",
              "<p>1 rows × 24 columns</p>\n",
              "</div>\n",
              "      <button class=\"colab-df-convert\" onclick=\"convertToInteractive('df-3509fbff-a0a8-459a-a973-7be1912cd1ca')\"\n",
              "              title=\"Convert this dataframe to an interactive table.\"\n",
              "              style=\"display:none;\">\n",
              "        \n",
              "  <svg xmlns=\"http://www.w3.org/2000/svg\" height=\"24px\"viewBox=\"0 0 24 24\"\n",
              "       width=\"24px\">\n",
              "    <path d=\"M0 0h24v24H0V0z\" fill=\"none\"/>\n",
              "    <path d=\"M18.56 5.44l.94 2.06.94-2.06 2.06-.94-2.06-.94-.94-2.06-.94 2.06-2.06.94zm-11 1L8.5 8.5l.94-2.06 2.06-.94-2.06-.94L8.5 2.5l-.94 2.06-2.06.94zm10 10l.94 2.06.94-2.06 2.06-.94-2.06-.94-.94-2.06-.94 2.06-2.06.94z\"/><path d=\"M17.41 7.96l-1.37-1.37c-.4-.4-.92-.59-1.43-.59-.52 0-1.04.2-1.43.59L10.3 9.45l-7.72 7.72c-.78.78-.78 2.05 0 2.83L4 21.41c.39.39.9.59 1.41.59.51 0 1.02-.2 1.41-.59l7.78-7.78 2.81-2.81c.8-.78.8-2.07 0-2.86zM5.41 20L4 18.59l7.72-7.72 1.47 1.35L5.41 20z\"/>\n",
              "  </svg>\n",
              "      </button>\n",
              "      \n",
              "  <style>\n",
              "    .colab-df-container {\n",
              "      display:flex;\n",
              "      flex-wrap:wrap;\n",
              "      gap: 12px;\n",
              "    }\n",
              "\n",
              "    .colab-df-convert {\n",
              "      background-color: #E8F0FE;\n",
              "      border: none;\n",
              "      border-radius: 50%;\n",
              "      cursor: pointer;\n",
              "      display: none;\n",
              "      fill: #1967D2;\n",
              "      height: 32px;\n",
              "      padding: 0 0 0 0;\n",
              "      width: 32px;\n",
              "    }\n",
              "\n",
              "    .colab-df-convert:hover {\n",
              "      background-color: #E2EBFA;\n",
              "      box-shadow: 0px 1px 2px rgba(60, 64, 67, 0.3), 0px 1px 3px 1px rgba(60, 64, 67, 0.15);\n",
              "      fill: #174EA6;\n",
              "    }\n",
              "\n",
              "    [theme=dark] .colab-df-convert {\n",
              "      background-color: #3B4455;\n",
              "      fill: #D2E3FC;\n",
              "    }\n",
              "\n",
              "    [theme=dark] .colab-df-convert:hover {\n",
              "      background-color: #434B5C;\n",
              "      box-shadow: 0px 1px 3px 1px rgba(0, 0, 0, 0.15);\n",
              "      filter: drop-shadow(0px 1px 2px rgba(0, 0, 0, 0.3));\n",
              "      fill: #FFFFFF;\n",
              "    }\n",
              "  </style>\n",
              "\n",
              "      <script>\n",
              "        const buttonEl =\n",
              "          document.querySelector('#df-3509fbff-a0a8-459a-a973-7be1912cd1ca button.colab-df-convert');\n",
              "        buttonEl.style.display =\n",
              "          google.colab.kernel.accessAllowed ? 'block' : 'none';\n",
              "\n",
              "        async function convertToInteractive(key) {\n",
              "          const element = document.querySelector('#df-3509fbff-a0a8-459a-a973-7be1912cd1ca');\n",
              "          const dataTable =\n",
              "            await google.colab.kernel.invokeFunction('convertToInteractive',\n",
              "                                                     [key], {});\n",
              "          if (!dataTable) return;\n",
              "\n",
              "          const docLinkHtml = 'Like what you see? Visit the ' +\n",
              "            '<a target=\"_blank\" href=https://colab.research.google.com/notebooks/data_table.ipynb>data table notebook</a>'\n",
              "            + ' to learn more about interactive tables.';\n",
              "          element.innerHTML = '';\n",
              "          dataTable['output_type'] = 'display_data';\n",
              "          await google.colab.output.renderOutput(dataTable, element);\n",
              "          const docLink = document.createElement('div');\n",
              "          docLink.innerHTML = docLinkHtml;\n",
              "          element.appendChild(docLink);\n",
              "        }\n",
              "      </script>\n",
              "    </div>\n",
              "  </div>\n",
              "  "
            ]
          },
          "metadata": {},
          "execution_count": 48
        }
      ]
    },
    {
      "cell_type": "code",
      "source": [
        "df_ibge_educacao.fillna(0.0,inplace=True)"
      ],
      "metadata": {
        "id": "uzGBa4Ar17ti"
      },
      "execution_count": 49,
      "outputs": []
    },
    {
      "cell_type": "code",
      "source": [
        "# dados apos a conversao\n",
        "df_ibge_educacao.dtypes"
      ],
      "metadata": {
        "colab": {
          "base_uri": "https://localhost:8080/"
        },
        "id": "SkngLEe7FUp6",
        "outputId": "f9a8f99f-a25b-4b5c-81c9-28df94b06178"
      },
      "execution_count": 50,
      "outputs": [
        {
          "output_type": "execute_result",
          "data": {
            "text/plain": [
              "ano                                 datetime64[ns]\n",
              "atu_ei                                     float64\n",
              "atu_ei_creche                              float64\n",
              "atu_ei_pre_escola                          float64\n",
              "atu_ef                                     float64\n",
              "atu_ef_anos_iniciais                       float64\n",
              "atu_ef_anos_finais                         float64\n",
              "tdi_ef_anos_iniciais                       float64\n",
              "tdi_ef_anos_finais                         float64\n",
              "taxa_aprovacao_ef                          float64\n",
              "taxa_aprovacao_ef_anos_iniciais            float64\n",
              "taxa_aprovacao_ef_anos_finais              float64\n",
              "taxa_reprovacao_ef                         float64\n",
              "taxa_reprovacao_ef_anos_iniciais           float64\n",
              "taxa_reprovacao_ef_anos_finais             float64\n",
              "taxa_abandono_ef                           float64\n",
              "taxa_abandono_ef_anos_iniciais             float64\n",
              "taxa_abandono_ef_anos_finais               float64\n",
              "dsu_ei                                     float64\n",
              "dsu_ei_creche                              float64\n",
              "dsu_ei_pre_escola                          float64\n",
              "dsu_ef                                     float64\n",
              "dsu_ef_anos_iniciais                       float64\n",
              "dsu_ef_anos_finais                         float64\n",
              "dtype: object"
            ]
          },
          "metadata": {},
          "execution_count": 50
        }
      ]
    },
    {
      "cell_type": "markdown",
      "source": [
        "# Análises"
      ],
      "metadata": {
        "id": "7xO_MJRiETt8"
      }
    },
    {
      "cell_type": "markdown",
      "source": [
        "## Séries históricas"
      ],
      "metadata": {
        "id": "NthP_TRzEYQm"
      }
    },
    {
      "cell_type": "markdown",
      "source": [
        "### Time series da população cajazeirense entre 1991 e 2021"
      ],
      "metadata": {
        "id": "6idchRs4GFxG"
      }
    },
    {
      "cell_type": "code",
      "source": [
        "df_ibge_populacao_index_ano = df_ibge_populacao.set_index('ano')"
      ],
      "metadata": {
        "id": "1b1W5--pG3z3",
        "outputId": "93f5f3b8-60ee-46f8-8783-048b3f70f4f8",
        "colab": {
          "base_uri": "https://localhost:8080/",
          "height": 165
        }
      },
      "execution_count": 51,
      "outputs": [
        {
          "output_type": "error",
          "ename": "NameError",
          "evalue": "ignored",
          "traceback": [
            "\u001b[0;31m---------------------------------------------------------------------------\u001b[0m",
            "\u001b[0;31mNameError\u001b[0m                                 Traceback (most recent call last)",
            "\u001b[0;32m<ipython-input-51-eff14d5f0b3c>\u001b[0m in \u001b[0;36m<cell line: 1>\u001b[0;34m()\u001b[0m\n\u001b[0;32m----> 1\u001b[0;31m \u001b[0mdf_ibge_populacao_index_ano\u001b[0m \u001b[0;34m=\u001b[0m \u001b[0mdf_ibge_populacao\u001b[0m\u001b[0;34m.\u001b[0m\u001b[0mset_index\u001b[0m\u001b[0;34m(\u001b[0m\u001b[0;34m'ano'\u001b[0m\u001b[0;34m)\u001b[0m\u001b[0;34m\u001b[0m\u001b[0;34m\u001b[0m\u001b[0m\n\u001b[0m",
            "\u001b[0;31mNameError\u001b[0m: name 'df_ibge_populacao' is not defined"
          ]
        }
      ]
    },
    {
      "cell_type": "code",
      "source": [
        "# Plota o gráfico de linha com as séries temporais\n",
        "fig, ax = plt.subplots(figsize=(10, 5))\n",
        "\n",
        "ax.plot(df_ibge_populacao_index_ano.index, df_ibge_populacao_index_ano['populacao'], label='Total Anual')\n",
        "\n",
        "# Adiciona legenda e título ao gráfico\n",
        "ax.legend()\n",
        "ax.set_title('População Cajazeirense entre 1991 e 2021 - IBGE')\n",
        "\n",
        "# Exibe o gráfico\n",
        "plt.show()"
      ],
      "metadata": {
        "id": "aoSKDi4tDKfu"
      },
      "execution_count": null,
      "outputs": []
    },
    {
      "cell_type": "code",
      "source": [
        "df_ibge_populacao_index_ano['variacao_anual'] = df_ibge_populacao_index_ano['populacao'].diff()\n",
        "df_ibge_populacao_index_ano['porcentagem_variacao_anual_%'] = ((df_ibge_populacao_index_ano['variacao_anual'] / df_ibge_populacao_index_ano['populacao'].shift(1)) * 100).round(2)\n",
        "df_ibge_populacao_index_ano['aceleracao_variacao_anual'] = df_ibge_populacao_index_ano['variacao_anual'].diff()\n",
        "df_ibge_populacao_index_ano['porcentagem_aceleracao_variacao_anual_%'] = ((df_ibge_populacao_index_ano['aceleracao_variacao_anual'] / df_ibge_populacao_index_ano['variacao_anual'].shift(1)) * 100).round(2)\n",
        "df_ibge_populacao_index_ano"
      ],
      "metadata": {
        "id": "r6SpEf5bGi3B"
      },
      "execution_count": null,
      "outputs": []
    },
    {
      "cell_type": "code",
      "source": [
        "# Plota o gráfico de linha com as séries temporais\n",
        "fig, ax = plt.subplots(figsize=(10, 5))\n",
        "\n",
        "ax.plot(df_ibge_populacao_index_ano.index, df_ibge_populacao_index_ano['variacao_anual'], label='Variação')\n",
        "\n",
        "# Adiciona legenda e título ao gráfico\n",
        "ax.legend()\n",
        "ax.set_title('Variação Anual Populacional Cajazeirense entre 1991 e 2021 - IBGE')\n",
        "\n",
        "# Exibe o gráfico\n",
        "plt.show()"
      ],
      "metadata": {
        "id": "xoUKPuisHles"
      },
      "execution_count": null,
      "outputs": []
    },
    {
      "cell_type": "code",
      "source": [
        "# Plota o gráfico de linha com as séries temporais\n",
        "fig, ax = plt.subplots(figsize=(10, 5))\n",
        "\n",
        "ax.plot(df_ibge_populacao_index_ano.index, df_ibge_populacao_index_ano['aceleracao_variacao_anual'], label='Aceleração')\n",
        "\n",
        "# Adiciona legenda e título ao gráfico\n",
        "ax.legend()\n",
        "ax.set_title('Aceleração Crescimento Anual Populacional Cajazeirense entre 1991 e 2021 - IBGE')\n",
        "\n",
        "# Exibe o gráfico\n",
        "plt.show()"
      ],
      "metadata": {
        "id": "a_0U0Ae7H8CX"
      },
      "execution_count": null,
      "outputs": []
    },
    {
      "cell_type": "code",
      "source": [
        "print(f\"Total da variação populacional entre 1991 e 2021: {df_ibge_populacao_index_ano['variacao_anual'].sum()}\")\n",
        "print(f\"Média móvel da variação anual: {(df_ibge_populacao_index_ano['variacao_anual'].sum()/df_ibge_populacao_index_ano.shape[0]).round(2)}\")"
      ],
      "metadata": {
        "id": "SXNc479PIdx9"
      },
      "execution_count": null,
      "outputs": []
    },
    {
      "cell_type": "code",
      "source": [
        "print(f\"Total da aceleração da variação populacional entre 1991 e 2021: {df_ibge_populacao_index_ano['aceleracao_variacao_anual'].sum()}\")\n",
        "print(f\"Média móvel anual da aceleração da variação populacional entre 1991 e 2021: {(df_ibge_populacao_index_ano['aceleracao_variacao_anual'].sum()/df_ibge_populacao_index_ano.shape[0]).round(2)}\")"
      ],
      "metadata": {
        "id": "yZM9Ghv8KLwL"
      },
      "execution_count": null,
      "outputs": []
    },
    {
      "cell_type": "code",
      "source": [
        "print(f\"Porcentagem da variação populacional entre 1991 e 2021: {df_ibge_populacao_index_ano['porcentagem_variacao_anual_%'].sum().round(2)}%\")\n",
        "print(f\"Média percentual móvel anual da variação populacional entre 1991 e 2021: {(df_ibge_populacao_index_ano['porcentagem_variacao_anual_%'].sum()/df_ibge_populacao_index_ano.shape[0]).round(2)}%\")"
      ],
      "metadata": {
        "id": "y8biiBQ5M2HO"
      },
      "execution_count": null,
      "outputs": []
    },
    {
      "cell_type": "code",
      "source": [
        "print(f\"Porcentagem da aceleração da variação populacional entre 1991 e 2021: {df_ibge_populacao_index_ano['porcentagem_aceleracao_variacao_anual_%'].sum().round(2)}%\")\n",
        "print(f\"Média percentual móvel anual da aceleração da variação populacional entre 1991 e 2021: {(df_ibge_populacao_index_ano['porcentagem_aceleracao_variacao_anual_%'].sum()/df_ibge_populacao_index_ano.shape[0]).round(2)}%\")"
      ],
      "metadata": {
        "id": "JgnFTjr-M1-0"
      },
      "execution_count": null,
      "outputs": []
    },
    {
      "cell_type": "markdown",
      "source": [
        "### Time series do pib entre 1999 e 2020"
      ],
      "metadata": {
        "id": "n3HPjhMOc1qN"
      }
    },
    {
      "cell_type": "code",
      "source": [
        "# verificando se há valores nulos\n",
        "df_ibge_pib.isna().value_counts()"
      ],
      "metadata": {
        "id": "_NcsC_c1c06g"
      },
      "execution_count": null,
      "outputs": []
    },
    {
      "cell_type": "code",
      "source": [
        "# verificando o tipo das colunas\n",
        "df_ibge_pib.dtypes"
      ],
      "metadata": {
        "id": "8C8BlV24dL_T"
      },
      "execution_count": null,
      "outputs": []
    },
    {
      "cell_type": "code",
      "source": [
        "# criando df para analises dos dados\n",
        "df_valor_pib_analise = df_ibge_pib[['ano','pib', 'impostos_liquidos', 'va', 'va_agropecuaria', 'va_industria', 'va_servicos', 'va_adespss']]\n",
        "\n",
        "df_valor_pib_analise.set_index('ano', inplace=True)\n",
        "df_valor_pib_analise"
      ],
      "metadata": {
        "id": "82oNh8pTdSoZ"
      },
      "execution_count": null,
      "outputs": []
    },
    {
      "cell_type": "markdown",
      "source": [
        "#### PIB"
      ],
      "metadata": {
        "id": "C3NtWW70f5zZ"
      }
    },
    {
      "cell_type": "code",
      "source": [
        "df_pib_analise = df_valor_pib_analise.copy()\n",
        "df_pib_analise.drop(columns=['impostos_liquidos','va','va_agropecuaria','va_industria','va_servicos','va_adespss'], inplace=True)\n",
        "\n",
        "pd.options.display.float_format = '{:.2f}'.format\n",
        "print(df_pib_analise)"
      ],
      "metadata": {
        "id": "KolYCUAvgdoI"
      },
      "execution_count": null,
      "outputs": []
    },
    {
      "cell_type": "code",
      "source": [
        "# inferindo variação e acelaração anual do pib\n",
        "df_pib_analise['variacao_anual'] = df_pib_analise['pib'].diff()\n",
        "df_pib_analise['porcentagem_variacao_anual_%'] = ((df_pib_analise['variacao_anual'] / df_pib_analise['pib'].shift(1)) * 100).round(2)\n",
        "df_pib_analise['aceleracao_variacao_anual'] = df_pib_analise['variacao_anual'].diff()\n",
        "df_pib_analise['porcentagem_aceleracao_variacao_anual_%'] = ((df_pib_analise['aceleracao_variacao_anual'] / df_pib_analise['variacao_anual'].shift(1)) * 100).round(2)\n",
        "df_pib_analise"
      ],
      "metadata": {
        "id": "WHqYR4Y1dSl3"
      },
      "execution_count": null,
      "outputs": []
    },
    {
      "cell_type": "code",
      "source": [
        "# Plota o gráfico de linha com as séries temporais\n",
        "fig, ax = plt.subplots(figsize=(10, 5))\n",
        "ax.plot(df_pib_analise.index, df_pib_analise['pib'], label='Valor Anual - R$')\n",
        "\n",
        "# Adiciona legenda e título ao gráfico\n",
        "ax.legend()\n",
        "ax.set_title('PIB municipal anual bruto entre os anos de 1999 a 2020')\n",
        "ax.xaxis.label.set_visible(False)  # esconde a legenda do eixo X\n",
        "\n",
        "# Configura o eixo x para não mostrar nenhum rótulo\n",
        "# plt.gca().set_xticklabels([])\n",
        "\n",
        "# Exibe o gráfico\n",
        "plt.show()"
      ],
      "metadata": {
        "id": "NoRSULvRdSjT"
      },
      "execution_count": null,
      "outputs": []
    },
    {
      "cell_type": "code",
      "source": [
        "# Plota o gráfico de linha com as séries temporais\n",
        "fig, ax = plt.subplots(figsize=(10, 5))\n",
        "ax.plot(df_pib_analise.index, df_pib_analise['variacao_anual'], label='Valor Anual - R$')\n",
        "\n",
        "# Adiciona legenda e título ao gráfico\n",
        "ax.legend()\n",
        "ax.set_title('Variação do PIB municipal bruto entre os anos de 1999 a 2020')\n",
        "ax.xaxis.label.set_visible(False)  # esconde a legenda do eixo X\n",
        "\n",
        "# Configura o eixo x para não mostrar nenhum rótulo\n",
        "# plt.gca().set_xticklabels([])\n",
        "\n",
        "# Exibe o gráfico\n",
        "plt.show()"
      ],
      "metadata": {
        "id": "OlGp23S6dSg-"
      },
      "execution_count": null,
      "outputs": []
    },
    {
      "cell_type": "code",
      "source": [
        "# Plota o gráfico de linha com as séries temporais\n",
        "fig, ax = plt.subplots(figsize=(10, 5))\n",
        "ax.plot(df_pib_analise.index, df_pib_analise['aceleracao_variacao_anual'], label='Valor Anual - R$')\n",
        "\n",
        "# Adiciona legenda e título ao gráfico\n",
        "ax.legend()\n",
        "ax.set_title('Aceleração do PIB municipal anual bruto entre os anos de 1999 a 2020')\n",
        "ax.xaxis.label.set_visible(False)  # esconde a legenda do eixo X\n",
        "\n",
        "# Configura o eixo x para não mostrar nenhum rótulo\n",
        "# plt.gca().set_xticklabels([])\n",
        "\n",
        "# Exibe o gráfico\n",
        "plt.show()"
      ],
      "metadata": {
        "id": "wnjl-XHAdSeY"
      },
      "execution_count": null,
      "outputs": []
    },
    {
      "cell_type": "code",
      "source": [
        "print(f\"Total da variação do PIB municipal: R$ {df_pib_analise['variacao_anual'].sum().round(2)}\")\n",
        "print(f\"Média móvel anual da variação do PIB municipal: R$ {(df_pib_analise['variacao_anual'].sum()/df_pib_analise.shape[0]).round(2)}\")"
      ],
      "metadata": {
        "id": "nke_w-NXdSZQ"
      },
      "execution_count": null,
      "outputs": []
    },
    {
      "cell_type": "code",
      "source": [
        "print(f\"Total da aceleração da variação do PIB municipal: R$ {df_pib_analise['aceleracao_variacao_anual'].sum().round(2)}\")\n",
        "print(f\"Média móvel anual da aceleração da variação do PIB municipal: R$ {(df_pib_analise['aceleracao_variacao_anual'].sum()/df_pib_analise.shape[0]).round(2)}\")"
      ],
      "metadata": {
        "id": "osEnrUxph080"
      },
      "execution_count": null,
      "outputs": []
    },
    {
      "cell_type": "code",
      "source": [
        "print(f\"Porcentagem da variação do PIB municipal: {df_pib_analise['porcentagem_variacao_anual_%'].sum().round(2)}%\")\n",
        "print(f\"Média móvel percentual anual da variação do PIB municipal: {(df_pib_analise['porcentagem_variacao_anual_%'].sum()/df_pib_analise.shape[0]).round(2)}%\")"
      ],
      "metadata": {
        "id": "sb9R1rWXh010"
      },
      "execution_count": null,
      "outputs": []
    },
    {
      "cell_type": "code",
      "source": [
        "print(f\"Porcentagem da aceleração da variação do PIB municipal: {df_pib_analise['porcentagem_aceleracao_variacao_anual_%'].sum().round(2)}%\")\n",
        "print(f\"Média móvel percentual anual da acelereção variação do PIB municipal: {(df_pib_analise['porcentagem_aceleracao_variacao_anual_%'].sum()/df_pib_analise.shape[0]).round(2)}%\")"
      ],
      "metadata": {
        "id": "03Rh6iMRh0t3"
      },
      "execution_count": null,
      "outputs": []
    },
    {
      "cell_type": "markdown",
      "source": [
        "#### Valores brutos específicos"
      ],
      "metadata": {
        "id": "R2yOWQ9EOO2X"
      }
    },
    {
      "cell_type": "code",
      "source": [
        "df_va_analise = df_valor_pib_analise.copy()\n",
        "df_va_analise.drop(columns=['pib', 'impostos_liquidos'], inplace=True)\n",
        "\n",
        "pd.options.display.float_format = '{:.2f}'.format\n",
        "print(df_va_analise)"
      ],
      "metadata": {
        "id": "H94Imy6oOOSK"
      },
      "execution_count": null,
      "outputs": []
    },
    {
      "cell_type": "code",
      "source": [
        "# inferindo variação e acelaração anual dos valores brutos\n",
        "df_va_analise['variacao_anual_va'] = df_va_analise['va'].diff()\n",
        "df_va_analise['porcentagem_variacao_anual_va_%'] = ((df_va_analise['variacao_anual_va'] / df_va_analise['va'].shift(1)) * 100).round(2)\n",
        "df_va_analise['aceleracao_variacao_anual_va'] = df_va_analise['variacao_anual_va'].diff()\n",
        "df_va_analise['porcentagem_aceleracao_variacao_anual_va_%'] = ((df_va_analise['aceleracao_variacao_anual_va'] / df_va_analise['variacao_anual_va'].shift(1)) * 100).round(2)"
      ],
      "metadata": {
        "id": "cWeGFhoEPokA"
      },
      "execution_count": null,
      "outputs": []
    },
    {
      "cell_type": "code",
      "source": [
        "# inferindo variação e acelaração anual dos valores brutos\n",
        "df_va_analise['variacao_anual_va_agropecuaria'] = df_va_analise['va_agropecuaria'].diff()\n",
        "df_va_analise['porcentagem_variacao_anual_va_agropecuaria_%'] = ((df_va_analise['variacao_anual_va_agropecuaria'] / df_va_analise['va_agropecuaria'].shift(1)) * 100).round(2)\n",
        "df_va_analise['aceleracao_variacao_anual_va_agropecuaria'] = df_va_analise['variacao_anual_va_agropecuaria'].diff()\n",
        "df_va_analise['porcentagem_aceleracao_variacao_anual_va_agropecuaria_%'] = ((df_va_analise['aceleracao_variacao_anual_va_agropecuaria'] / df_va_analise['variacao_anual_va_agropecuaria'].shift(1)) * 100).round(2)"
      ],
      "metadata": {
        "id": "lcilOD-IPohF"
      },
      "execution_count": null,
      "outputs": []
    },
    {
      "cell_type": "code",
      "source": [
        "# inferindo variação e acelaração anual dos valores brutos\n",
        "df_va_analise['variacao_anual_va_industria'] = df_va_analise['va_industria'].diff()\n",
        "df_va_analise['porcentagem_variacao_anual_va_industria_%'] = ((df_va_analise['variacao_anual_va_industria'] / df_va_analise['va_industria'].shift(1)) * 100).round(2)\n",
        "df_va_analise['aceleracao_variacao_anual_va_industria'] = df_va_analise['variacao_anual_va_industria'].diff()\n",
        "df_va_analise['porcentagem_aceleracao_variacao_anual_va_industria_%'] = ((df_va_analise['aceleracao_variacao_anual_va_industria'] / df_va_analise['variacao_anual_va_industria'].shift(1)) * 100).round(2)"
      ],
      "metadata": {
        "id": "aOuDLx2CPoeN"
      },
      "execution_count": null,
      "outputs": []
    },
    {
      "cell_type": "code",
      "source": [
        "# inferindo variação e acelaração anual dos valores brutos\n",
        "df_va_analise['variacao_anual_va_servicos'] = df_va_analise['va_servicos'].diff()\n",
        "df_va_analise['porcentagem_variacao_anual_va_servicos_%'] = ((df_va_analise['variacao_anual_va_servicos'] / df_va_analise['va_servicos'].shift(1)) * 100).round(2)\n",
        "df_va_analise['aceleracao_variacao_anual_va_servicos'] = df_va_analise['variacao_anual_va_servicos'].diff()\n",
        "df_va_analise['porcentagem_aceleracao_variacao_anual_va_servicos_%'] = ((df_va_analise['aceleracao_variacao_anual_va_servicos'] / df_va_analise['variacao_anual_va_servicos'].shift(1)) * 100).round(2)"
      ],
      "metadata": {
        "id": "2W-XyRK2PoVB"
      },
      "execution_count": null,
      "outputs": []
    },
    {
      "cell_type": "code",
      "source": [
        "# inferindo variação e acelaração anual dos valores brutos\n",
        "df_va_analise['variacao_anual_va_adespss'] = df_va_analise['va_adespss'].diff()\n",
        "df_va_analise['porcentagem_variacao_anual_va_adespss_%'] = ((df_va_analise['variacao_anual_va_adespss'] / df_va_analise['va_adespss'].shift(1)) * 100).round(2)\n",
        "df_va_analise['aceleracao_variacao_anual_va_adespss'] = df_va_analise['variacao_anual_va_adespss'].diff()\n",
        "df_va_analise['porcentagem_aceleracao_variacao_anual_va_adespss_%'] = ((df_va_analise['aceleracao_variacao_anual_va_adespss'] / df_va_analise['variacao_anual_va_adespss'].shift(1)) * 100).round(2)\n",
        "df_va_analise"
      ],
      "metadata": {
        "id": "5_UE5jMVQEai"
      },
      "execution_count": null,
      "outputs": []
    },
    {
      "cell_type": "code",
      "source": [
        "# Plota o gráfico de linha com as séries temporais\n",
        "fig, ax = plt.subplots(figsize=(10, 5))\n",
        "\n",
        "ax.plot(df_va_analise.index, df_va_analise['va'], label='Valor - R$')\n",
        "\n",
        "# Adiciona legenda e título ao gráfico\n",
        "ax.legend()\n",
        "ax.set_title('Valores adicionado bruto a preços correntes 1990 e 2020 - IBGE')\n",
        "\n",
        "# Exibe o gráfico\n",
        "plt.show()"
      ],
      "metadata": {
        "id": "r-pH2blRQlsj"
      },
      "execution_count": null,
      "outputs": []
    },
    {
      "cell_type": "code",
      "source": [
        "# Plota o gráfico de linha com as séries temporais\n",
        "fig, ax = plt.subplots(figsize=(10, 5))\n",
        "\n",
        "ax.plot(df_va_analise.index, df_va_analise['variacao_anual_va'], label='Valor - R$')\n",
        "\n",
        "# Adiciona legenda e título ao gráfico\n",
        "ax.legend()\n",
        "ax.set_title('Variação anual dos valores adicionado bruto a preços correntes 1990 e 2020 - IBGE')\n",
        "\n",
        "# Exibe o gráfico\n",
        "plt.show()"
      ],
      "metadata": {
        "id": "TMWyJAtqQlnF"
      },
      "execution_count": null,
      "outputs": []
    },
    {
      "cell_type": "code",
      "source": [
        "# Plota o gráfico de linha com as séries temporais\n",
        "fig, ax = plt.subplots(figsize=(10, 5))\n",
        "\n",
        "ax.plot(df_va_analise.index, df_va_analise['aceleracao_variacao_anual_va'], label='Valor - R$')\n",
        "\n",
        "# Adiciona legenda e título ao gráfico\n",
        "ax.legend()\n",
        "ax.set_title('Aceleração da variação anual dos valores adicionado bruto a preços correntes 1990 e 2020 - IBGE')\n",
        "\n",
        "# Exibe o gráfico\n",
        "plt.show()"
      ],
      "metadata": {
        "id": "iyYXcVabQlqB"
      },
      "execution_count": null,
      "outputs": []
    },
    {
      "cell_type": "code",
      "source": [
        "# Plota o gráfico de linha com as séries temporais\n",
        "fig, ax = plt.subplots(figsize=(10, 5))\n",
        "\n",
        "ax.plot(df_va_analise.index, df_va_analise['va_agropecuaria'], label='Valor - R$')\n",
        "\n",
        "# Adiciona legenda e título ao gráfico\n",
        "ax.legend()\n",
        "ax.set_title('Valores adicionado bruto a preços correntes da agropecuária 1990 e 2020 - IBGE')\n",
        "\n",
        "# Exibe o gráfico\n",
        "plt.show()"
      ],
      "metadata": {
        "id": "3XXaRCgIQli-"
      },
      "execution_count": null,
      "outputs": []
    },
    {
      "cell_type": "code",
      "source": [
        "# Plota o gráfico de linha com as séries temporais\n",
        "fig, ax = plt.subplots(figsize=(10, 5))\n",
        "\n",
        "ax.plot(df_va_analise.index, df_va_analise['variacao_anual_va_agropecuaria'], label='Valor - R$')\n",
        "\n",
        "# Adiciona legenda e título ao gráfico\n",
        "ax.legend()\n",
        "ax.set_title('Variação anual dos valores adicionado bruto a preços correntes da agropecuária 1990 e 2020 - IBGE')\n",
        "\n",
        "# Exibe o gráfico\n",
        "plt.show()"
      ],
      "metadata": {
        "id": "9z_y_t_vQlgH"
      },
      "execution_count": null,
      "outputs": []
    },
    {
      "cell_type": "code",
      "source": [
        "# Plota o gráfico de linha com as séries temporais\n",
        "fig, ax = plt.subplots(figsize=(10, 5))\n",
        "\n",
        "ax.plot(df_va_analise.index, df_va_analise['aceleracao_variacao_anual_va_agropecuaria'], label='Valor - R$')\n",
        "\n",
        "# Adiciona legenda e título ao gráfico\n",
        "ax.legend()\n",
        "ax.set_title('Aceleração da variação anual dos valores adicionado bruto a preços correntes da agropecuária 1990 e 2020 - IBGE')\n",
        "\n",
        "# Exibe o gráfico\n",
        "plt.show()"
      ],
      "metadata": {
        "id": "VNlQ1KZzQldf"
      },
      "execution_count": null,
      "outputs": []
    },
    {
      "cell_type": "code",
      "source": [
        "# Plota o gráfico de linha com as séries temporais\n",
        "fig, ax = plt.subplots(figsize=(10, 5))\n",
        "\n",
        "ax.plot(df_va_analise.index, df_va_analise['va_industria'], label='Valor - R$')\n",
        "\n",
        "# Adiciona legenda e título ao gráfico\n",
        "ax.legend()\n",
        "ax.set_title('Valores adicionado bruto a preços correntes da indústria 1990 e 2020 - IBGE')\n",
        "\n",
        "# Exibe o gráfico\n",
        "plt.show()"
      ],
      "metadata": {
        "id": "RlJN3ujFQlay"
      },
      "execution_count": null,
      "outputs": []
    },
    {
      "cell_type": "code",
      "source": [
        "# Plota o gráfico de linha com as séries temporais\n",
        "fig, ax = plt.subplots(figsize=(10, 5))\n",
        "\n",
        "ax.plot(df_va_analise.index, df_va_analise['variacao_anual_va_industria'], label='Valor - R$')\n",
        "\n",
        "# Adiciona legenda e título ao gráfico\n",
        "ax.legend()\n",
        "ax.set_title('Variação anual dos valores adicionado bruto a preços correntes da indústria 1990 e 2020 - IBGE')\n",
        "\n",
        "# Exibe o gráfico\n",
        "plt.show()"
      ],
      "metadata": {
        "id": "CE-jYx8tQlYI"
      },
      "execution_count": null,
      "outputs": []
    },
    {
      "cell_type": "code",
      "source": [
        "# Plota o gráfico de linha com as séries temporais\n",
        "fig, ax = plt.subplots(figsize=(10, 5))\n",
        "\n",
        "ax.plot(df_va_analise.index, df_va_analise['aceleracao_variacao_anual_va_industria'], label='Valor - R$')\n",
        "\n",
        "# Adiciona legenda e título ao gráfico\n",
        "ax.legend()\n",
        "ax.set_title('Aceleração da variação anual dos valores adicionado bruto a preços correntes da indústria 1990 e 2020 - IBGE')\n",
        "\n",
        "# Exibe o gráfico\n",
        "plt.show()"
      ],
      "metadata": {
        "id": "kCCx6lYiQlVL"
      },
      "execution_count": null,
      "outputs": []
    },
    {
      "cell_type": "code",
      "source": [
        "# Plota o gráfico de linha com as séries temporais\n",
        "fig, ax = plt.subplots(figsize=(10, 5))\n",
        "\n",
        "ax.plot(df_va_analise.index, df_va_analise['va_servicos'], label='Valor - R$')\n",
        "\n",
        "# Adiciona legenda e título ao gráfico\n",
        "ax.legend()\n",
        "ax.set_title('Valores adicionado bruto a preços correntes dos serviços 1990 e 2020 - IBGE')\n",
        "\n",
        "# Exibe o gráfico\n",
        "plt.show()"
      ],
      "metadata": {
        "id": "J_eG7YuLQlSq"
      },
      "execution_count": null,
      "outputs": []
    },
    {
      "cell_type": "code",
      "source": [
        "# Plota o gráfico de linha com as séries temporais\n",
        "fig, ax = plt.subplots(figsize=(10, 5))\n",
        "\n",
        "ax.plot(df_va_analise.index, df_va_analise['variacao_anual_va_servicos'], label='Valor - R$')\n",
        "\n",
        "# Adiciona legenda e título ao gráfico\n",
        "ax.legend()\n",
        "ax.set_title('Variação anual dos valores adicionado bruto a preços correntes dos serviços 1990 e 2020 - IBGE')\n",
        "\n",
        "# Exibe o gráfico\n",
        "plt.show()"
      ],
      "metadata": {
        "id": "Zzk2ea_4QlQL"
      },
      "execution_count": null,
      "outputs": []
    },
    {
      "cell_type": "code",
      "source": [
        "# Plota o gráfico de linha com as séries temporais\n",
        "fig, ax = plt.subplots(figsize=(10, 5))\n",
        "\n",
        "ax.plot(df_va_analise.index, df_va_analise['aceleracao_variacao_anual_va_servicos'], label='Valor - R$')\n",
        "\n",
        "# Adiciona legenda e título ao gráfico\n",
        "ax.legend()\n",
        "ax.set_title('Aceleração da variação anual dos valores adicionado bruto a preços correntes dos serviços 1990 e 2020 - IBGE')\n",
        "\n",
        "# Exibe o gráfico\n",
        "plt.show()"
      ],
      "metadata": {
        "id": "f9ACYF6tQlNa"
      },
      "execution_count": null,
      "outputs": []
    },
    {
      "cell_type": "code",
      "source": [
        "# Plota o gráfico de linha com as séries temporais\n",
        "fig, ax = plt.subplots(figsize=(10, 5))\n",
        "\n",
        "ax.plot(df_va_analise.index, df_va_analise['va_adespss'], label='Valor - R$')\n",
        "\n",
        "# Adiciona legenda e título ao gráfico\n",
        "ax.legend()\n",
        "ax.set_title('Valores adicionado bruto a preços correntes dos serviços públicos 1990 e 2020 - IBGE')\n",
        "\n",
        "# Exibe o gráfico\n",
        "plt.show()"
      ],
      "metadata": {
        "id": "8PUsEnmBQlKw"
      },
      "execution_count": null,
      "outputs": []
    },
    {
      "cell_type": "code",
      "source": [
        "# Plota o gráfico de linha com as séries temporais\n",
        "fig, ax = plt.subplots(figsize=(10, 5))\n",
        "\n",
        "ax.plot(df_va_analise.index, df_va_analise['variacao_anual_va_adespss'], label='Valor - R$')\n",
        "\n",
        "# Adiciona legenda e título ao gráfico\n",
        "ax.legend()\n",
        "ax.set_title('Variação anual dos valores adicionado bruto a preços correntes dos serviços públicos 1990 e 2020 - IBGE')\n",
        "\n",
        "# Exibe o gráfico\n",
        "plt.show()"
      ],
      "metadata": {
        "id": "wPTvLjjnQlH7"
      },
      "execution_count": null,
      "outputs": []
    },
    {
      "cell_type": "code",
      "source": [
        "# Plota o gráfico de linha com as séries temporais\n",
        "fig, ax = plt.subplots(figsize=(10, 5))\n",
        "\n",
        "ax.plot(df_va_analise.index, df_va_analise['aceleracao_variacao_anual_va_adespss'], label='Valor - R$')\n",
        "\n",
        "# Adiciona legenda e título ao gráfico\n",
        "ax.legend()\n",
        "ax.set_title('Aceleração da variação anual dos valores adicionado bruto a preços correntes dos serviços públicos 1990 e 2020 - IBGE')\n",
        "\n",
        "# Exibe o gráfico\n",
        "plt.show()"
      ],
      "metadata": {
        "id": "ZgkzwM8pQlFh"
      },
      "execution_count": null,
      "outputs": []
    },
    {
      "cell_type": "code",
      "source": [
        "# Variação da receita bruta anual\n",
        "print(f\"Total da variação anual da receita bruta anual entre 1999 e 2020: R$ {df_va_analise['variacao_anual_va'].sum().round(2)}\")\n",
        "print(f\"Média móvel da variação anual: R$ {(df_va_analise['variacao_anual_va'].sum()/df_va_analise.shape[0]).round(2)}\")\n",
        "\n",
        "# Aceleração da variação da receita bruta anual\n",
        "print(f\"\\nTotal da aceleração da variação anual da receita bruta entre 1999 e 2020: R$ {df_va_analise['aceleracao_variacao_anual_va'].sum().round(2)}\")\n",
        "print(f\"Média móvel anual da aceleração da variação anual da receita bruta: R${(df_va_analise['aceleracao_variacao_anual_va'].sum()/df_va_analise.shape[0]).round(2)}\")\n",
        "\n",
        "# Porcentagem da variação da receita bruta anual\n",
        "print(f\"\\nPorcentagem da variação anual da receita bruta entre 1999 e 2020: {df_va_analise['porcentagem_variacao_anual_va_%'].sum().round(2)}%\")\n",
        "print(f\"Média percentual móvel anual da variação anual da receita bruta: {(df_va_analise['porcentagem_variacao_anual_va_%'].sum()/df_va_analise.shape[0]).round(2)}%\")\n",
        "\n",
        "# Porcentagem da aceleração da variação da receita bruta anual\n",
        "print(f\"\\nPorcentagem da aceleração da variação anual da receita bruta entre 1999 e 2020: {df_va_analise['porcentagem_aceleracao_variacao_anual_va_%'].sum().round(2)}%\")\n",
        "print(f\"Média percentual móvel anual da aceleração da variação anual da receita bruta: {(df_va_analise['porcentagem_aceleracao_variacao_anual_va_%'].sum()/df_va_analise.shape[0]).round(2)}%\")"
      ],
      "metadata": {
        "id": "eQnE6DQ-QlC7"
      },
      "execution_count": null,
      "outputs": []
    },
    {
      "cell_type": "code",
      "source": [
        "# Variação da receita bruta anual da agropecuária\n",
        "print(f\"Total da variação anual da receita bruta da agropecuária entre 1999 e 2020: R$ {df_va_analise['variacao_anual_va_agropecuaria'].sum().round(2)}\")\n",
        "print(f\"Média móvel da variação da agropecuária anual: R$ {(df_va_analise['variacao_anual_va_agropecuaria'].sum()/df_va_analise.shape[0]).round(2)}\")\n",
        "\n",
        "# Aceleração da variação da receita bruta anual da agropecuária \n",
        "print(f\"\\nTotal da aceleração da variação anual da receita bruta da agropecuária entre 1999 e 2020: R$ {df_va_analise['aceleracao_variacao_anual_va_agropecuaria'].sum().round(2)}\")\n",
        "print(f\"Média móvel anual da aceleração da variação anual da receita bruta da agropecuária: R${(df_va_analise['aceleracao_variacao_anual_va_agropecuaria'].sum()/df_va_analise.shape[0]).round(2)}\")\n",
        "\n",
        "# Porcentagem da variação da receita bruta anual da agropecuária \n",
        "print(f\"\\nPorcentagem da variação anual da receita bruta da agropecuária entre 1999 e 2020: {df_va_analise['porcentagem_variacao_anual_va_agropecuaria_%'].sum().round(2)}%\")\n",
        "print(f\"Média percentual móvel anual da variação anual da receita bruta da agropecuária: {(df_va_analise['porcentagem_variacao_anual_va_agropecuaria_%'].sum()/df_va_analise.shape[0]).round(2)}%\")\n",
        "\n",
        "# Porcentagem da aceleração da variação da receita bruta anual da agropecuária \n",
        "print(f\"\\nPorcentagem da aceleração da variação anual da receita bruta da agropecuária entre 1999 e 2020: {df_va_analise['porcentagem_aceleracao_variacao_anual_va_agropecuaria_%'].sum().round(2)}%\")\n",
        "print(f\"Média percentual móvel anual da aceleração da variação anual da receita bruta da agropecuária: {(df_va_analise['porcentagem_aceleracao_variacao_anual_va_agropecuaria_%'].sum()/df_va_analise.shape[0]).round(2)}%\")"
      ],
      "metadata": {
        "id": "v2S4NhW3QlAz"
      },
      "execution_count": null,
      "outputs": []
    },
    {
      "cell_type": "code",
      "source": [
        "# Variação da receita bruta anual da indústria\n",
        "print(f\"Total da variação anual da receita bruta da indústria entre 1999 e 2020: R$ {df_va_analise['variacao_anual_va_industria'].sum().round(2)}\")\n",
        "print(f\"Média móvel da variação da indústria anual: R$ {(df_va_analise['variacao_anual_va_industria'].sum()/df_va_analise.shape[0]).round(2)}\")\n",
        "\n",
        "# Aceleração da variação da receita bruta anual da indústria \n",
        "print(f\"\\nTotal da aceleração da variação anual da receita bruta da indústria entre 1999 e 2020: R$ {df_va_analise['aceleracao_variacao_anual_va_industria'].sum().round(2)}\")\n",
        "print(f\"Média móvel anual da aceleração da variação anual da receita bruta da indústria: R${(df_va_analise['aceleracao_variacao_anual_va_industria'].sum()/df_va_analise.shape[0]).round(2)}\")\n",
        "\n",
        "# Porcentagem da variação da receita bruta anual da indústria \n",
        "print(f\"\\nPorcentagem da variação anual da receita bruta da indústria entre 1999 e 2020: {df_va_analise['porcentagem_variacao_anual_va_industria_%'].sum().round(2)}%\")\n",
        "print(f\"Média percentual móvel anual da variação anual da receita bruta da indústria: {(df_va_analise['porcentagem_variacao_anual_va_industria_%'].sum()/df_va_analise.shape[0]).round(2)}%\")\n",
        "\n",
        "# Porcentagem da aceleração da variação da receita bruta anual da indústria \n",
        "print(f\"\\nPorcentagem da aceleração da variação anual da receita bruta da indústria entre 1999 e 2020: {df_va_analise['porcentagem_aceleracao_variacao_anual_va_industria_%'].sum().round(2)}%\")\n",
        "print(f\"Média percentual móvel anual da aceleração da variação anual da receita bruta da indústria: {(df_va_analise['porcentagem_aceleracao_variacao_anual_va_industria_%'].sum()/df_va_analise.shape[0]).round(2)}%\")"
      ],
      "metadata": {
        "id": "N9QyOT3NQk_F"
      },
      "execution_count": null,
      "outputs": []
    },
    {
      "cell_type": "code",
      "source": [
        "# Variação da receita bruta anual da serviços\n",
        "print(f\"Total da variação anual da receita bruta da serviços entre 1999 e 2020: R$ {df_va_analise['variacao_anual_va_adespss'].sum().round(2)}\")\n",
        "print(f\"Média móvel da variação da serviços anual: R$ {(df_va_analise['variacao_anual_va_adespss'].sum()/df_va_analise.shape[0]).round(2)}\")\n",
        "\n",
        "# Aceleração da variação da receita bruta anual da serviços \n",
        "print(f\"\\nTotal da aceleração da variação anual da receita bruta da serviços entre 1999 e 2020: R$ {df_va_analise['aceleracao_variacao_anual_va_adespss'].sum().round(2)}\")\n",
        "print(f\"Média móvel anual da aceleração da variação anual da receita bruta da serviços: R${(df_va_analise['aceleracao_variacao_anual_va_adespss'].sum()/df_va_analise.shape[0]).round(2)}\")\n",
        "\n",
        "# Porcentagem da variação da receita bruta anual da serviços \n",
        "print(f\"\\nPorcentagem da variação anual da receita bruta da serviços entre 1999 e 2020: {df_va_analise['porcentagem_variacao_anual_va_adespss_%'].sum().round(2)}%\")\n",
        "print(f\"Média percentual móvel anual da variação anual da receita bruta da serviços: {(df_va_analise['porcentagem_variacao_anual_va_adespss_%'].sum()/df_va_analise.shape[0]).round(2)}%\")\n",
        "\n",
        "# Porcentagem da aceleração da variação da receita bruta anual da serviços \n",
        "print(f\"\\nPorcentagem da aceleração da variação anual da receita bruta da serviços entre 1999 e 2020: {df_va_analise['porcentagem_aceleracao_variacao_anual_va_adespss_%'].sum().round(2)}%\")\n",
        "print(f\"Média percentual móvel anual da aceleração da variação anual da receita bruta da serviços: {(df_va_analise['porcentagem_aceleracao_variacao_anual_va_adespss_%'].sum()/df_va_analise.shape[0]).round(2)}%\")"
      ],
      "metadata": {
        "id": "nAiyGUhxQk8B"
      },
      "execution_count": null,
      "outputs": []
    },
    {
      "cell_type": "code",
      "source": [
        "# Variação da receita bruta anual da serviços exclusivos da Adm. Pública\n",
        "print(f\"Total da variação anual da receita bruta da serviços exclusivos da Adm. Pública entre 1999 e 2020: R$ {df_va_analise['variacao_anual_va_servicos'].sum().round(2)}\")\n",
        "print(f\"Média móvel da variação da serviços anual: R$ {(df_va_analise['variacao_anual_va_servicos'].sum()/df_va_analise.shape[0]).round(2)}\")\n",
        "\n",
        "# Aceleração da variação da receita bruta anual da serviços \n",
        "print(f\"\\nTotal da aceleração da variação anual da receita bruta da serviços exclusivos da Adm. Pública entre 1999 e 2020: R$ {df_va_analise['aceleracao_variacao_anual_va_servicos'].sum().round(2)}\")\n",
        "print(f\"Média móvel anual da aceleração da variação anual da receita bruta da serviços: R${(df_va_analise['aceleracao_variacao_anual_va_servicos'].sum()/df_va_analise.shape[0]).round(2)}\")\n",
        "\n",
        "# Porcentagem da variação da receita bruta anual da serviços \n",
        "print(f\"\\nPorcentagem da variação anual da receita bruta da serviços exclusivos da Adm. Pública entre 1999 e 2020: {df_va_analise['porcentagem_variacao_anual_va_servicos_%'].sum().round(2)}%\")\n",
        "print(f\"Média percentual móvel anual da variação anual da receita bruta da serviços: {(df_va_analise['porcentagem_variacao_anual_va_servicos_%'].sum()/df_va_analise.shape[0]).round(2)}%\")\n",
        "\n",
        "# Porcentagem da aceleração da variação da receita bruta anual da serviços \n",
        "print(f\"\\nPorcentagem da aceleração da variação anual da receita bruta da serviços exclusivos da Adm. Pública entre 1999 e 2020: {df_va_analise['porcentagem_aceleracao_variacao_anual_va_servicos_%'].sum().round(2)}%\")\n",
        "print(f\"Média percentual móvel anual da aceleração da variação anual da receita bruta da serviços: {(df_va_analise['porcentagem_aceleracao_variacao_anual_va_servicos_%'].sum()/df_va_analise.shape[0]).round(2)}%\")"
      ],
      "metadata": {
        "id": "SrsI0SGLQk5g"
      },
      "execution_count": null,
      "outputs": []
    },
    {
      "cell_type": "markdown",
      "source": [
        "#### Impostos líquidos"
      ],
      "metadata": {
        "id": "LnPppry-jezT"
      }
    },
    {
      "cell_type": "code",
      "source": [
        "df_impostos_analise = df_valor_pib_analise.copy()\n",
        "df_impostos_analise.drop(columns=['pib','va', 'va_agropecuaria', 'va_industria', 'va_servicos', 'va_adespss'], inplace=True)\n",
        "\n",
        "pd.options.display.float_format = '{:.2f}'.format\n",
        "print(df_impostos_analise)"
      ],
      "metadata": {
        "id": "rFS8-LCVQk3h"
      },
      "execution_count": null,
      "outputs": []
    },
    {
      "cell_type": "code",
      "source": [
        "# inferindo variação e acelaração anual dos impostos líquidos\n",
        "df_impostos_analise['variacao_anual'] = df_impostos_analise['impostos_liquidos'].diff()\n",
        "df_impostos_analise['porcentagem_variacao_anual_%'] = ((df_impostos_analise['variacao_anual'] / df_impostos_analise['impostos_liquidos'].shift(1)) * 100).round(2)\n",
        "df_impostos_analise['aceleracao_variacao_anual'] = df_impostos_analise['variacao_anual'].diff()\n",
        "df_impostos_analise['porcentagem_aceleracao_variacao_anual_%'] = ((df_impostos_analise['aceleracao_variacao_anual'] / df_impostos_analise['variacao_anual'].shift(1)) * 100).round(2)\n",
        "df_impostos_analise"
      ],
      "metadata": {
        "id": "6ODp1ibdQk1V"
      },
      "execution_count": null,
      "outputs": []
    },
    {
      "cell_type": "code",
      "source": [
        "# Plota o gráfico de linha com as séries temporais\n",
        "fig, ax = plt.subplots(figsize=(10, 5))\n",
        "ax.plot(df_impostos_analise.index, df_impostos_analise['impostos_liquidos'], label='Valor Anual - R$')\n",
        "\n",
        "# Adiciona legenda e título ao gráfico\n",
        "ax.legend()\n",
        "ax.set_title('Impostos municipais anual líquido entre os anos de 1999 a 2020')\n",
        "ax.xaxis.label.set_visible(False)  # esconde a legenda do eixo X\n",
        "\n",
        "# Configura o eixo x para não mostrar nenhum rótulo\n",
        "# plt.gca().set_xticklabels([])\n",
        "\n",
        "# Exibe o gráfico\n",
        "plt.show()"
      ],
      "metadata": {
        "id": "jRvP-YMnQkzB"
      },
      "execution_count": null,
      "outputs": []
    },
    {
      "cell_type": "code",
      "source": [
        "# Plota o gráfico de linha com as séries temporais\n",
        "fig, ax = plt.subplots(figsize=(10, 5))\n",
        "ax.plot(df_impostos_analise.index, df_impostos_analise['variacao_anual'], label='Valor Anual - R$')\n",
        "\n",
        "# Adiciona legenda e título ao gráfico\n",
        "ax.legend()\n",
        "ax.set_title('Variação dos impostos municipais líquidos entre os anos de 1999 a 2020')\n",
        "ax.xaxis.label.set_visible(False)  # esconde a legenda do eixo X\n",
        "\n",
        "# Configura o eixo x para não mostrar nenhum rótulo\n",
        "# plt.gca().set_xticklabels([])\n",
        "\n",
        "# Exibe o gráfico\n",
        "plt.show()"
      ],
      "metadata": {
        "id": "MNUJg9F5QkwP"
      },
      "execution_count": null,
      "outputs": []
    },
    {
      "cell_type": "code",
      "source": [
        "# Plota o gráfico de linha com as séries temporais\n",
        "fig, ax = plt.subplots(figsize=(10, 5))\n",
        "ax.plot(df_impostos_analise.index, df_impostos_analise['aceleracao_variacao_anual'], label='Valor Anual - R$')\n",
        "\n",
        "# Adiciona legenda e título ao gráfico\n",
        "ax.legend()\n",
        "ax.set_title('Aceleração da variação dos impostos municipais anual líquido entre os anos de 1999 a 2020')\n",
        "ax.xaxis.label.set_visible(False)  # esconde a legenda do eixo X\n",
        "\n",
        "# Configura o eixo x para não mostrar nenhum rótulo\n",
        "# plt.gca().set_xticklabels([])\n",
        "\n",
        "# Exibe o gráfico\n",
        "plt.show()"
      ],
      "metadata": {
        "id": "I5mFNWxLQkt1"
      },
      "execution_count": null,
      "outputs": []
    },
    {
      "cell_type": "code",
      "source": [
        "# Total da variação dos impostos líquidos\n",
        "print(f\"Total da variação dos impostos líquidos municipais entre 1999 e 2020: R$ {df_impostos_analise['variacao_anual'].sum().round(2)}\")\n",
        "print(f\"Média móvel anual da variação dos impostos líquidos municipais: R$ {(df_impostos_analise['variacao_anual'].sum()/df_impostos_analise.shape[0]).round(2)}\")\n",
        "\n",
        "# Total da aceleração da variação dos impostos líquidos\n",
        "print(f\"\\nTotal da aceleração da variação dos impostos líquidos municipais entre 1999 e 2020: R$ {df_impostos_analise['aceleracao_variacao_anual'].sum().round(2)}\")\n",
        "print(f\"Média móvel anual da aceleração da variação dos impostos líquidos municipais: R$ {(df_impostos_analise['aceleracao_variacao_anual'].sum()/df_impostos_analise.shape[0]).round(2)}\")\n",
        "\n",
        "# Porcentagem da variação dos impostos líquidos\n",
        "print(f\"\\nPorcentagem da variação dos impostos líquidos municipais entre 1999 e 2020: {df_impostos_analise['porcentagem_variacao_anual_%'].sum().round(2)}%\")\n",
        "print(f\"Média móvel percentual anual da variação dos impostos líquidos municipais: {(df_impostos_analise['porcentagem_variacao_anual_%'].sum()/df_impostos_analise.shape[0]).round(2)}%\")\n",
        "\n",
        "# Porcentagem da aceleração da variação dos impostos líquidos\n",
        "print(f\"\\nPorcentagem da aceleração da variação dos impostos líquidos municipais entre 1999 e 2020: {df_impostos_analise['porcentagem_aceleracao_variacao_anual_%'].sum().round(2)}%\")\n",
        "print(f\"Média móvel percentual anual da acelereção variação dos impostos líquidos municipais: {(df_impostos_analise['porcentagem_aceleracao_variacao_anual_%'].sum()/df_impostos_analise.shape[0]).round(2)}%\")"
      ],
      "metadata": {
        "id": "gR8axKNIQkrP"
      },
      "execution_count": null,
      "outputs": []
    },
    {
      "cell_type": "markdown",
      "source": [
        "### Time series das receitas"
      ],
      "metadata": {
        "id": "WY25rWOjHUhw"
      }
    },
    {
      "cell_type": "markdown",
      "source": [
        "#### Por meses"
      ],
      "metadata": {
        "id": "U50KsO6bEQdB"
      }
    },
    {
      "cell_type": "code",
      "source": [
        "# verificando se há valores nulos\n",
        "df_receitas.isna().value_counts()"
      ],
      "metadata": {
        "id": "hxOD4jvqKRIG"
      },
      "execution_count": null,
      "outputs": []
    },
    {
      "cell_type": "code",
      "source": [
        "df_receitas.dtypes"
      ],
      "metadata": {
        "id": "wuE8j7hea8nm"
      },
      "execution_count": null,
      "outputs": []
    },
    {
      "cell_type": "code",
      "source": [
        "# criando df para analises dos dados\n",
        "df_receitas_analise = df_receitas[['DATA','VALOR_ARRECADADO']]\n",
        "\n",
        "# criando coluna mês-ano para agrupar os dados\n",
        "df_receitas_analise['mes_ano'] = pd.to_datetime(df_receitas_analise['DATA'].dt.strftime(\"%m-%Y\"))\n",
        "\n",
        "# agrupando os dados no df e deletando coluna das datas\n",
        "df_receitas_analise.drop(columns=('DATA'), inplace=True)\n",
        "df_receitas_analise = df_receitas_analise.groupby('mes_ano').sum()\n",
        "df_receitas_analise"
      ],
      "metadata": {
        "id": "zAijiO-2M_Vp"
      },
      "execution_count": null,
      "outputs": []
    },
    {
      "cell_type": "code",
      "source": [
        "df_receitas_analise['variacao_mensal'] = df_receitas_analise['VALOR_ARRECADADO'].diff()\n",
        "df_receitas_analise['porcentagem_variacao_mensal_%'] = ((df_receitas_analise['variacao_mensal'] / df_receitas_analise['VALOR_ARRECADADO'].shift(1)) * 100).round(2)\n",
        "df_receitas_analise['aceleracao_variacao_mensal'] = df_receitas_analise['variacao_mensal'].diff()\n",
        "df_receitas_analise['porcentagem_aceleracao_variacao_mensal_%'] = ((df_receitas_analise['aceleracao_variacao_mensal'] / df_receitas_analise['variacao_mensal'].shift(1)) * 100).round(2)\n",
        "df_receitas_analise"
      ],
      "metadata": {
        "id": "_vAbM3KbcdpO"
      },
      "execution_count": null,
      "outputs": []
    },
    {
      "cell_type": "code",
      "source": [
        "# Plota o gráfico de linha com as séries temporais\n",
        "fig, ax = plt.subplots(figsize=(10, 5))\n",
        "ax.plot(df_receitas_analise.index, df_receitas_analise['VALOR_ARRECADADO'], label='Valor Mensal - R$')\n",
        "\n",
        "# Adiciona legenda e título ao gráfico\n",
        "ax.legend()\n",
        "ax.set_title('Receitas orçamentária mensais brutas entre os anos de 2013 a 2022')\n",
        "ax.xaxis.label.set_visible(False)  # esconde a legenda do eixo X\n",
        "\n",
        "# Configura o eixo x para não mostrar nenhum rótulo\n",
        "# plt.gca().set_xticklabels([])\n",
        "\n",
        "# Exibe o gráfico\n",
        "plt.show()"
      ],
      "metadata": {
        "id": "t65sBciDOaV2"
      },
      "execution_count": null,
      "outputs": []
    },
    {
      "cell_type": "code",
      "source": [
        "# Plota o gráfico de linha com as séries temporais\n",
        "fig, ax = plt.subplots(figsize=(10, 5))\n",
        "ax.plot(df_receitas_analise.index, df_receitas_analise['variacao_mensal'], label='Valor Mensal - R$')\n",
        "\n",
        "# Adiciona legenda e título ao gráfico\n",
        "ax.legend()\n",
        "ax.set_title('Variação das receitas orçamentária mensais brutas entre os anos de 2013 a 2022')\n",
        "ax.xaxis.label.set_visible(False)  # esconde a legenda do eixo X\n",
        "\n",
        "# Configura o eixo x para não mostrar nenhum rótulo\n",
        "# plt.gca().set_xticklabels([])\n",
        "\n",
        "# Exibe o gráfico\n",
        "plt.show()"
      ],
      "metadata": {
        "id": "NyZt9Ux4V0Th"
      },
      "execution_count": null,
      "outputs": []
    },
    {
      "cell_type": "code",
      "source": [
        "# Plota o gráfico de linha com as séries temporais\n",
        "fig, ax = plt.subplots(figsize=(10, 5))\n",
        "ax.plot(df_receitas_analise.index, df_receitas_analise['aceleracao_variacao_mensal'], label='Valor Mensal - R$')\n",
        "\n",
        "# Adiciona legenda e título ao gráfico\n",
        "ax.legend()\n",
        "ax.set_title('Aceleração da variação das receitas orçamentária mensais brutas entre os anos de 2013 a 2022')\n",
        "ax.xaxis.label.set_visible(False)  # esconde a legenda do eixo X\n",
        "\n",
        "# Configura o eixo x para não mostrar nenhum rótulo\n",
        "# plt.gca().set_xticklabels([])\n",
        "\n",
        "# Exibe o gráfico\n",
        "plt.show()"
      ],
      "metadata": {
        "id": "BgNMpz8TdHa4"
      },
      "execution_count": null,
      "outputs": []
    },
    {
      "cell_type": "code",
      "source": [
        "print(f\"Total da variação das receitas mensais: R$ {df_receitas_analise['variacao_mensal'].sum().round(2)}\")\n",
        "print(f\"Média móvel mensal da variação das receitas: R$ {(df_receitas_analise['variacao_mensal'].sum()/df_receitas_analise.shape[0]).round(2)}\")"
      ],
      "metadata": {
        "id": "b1E7aKpadOaw"
      },
      "execution_count": null,
      "outputs": []
    },
    {
      "cell_type": "code",
      "source": [
        "print(f\"Total da aceleração da variação das receitas mensais: R$ {df_receitas_analise['aceleracao_variacao_mensal'].sum().round(2)}\")\n",
        "print(f\"Média móvel mensal da aceleração da variação das receitas: R$ {(df_receitas_analise['aceleracao_variacao_mensal'].sum()/df_receitas_analise.shape[0]).round(2)}\")"
      ],
      "metadata": {
        "id": "JMd53ZOWi68J"
      },
      "execution_count": null,
      "outputs": []
    },
    {
      "cell_type": "code",
      "source": [
        "print(f\"Porcentagem da variação das receitas mensais: {df_receitas_analise['porcentagem_variacao_mensal_%'].sum().round(2)}%\")\n",
        "print(f\"Média movel percentual mensal da variação das receitas: {(df_receitas_analise['porcentagem_variacao_mensal_%'].sum()/df_receitas_analise.shape[0]).round(2)}%\")"
      ],
      "metadata": {
        "id": "J3G6Yn74kUvs"
      },
      "execution_count": null,
      "outputs": []
    },
    {
      "cell_type": "code",
      "source": [
        "print(f\"Porcentagem da aceleração da variação das receitas mensais: {df_receitas_analise['porcentagem_aceleracao_variacao_mensal_%'].sum().round(2)}%\")\n",
        "print(f\"Média móvel percentual mensal da acelereção variação das receitas: {(df_receitas_analise['porcentagem_aceleracao_variacao_mensal_%'].sum()/df_receitas_analise.shape[0]).round(2)}%\")"
      ],
      "metadata": {
        "id": "G7vYEGaSkq8j"
      },
      "execution_count": null,
      "outputs": []
    },
    {
      "cell_type": "markdown",
      "source": [
        "#### Por ano"
      ],
      "metadata": {
        "id": "nigLlkJ_EUaj"
      }
    },
    {
      "cell_type": "code",
      "source": [
        "# criando df para analises dos dados\n",
        "df_receitas_analise = df_receitas[['DATA','VALOR_ARRECADADO']]\n",
        "\n",
        "# criando coluna mês-ano para agrupar os dados\n",
        "df_receitas_analise['ano'] = pd.to_datetime(df_receitas_analise['DATA'].dt.strftime(\"%Y\"))\n",
        "\n",
        "# agrupando os dados no df e deletando coluna das datas\n",
        "df_receitas_analise.drop(columns=('DATA'), inplace=True)\n",
        "df_receitas_analise = df_receitas_analise.groupby('ano').sum().round(2)\n",
        "\n",
        "# Mostrar os valores com 2 casas decimais\n",
        "pd.options.display.float_format = '{:.2f}'.format\n",
        "print(df_receitas_analise)"
      ],
      "metadata": {
        "id": "sE_CjeKxk-em"
      },
      "execution_count": null,
      "outputs": []
    },
    {
      "cell_type": "code",
      "source": [
        "df_receitas_analise['variacao_anual'] = df_receitas_analise['VALOR_ARRECADADO'].diff()\n",
        "df_receitas_analise['porcentagem_variacao_anual_%'] = ((df_receitas_analise['variacao_anual'] / df_receitas_analise['VALOR_ARRECADADO'].shift(1)) * 100).round(2)\n",
        "df_receitas_analise['aceleracao_variacao_anual'] = df_receitas_analise['variacao_anual'].diff()\n",
        "df_receitas_analise['porcentagem_aceleracao_variacao_anual_%'] = ((df_receitas_analise['aceleracao_variacao_anual'] / df_receitas_analise['variacao_anual'].shift(1)) * 100).round(2)\n",
        "df_receitas_analise"
      ],
      "metadata": {
        "id": "u4iKegO6E0-y"
      },
      "execution_count": null,
      "outputs": []
    },
    {
      "cell_type": "code",
      "source": [
        "# Plota o gráfico de linha com as séries temporais\n",
        "fig, ax = plt.subplots(figsize=(10, 5))\n",
        "ax.plot(df_receitas_analise.index, df_receitas_analise['VALOR_ARRECADADO'], label='Valor Anual - R$')\n",
        "\n",
        "# Adiciona legenda e título ao gráfico\n",
        "ax.legend()\n",
        "ax.set_title('Receitas orçamentária anuais brutas entre os anos de 2013 a 2022')\n",
        "ax.xaxis.label.set_visible(False)  # esconde a legenda do eixo X\n",
        "\n",
        "# Configura o eixo x para não mostrar nenhum rótulo\n",
        "# plt.gca().set_xticklabels([])\n",
        "\n",
        "# Exibe o gráfico\n",
        "plt.show()"
      ],
      "metadata": {
        "id": "nX_Ypxt7HUYQ"
      },
      "execution_count": null,
      "outputs": []
    },
    {
      "cell_type": "code",
      "source": [
        "# Plota o gráfico de linha com as séries temporais\n",
        "fig, ax = plt.subplots(figsize=(10, 5))\n",
        "ax.plot(df_receitas_analise.index, df_receitas_analise['variacao_anual'], label='Valor Anual - R$')\n",
        "\n",
        "# Adiciona legenda e título ao gráfico\n",
        "ax.legend()\n",
        "ax.set_title('Variação das receitas orçamentária anuais brutas entre os anos de 2013 a 2022')\n",
        "ax.xaxis.label.set_visible(False)  # esconde a legenda do eixo X\n",
        "\n",
        "# Configura o eixo x para não mostrar nenhum rótulo\n",
        "# plt.gca().set_xticklabels([])\n",
        "\n",
        "# Exibe o gráfico\n",
        "plt.show()"
      ],
      "metadata": {
        "id": "eW9eiuLyHe2l"
      },
      "execution_count": null,
      "outputs": []
    },
    {
      "cell_type": "code",
      "source": [
        "# Plota o gráfico de linha com as séries temporais\n",
        "fig, ax = plt.subplots(figsize=(10, 5))\n",
        "ax.plot(df_receitas_analise.index, df_receitas_analise['aceleracao_variacao_anual'], label='Valor Anual - R$')\n",
        "\n",
        "# Adiciona legenda e título ao gráfico\n",
        "ax.legend()\n",
        "ax.set_title('Aceleração da variação das receitas orçamentária anuais brutas entre os anos de 2013 a 2022')\n",
        "ax.xaxis.label.set_visible(False)  # esconde a legenda do eixo X\n",
        "\n",
        "# Configura o eixo x para não mostrar nenhum rótulo\n",
        "# plt.gca().set_xticklabels([])\n",
        "\n",
        "# Exibe o gráfico\n",
        "plt.show()"
      ],
      "metadata": {
        "id": "Hir_-BtvHe0Q"
      },
      "execution_count": null,
      "outputs": []
    },
    {
      "cell_type": "code",
      "source": [
        "print(f\"Total da variação das receitas anuais: R$ {df_receitas_analise['variacao_anual'].sum().round(2)}\")\n",
        "print(f\"Média móvel anual da variação das receitas: R$ {(df_receitas_analise['variacao_anual'].sum()/df_receitas_analise.shape[0]).round(2)}\")"
      ],
      "metadata": {
        "id": "iE235bQcHexv"
      },
      "execution_count": null,
      "outputs": []
    },
    {
      "cell_type": "code",
      "source": [
        "print(f\"Total da aceleração da variação das receitas anuais: R$ {df_receitas_analise['aceleracao_variacao_anual'].sum().round(2)}\")\n",
        "print(f\"Média móvel anual da aceleração da variação das receitas: R$ {(df_receitas_analise['aceleracao_variacao_anual'].sum()/df_receitas_analise.shape[0]).round(2)}\")"
      ],
      "metadata": {
        "id": "DF9T7aClHeu-"
      },
      "execution_count": null,
      "outputs": []
    },
    {
      "cell_type": "code",
      "source": [
        "print(f\"Porcentagem da variação das receitas anuais: {df_receitas_analise['porcentagem_variacao_anual_%'].sum().round(2)}%\")\n",
        "print(f\"Média movel percentual anual da variação das receitas: {(df_receitas_analise['porcentagem_variacao_anual_%'].sum()/df_receitas_analise.shape[0]).round(2)}%\")"
      ],
      "metadata": {
        "id": "t-ijDJnNHesZ"
      },
      "execution_count": null,
      "outputs": []
    },
    {
      "cell_type": "code",
      "source": [
        "print(f\"Porcentagem da aceleração da variação das receitas anuais: {df_receitas_analise['porcentagem_aceleracao_variacao_anual_%'].sum().round(2)}%\")\n",
        "print(f\"Média móvel percentual anual da acelereção variação das receitas: {(df_receitas_analise['porcentagem_aceleracao_variacao_anual_%'].sum()/df_receitas_analise.shape[0]).round(2)}%\")"
      ],
      "metadata": {
        "id": "ukmyuKXKHq12"
      },
      "execution_count": null,
      "outputs": []
    },
    {
      "cell_type": "markdown",
      "source": [
        "## Análise regressiva linear"
      ],
      "metadata": {
        "id": "fYHnPkVVmy29"
      }
    },
    {
      "cell_type": "markdown",
      "source": [
        "### Gerando dados para o PIB e População para os anos de 2021 e 2022"
      ],
      "metadata": {
        "id": "ShLirTvdn8T8"
      }
    },
    {
      "cell_type": "code",
      "source": [
        "df_dados_analise_linear_receitas = df_receitas_analise.drop(columns=['variacao_anual','porcentagem_variacao_anual_%','aceleracao_variacao_anual','porcentagem_aceleracao_variacao_anual_%'])\n",
        "\n",
        "df_dados_analise_linear_receitas = pd.merge(df_dados_analise_linear_receitas,\n",
        "                                           df_ibge_populacao_index_ano.drop(columns=['variacao_anual','porcentagem_variacao_anual_%','aceleracao_variacao_anual','porcentagem_aceleracao_variacao_anual_%']),\n",
        "                                           left_index=True, right_index=True, how='inner')\n",
        "\n",
        "df_dados_analise_linear_receitas = pd.merge(df_dados_analise_linear_receitas,\n",
        "                                           df_valor_pib_analise,\n",
        "                                           left_index=True, right_index=True, how='inner')\n",
        "\n",
        "\n",
        "df_dados_analise_linear_receitas['pib_percapita'] = ((df_dados_analise_linear_receitas['pib']/df_dados_analise_linear_receitas['populacao'])*100).round(2)\n",
        "\n",
        "anos = pd.date_range(start='2013-01-01', end='2020-01-01', freq='AS')\n",
        "df_dados_analise_linear_receitas['anos'] = anos.year\n",
        "\n",
        "df_dados_analise_linear_receitas"
      ],
      "metadata": {
        "id": "83SHo0jfHqx4"
      },
      "execution_count": null,
      "outputs": []
    },
    {
      "cell_type": "code",
      "source": [
        "df_dados_analise_linear_receitas.dtypes"
      ],
      "metadata": {
        "id": "fxGa0L4SMF0W"
      },
      "execution_count": null,
      "outputs": []
    },
    {
      "cell_type": "code",
      "source": [
        "print('Matriz de correlação entre as variáveis:')\n",
        "df_dados_analise_linear_receitas.corr()"
      ],
      "metadata": {
        "id": "tf4OuIEGHqoX"
      },
      "execution_count": null,
      "outputs": []
    },
    {
      "cell_type": "code",
      "source": [
        "# plotando heatmap\n",
        "sns.heatmap(df_dados_analise_linear_receitas.corr(), annot=True)"
      ],
      "metadata": {
        "id": "Qv3QIJhgHenI"
      },
      "execution_count": null,
      "outputs": []
    },
    {
      "cell_type": "markdown",
      "source": [
        "#### Análise regressiva linear"
      ],
      "metadata": {
        "id": "3NUaJsYh2_qm"
      }
    },
    {
      "cell_type": "code",
      "source": [
        "from sklearn.linear_model import LinearRegression\n",
        "from sklearn.model_selection import train_test_split\n",
        "import numpy as np"
      ],
      "metadata": {
        "id": "OxNW4LKTtV1N"
      },
      "execution_count": null,
      "outputs": []
    },
    {
      "cell_type": "markdown",
      "source": [
        "##### Modelo para análise regressiva linear com o ANO como variável dependente"
      ],
      "metadata": {
        "id": "XChiSQQKS4HX"
      }
    },
    {
      "cell_type": "code",
      "source": [
        "df_receitas_analise"
      ],
      "metadata": {
        "id": "tjzGDuX3SiLJ"
      },
      "execution_count": null,
      "outputs": []
    },
    {
      "cell_type": "code",
      "source": [
        "# dados\n",
        "X = df_dados_analise_linear_receitas[['anos']]\n",
        "y = np.array(df_dados_analise_linear_receitas['VALOR_ARRECADADO']).reshape((-1,1))\n",
        "\n",
        "# Divide o conjunto de dados em treino e teste\n",
        "X_train, X_test, y_train, y_test = train_test_split(X, y, test_size=0.3, random_state=42)\n",
        "\n",
        "# cria o modelo de regressão linear e ajusta os dados\n",
        "model = LinearRegression().fit(X_train,y_train)\n",
        "\n",
        "# utilizando o modelo para previsões nos dados de teste\n",
        "y_pred = model.predict(X_test)\n",
        "\n",
        "# calcula a previsão para um novo dado\n",
        "ano = 2022\n",
        "y_pred = model.predict([[ano]])\n",
        "\n",
        "# Imprime os coeficientes da regressão\n",
        "print(f'Coeficiente de interceptação: {model.intercept_[0]:.2f}')\n",
        "\n",
        "# Avaliar o modelo usando os dados de teste\n",
        "score = model.score(X_test, y_test)\n",
        "print(f\"A acurácia do modelo é {score:.2f}\")\n",
        "\n",
        "# Imprime a previsão para o novo dado\n",
        "print(f'Previsão para o ano de {ano}: R$ {float(y_pred[0]):.2f}')"
      ],
      "metadata": {
        "id": "XshOo7Ph3Emq"
      },
      "execution_count": null,
      "outputs": []
    },
    {
      "cell_type": "code",
      "source": [
        "valor_arrecadado = 201644040.94\n",
        "diferenca = valor_arrecadado - y_pred[0][0]\n",
        "porcentagem = (diferenca/valor_arrecadado).round(2)\n",
        "print(f'O modelo possui um desvio da realidade de aproximadamente: {porcentagem}%.')"
      ],
      "metadata": {
        "id": "SFZdsXAX5A63"
      },
      "execution_count": null,
      "outputs": []
    },
    {
      "cell_type": "markdown",
      "source": [
        "##### Modelo para análise regressiva linear com a POPULACAO como variável dependente"
      ],
      "metadata": {
        "id": "351_qe3eTCuM"
      }
    },
    {
      "cell_type": "code",
      "source": [
        "df_ibge_populacao"
      ],
      "metadata": {
        "id": "Qea-jxxeTSbi"
      },
      "execution_count": null,
      "outputs": []
    },
    {
      "cell_type": "code",
      "source": [
        "# dados\n",
        "X = df_dados_analise_linear_receitas[['populacao']]\n",
        "y = np.array(df_dados_analise_linear_receitas['VALOR_ARRECADADO']).reshape((-1,1))\n",
        "\n",
        "# Divide o conjunto de dados em treino e teste\n",
        "X_train, X_test, y_train, y_test = train_test_split(X, y, test_size=0.3, random_state=42)\n",
        "\n",
        "# cria o modelo de regressão linear e ajusta os dados\n",
        "model = LinearRegression().fit(X_train,y_train)\n",
        "\n",
        "# utilizando o modelo para previsões nos dados de teste\n",
        "y_pred = model.predict(X_test)\n",
        "\n",
        "# calcula a previsão para um novo dado\n",
        "populacao = 62576\n",
        "y_pred = model.predict([[populacao]])\n",
        "\n",
        "# Imprime os coeficientes da regressão\n",
        "print(f'Coeficiente de interceptação: {model.intercept_[0]:.2f}')\n",
        "\n",
        "# Avaliar o modelo usando os dados de teste\n",
        "score = model.score(X_test, y_test)\n",
        "print(f\"A acurácia do modelo é {score:.2f}\")\n",
        "\n",
        "# Imprime a previsão para o novo dado\n",
        "print(f'Previsão para a população de {populacao}: R$ {float(y_pred[0]):.2f}')"
      ],
      "metadata": {
        "id": "rONiFG-fRo7K"
      },
      "execution_count": null,
      "outputs": []
    },
    {
      "cell_type": "code",
      "source": [
        "valor_arrecadado = 179003057.61\n",
        "diferenca = valor_arrecadado - y_pred[0][0]\n",
        "porcentagem = (diferenca/valor_arrecadado).round(2)\n",
        "print(f'O modelo possui um desvio da realidade de aproximadamente: {porcentagem}%.')"
      ],
      "metadata": {
        "id": "YVRhjczdTbpv"
      },
      "execution_count": null,
      "outputs": []
    },
    {
      "cell_type": "markdown",
      "source": [
        "##### Modelo para análise regressiva linear com a POPULACAO e ANO como variáveis dependentes"
      ],
      "metadata": {
        "id": "9dHBpJP-To4S"
      }
    },
    {
      "cell_type": "code",
      "source": [
        "# dados\n",
        "X = df_dados_analise_linear_receitas[['populacao','anos']]\n",
        "y = np.array(df_dados_analise_linear_receitas['VALOR_ARRECADADO']).reshape((-1,1))\n",
        "\n",
        "# Divide o conjunto de dados em treino e teste\n",
        "X_train, X_test, y_train, y_test = train_test_split(X, y, test_size=0.3, random_state=42)\n",
        "\n",
        "# cria o modelo de regressão linear e ajusta os dados\n",
        "model = LinearRegression().fit(X_train,y_train)\n",
        "\n",
        "# utilizando o modelo para previsões nos dados de teste\n",
        "y_pred = model.predict(X_test)\n",
        "\n",
        "# calcula a previsão para um novo dado\n",
        "populacao = 62576\n",
        "ano = 2021\n",
        "y_pred = model.predict([[populacao,ano]])\n",
        "\n",
        "# Imprime os coeficientes da regressão\n",
        "print(f'Coeficiente de interceptação: {model.intercept_[0]:.2f}')\n",
        "\n",
        "# Avaliar o modelo usando os dados de teste\n",
        "score = model.score(X_test, y_test)\n",
        "print(f\"A acurácia do modelo é {score:.2f}\")\n",
        "\n",
        "# Imprime a previsão para o novo dado\n",
        "print(f'Previsão para a população de {populacao} no ano de {ano}: R$ {float(y_pred[0]):.2f}')"
      ],
      "metadata": {
        "id": "MWyYDabVTmCM"
      },
      "execution_count": null,
      "outputs": []
    },
    {
      "cell_type": "code",
      "source": [
        "valor_arrecadado = 179003057.61\n",
        "diferenca = valor_arrecadado - y_pred[0][0]\n",
        "porcentagem = (diferenca/valor_arrecadado).round(2)\n",
        "print(f'O modelo possui um desvio da realidade de aproximadamente: {porcentagem}%.')"
      ],
      "metadata": {
        "id": "bFx__4LZT3tb"
      },
      "execution_count": null,
      "outputs": []
    },
    {
      "cell_type": "markdown",
      "source": [
        "#### Modelo para análise regressiva linear com o PIB, IMPOSTOS E VALORES BRUTOS como variáveis dependentes"
      ],
      "metadata": {
        "id": "dbRPUzgadvAL"
      }
    },
    {
      "cell_type": "code",
      "source": [
        "df_dados_analise_linear_receitas"
      ],
      "metadata": {
        "id": "5UNxBf_ierLx"
      },
      "execution_count": null,
      "outputs": []
    },
    {
      "cell_type": "code",
      "source": [
        "# dados\n",
        "X = df_dados_analise_linear_receitas[['pib','pib_percapita','impostos_liquidos','va','va_agropecuaria','va_industria','va_servicos','va_adespss']]\n",
        "y = np.array(df_dados_analise_linear_receitas['VALOR_ARRECADADO']).reshape((-1,1))\n",
        "\n",
        "# Divide o conjunto de dados em treino e teste\n",
        "X_train, X_test, y_train, y_test = train_test_split(X, y, test_size=0.3, random_state=42)\n",
        "\n",
        "# cria o modelo de regressão linear e ajusta os dados\n",
        "model = LinearRegression().fit(X_train,y_train)\n",
        "\n",
        "# utilizando o modelo para previsões nos dados de teste\n",
        "y_pred = model.predict(X_test)\n",
        "\n",
        "# calcula a previsão para um novo dado\n",
        "pib = 1234470600.00\n",
        "pib_percapita = 1821301.67\n",
        "imposts_liquidos = 149580220.00\n",
        "va = 984890380.00\n",
        "va_agropecuaria = 16844650.00\n",
        "va_industria = 98240130.00\n",
        "va_servicos = 567634700.00\n",
        "va_adespss = 302170900.00\n",
        "\n",
        "y_pred = model.predict([[pib,pib_percapita,imposts_liquidos,va,va_agropecuaria,va_industria,va_servicos,va_adespss]])\n",
        "\n",
        "# Imprime os coeficientes da regressão\n",
        "print(f'Coeficiente de interceptação: {model.intercept_[0]:.2f}')\n",
        "\n",
        "# Avaliar o modelo usando os dados de teste\n",
        "score = model.score(X_test, y_test)\n",
        "print(f\"A acurácia do modelo é {score:.2f}\")\n",
        "\n",
        "# Imprime a previsão para o novo dado\n",
        "print(f'Previsão: R$ {float(y_pred[0]):.2f}')"
      ],
      "metadata": {
        "id": "Gs5rg_siUBXX"
      },
      "execution_count": null,
      "outputs": []
    },
    {
      "cell_type": "markdown",
      "source": [
        "##### Modelo para análise regressiva linear com o PIB, POPULACAO E ANOS como variáveis dependentes"
      ],
      "metadata": {
        "id": "SUMbmDbxOCNg"
      }
    },
    {
      "cell_type": "code",
      "source": [
        "# dados\n",
        "X = df_dados_analise_linear_receitas[['pib','populacao','anos']]\n",
        "y = np.array(df_dados_analise_linear_receitas['VALOR_ARRECADADO']).reshape((-1,1))\n",
        "\n",
        "# Divide o conjunto de dados em treino e teste\n",
        "X_train, X_test, y_train, y_test = train_test_split(X, y, test_size=0.3, random_state=42)\n",
        "\n",
        "# cria o modelo de regressão linear e ajusta os dados\n",
        "model = LinearRegression().fit(X_train,y_train)\n",
        "\n",
        "# utilizando o modelo para previsões nos dados de teste\n",
        "y_pred = model.predict(X_test)\n",
        "\n",
        "# calcula a previsão para um novo dado\n",
        "pib = 1234470600.00\n",
        "populacao = 62556\n",
        "ano = 2023\n",
        "\n",
        "y_pred = model.predict([[pib,populacao,ano]])\n",
        "\n",
        "# Imprime os coeficientes da regressão\n",
        "print(f'Coeficiente de interceptação: {model.intercept_[0]:.2f}')\n",
        "\n",
        "# Avaliar o modelo usando os dados de teste\n",
        "score = model.score(X_test, y_test)\n",
        "print(f\"A acurácia do modelo é {score:.2f}\")\n",
        "\n",
        "# Imprime a previsão para o novo dado\n",
        "print(f'Previsão: R$ {float(y_pred[0]):.2f}')"
      ],
      "metadata": {
        "id": "IusePkUofMnk"
      },
      "execution_count": null,
      "outputs": []
    },
    {
      "cell_type": "code",
      "source": [],
      "metadata": {
        "id": "xbhxkj6WOXgC"
      },
      "execution_count": null,
      "outputs": []
    }
  ]
}